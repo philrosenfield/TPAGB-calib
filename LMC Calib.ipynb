{
 "metadata": {
  "name": ""
 },
 "nbformat": 3,
 "nbformat_minor": 0,
 "worksheets": [
  {
   "cells": [
    {
     "cell_type": "code",
     "collapsed": false,
     "input": [
      "import lmc_cal"
     ],
     "language": "python",
     "metadata": {},
     "outputs": [],
     "prompt_number": 1
    },
    {
     "cell_type": "code",
     "collapsed": false,
     "input": [
      "pdb"
     ],
     "language": "python",
     "metadata": {},
     "outputs": [
      {
       "output_type": "stream",
       "stream": "stdout",
       "text": [
        "Automatic pdb calling has been turned ON\n"
       ]
      }
     ],
     "prompt_number": 3
    },
    {
     "cell_type": "code",
     "collapsed": false,
     "input": [
      "reload(lmc_cal)"
     ],
     "language": "python",
     "metadata": {},
     "outputs": [
      {
       "metadata": {},
       "output_type": "pyout",
       "prompt_number": 12,
       "text": [
        "<module 'lmc_cal' from 'lmc_cal.pyc'>"
       ]
      }
     ],
     "prompt_number": 12
    },
    {
     "cell_type": "code",
     "collapsed": false,
     "input": [
      "import ResolvedStellarPops as rsp"
     ],
     "language": "python",
     "metadata": {},
     "outputs": [],
     "prompt_number": 11
    },
    {
     "cell_type": "code",
     "collapsed": false,
     "input": [
      "lmc_cal.main()"
     ],
     "language": "python",
     "metadata": {},
     "outputs": [
      {
       "output_type": "stream",
       "stream": "stdout",
       "text": [
        "code/main -f /Users/phil/research/TP-AGBcalib/cmd_inputfiles/cmd_input_CAF09_S_MAR13.dat -a -l /Users/phil/research/TP-AGBcalib/LMC_Calib/tri_SFR_LMC88_galinp.dat /Users/phil/research/TP-AGBcalib/LMC_Calib/tri_SFR_LMC88_CAF09_S_MAR13.dat > trilegal0406275301809.msg \n",
        "\n",
        "Found option -f /Users/phil/research/TP-AGBcalib/cmd_inputfiles/cmd_input_CAF09_S_MAR13.dat: inputfile reset\n",
        "Found option -a: will output AGB data\n",
        "Found option -l: will output labels\n",
        "Input cmdfile is set to /Users/phil/research/TP-AGBcalib/cmd_inputfiles/cmd_input_CAF09_S_MAR13.dat\n",
        "RGB mass loss is Reimers with eta=0.2000\n",
        "\n",
        "Model input = /Users/phil/research/TP-AGBcalib/LMC_Calib/tri_SFR_LMC88_galinp.dat , output = /Users/phil/research/TP-AGBcalib/LMC_Calib/tri_SFR_LMC88_CAF09_S_MAR13.dat\n",
        "0.000100 0.249000 -2.191552\n",
        "0.000200 0.249000 -1.890465\n",
        "0.000500 0.249000 -1.492351\n",
        "0.001000 0.250000 -1.190452\n",
        "0.002000 0.252000 -0.887679\n",
        "0.004000 0.256000 -0.583142\n",
        "0.006000 0.259000 -0.404106\n",
        "0.008000 0.263000 -0.275608\n",
        "0.010000 0.267000 -0.175109\n",
        "0.014000 0.273000 -0.022932\n",
        "0.017000 0.279000 0.066906\n",
        "0.020000 0.284000 0.142450\n",
        "0.030000 0.302000 0.336374\n",
        "0.040000 0.321000 0.480589\n",
        "0.050000 0.339000 0.596958\n",
        "0.060000 0.356000 0.695768\n",
        "\n",
        "Pointing (l,b) = 0.000 0.000,  1.00000 sqrdeg\n",
        "(alpha,delta) = 17.760 -28.934\n",
        "Reading mag files from tab_mag_odfnew/tab_mag_2mass.dat\n",
        "\n",
        "Reading 7 O-rich BC tables.\n",
        "Reading also 7 C-rich BC tables.\n",
        "Reading dust files from tab_dust/tab_dust_dpmod60alox40_2mass.dat and tab_dust/tab_dust_AMCSIC15_2mass.dat\n",
        "File tab_dust/tab_dust_dpmod60alox40_2mass.dat\n",
        "\n",
        "Reading 11 O-rich dust tables.\n",
        "File tab_dust/tab_dust_AMCSIC15_2mass.dat\n",
        "Reading 5 C-rich dust tables.\n",
        "\n",
        "Limiting mag = 20.00 at filter 3, resolution 0.10 mag\n",
        "\n",
        "tab_imf/imf_chabrier_lognormal.dat read\n",
        "Leggendo file IMF : tab_imf/imf_chabrier_lognormal.dat\n",
        "\n",
        "IMF total mass = 1.0000\n",
        "IMF stars per mass = 3.3364\n",
        "Will make binaries\n",
        "Will make object of 2.3e+07 Msun\n",
        "Will output catalogue\n",
        "\n",
        "Sftot(local_object)=2.10e+07, norm=1.59e-07\n",
        "4.76e+04, 1.84e+01"
       ]
      },
      {
       "output_type": "stream",
       "stream": "stdout",
       "text": [
        "\n",
        "code/main -f /Users/phil/research/TP-AGBcalib/cmd_inputfiles/cmd_input_CAF09_S_APR13.dat -a -l /Users/phil/research/TP-AGBcalib/LMC_Calib/tri_SFR_LMC88_galinp.dat /Users/phil/research/TP-AGBcalib/LMC_Calib/tri_SFR_LMC88_CAF09_S_APR13.dat > trilegal00983407003232.msg \n"
       ]
      }
     ],
     "prompt_number": "*"
    }
   ],
   "metadata": {}
  }
 ]
}