{
 "metadata": {
  "name": ""
 },
 "nbformat": 3,
 "nbformat_minor": 0,
 "worksheets": [
  {
   "cells": [
    {
     "cell_type": "code",
     "collapsed": false,
     "input": [
      "import AGBTracksUtils\n",
      "import ResolvedStellarPops as rsp\n",
      "import fileIO\n",
      "import os"
     ],
     "language": "python",
     "metadata": {},
     "outputs": [],
     "prompt_number": 18
    },
    {
     "cell_type": "code",
     "collapsed": false,
     "input": [
      "input_file = '../../input_agb_caf09_s_mar13.dat'\n",
      "infile = rsp.fileIO.input_file(input_file, default_dict=fileIO.agb_input_defaults())\n",
      "AGBTracksUtils.AGB_file_setup(infile)"
     ],
     "language": "python",
     "metadata": {},
     "outputs": [
      {
       "output_type": "stream",
       "stream": "stdout",
       "text": [
        "found 16 metallicities\n"
       ]
      }
     ],
     "prompt_number": 15
    },
    {
     "cell_type": "code",
     "collapsed": false,
     "input": [
      "cd ~/research/TP-AGBcalib/code/TPAGB-calib/"
     ],
     "language": "python",
     "metadata": {},
     "outputs": [
      {
       "output_type": "stream",
       "stream": "stdout",
       "text": [
        "/home/rosenfield/research/TP-AGBcalib/code/TPAGB-calib\n"
       ]
      }
     ],
     "prompt_number": 16
    },
    {
     "cell_type": "code",
     "collapsed": false,
     "input": [
      "metal_dir = infile.metal_dirs[0]"
     ],
     "language": "python",
     "metadata": {},
     "outputs": [],
     "prompt_number": 20
    },
    {
     "cell_type": "code",
     "collapsed": false,
     "input": [
      "agb_tracks = rsp.fileIO.get_files(os.path.join(infile.working_dir,\n",
      "                                                   metal_dir),\n",
      "                                                   infile.track_identifier)\n",
      "agb_tracks.sort()"
     ],
     "language": "python",
     "metadata": {},
     "outputs": [],
     "prompt_number": 22
    },
    {
     "cell_type": "code",
     "collapsed": false,
     "input": [
      "track = fileIO.get_numeric_data(agb_tracks[0])"
     ],
     "language": "python",
     "metadata": {},
     "outputs": [],
     "prompt_number": 28
    },
    {
     "cell_type": "code",
     "collapsed": false,
     "input": [
      "track.Qs\n",
      "rows = [q for q in track.Qs]"
     ],
     "language": "python",
     "metadata": {},
     "outputs": [],
     "prompt_number": 30
    },
    {
     "cell_type": "code",
     "collapsed": false,
     "input": [
      "examine1TP_file = '/home/rosenfield/Dropbox/TP-AGBcal/debug/examine1TP_CAF09_S_OCT13.dat'"
     ],
     "language": "python",
     "metadata": {},
     "outputs": [],
     "prompt_number": 1
    },
    {
     "cell_type": "code",
     "collapsed": false,
     "input": [
      "lines = open(examine1TP_file, 'r').readlines()"
     ],
     "language": "python",
     "metadata": {},
     "outputs": [],
     "prompt_number": 3
    },
    {
     "cell_type": "code",
     "collapsed": false,
     "input": [
      "import pprint\n",
      "import numpy as np"
     ],
     "language": "python",
     "metadata": {},
     "outputs": [],
     "prompt_number": 25
    },
    {
     "cell_type": "code",
     "collapsed": false,
     "input": [
      "data = np.array([l for l in lines if l.startswith('Z')])\n",
      "nind = [i for i,l in enumerate(data) if not 'COLIBRI' in l]\n",
      "mass = np.array([m.strip().split()[3] for m in data], dtype=float)\n",
      "inds, = np.nonzero((mass>0.55) & (mass < 5.))\n",
      "missing = list(set(nind) & set(inds))\n",
      "for i in missing:\n",
      "    if len(data[i].split()) < len(data[i-1].split()):\n",
      "        print data[i].strip()\n",
      "    "
     ],
     "language": "python",
     "metadata": {},
     "outputs": [
      {
       "output_type": "stream",
       "stream": "stdout",
       "text": [
        "Z 0.0300 PARSEC 0.615000 3.31886 3.45508\n",
        "Z 0.0300 PARSEC 0.655000 3.29799 3.45666\n",
        "Z 0.0300 PARSEC 0.715000 3.25634 3.46579\n",
        "Z 0.0300 PARSEC 0.755000 3.37487 3.44673\n",
        "Z 0.0600 PARSEC 0.590000 3.37590 3.43220\n",
        "Z 0.0300 PARSEC 1.675000 3.39061 3.50888\n",
        "Z 0.0300 PARSEC 1.725000 3.37836 3.51280\n",
        "Z 0.0300 PARSEC 1.775000 3.32985 3.52150\n",
        "Z 0.0300 PARSEC 1.825000 3.32865 3.52382\n",
        "Z 0.0300 PARSEC 1.875000 3.32096 3.52683\n",
        "Z 0.0300 PARSEC 1.925000 3.02410 3.56210\n",
        "Z 0.0200 PARSEC 0.640000 3.22030 3.48840\n",
        "Z 0.0200 PARSEC 0.740000 3.20790 3.49300\n",
        "Z 0.0200 PARSEC 1.925000 3.01502 3.57602\n",
        "Z 0.0020 PARSEC 0.640000 3.24830 3.57910\n"
       ]
      }
     ],
     "prompt_number": 94
    }
   ],
   "metadata": {}
  }
 ]
}