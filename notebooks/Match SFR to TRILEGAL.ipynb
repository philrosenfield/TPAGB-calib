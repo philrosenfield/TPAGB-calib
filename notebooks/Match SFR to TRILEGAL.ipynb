{
 "metadata": {
  "name": ""
 },
 "nbformat": 3,
 "nbformat_minor": 0,
 "worksheets": [
  {
   "cells": [
    {
     "cell_type": "code",
     "collapsed": false,
     "input": [
      "import ResolvedStellarPops as rsp\n",
      "import galaxy_tests\n",
      "%pylab inline"
     ],
     "language": "python",
     "metadata": {},
     "outputs": [
      {
       "output_type": "stream",
       "stream": "stdout",
       "text": [
        "Populating the interactive namespace from numpy and matplotlib\n"
       ]
      }
     ],
     "prompt_number": 1
    },
    {
     "cell_type": "code",
     "collapsed": false,
     "input": [
      "pdb"
     ],
     "language": "python",
     "metadata": {},
     "outputs": [],
     "prompt_number": "*"
    },
    {
     "cell_type": "code",
     "collapsed": false,
     "input": [
      "from TPAGBparams import snap_src\n",
      "match_zc_sfh = snap_src + '/data/sfh_parsec/templates/ddo71/ddo71.zc.sfh'\n",
      "cmd_file = 'cmd_input_parsecCAF09_S12.dat'\n",
      "gal_inp = snap_src + '/input/input_DDO71.dat'\n",
      "galaxy_input = snap_src + '/data/sfh_parsec/templates/ddo71/triinput_ddo71.dat'\n",
      "fake_files = [snap_src + '/data/fakes/9884_DDO71_F606W_F814W_gst.fake.fits.matchfake', \n",
      "              snap_src + '/data/fakes/11719_DDO71_IR_F110W_F160W_gst.matchfake']\n",
      "tri_output = snap_src + '/data/sfh_parsec/templates/ddo71/triout_ddo71.dat'\n"
     ],
     "language": "python",
     "metadata": {},
     "outputs": [],
     "prompt_number": 2
    },
    {
     "cell_type": "code",
     "collapsed": false,
     "input": [
      "vSFH = galaxy_tests.VarySFHs(gal_inp, match_sfh)\n",
      "vSFH.gather_results(tri_output, 'ddo71')"
     ],
     "language": "python",
     "metadata": {},
     "outputs": [
      {
       "metadata": {},
       "output_type": "pyout",
       "prompt_number": 168,
       "text": [
        "<module 'ResolvedStellarPops.Galaxies' from '/home/rosenfield/research/python/ResolvedStellarPops/Galaxies.py'>"
       ]
      }
     ],
     "prompt_number": 168
    }
   ],
   "metadata": {}
  }
 ]
}