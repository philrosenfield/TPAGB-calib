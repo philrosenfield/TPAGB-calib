{
 "metadata": {
  "name": ""
 },
 "nbformat": 3,
 "nbformat_minor": 0,
 "worksheets": [
  {
   "cells": [
    {
     "cell_type": "code",
     "collapsed": false,
     "input": [
      "cd .."
     ],
     "language": "python",
     "metadata": {},
     "outputs": [
      {
       "output_type": "stream",
       "stream": "stdout",
       "text": [
        "/Users/phil/research/TP-AGBcalib/code/TPAGB-calib\n"
       ]
      }
     ],
     "prompt_number": 1
    },
    {
     "cell_type": "code",
     "collapsed": false,
     "input": [
      "import ResolvedStellarPops as rsp\n",
      "import galaxy_tests\n",
      "%pylab inline"
     ],
     "language": "python",
     "metadata": {},
     "outputs": [
      {
       "output_type": "stream",
       "stream": "stdout",
       "text": [
        "Populating the interactive namespace from numpy and matplotlib\n"
       ]
      }
     ],
     "prompt_number": 2
    },
    {
     "cell_type": "code",
     "collapsed": false,
     "input": [
      "pdb"
     ],
     "language": "python",
     "metadata": {},
     "outputs": [
      {
       "output_type": "stream",
       "stream": "stdout",
       "text": [
        "Automatic pdb calling has been turned ON\n"
       ]
      }
     ],
     "prompt_number": 3
    },
    {
     "cell_type": "code",
     "collapsed": false,
     "input": [
      "from TPAGBparams import snap_src\n",
      "match_zc_sfh = snap_src + '/data/sfh_parsec/templates/ddo71/ddo71.zc.sfh'\n",
      "cmd_file = 'cmd_input_parsecCAF09_S12.dat'\n",
      "gal_inp = snap_src + '/input/input_DDO71.dat'\n",
      "galaxy_input = snap_src + '/data/sfh_parsec/templates/ddo71/triinput_ddo71.dat'\n",
      "fake_files = [snap_src + '/data/fakes/9884_DDO71_F606W_F814W_gst.fake.fits.matchfake', \n",
      "              snap_src + '/data/fakes/11719_DDO71_IR_F110W_F160W_gst.matchfake']\n",
      "tri_output = snap_src + '/data/sfh_parsec/templates/ddo71/mc/inputs/output_ddo71_parseccaf09_s12.dat'\n"
     ],
     "language": "python",
     "metadata": {},
     "outputs": [],
     "prompt_number": 4
    },
    {
     "cell_type": "code",
     "collapsed": false,
     "input": [
      "#reload(rsp.TrilegalUtils)\n",
      "reload(rsp.Galaxies)\n",
      "reload(galaxy_tests)"
     ],
     "language": "python",
     "metadata": {},
     "outputs": [
      {
       "metadata": {},
       "output_type": "pyout",
       "prompt_number": 21,
       "text": [
        "<module 'galaxy_tests' from 'galaxy_tests.py'>"
       ]
      }
     ],
     "prompt_number": 21
    },
    {
     "cell_type": "code",
     "collapsed": false,
     "input": [
      "vSFH = galaxy_tests.VarySFHs(galaxy_input, match_zc_sfh)"
     ],
     "language": "python",
     "metadata": {},
     "outputs": [],
     "prompt_number": 5
    },
    {
     "cell_type": "code",
     "collapsed": false,
     "input": [
      "vSFH.vary_the_SFH(cmd_file, make_many_kw={'nsfhs': 1})"
     ],
     "language": "python",
     "metadata": {},
     "outputs": [
      {
       "output_type": "stream",
       "stream": "stdout",
       "text": [
        "Warning: no uncertainties\n",
        "Warning: no uncertainties\n",
        "Warning: no uncertainties\n",
        "Warning: no uncertainties\n",
        "Warning: no uncertainties\n",
        "Warning: no uncertainties"
       ]
      },
      {
       "output_type": "stream",
       "stream": "stdout",
       "text": [
        "\n",
        "Warning: no uncertainties\n",
        "Warning: no uncertainties\n",
        "Warning: no uncertainties\n",
        "Warning: no uncertainties\n",
        "Warning: no uncertainties\n",
        "Warning: no uncertainties\n",
        "Warning: no uncertainties\n",
        "Warning: no uncertainties\n",
        "Warning: no uncertainties\n",
        "Warning: no uncertainties\n",
        "Warning: no uncertainties\n",
        "Warning: no uncertainties\n",
        "Warning: no uncertainties\n",
        "Warning: no uncertainties\n",
        "Warning: no uncertainties\n",
        "wrote /Users/phil/research/TP-AGBcalib/SNAP/data/sfh_parsec/templates/ddo71/mc/inputs/triinput_ddo7100.dat\n",
        "code_2.2/main -f cmd_input_parsecCAF09_S12.dat -a -l /Users/phil/research/TP-AGBcalib/SNAP/data/sfh_parsec/templates/ddo71/mc/inputs/triinput_ddo7100.dat /Users/phil/research/TP-AGBcalib/SNAP/data/sfh_parsec/templates/ddo71/mc/inputs/output_ddo71_parseccaf09_s12.dat"
       ]
      },
      {
       "output_type": "stream",
       "stream": "stdout",
       "text": [
        "\n",
        "0.0774980330448"
       ]
      },
      {
       "output_type": "stream",
       "stream": "stdout",
       "text": [
        " 0.0812809600223\n",
        "wrote <open file '/Users/phil/research/TP-AGBcalib/SNAP/data/sfh_parsec/templates/ddo71/mc/inputs/ddo71_opt_lf.dat', mode 'a' at 0x10f65bc00>, <open file '/Users/phil/research/TP-AGBcalib/SNAP/data/sfh_parsec/templates/ddo71/mc/inputs/ddo71_ir_lf.dat', mode 'a' at 0x10f65bdb0>"
       ]
      },
      {
       "output_type": "stream",
       "stream": "stdout",
       "text": [
        "\n",
        "wrote <open file '/Users/phil/research/TP-AGBcalib/SNAP/data/sfh_parsec/templates/ddo71/mc/inputs/ddo71_narratio.dat', mode 'a' at 0x10e051a50>\n"
       ]
      },
      {
       "output_type": "stream",
       "stream": "stderr",
       "text": [
        "TRILEGAL was terminated successfully\n"
       ]
      }
     ],
     "prompt_number": 19
    },
    {
     "cell_type": "code",
     "collapsed": false,
     "input": [
      "vSFH.gather_results(tri_output)"
     ],
     "language": "python",
     "metadata": {},
     "outputs": [
      {
       "output_type": "stream",
       "stream": "stdout",
       "text": [
        "0.0924515360456 0.0884451867598\n",
        "wrote <open file '/Users/phil/research/TP-AGBcalib/SNAP/data/sfh_parsec/templates/ddo71/mc/inputs/ddo71_opt_lf.dat', mode 'a' at 0x10f65bdb0>, <open file '/Users/phil/research/TP-AGBcalib/SNAP/data/sfh_parsec/templates/ddo71/mc/inputs/ddo71_ir_lf.dat', mode 'a' at 0x10e051a50>"
       ]
      },
      {
       "output_type": "stream",
       "stream": "stdout",
       "text": [
        "\n",
        "wrote <open file '/Users/phil/research/TP-AGBcalib/SNAP/data/sfh_parsec/templates/ddo71/mc/inputs/ddo71_narratio.dat', mode 'a' at 0x10e051ae0>\n"
       ]
      }
     ],
     "prompt_number": 17
    },
    {
     "cell_type": "code",
     "collapsed": false,
     "input": [
      "opt_lf_file = '/Users/phil/research/TP-AGBcalib/SNAP/data/sfh_parsec/templates/ddo71/mc/inputs/ddo71_opt_lf.dat'\n",
      "ir_lf_file = '/Users/phil/research/TP-AGBcalib/SNAP/data/sfh_parsec/templates/ddo71/mc/inputs/ddo71_ir_lf.dat'"
     ],
     "language": "python",
     "metadata": {},
     "outputs": [],
     "prompt_number": 14
    },
    {
     "cell_type": "code",
     "collapsed": false,
     "input": [
      "vSFH.plot_lf_file(opt_lf_file, ir_lf_file)"
     ],
     "language": "python",
     "metadata": {},
     "outputs": [
      {
       "metadata": {},
       "output_type": "pyout",
       "prompt_number": 20,
       "text": [
        "array([<matplotlib.axes.AxesSubplot object at 0x10f705cd0>,\n",
        "       <matplotlib.axes.AxesSubplot object at 0x10f721c90>], dtype=object)"
       ]
      },
      {
       "metadata": {},
       "output_type": "display_data",
       "png": "[encoded data removed]",
       "text": [
        "<matplotlib.figure.Figure at 0x109745390>"
       ]
      }
     ],
     "prompt_number": 20
    },
    {
     "cell_type": "code",
     "collapsed": false,
     "input": [],
     "language": "python",
     "metadata": {},
     "outputs": [
      {
       "metadata": {},
       "output_type": "pyout",
       "prompt_number": 67,
       "text": [
        "[<matplotlib.lines.Line2D at 0x1151cee50>]"
       ]
      },
      {
       "metadata": {},
       "output_type": "display_data",
       "png": "[encoded data removed]",
       "text": [
        "<matplotlib.figure.Figure at 0x11138f990>"
       ]
      }
     ],
     "prompt_number": 67
    },
    {
     "cell_type": "code",
     "collapsed": false,
     "input": [
      "reload(galaxy_tests)\n",
      "ags = galaxy_tests.AncientGalaxies()"
     ],
     "language": "python",
     "metadata": {},
     "outputs": [],
     "prompt_number": 50
    },
    {
     "cell_type": "code",
     "collapsed": false,
     "input": [
      "ags.write_trgb_table()"
     ],
     "language": "python",
     "metadata": {},
     "outputs": [
      {
       "output_type": "stream",
       "stream": "stdout",
       "text": [
        "opt\n",
        "looks like no IR fits table"
       ]
      },
      {
       "output_type": "stream",
       "stream": "stdout",
       "text": [
        "\n",
        "ir"
       ]
      },
      {
       "output_type": "stream",
       "stream": "stdout",
       "text": [
        "\n",
        "wrote /Users/phil/research/TP-AGBcalib/SNAP/tables/ancients_galaxies_2_1.5_mag_below.dat"
       ]
      },
      {
       "output_type": "stream",
       "stream": "stdout",
       "text": [
        "\n"
       ]
      }
     ],
     "prompt_number": 51
    }
   ],
   "metadata": {}
  }
 ]
}