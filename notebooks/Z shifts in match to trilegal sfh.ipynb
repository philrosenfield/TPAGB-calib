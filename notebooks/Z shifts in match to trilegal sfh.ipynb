{
 "metadata": {
  "name": ""
 },
 "nbformat": 3,
 "nbformat_minor": 0,
 "worksheets": [
  {
   "cells": [
    {
     "cell_type": "raw",
     "metadata": {},
     "source": [
      "The big issue in using MATCH sfh with Girardi2010 is that the non-AGB tracks are from Girardi2000. That means when using trilegal there will be offsets depending on what happened to the tracks between Girardi2000 and Bressan2012. \n",
      "\n",
      "When I first did the tests, I used the SFH from match parsed to trilegal and made two trilegal simulations. One using the oldest tracks I had, and the other, with parsec s12.\n",
      "\n",
      "It turned out that the RGB was much redder in the oldest tracks.\n",
      "\n",
      "Now I'm wondering, Girardi2010 MATCH SFH uses Zsun = 0.019. So the metallicity I use from Fe/H derived from cmd-fitting is \n",
      "Z_g10 = 0.019 * 10 ** Fe/H\n",
      "\n",
      "But the corresponding Z in Bressan2012 would be \n",
      "Z_b12 = 0.015 * 10 ** Fe/H\n",
      "\n",
      "Meaning the Z in the parsed sfhs used with parsec s12 should be converted by z_b12/z_g10 = 0.790."
     ]
    },
    {
     "cell_type": "heading",
     "level": 6,
     "metadata": {},
     "source": [
      "All this said and done... Paola thinks that as long as I convert Match's Fe/H back to Z using 0.019 it will be fine, because all padova tracks do not depend on Zsun. sigh."
     ]
    },
    {
     "cell_type": "code",
     "collapsed": false,
     "input": [
      "from TPAGBparams import snap_src\n",
      "import os\n",
      "import ResolvedStellarPops as rsp"
     ],
     "language": "python",
     "metadata": {},
     "outputs": [],
     "prompt_number": 4
    },
    {
     "cell_type": "code",
     "collapsed": false,
     "input": [
      "original_sfh_dir = os.path.join(snap_src, 'data', 'sfh')"
     ],
     "language": "python",
     "metadata": {},
     "outputs": [],
     "prompt_number": 5
    },
    {
     "cell_type": "code",
     "collapsed": false,
     "input": [
      "sfh_files = rsp.fileIO.get_files(original_sfh_dir, '*.dat')"
     ],
     "language": "python",
     "metadata": {},
     "outputs": [],
     "prompt_number": 6
    },
    {
     "cell_type": "code",
     "collapsed": false,
     "input": [
      "reload(rsp.TrilegalUtils)"
     ],
     "language": "python",
     "metadata": {},
     "outputs": [
      {
       "metadata": {},
       "output_type": "pyout",
       "prompt_number": 75,
       "text": [
        "<module 'ResolvedStellarPops.TrilegalUtils' from '/home/rosenfield/research/python/ResolvedStellarPops/TrilegalUtils.py'>"
       ]
      }
     ],
     "prompt_number": 75
    },
    {
     "cell_type": "code",
     "collapsed": false,
     "input": [
      "for sfh_file in sfh_files:\n",
      "    tsfh = rsp.TrilegalUtils.trilegal_sfh(sfh_file, galaxy_input=False)\n",
      "    tsfh.adjust_value('z', '* 0.790')"
     ],
     "language": "python",
     "metadata": {},
     "outputs": [
      {
       "output_type": "stream",
       "stream": "stdout",
       "text": [
        "wrote /home/rosenfield/research/TP-AGBcalib/SNAP/data/sfh_adj/SFR_10915_NGC2976-DEEP_F606W_F814W.gst.match.sfh.zc.dat\n",
        "wrote /home/rosenfield/research/TP-AGBcalib/SNAP/data/sfh_adj/SFR_9755_IC2574-SGS_F555W_F814W.gst.match.sfh.zc.dat"
       ]
      },
      {
       "output_type": "stream",
       "stream": "stdout",
       "text": [
        "\n",
        "wrote /home/rosenfield/research/TP-AGBcalib/SNAP/data/sfh_adj/SFR_10523_NGC2403-HALO-6_F606W_F814W.gst.sfh.zc.dat"
       ]
      },
      {
       "output_type": "stream",
       "stream": "stdout",
       "text": [
        "\n",
        "wrote /home/rosenfield/research/TP-AGBcalib/SNAP/data/sfh_adj/SFR_10915_NGC3741_F475W_F814W.gst.match.sfh.zc.dat"
       ]
      },
      {
       "output_type": "stream",
       "stream": "stdout",
       "text": [
        "\n",
        "wrote /home/rosenfield/research/TP-AGBcalib/SNAP/data/sfh_adj/SFR_9884_DDO71_F606W_F814W.gst.sfh.zc.dat"
       ]
      },
      {
       "output_type": "stream",
       "stream": "stdout",
       "text": [
        "\n",
        "wrote /home/rosenfield/research/TP-AGBcalib/SNAP/data/sfh_adj/SFR_10915_UGCA292_F475W_F814W.gst.sfh.zc.dat"
       ]
      },
      {
       "output_type": "stream",
       "stream": "stdout",
       "text": [
        "\n",
        "wrote /home/rosenfield/research/TP-AGBcalib/SNAP/data/sfh_adj/SFR_9771_HS117_F606W_F814W.gst.fits.sfh.zc.dat"
       ]
      },
      {
       "output_type": "stream",
       "stream": "stdout",
       "text": [
        "\n",
        "wrote /home/rosenfield/research/TP-AGBcalib/SNAP/data/sfh_adj/SFR_10523_NGC7793-HALO-6_F606W_F814W.gst.sfh.zc.dat"
       ]
      },
      {
       "output_type": "stream",
       "stream": "stdout",
       "text": [
        "\n",
        "wrote /home/rosenfield/research/TP-AGBcalib/SNAP/data/sfh_adj/SFR_10915_NGC0300-WIDE1_F606W_F814W.gst.sfh.zc.dat"
       ]
      },
      {
       "output_type": "stream",
       "stream": "stdout",
       "text": [
        "\n",
        "wrote /home/rosenfield/research/TP-AGBcalib/SNAP/data/sfh_adj/SFR_10915_NGC0404-DEEP_F606W_F814W.gst.trim.fits.sfh.zc.dat"
       ]
      },
      {
       "output_type": "stream",
       "stream": "stdout",
       "text": [
        "\n",
        "wrote /home/rosenfield/research/TP-AGBcalib/SNAP/data/sfh_adj/SFR_10605_UGC-04459_F555W_F814W.gst.sfh.zc.dat"
       ]
      },
      {
       "output_type": "stream",
       "stream": "stdout",
       "text": [
        "\n",
        "wrote /home/rosenfield/research/TP-AGBcalib/SNAP/data/sfh_adj/SFR_10915_NGC404_F606W_F814W.gst.trim.fits.sfh.zc.dat"
       ]
      },
      {
       "output_type": "stream",
       "stream": "stdout",
       "text": [
        "\n",
        "wrote /home/rosenfield/research/TP-AGBcalib/SNAP/data/sfh_adj/SFR_10605_UGC-4305-2_F555W_F814W.gst.sfh.zc.dat"
       ]
      },
      {
       "output_type": "stream",
       "stream": "stdout",
       "text": [
        "\n",
        "wrote /home/rosenfield/research/TP-AGBcalib/SNAP/data/sfh_adj/SFR_10605_UGC-5139_F555W_F814W.gst.match.sfh.zc.dat"
       ]
      },
      {
       "output_type": "stream",
       "stream": "stdout",
       "text": [
        "\n",
        "wrote /home/rosenfield/research/TP-AGBcalib/SNAP/data/sfh_adj/SFR_10915_DDO82_F606W_F814W.gst.sfh.zc.dat"
       ]
      },
      {
       "output_type": "stream",
       "stream": "stdout",
       "text": [
        "\n",
        "wrote /home/rosenfield/research/TP-AGBcalib/SNAP/data/sfh_adj/SFR_10605_UGC-4305-1_F555W_F814W.gst.sfh.zc.dat"
       ]
      },
      {
       "output_type": "stream",
       "stream": "stdout",
       "text": [
        "\n",
        "wrote /home/rosenfield/research/TP-AGBcalib/SNAP/data/sfh_adj/SFR_10915_KDG73_F475W_F814W.gst.sfh.zc.dat"
       ]
      },
      {
       "output_type": "stream",
       "stream": "stdout",
       "text": [
        "\n",
        "wrote /home/rosenfield/research/TP-AGBcalib/SNAP/data/sfh_adj/SFR_10915_UGC8508_F475W_F814W.gst.match.sfh.zc.dat"
       ]
      },
      {
       "output_type": "stream",
       "stream": "stdout",
       "text": [
        "\n",
        "wrote /home/rosenfield/research/TP-AGBcalib/SNAP/data/sfh_adj/SFR_10503_SCL-DE1_F606W_F814W.gst.sfh.zc.dat"
       ]
      },
      {
       "output_type": "stream",
       "stream": "stdout",
       "text": [
        "\n",
        "wrote /home/rosenfield/research/TP-AGBcalib/SNAP/data/sfh_adj/SFR_10915_NGC2403-DEEP_F606W_F814W.gst.trim.fits.sfh.zc.dat"
       ]
      },
      {
       "output_type": "stream",
       "stream": "stdout",
       "text": [
        "\n",
        "wrote /home/rosenfield/research/TP-AGBcalib/SNAP/data/sfh_adj/SFR_10915_DDO78_F475W_F814W.gst.sfh.zc.dat\n",
        "wrote /home/rosenfield/research/TP-AGBcalib/SNAP/data/sfh_adj/SFR_9381_NGC3077-PHOENIX_F555W_F814W.gst.sfh.zc.dat"
       ]
      },
      {
       "output_type": "stream",
       "stream": "stdout",
       "text": [
        "\n",
        "wrote /home/rosenfield/research/TP-AGBcalib/SNAP/data/sfh_adj/SFR_10915_KKH37_F475W_F814W.gst.match.sfh.zc.dat"
       ]
      },
      {
       "output_type": "stream",
       "stream": "stdout",
       "text": [
        "\n",
        "wrote /home/rosenfield/research/TP-AGBcalib/SNAP/data/sfh_adj/SFR_10915_NGC4163_F606W_F814W.gst.sfh.zc.dat"
       ]
      },
      {
       "output_type": "stream",
       "stream": "stdout",
       "text": [
        "\n"
       ]
      }
     ],
     "prompt_number": 77
    },
    {
     "cell_type": "raw",
     "metadata": {},
     "source": [
      "Now that this has been adjusted, we can re-run galaxy_test with sfr_dir set to sfh_adj."
     ]
    }
   ],
   "metadata": {}
  }
 ]
}