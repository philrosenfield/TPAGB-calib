{
 "metadata": {
  "name": ""
 },
 "nbformat": 3,
 "nbformat_minor": 0,
 "worksheets": [
  {
   "cells": [
    {
     "cell_type": "code",
     "collapsed": false,
     "input": [
      "cd ~/research/TP-AGBcalib/code/TPAGB-calib/"
     ],
     "language": "python",
     "metadata": {},
     "outputs": [
      {
       "output_type": "stream",
       "stream": "stdout",
       "text": [
        "/home/rosenfield/research/TP-AGBcalib/code/TPAGB-calib\n"
       ]
      }
     ],
     "prompt_number": 5
    },
    {
     "cell_type": "code",
     "collapsed": false,
     "input": [
      "import sfh_tests_multi_proc\n",
      "import ResolvedStellarPops as rsp\n",
      "import stats\n",
      "from TPAGBparams import snap_src\n",
      "%pylab tk"
     ],
     "language": "python",
     "metadata": {},
     "outputs": [
      {
       "output_type": "stream",
       "stream": "stdout",
       "text": [
        "Populating the interactive namespace from numpy and matplotlib\n"
       ]
      }
     ],
     "prompt_number": 13
    },
    {
     "cell_type": "code",
     "collapsed": false,
     "input": [
      "# nsfhs dont matter at all here but need to be defined for vsfh...\n",
      "def full_run():\n",
      "    targets = ['ddo71', 'hs117', 'kkh37', 'ngc2976-deep', 'scl-de1', 'ddo78', 'ngc404']\n",
      "    cmd_inputs = ['cmd_input_CAF09_S_NOV13.dat',\n",
      "                  'cmd_input_CAF09_S_NOV13eta0.dat',\n",
      "                  'cmd_input_CAF09_S_OCT13.dat']\n",
      "    nsfhs = 50\n",
      "    outfile_dirs = ['/home/rosenfield/research/TP-AGBcalib/SNAP/models/varysfh/fixed_offsets']\n",
      "    extra_str = ''\n",
      "    return targets, cmd_inputs, nsfhs, outfile_dirs, extra_str\n",
      "    \n",
      "def cstar():\n",
      "    targets = ['ngc2976-deep', 'scl-de1']\n",
      "    cmd_inputs = ['cmd_input_CAF09_S_NOV13.dat',\n",
      "                  'cmd_input_CAF09_S_NOV13eta0.dat',\n",
      "                  'cmd_input_CAF09_S_OCT13.dat']\n",
      "    nsfhs = 50\n",
      "    outfile_dirs = ['/home/rosenfield/research/TP-AGBcalib/SNAP/models/cstar_only']\n",
      "    extra_str = '_cstar'\n",
      "    return targets, cmd_inputs, nsfhs, outfile_dirs, extra_str\n",
      "\n",
      "def mstar():\n",
      "    targets = ['ngc2976-deep', 'scl-de1']\n",
      "    cmd_inputs = ['cmd_input_CAF09_S_NOV13.dat',\n",
      "                  'cmd_input_CAF09_S_NOV13eta0.dat',\n",
      "                  'cmd_input_CAF09_S_OCT13.dat']\n",
      "    nsfhs = 50\n",
      "    outfile_dirs = ['/home/rosenfield/research/TP-AGBcalib/SNAP/models/mstar_only']\n",
      "    extra_str = '_mstar'\n",
      "    return targets, cmd_inputs, nsfhs, outfile_dirs, extra_str"
     ],
     "language": "python",
     "metadata": {},
     "outputs": [],
     "prompt_number": 250
    },
    {
     "cell_type": "code",
     "collapsed": false,
     "input": [
      "targets, cmd_inputs, nsfhs, outfile_dirs, extra_str = mstar()\n",
      "default_kw = {'galaxy_input_src': snap_src + '/input/tests/',\n",
      "              'galaxy_input_search_fmt': '*%s' + '%s.dat' % extra_str}\n",
      "\n",
      "targets, cmd_inputs, nsfhs, outfile_dirs, extra_str = full_run()\n",
      "default_kw = None"
     ],
     "language": "python",
     "metadata": {},
     "outputs": [],
     "prompt_number": 251
    },
    {
     "cell_type": "code",
     "collapsed": false,
     "input": [
      "vsfh_kw = {'extra_str' : extra_str}"
     ],
     "language": "python",
     "metadata": {},
     "outputs": [],
     "prompt_number": 252
    },
    {
     "cell_type": "code",
     "collapsed": false,
     "input": [
      "reload(sfh_tests_multi_proc)\n",
      "reload(stats)"
     ],
     "language": "python",
     "metadata": {},
     "outputs": [
      {
       "metadata": {},
       "output_type": "pyout",
       "prompt_number": 253,
       "text": [
        "<module 'stats' from 'stats.pyc'>"
       ]
      }
     ],
     "prompt_number": 253
    },
    {
     "cell_type": "code",
     "collapsed": false,
     "input": [
      "def all_stats(targets, cmd_inputs, nsfhs, outfile_dir='default', extra_str='', default_kw=None):\n",
      "    vSFHs, vsfh_kws = sfh_tests_multi_proc.prepare_vsfh_run(targets, cmd_inputs, nsfhs,\n",
      "                                                            vsfh_kw={'outfile_loc': outfile_dir,\n",
      "                                                                     'extra_str': extra_str},\n",
      "                                                            default_kw=default_kw)\n",
      "    chi2_files = stats.write_chi2_table(targets, cmd_inputs, outfile_loc=outfile_dir, extra_str=extra_str)\n",
      "    narratio_files = rsp.fileIO.get_files(outfile_dir, '*narratio*dat')\n",
      "    chi2_dicts = stats.result2dict(chi2_files)\n",
      "    stats.narratio_table(narratio_files)\n",
      "    #axs = stats.chi2plot(chi2_dicts, outfile_loc=outfile_dir)\n",
      "    axs = stats.chi2plot2(chi2_dicts, outfile_loc=outfile_dir)\n",
      "    chi2_files = stats.write_chi2_table(targets, cmd_inputs, outfile_loc=outfile_dir, extra_str=extra_str,\n",
      "                                        just_gauss=True)\n",
      "    pl = [sfh_tests_multi_proc.Plotting(v) for v in vSFHs]\n",
      "    _ = [pl[i].compare_to_gal(extra_str=extra_str) for i in range(len(pl))]\n",
      "    #plt.close('all')\n",
      "    return"
     ],
     "language": "python",
     "metadata": {},
     "outputs": [],
     "prompt_number": 254
    },
    {
     "cell_type": "code",
     "collapsed": false,
     "input": [
      "pdb"
     ],
     "language": "python",
     "metadata": {},
     "outputs": [
      {
       "output_type": "stream",
       "stream": "stdout",
       "text": [
        "Automatic pdb calling has been turned OFF\n"
       ]
      }
     ],
     "prompt_number": 248
    },
    {
     "cell_type": "code",
     "collapsed": false,
     "input": [
      "_ = [all_stats(targets, cmd_inputs, nsfhs, outfile_dir=out_dir, extra_str=extra_str,\n",
      "               default_kw=default_kw) for out_dir in outfile_dirs]"
     ],
     "language": "python",
     "metadata": {},
     "outputs": [
      {
       "output_type": "stream",
       "stream": "stdout",
       "text": [
        "using NGC404-DEEP instead of NGC404\n",
        "using NGC404-DEEP instead of NGC404\n",
        "using NGC404-DEEP instead of NGC404\n",
        "using NGC404-DEEP instead of NGC404\n",
        "using NGC404-DEEP instead of NGC404\n",
        "using NGC404-DEEP instead of NGC404\n",
        "using NGC404-DEEP instead of NGC404"
       ]
      },
      {
       "output_type": "stream",
       "stream": "stdout",
       "text": [
        "\n",
        "using NGC404-DEEP instead of NGC404\n",
        "using NGC404-DEEP instead of NGC404"
       ]
      },
      {
       "ename": "IOError",
       "evalue": "[Errno 2] No such file or directory: '/home/rosenfield/research/TP-AGBcalib/SNAP/models/varysfh/fixed_offsets/caf09_s_nov13eta0_ngc404_opt_lf.dat'",
       "output_type": "pyerr",
       "traceback": [
        "\u001b[1;31m---------------------------------------------------------------------------\u001b[0m\n\u001b[1;31mIOError\u001b[0m                                   Traceback (most recent call last)",
        "\u001b[1;32m<ipython-input-255-705df5a479e8>\u001b[0m in \u001b[0;36m<module>\u001b[1;34m()\u001b[0m\n\u001b[0;32m      1\u001b[0m _ = [all_stats(targets, cmd_inputs, nsfhs, outfile_dir=out_dir, extra_str=extra_str,\n\u001b[1;32m----> 2\u001b[1;33m                default_kw=default_kw) for out_dir in outfile_dirs]\n\u001b[0m",
        "\u001b[1;32m<ipython-input-254-f7f8fa082bc6>\u001b[0m in \u001b[0;36mall_stats\u001b[1;34m(targets, cmd_inputs, nsfhs, outfile_dir, extra_str, default_kw)\u001b[0m\n\u001b[0;32m      4\u001b[0m                                                                      'extra_str': extra_str},\n\u001b[0;32m      5\u001b[0m                                                             default_kw=default_kw)\n\u001b[1;32m----> 6\u001b[1;33m     \u001b[0mchi2_files\u001b[0m \u001b[1;33m=\u001b[0m \u001b[0mstats\u001b[0m\u001b[1;33m.\u001b[0m\u001b[0mwrite_chi2_table\u001b[0m\u001b[1;33m(\u001b[0m\u001b[0mtargets\u001b[0m\u001b[1;33m,\u001b[0m \u001b[0mcmd_inputs\u001b[0m\u001b[1;33m,\u001b[0m \u001b[0moutfile_loc\u001b[0m\u001b[1;33m=\u001b[0m\u001b[0moutfile_dir\u001b[0m\u001b[1;33m,\u001b[0m \u001b[0mextra_str\u001b[0m\u001b[1;33m=\u001b[0m\u001b[0mextra_str\u001b[0m\u001b[1;33m)\u001b[0m\u001b[1;33m\u001b[0m\u001b[0m\n\u001b[0m\u001b[0;32m      7\u001b[0m     \u001b[0mnarratio_files\u001b[0m \u001b[1;33m=\u001b[0m \u001b[0mrsp\u001b[0m\u001b[1;33m.\u001b[0m\u001b[0mfileIO\u001b[0m\u001b[1;33m.\u001b[0m\u001b[0mget_files\u001b[0m\u001b[1;33m(\u001b[0m\u001b[0moutfile_dir\u001b[0m\u001b[1;33m,\u001b[0m \u001b[1;34m'*narratio*dat'\u001b[0m\u001b[1;33m)\u001b[0m\u001b[1;33m\u001b[0m\u001b[0m\n\u001b[0;32m      8\u001b[0m     \u001b[0mchi2_dicts\u001b[0m \u001b[1;33m=\u001b[0m \u001b[0mstats\u001b[0m\u001b[1;33m.\u001b[0m\u001b[0mresult2dict\u001b[0m\u001b[1;33m(\u001b[0m\u001b[0mchi2_files\u001b[0m\u001b[1;33m)\u001b[0m\u001b[1;33m\u001b[0m\u001b[0m\n",
        "\u001b[1;32m/home/rosenfield/research/TP-AGBcalib/code/TPAGB-calib/stats.pyc\u001b[0m in \u001b[0;36mwrite_chi2_table\u001b[1;34m(targets, cmd_input_files, table_file, outfile_loc, extra_str, just_gauss)\u001b[0m\n\u001b[0;32m    180\u001b[0m                                      '%s_%s%s_chi2.dat' % (st.agb_mod, target,\n\u001b[0;32m    181\u001b[0m                                                            extra_str2))\n\u001b[1;32m--> 182\u001b[1;33m             \u001b[0mresult\u001b[0m \u001b[1;33m=\u001b[0m  \u001b[0mst\u001b[0m\u001b[1;33m.\u001b[0m\u001b[0mpoission_chi2\u001b[0m\u001b[1;33m(\u001b[0m\u001b[0mtable_file\u001b[0m\u001b[1;33m=\u001b[0m\u001b[0mtable_file\u001b[0m\u001b[1;33m,\u001b[0m \u001b[0mjust_gauss\u001b[0m\u001b[1;33m=\u001b[0m\u001b[0mjust_gauss\u001b[0m\u001b[1;33m)\u001b[0m\u001b[1;33m\u001b[0m\u001b[0m\n\u001b[0m\u001b[0;32m    183\u001b[0m             \u001b[1;32mif\u001b[0m \u001b[0mjust_gauss\u001b[0m \u001b[1;32mis\u001b[0m \u001b[0mTrue\u001b[0m\u001b[1;33m:\u001b[0m\u001b[1;33m\u001b[0m\u001b[0m\n\u001b[0;32m    184\u001b[0m                 \u001b[0mopt_chi2\u001b[0m\u001b[1;33m,\u001b[0m \u001b[0mir_chi2\u001b[0m\u001b[1;33m,\u001b[0m \u001b[0mopt_chi2_agb\u001b[0m\u001b[1;33m,\u001b[0m \u001b[0mir_chi2_agb\u001b[0m\u001b[1;33m,\u001b[0m \u001b[0mopt_pval\u001b[0m\u001b[1;33m,\u001b[0m \u001b[0mir_pval\u001b[0m\u001b[1;33m,\u001b[0m \u001b[0mopt_pval_agb\u001b[0m\u001b[1;33m,\u001b[0m \u001b[0mir_pval_agb\u001b[0m \u001b[1;33m=\u001b[0m \u001b[0mresult\u001b[0m\u001b[1;33m\u001b[0m\u001b[0m\n",
        "\u001b[1;32m/home/rosenfield/research/TP-AGBcalib/code/TPAGB-calib/stats.pyc\u001b[0m in \u001b[0;36mpoission_chi2\u001b[1;34m(self, hist_it_up, table_file, just_gauss)\u001b[0m\n\u001b[0;32m     39\u001b[0m                                                 \u001b[0mself\u001b[0m\u001b[1;33m.\u001b[0m\u001b[0mfiles\u001b[0m\u001b[1;33m.\u001b[0m\u001b[0mir_trgb_err\u001b[0m \u001b[1;33m*\u001b[0m\u001b[0;31m \u001b[0m\u001b[0;31m\\\u001b[0m\u001b[1;33m\u001b[0m\u001b[0m\n\u001b[0;32m     40\u001b[0m                                                 self.files.ags.factor[1])\n\u001b[1;32m---> 41\u001b[1;33m         \u001b[0mopt_model_hists\u001b[0m\u001b[1;33m,\u001b[0m \u001b[0mopt_models_binss\u001b[0m \u001b[1;33m=\u001b[0m \u001b[0mself\u001b[0m\u001b[1;33m.\u001b[0m\u001b[0mfiles\u001b[0m\u001b[1;33m.\u001b[0m\u001b[0mload_lf_file\u001b[0m\u001b[1;33m(\u001b[0m\u001b[0mself\u001b[0m\u001b[1;33m.\u001b[0m\u001b[0mfnames\u001b[0m\u001b[1;33m[\u001b[0m\u001b[1;36m0\u001b[0m\u001b[1;33m]\u001b[0m\u001b[1;33m)\u001b[0m\u001b[1;33m\u001b[0m\u001b[0m\n\u001b[0m\u001b[0;32m     42\u001b[0m         \u001b[0mir_model_hists\u001b[0m\u001b[1;33m,\u001b[0m \u001b[0mir_models_binss\u001b[0m \u001b[1;33m=\u001b[0m \u001b[0mself\u001b[0m\u001b[1;33m.\u001b[0m\u001b[0mfiles\u001b[0m\u001b[1;33m.\u001b[0m\u001b[0mload_lf_file\u001b[0m\u001b[1;33m(\u001b[0m\u001b[0mself\u001b[0m\u001b[1;33m.\u001b[0m\u001b[0mfnames\u001b[0m\u001b[1;33m[\u001b[0m\u001b[1;36m1\u001b[0m\u001b[1;33m]\u001b[0m\u001b[1;33m)\u001b[0m\u001b[1;33m\u001b[0m\u001b[0m\n\u001b[0;32m     43\u001b[0m \u001b[1;33m\u001b[0m\u001b[0m\n",
        "\u001b[1;32m/home/rosenfield/research/TP-AGBcalib/code/TPAGB-calib/sfh_tests_multi_proc.pyc\u001b[0m in \u001b[0;36mload_lf_file\u001b[1;34m(self, lf_file)\u001b[0m\n\u001b[0;32m    852\u001b[0m \u001b[1;33m\u001b[0m\u001b[0m\n\u001b[0;32m    853\u001b[0m     \u001b[1;32mdef\u001b[0m \u001b[0mload_lf_file\u001b[0m\u001b[1;33m(\u001b[0m\u001b[0mself\u001b[0m\u001b[1;33m,\u001b[0m \u001b[0mlf_file\u001b[0m\u001b[1;33m)\u001b[0m\u001b[1;33m:\u001b[0m\u001b[1;33m\u001b[0m\u001b[0m\n\u001b[1;32m--> 854\u001b[1;33m         \u001b[1;32mwith\u001b[0m \u001b[0mopen\u001b[0m\u001b[1;33m(\u001b[0m\u001b[0mlf_file\u001b[0m\u001b[1;33m,\u001b[0m \u001b[1;34m'r'\u001b[0m\u001b[1;33m)\u001b[0m \u001b[1;32mas\u001b[0m \u001b[0mlff\u001b[0m\u001b[1;33m:\u001b[0m\u001b[1;33m\u001b[0m\u001b[0m\n\u001b[0m\u001b[0;32m    855\u001b[0m             lines = [l.strip() for l in lff.readlines()\n\u001b[0;32m    856\u001b[0m                      if not l.startswith('#')]\n",
        "\u001b[1;31mIOError\u001b[0m: [Errno 2] No such file or directory: '/home/rosenfield/research/TP-AGBcalib/SNAP/models/varysfh/fixed_offsets/caf09_s_nov13eta0_ngc404_opt_lf.dat'"
       ]
      },
      {
       "output_type": "stream",
       "stream": "stdout",
       "text": [
        "\n",
        "using NGC404-DEEP instead of NGC404\n"
       ]
      }
     ],
     "prompt_number": 255
    },
    {
     "cell_type": "code",
     "collapsed": false,
     "input": [
      "plt.close('all')"
     ],
     "language": "python",
     "metadata": {},
     "outputs": [],
     "prompt_number": 217
    }
   ],
   "metadata": {}
  }
 ]
}