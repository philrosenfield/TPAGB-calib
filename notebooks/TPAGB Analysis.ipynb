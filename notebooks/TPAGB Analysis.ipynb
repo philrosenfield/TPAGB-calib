{
 "metadata": {
  "name": ""
 },
 "nbformat": 3,
 "nbformat_minor": 0,
 "worksheets": [
  {
   "cells": [
    {
     "cell_type": "code",
     "collapsed": false,
     "input": [
      "cd ~/research/TP-AGBcalib/code/TPAGB-calib/"
     ],
     "language": "python",
     "metadata": {},
     "outputs": [
      {
       "output_type": "stream",
       "stream": "stdout",
       "text": [
        "/home/rosenfield/research/TP-AGBcalib/code/TPAGB-calib\n"
       ]
      }
     ],
     "prompt_number": 91
    },
    {
     "cell_type": "code",
     "collapsed": false,
     "input": [
      "import sfh_tests_multi_proc\n",
      "import ResolvedStellarPops as rsp\n",
      "import stats\n",
      "%pylab tk"
     ],
     "language": "python",
     "metadata": {},
     "outputs": [
      {
       "output_type": "stream",
       "stream": "stdout",
       "text": [
        "Populating the interactive namespace from numpy and matplotlib\n"
       ]
      }
     ],
     "prompt_number": 92
    },
    {
     "cell_type": "code",
     "collapsed": false,
     "input": [
      "targets = ['ddo71', 'hs117', 'kkh37', 'ngc2976-deep', 'scl-de1', 'ddo78']\n",
      "cmd_inputs = ['cmd_input_CAF09_S_NOV13.dat',\n",
      "              'cmd_input_CAF09_S_NOV13eta0.dat',\n",
      "              'cmd_input_CAF09_S_OCT13.dat']\n",
      "nsfhs = 50\n",
      "outfile_dirs = ['/home/rosenfield/research/TP-AGBcalib/SNAP/models/varysfh/fixed_offsets']"
     ],
     "language": "python",
     "metadata": {},
     "outputs": [],
     "prompt_number": 143
    },
    {
     "cell_type": "code",
     "collapsed": false,
     "input": [
      "#reload(sfh_tests_multi_proc)\n",
      "#reload(stats)"
     ],
     "language": "python",
     "metadata": {},
     "outputs": [
      {
       "metadata": {},
       "output_type": "pyout",
       "prompt_number": 145,
       "text": [
        "<module 'stats' from 'stats.py'>"
       ]
      }
     ],
     "prompt_number": 145
    },
    {
     "cell_type": "code",
     "collapsed": false,
     "input": [
      "def all_stats(targets, cmd_inputs, nsfhs, outfile_dir='default'):\n",
      "    vSFHs, vsfh_kws = sfh_tests_multi_proc.prepare_vsfh_run(targets, cmd_inputs, nsfhs,\n",
      "                                                            vsfh_kw={'outfile_loc': outfile_dir})\n",
      "    chi2_files = stats.write_chi2_table(targets, cmd_inputs, outfile_loc=outfile_dir)\n",
      "    narratio_files = rsp.fileIO.get_files(outfile_dir, '*narratio*dat')\n",
      "    chi2_dicts = stats.result2dict(chi2_files)\n",
      "    stats.narratio_table(narratio_files)\n",
      "    axs = stats.chi2plot(chi2_dicts, outfile_loc=outfile_dir)\n",
      "    pl = [sfh_tests_multi_proc.Plotting(v) for v in vSFHs]\n",
      "    _ = [pl[i].compare_to_gal() for i in range(len(pl))]\n",
      "    plt.close('all')\n",
      "    return"
     ],
     "language": "python",
     "metadata": {},
     "outputs": [],
     "prompt_number": 142
    },
    {
     "cell_type": "code",
     "collapsed": false,
     "input": [
      "#pdb"
     ],
     "language": "python",
     "metadata": {},
     "outputs": [
      {
       "output_type": "stream",
       "stream": "stdout",
       "text": [
        "Automatic pdb calling has been turned OFF\n"
       ]
      }
     ],
     "prompt_number": 127
    },
    {
     "cell_type": "code",
     "collapsed": false,
     "input": [
      "_ = [all_stats(targets, cmd_inputs, nsfhs, outfile_dir=out_dir) for out_dir in outfile_dirs]"
     ],
     "language": "python",
     "metadata": {},
     "outputs": [],
     "prompt_number": 147
    }
   ],
   "metadata": {}
  }
 ]
}