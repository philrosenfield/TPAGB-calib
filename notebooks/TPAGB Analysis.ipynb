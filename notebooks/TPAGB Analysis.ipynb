{
 "metadata": {
  "name": ""
 },
 "nbformat": 3,
 "nbformat_minor": 0,
 "worksheets": [
  {
   "cells": [
    {
     "cell_type": "code",
     "collapsed": false,
     "input": [
      "cd ~/research/TP-AGBcalib/code/TPAGB-calib/"
     ],
     "language": "python",
     "metadata": {},
     "outputs": [
      {
       "output_type": "stream",
       "stream": "stdout",
       "text": [
        "/home/rosenfield/research/TP-AGBcalib/code/TPAGB-calib\n"
       ]
      }
     ],
     "prompt_number": 1
    },
    {
     "cell_type": "code",
     "collapsed": false,
     "input": [
      "import sfh_tests_multi_proc\n",
      "import ResolvedStellarPops as rsp\n",
      "import stats\n",
      "from TPAGBparams import snap_src\n",
      "import model_plots\n",
      "%pylab tk"
     ],
     "language": "python",
     "metadata": {},
     "outputs": [
      {
       "output_type": "stream",
       "stream": "stdout",
       "text": [
        "Warning. Can not find /home/rosenfield/research/TP-AGBcalib/SNAP/models/ast.\n",
        "Populating the interactive namespace from numpy and matplotlib"
       ]
      },
      {
       "output_type": "stream",
       "stream": "stdout",
       "text": [
        "\n"
       ]
      }
     ],
     "prompt_number": 2
    },
    {
     "cell_type": "code",
     "collapsed": false,
     "input": [
      "# nsfhs dont matter at all here but need to be defined for vsfh...\n",
      "def full_run():\n",
      "    targets = ['ddo71', 'hs117', 'kkh37', 'ngc2976-deep', 'scl-de1', 'ddo78']\n",
      "    cmd_inputs = ['cmd_input_CAF09_S_NOV13.dat',\n",
      "                  'cmd_input_CAF09_S_NOV13eta0.dat',\n",
      "                  'cmd_input_CAF09_S_OCT13.dat']\n",
      "    nsfhs = 50\n",
      "    outfile_dirs = ['/home/rosenfield/research/TP-AGBcalib/SNAP/models/varysfh/02092014/']\n",
      "    extra_str = ''\n",
      "    return targets, cmd_inputs, nsfhs, outfile_dirs, extra_str\n",
      "    \n",
      "def cstar():\n",
      "    targets = ['ngc2976-deep', 'scl-de1']\n",
      "    cmd_inputs = ['cmd_input_CAF09_S_NOV13.dat',\n",
      "                  'cmd_input_CAF09_S_NOV13eta0.dat',\n",
      "                  'cmd_input_CAF09_S_OCT13.dat']\n",
      "    nsfhs = 50\n",
      "    outfile_dirs = ['/home/rosenfield/research/TP-AGBcalib/SNAP/models/cstar_only']\n",
      "    extra_str = '_cstar'\n",
      "    return targets, cmd_inputs, nsfhs, outfile_dirs, extra_str\n",
      "\n",
      "def mstar():\n",
      "    targets = ['ngc2976-deep', 'scl-de1']\n",
      "    cmd_inputs = ['cmd_input_CAF09_S_NOV13.dat',\n",
      "                  'cmd_input_CAF09_S_NOV13eta0.dat',\n",
      "                  'cmd_input_CAF09_S_OCT13.dat']\n",
      "    nsfhs = 50\n",
      "    outfile_dirs = ['/home/rosenfield/research/TP-AGBcalib/SNAP/models/mstar_only']\n",
      "    extra_str = '_mstar'\n",
      "    return targets, cmd_inputs, nsfhs, outfile_dirs, extra_str"
     ],
     "language": "python",
     "metadata": {},
     "outputs": [],
     "prompt_number": 4
    },
    {
     "cell_type": "code",
     "collapsed": false,
     "input": [
      "targets, cmd_inputs, nsfhs, outfile_dirs, extra_str = mstar()\n",
      "default_kw = {'galaxy_input_src': snap_src + '/input/tests/',\n",
      "              'galaxy_input_search_fmt': '*%s' + '%s.dat' % extra_str}\n",
      "\n",
      "targets, cmd_inputs, nsfhs, outfile_dirs, extra_str = full_run()\n",
      "default_kw = None"
     ],
     "language": "python",
     "metadata": {},
     "outputs": [],
     "prompt_number": 6
    },
    {
     "cell_type": "code",
     "collapsed": false,
     "input": [
      "vsfh_kw = {'extra_str' : extra_str}"
     ],
     "language": "python",
     "metadata": {},
     "outputs": [],
     "prompt_number": 15
    },
    {
     "cell_type": "code",
     "collapsed": false,
     "input": [
      "reload(sfh_tests_multi_proc)\n",
      "reload(stats)\n",
      "reload(model_plots)"
     ],
     "language": "python",
     "metadata": {},
     "outputs": [
      {
       "metadata": {},
       "output_type": "pyout",
       "prompt_number": 28,
       "text": [
        "<module 'stats' from 'stats.pyc'>"
       ]
      }
     ],
     "prompt_number": 28
    },
    {
     "cell_type": "code",
     "collapsed": false,
     "input": [
      "def all_stats(targets, cmd_inputs, nsfhs, outfile_dir='default', extra_str='', default_kw=None):\n",
      "    vSFHs, vsfh_kws = sfh_tests_multi_proc.prepare_vsfh_run(targets, cmd_inputs, nsfhs,\n",
      "                                                            vsfh_kw={'outfile_loc': outfile_dir,\n",
      "                                                                     'extra_str': extra_str},\n",
      "                                                            default_kw=default_kw)\n",
      "    chi2_files = stats.write_chi2_table(targets, cmd_inputs, outfile_loc=outfile_dir, extra_str=extra_str)\n",
      "    narratio_files = rsp.fileIO.get_files(outfile_dir, '*narratio*dat')\n",
      "    chi2_dicts = stats.result2dict(chi2_files)\n",
      "    stats.narratio_table(narratio_files)\n",
      "    #axs = stats.chi2plot(chi2_dicts, outfile_loc=outfile_dir)\n",
      "    axs = stats.chi2plot2(chi2_dicts, outfile_loc=outfile_dir)\n",
      "    chi2_files = stats.write_chi2_table(targets, cmd_inputs, outfile_loc=outfile_dir, extra_str=extra_str,\n",
      "                                        just_gauss=True)\n",
      "    pl = [sfh_tests_multi_proc.Plotting(v) for v in vSFHs]\n",
      "    _ = [pl[i].compare_to_gal(extra_str=extra_str) for i in range(len(pl))]\n",
      "    #plt.close('all')\n",
      "    return"
     ],
     "language": "python",
     "metadata": {},
     "outputs": [],
     "prompt_number": 3
    },
    {
     "cell_type": "code",
     "collapsed": false,
     "input": [
      "pdb"
     ],
     "language": "python",
     "metadata": {},
     "outputs": [
      {
       "output_type": "stream",
       "stream": "stdout",
       "text": [
        "Automatic pdb calling has been turned ON\n"
       ]
      }
     ],
     "prompt_number": 17
    },
    {
     "cell_type": "code",
     "collapsed": false,
     "input": [
      "_ = [all_stats(targets, cmd_inputs, nsfhs, outfile_dir=out_dir, extra_str=extra_str,\n",
      "               default_kw=default_kw) for out_dir in outfile_dirs]"
     ],
     "language": "python",
     "metadata": {},
     "outputs": [
      {
       "output_type": "stream",
       "stream": "stderr",
       "text": [
        "/home/rosenfield/research/python/ResolvedStellarPops/Galaxies.py:2446: RuntimeWarning: divide by zero encountered in divide\n",
        "  d = 2. * (m + n * np.log(n / m) - n)\n",
        "/home/rosenfield/research/python/ResolvedStellarPops/Galaxies.py:2446: RuntimeWarning: invalid value encountered in divide\n",
        "  d = 2. * (m + n * np.log(n / m) - n)\n",
        "/home/rosenfield/research/python/ResolvedStellarPops/Galaxies.py:2446: RuntimeWarning: divide by zero encountered in log\n",
        "  d = 2. * (m + n * np.log(n / m) - n)\n",
        "/home/rosenfield/research/python/ResolvedStellarPops/Galaxies.py:2446: RuntimeWarning: invalid value encountered in multiply\n",
        "  d = 2. * (m + n * np.log(n / m) - n)\n",
        "/home/rosenfield/research/python/ResolvedStellarPops/Galaxies.py:2455: RuntimeWarning: divide by zero encountered in divide\n",
        "  pct_dif = (m - n) / n\n",
        "/home/rosenfield/research/python/ResolvedStellarPops/Galaxies.py:2455: RuntimeWarning: invalid value encountered in divide\n",
        "  pct_dif = (m - n) / n\n",
        "stats.py:173: RuntimeWarning: divide by zero encountered in divide\n",
        "  chiw = (mhist - ohist) ** 2 / ohist\n"
       ]
      },
      {
       "output_type": "stream",
       "stream": "stdout",
       "text": [
        "caf09_s_nov13 0.117021276596\n",
        "caf09_s_nov13 0.137373737374\n",
        "caf09_s_nov13eta0 0.0764462809917\n",
        "caf09_s_nov13eta0 0.090395480226\n",
        "caf09_s_oct13 0.0823605706874\n",
        "caf09_s_oct13 0.0950540958269\n"
       ]
      },
      {
       "output_type": "stream",
       "stream": "stderr",
       "text": [
        "stats.py:173: RuntimeWarning: invalid value encountered in divide\n",
        "  chiw = (mhist - ohist) ** 2 / ohist\n"
       ]
      }
     ],
     "prompt_number": 7
    },
    {
     "cell_type": "code",
     "collapsed": false,
     "input": [
      "model_plots.compare_mass_loss(mass=1, z=0.001)"
     ],
     "language": "python",
     "metadata": {},
     "outputs": [
      {
       "metadata": {},
       "output_type": "pyout",
       "prompt_number": 9,
       "text": [
        "<matplotlib.axes.AxesSubplot at 0x18d8e9d0>"
       ]
      }
     ],
     "prompt_number": 9
    },
    {
     "cell_type": "code",
     "collapsed": false,
     "input": [
      "plt.close('all')"
     ],
     "language": "python",
     "metadata": {},
     "outputs": [],
     "prompt_number": 13
    },
    {
     "cell_type": "code",
     "collapsed": false,
     "input": [
      "model_plots.agb_lifetimes(['NOV13'], z='all')"
     ],
     "language": "python",
     "metadata": {},
     "outputs": [
      {
       "output_type": "stream",
       "stream": "stdout",
       "text": [
        "only one themal pulse.\n",
        "bad track: /home/rosenfield/research/TP-AGBcalib/AGBTracks/CAF09/S_NOV13/S12_Z0.0001_Y0.249/agb_0.600_Z0.00010000_Mdot50_eta0.40_Mc0.00_dMc0.00_Tbd6.40_L0.00_dL0.00_C0.00_Nr3.00_rates0_KOPv_KMOLv.dat\n",
        "only one themal pulse.\n",
        "bad track: /home/rosenfield/research/TP-AGBcalib/AGBTracks/CAF09/S_NOV13/S12_Z0.0001_Y0.249/agb_0.560_Z0.00010000_Mdot50_eta0.40_Mc0.00_dMc0.00_Tbd6.40_L0.00_dL0.00_C0.00_Nr3.00_rates0_KOPv_KMOLv.dat\n",
        "only one themal pulse.\n",
        "bad track: /home/rosenfield/research/TP-AGBcalib/AGBTracks/CAF09/S_NOV13/S12_Z0.0001_Y0.249/agb_0.590_Z0.00010000_Mdot50_eta0.40_Mc0.00_dMc0.00_Tbd6.40_L0.00_dL0.00_C0.00_Nr3.00_rates0_KOPv_KMOLv.dat\n",
        "only one themal pulse."
       ]
      },
      {
       "output_type": "stream",
       "stream": "stdout",
       "text": [
        "\n",
        "bad track: /home/rosenfield/research/TP-AGBcalib/AGBTracks/CAF09/S_NOV13/S12_Z0.0001_Y0.249/agb_0.62_Z0.00010000_Mdot50_eta0.40_Mc0.00_dMc0.00_Tbd6.40_L0.00_dL0.00_C0.00_Nr3.00_rates0_KOPv_KMOLv.dat\n",
        "only one themal pulse."
       ]
      },
      {
       "output_type": "stream",
       "stream": "stdout",
       "text": [
        "\n",
        "bad track: /home/rosenfield/research/TP-AGBcalib/AGBTracks/CAF09/S_NOV13/S12_Z0.0001_Y0.249/agb_0.580_Z0.00010000_Mdot50_eta0.40_Mc0.00_dMc0.00_Tbd6.40_L0.00_dL0.00_C0.00_Nr3.00_rates0_KOPv_KMOLv.dat\n",
        "only one themal pulse."
       ]
      },
      {
       "output_type": "stream",
       "stream": "stdout",
       "text": [
        "\n",
        "bad track: /home/rosenfield/research/TP-AGBcalib/AGBTracks/CAF09/S_NOV13/S12_Z0.0001_Y0.249/agb_0.65_Z0.00010000_Mdot50_eta0.40_Mc0.00_dMc0.00_Tbd6.40_L0.00_dL0.00_C0.00_Nr3.00_rates0_KOPv_KMOLv.dat\n",
        "only one themal pulse."
       ]
      },
      {
       "output_type": "stream",
       "stream": "stdout",
       "text": [
        "\n",
        "bad track: /home/rosenfield/research/TP-AGBcalib/AGBTracks/CAF09/S_NOV13/S12_Z0.0001_Y0.249/agb_0.570_Z0.00010000_Mdot50_eta0.40_Mc0.00_dMc0.00_Tbd6.40_L0.00_dL0.00_C0.00_Nr3.00_rates0_KOPv_KMOLv.dat\n",
        "only one themal pulse.\n",
        "bad track: /home/rosenfield/research/TP-AGBcalib/AGBTracks/CAF09/S_NOV13/S12_Z0.0001_Y0.249/agb_0.530_Z0.00010000_Mdot50_eta0.40_Mc0.00_dMc0.00_Tbd6.40_L0.00_dL0.00_C0.00_Nr3.00_rates0_KOPv_KMOLv.dat\n",
        "only one themal pulse."
       ]
      },
      {
       "output_type": "stream",
       "stream": "stdout",
       "text": [
        "\n",
        "bad track: /home/rosenfield/research/TP-AGBcalib/AGBTracks/CAF09/S_NOV13/S12_Z0.0001_Y0.249/agb_0.550_Z0.00010000_Mdot50_eta0.40_Mc0.00_dMc0.00_Tbd6.40_L0.00_dL0.00_C0.00_Nr3.00_rates0_KOPv_KMOLv.dat\n",
        "only one themal pulse."
       ]
      },
      {
       "ename": "UnboundLocalError",
       "evalue": "local variable 'name' referenced before assignment",
       "output_type": "pyerr",
       "traceback": [
        "\u001b[1;31m---------------------------------------------------------------------------\u001b[0m\n\u001b[1;31mUnboundLocalError\u001b[0m                         Traceback (most recent call last)",
        "\u001b[1;32m<ipython-input-20-31d0499ba931>\u001b[0m in \u001b[0;36m<module>\u001b[1;34m()\u001b[0m\n\u001b[1;32m----> 1\u001b[1;33m \u001b[0mmodel_plots\u001b[0m\u001b[1;33m.\u001b[0m\u001b[0magb_lifetimes\u001b[0m\u001b[1;33m(\u001b[0m\u001b[1;33m[\u001b[0m\u001b[1;34m'NOV13'\u001b[0m\u001b[1;33m]\u001b[0m\u001b[1;33m,\u001b[0m \u001b[0mz\u001b[0m\u001b[1;33m=\u001b[0m\u001b[1;34m'all'\u001b[0m\u001b[1;33m)\u001b[0m\u001b[1;33m\u001b[0m\u001b[0m\n\u001b[0m",
        "\u001b[1;32m/home/rosenfield/research/TP-AGBcalib/code/TPAGB-calib/model_plots.pyc\u001b[0m in \u001b[0;36magb_lifetimes\u001b[1;34m(models, z)\u001b[0m\n\u001b[0;32m     50\u001b[0m             tracks = [fileIO.get_numeric_data(agb_track)\n\u001b[0;32m     51\u001b[0m                       for agb_track in agb_track_names]\n\u001b[1;32m---> 52\u001b[1;33m             \u001b[0mtracks\u001b[0m \u001b[1;33m=\u001b[0m \u001b[1;33m[\u001b[0m\u001b[0mt\u001b[0m \u001b[1;32mfor\u001b[0m \u001b[0mt\u001b[0m \u001b[1;32min\u001b[0m \u001b[0mtracks\u001b[0m \u001b[1;32mif\u001b[0m \u001b[1;32mnot\u001b[0m \u001b[0mt\u001b[0m \u001b[1;33m==\u001b[0m \u001b[1;33m-\u001b[0m\u001b[1;36m1\u001b[0m \u001b[1;32mand\u001b[0m \u001b[0mt\u001b[0m\u001b[1;33m.\u001b[0m\u001b[0mdata_array\u001b[0m\u001b[1;33m.\u001b[0m\u001b[0msize\u001b[0m \u001b[1;33m>\u001b[0m \u001b[1;36m1\u001b[0m\u001b[1;33m]\u001b[0m\u001b[1;33m\u001b[0m\u001b[0m\n\u001b[0m\u001b[0;32m     53\u001b[0m             \u001b[0mmasses\u001b[0m \u001b[1;33m=\u001b[0m \u001b[0mnp\u001b[0m\u001b[1;33m.\u001b[0m\u001b[0marray\u001b[0m\u001b[1;33m(\u001b[0m\u001b[1;33m[\u001b[0m\u001b[0mt\u001b[0m\u001b[1;33m.\u001b[0m\u001b[0mmass\u001b[0m \u001b[1;32mfor\u001b[0m \u001b[0mt\u001b[0m \u001b[1;32min\u001b[0m \u001b[0mtracks\u001b[0m\u001b[1;33m]\u001b[0m\u001b[1;33m)\u001b[0m\u001b[1;33m\u001b[0m\u001b[0m\n\u001b[0;32m     54\u001b[0m             \u001b[0msort\u001b[0m \u001b[1;33m=\u001b[0m \u001b[0mnp\u001b[0m\u001b[1;33m.\u001b[0m\u001b[0margsort\u001b[0m\u001b[1;33m(\u001b[0m\u001b[0mmasses\u001b[0m\u001b[1;33m)\u001b[0m\u001b[1;33m\u001b[0m\u001b[0m\n",
        "\u001b[1;32m/home/rosenfield/research/TP-AGBcalib/code/TPAGB-calib/model_plots.pyc\u001b[0m in \u001b[0;36mtranslate_model_name\u001b[1;34m(model)\u001b[0m\n\u001b[0;32m     15\u001b[0m     \u001b[1;32mif\u001b[0m \u001b[0mmodel\u001b[0m\u001b[1;33m.\u001b[0m\u001b[0mlower\u001b[0m\u001b[1;33m(\u001b[0m\u001b[1;33m)\u001b[0m \u001b[1;33m==\u001b[0m \u001b[1;34m'nov13'\u001b[0m\u001b[1;33m:\u001b[0m\u001b[1;33m\u001b[0m\u001b[0m\n\u001b[0;32m     16\u001b[0m         \u001b[0mname\u001b[0m \u001b[1;33m=\u001b[0m \u001b[1;34m'SC05^\\\\prime'\u001b[0m\u001b[1;33m\u001b[0m\u001b[0m\n\u001b[1;32m---> 17\u001b[1;33m     \u001b[0mnew_model\u001b[0m \u001b[1;33m=\u001b[0m \u001b[1;34m'$\\\\dot{M}_{%s}$'\u001b[0m \u001b[1;33m%\u001b[0m \u001b[0mname\u001b[0m\u001b[1;33m\u001b[0m\u001b[0m\n\u001b[0m\u001b[0;32m     18\u001b[0m     \u001b[1;32mreturn\u001b[0m \u001b[0mnew_model\u001b[0m\u001b[1;33m\u001b[0m\u001b[0m\n\u001b[0;32m     19\u001b[0m \u001b[1;33m\u001b[0m\u001b[0m\n",
        "\u001b[1;31mUnboundLocalError\u001b[0m: local variable 'name' referenced before assignment"
       ]
      },
      {
       "output_type": "stream",
       "stream": "stdout",
       "text": [
        "\n",
        "bad track: /home/rosenfield/research/TP-AGBcalib/AGBTracks/CAF09/S_NOV13/S12_Z0.0001_Y0.249/agb_0.540_Z0.00010000_Mdot50_eta0.40_Mc0.00_dMc0.00_Tbd6.40_L0.00_dL0.00_C0.00_Nr3.00_rates0_KOPv_KMOLv.dat\n",
        "only one themal pulse.\n",
        "bad track: /home/rosenfield/research/TP-AGBcalib/AGBTracks/CAF09/S_NOV13/S12_Z0.0001_Y0.249/agb_0.68_Z0.00010000_Mdot50_eta0.40_Mc0.00_dMc0.00_Tbd6.40_L0.00_dL0.00_C0.00_Nr3.00_rates0_KOPv_KMOLv.dat\n",
        "> \u001b[1;32m/home/rosenfield/research/TP-AGBcalib/code/TPAGB-calib/model_plots.py\u001b[0m(17)\u001b[0;36mtranslate_model_name\u001b[1;34m()\u001b[0m\n",
        "\u001b[1;32m     16 \u001b[1;33m        \u001b[0mname\u001b[0m \u001b[1;33m=\u001b[0m \u001b[1;34m'SC05^\\\\prime'\u001b[0m\u001b[1;33m\u001b[0m\u001b[0m\n",
        "\u001b[0m\u001b[1;32m---> 17 \u001b[1;33m    \u001b[0mnew_model\u001b[0m \u001b[1;33m=\u001b[0m \u001b[1;34m'$\\\\dot{M}_{%s}$'\u001b[0m \u001b[1;33m%\u001b[0m \u001b[0mname\u001b[0m\u001b[1;33m\u001b[0m\u001b[0m\n",
        "\u001b[0m\u001b[1;32m     18 \u001b[1;33m    \u001b[1;32mreturn\u001b[0m \u001b[0mnew_model\u001b[0m\u001b[1;33m\u001b[0m\u001b[0m\n",
        "\u001b[0m"
       ]
      },
      {
       "output_type": "stream",
       "stream": "stdout",
       "text": [
        "\n"
       ]
      },
      {
       "name": "stdout",
       "output_type": "stream",
       "stream": "stdout",
       "text": [
        "ipdb> q\n"
       ]
      }
     ],
     "prompt_number": 20
    },
    {
     "cell_type": "code",
     "collapsed": false,
     "input": [],
     "language": "python",
     "metadata": {},
     "outputs": []
    }
   ],
   "metadata": {}
  }
 ]
}