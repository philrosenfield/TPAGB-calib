{
 "metadata": {
  "name": ""
 },
 "nbformat": 3,
 "nbformat_minor": 0,
 "worksheets": [
  {
   "cells": [
    {
     "cell_type": "code",
     "collapsed": false,
     "input": [
      "cd ~/research/TP-AGBcalib/code/TPAGB-calib/"
     ],
     "language": "python",
     "metadata": {},
     "outputs": [
      {
       "output_type": "stream",
       "stream": "stdout",
       "text": [
        "/home/rosenfield/research/TP-AGBcalib/code/TPAGB-calib\n"
       ]
      }
     ],
     "prompt_number": 1
    },
    {
     "cell_type": "code",
     "collapsed": false,
     "input": [
      "import sfh_tests_multi_proc\n",
      "import ResolvedStellarPops as rsp\n",
      "import stats\n",
      "from TPAGBparams import snap_src\n",
      "import model_plots\n",
      "import tables\n",
      "%pylab tk"
     ],
     "language": "python",
     "metadata": {},
     "outputs": [
      {
       "output_type": "stream",
       "stream": "stdout",
       "text": [
        "Warning. Can not find /home/rosenfield/research/TP-AGBcalib/SNAP/models/ast.\n",
        "Populating the interactive namespace from numpy and matplotlib"
       ]
      },
      {
       "output_type": "stream",
       "stream": "stdout",
       "text": [
        "\n"
       ]
      }
     ],
     "prompt_number": 2
    },
    {
     "cell_type": "code",
     "collapsed": false,
     "input": [
      "# nsfhs dont matter at all here but need to be defined for vsfh...\n",
      "def full_run():\n",
      "    targets = ['ddo71', 'hs117', 'kkh37', 'ngc2976-deep', 'scl-de1', 'ddo78']\n",
      "    targets = ['scl-de1']\n",
      "\n",
      "    cmd_inputs = ['cmd_input_CAF09_S_NOV13.dat']    \n",
      "    #cmd_inputs = ['cmd_input_CAF09_S_NOV13.dat',\n",
      "    #              'cmd_input_CAF09_S_OCT13.dat',\n",
      "    #              'cmd_input_CAF09_S_NOV13eta0.dat']\n",
      "    nsfhs = 50\n",
      "    #outfile_dirs = ['/home/rosenfield/research/TP-AGBcalib/SNAP/models/varysfh/match-hmc/']\n",
      "    outfile_dirs = ['/home/rosenfield/research/TP-AGBcalib/SNAP/models/varysfh/scl-de1/caf09_s_nov13/mc/']\n",
      "    extra_str = ''\n",
      "    return targets, cmd_inputs, nsfhs, outfile_dirs, extra_str\n",
      "    \n",
      "def cstar():\n",
      "    targets = ['ngc2976-deep', 'scl-de1']\n",
      "    cmd_inputs = ['cmd_input_CAF09_S_NOV13.dat',\n",
      "                  'cmd_input_CAF09_S_NOV13eta0.dat',\n",
      "                  'cmd_input_CAF09_S_OCT13.dat']\n",
      "    nsfhs = 50\n",
      "    outfile_dirs = ['/home/rosenfield/research/TP-AGBcalib/SNAP/models/cstar_only']\n",
      "    extra_str = '_cstar'\n",
      "    return targets, cmd_inputs, nsfhs, outfile_dirs, extra_str\n",
      "\n",
      "def mstar():\n",
      "    targets = ['ngc2976-deep', 'scl-de1']\n",
      "    cmd_inputs = ['cmd_input_CAF09_S_NOV13.dat',\n",
      "                  'cmd_input_CAF09_S_NOV13eta0.dat',\n",
      "                  'cmd_input_CAF09_S_OCT13.dat']\n",
      "    nsfhs = 50\n",
      "    outfile_dirs = ['/home/rosenfield/research/TP-AGBcalib/SNAP/models/mstar_only']\n",
      "    extra_str = '_mstar'\n",
      "    return targets, cmd_inputs, nsfhs, outfile_dirs, extra_str"
     ],
     "language": "python",
     "metadata": {},
     "outputs": [],
     "prompt_number": 18
    },
    {
     "cell_type": "code",
     "collapsed": false,
     "input": [
      "reload(sfh_tests_multi_proc)\n",
      "reload(stats)\n",
      "reload(model_plots)"
     ],
     "language": "python",
     "metadata": {},
     "outputs": [
      {
       "metadata": {},
       "output_type": "pyout",
       "prompt_number": 19,
       "text": [
        "<module 'model_plots' from 'model_plots.pyc'>"
       ]
      }
     ],
     "prompt_number": 19
    },
    {
     "cell_type": "code",
     "collapsed": false,
     "input": [
      "def lf_figs(targets, cmd_inputs, nsfhs, outfile_dir='default', extra_str='',\n",
      "            default_kw=None, completeness_correction=False):\n",
      "    vSFHs, vsfh_kws = sfh_tests_multi_proc.prepare_vsfh_run(targets, cmd_inputs, nsfhs,\n",
      "                                                            vsfh_kw={'outfile_loc': outfile_dir,\n",
      "                                                                     'extra_str': extra_str},\n",
      "                                                            default_kw=default_kw)\n",
      "    pl = [sfh_tests_multi_proc.Plotting(v) for v in vSFHs]\n",
      "    if completeness_correction is True:\n",
      "        extra_str += '_comp'\n",
      "    _ = [pl[i].compare_to_gal(extra_str=extra_str,\n",
      "                              completeness_correction=completeness_correction)\n",
      "         for i in range(len(pl))]\n",
      "    #plt.close('all')\n",
      "    return"
     ],
     "language": "python",
     "metadata": {},
     "outputs": [],
     "prompt_number": 20
    },
    {
     "cell_type": "code",
     "collapsed": false,
     "input": [
      "def lf_figs_all_stages(targets, cmd_inputs, nsfhs, outfile_dir='default', extra_str='', default_kw=None,\n",
      "                       completeness_correction=False):\n",
      "    vSFHs, vsfh_kws = sfh_tests_multi_proc.prepare_vsfh_run(targets, cmd_inputs, nsfhs,\n",
      "                                                            vsfh_kw={'outfile_loc': outfile_dir,\n",
      "                                                                     'extra_str': extra_str},\n",
      "                                                            default_kw=default_kw)\n",
      "    pl = [sfh_tests_multi_proc.Plotting(v) for v in vSFHs]\n",
      "    _ = [pl[i].compare_to_gal(extra_str=extra_str,\n",
      "                              completeness_correction=completeness_correction)\n",
      "         for i in range(len(pl))]"
     ],
     "language": "python",
     "metadata": {},
     "outputs": [],
     "prompt_number": 21
    },
    {
     "cell_type": "code",
     "collapsed": false,
     "input": [
      "def chi2_stats(targets, cmd_inputs, outfile_dir='default', extra_str=''):\n",
      "    chi2_files = stats.write_chi2_table(targets, cmd_inputs, outfile_loc=outfile_dir, extra_str=extra_str)\n",
      "    chi2_dicts = stats.result2dict(chi2_files)\n",
      "    axs = stats.chi2plot(chi2_dicts, outfile_loc=outfile_dir)\n",
      "    chi2_files = stats.write_chi2_table(targets, cmd_inputs, outfile_loc=outfile_dir, extra_str=extra_str,\n",
      "                                        just_gauss=True)\n",
      "    plt.close('all')\n",
      "    return"
     ],
     "language": "python",
     "metadata": {},
     "outputs": [],
     "prompt_number": 22
    },
    {
     "cell_type": "code",
     "collapsed": false,
     "input": [
      "def narratio_table(outfile_dir):\n",
      "    narratio_files = rsp.fileIO.get_files(outfile_dir, '*narratio*dat')\n",
      "    stats.narratio_table(narratio_files)\n",
      "    return"
     ],
     "language": "python",
     "metadata": {},
     "outputs": [],
     "prompt_number": 23
    },
    {
     "cell_type": "code",
     "collapsed": false,
     "input": [
      "targets, cmd_inputs, nsfhs, outfile_dirs, extra_str = mstar()\n",
      "default_kw = {'galaxy_input_src': snap_src + '/input/tests/',\n",
      "              'galaxy_input_search_fmt': '*%s' + '%s.dat' % extra_str}\n",
      "\n",
      "targets, cmd_inputs, nsfhs, outfile_dirs, extra_str = full_run()\n",
      "default_kw = None\n",
      "vsfh_kw = {'extra_str' : extra_str}\n",
      "completeness_correction = True"
     ],
     "language": "python",
     "metadata": {},
     "outputs": [],
     "prompt_number": 24
    },
    {
     "cell_type": "code",
     "collapsed": false,
     "input": [
      "for out_dir in outfile_dirs:\n",
      "    _ = lf_figs(targets, cmd_inputs, nsfhs, outfile_dir=out_dir, extra_str=extra_str,\n",
      "                default_kw=default_kw, completeness_correction=completeness_correction)\n",
      "    _ = chi2_stats(targets, cmd_inputs, outfile_dir=out_dir, extra_str=extra_str)\n",
      "    _ = narratio_table(out_dir)\n",
      "model_plots.plot_random_sfhs(targets)"
     ],
     "language": "python",
     "metadata": {},
     "outputs": [
      {
       "ename": "IndexError",
       "evalue": "index out of bounds",
       "output_type": "pyerr",
       "traceback": [
        "\u001b[1;31m---------------------------------------------------------------------------\u001b[0m\n\u001b[1;31mIndexError\u001b[0m                                Traceback (most recent call last)",
        "\u001b[1;32m<ipython-input-25-3c3a0875767c>\u001b[0m in \u001b[0;36m<module>\u001b[1;34m()\u001b[0m\n\u001b[0;32m      2\u001b[0m     _ = lf_figs(targets, cmd_inputs, nsfhs, outfile_dir=out_dir, extra_str=extra_str,\n\u001b[0;32m      3\u001b[0m                 default_kw=default_kw, completeness_correction=completeness_correction)\n\u001b[1;32m----> 4\u001b[1;33m     \u001b[0m_\u001b[0m \u001b[1;33m=\u001b[0m \u001b[0mchi2_stats\u001b[0m\u001b[1;33m(\u001b[0m\u001b[0mtargets\u001b[0m\u001b[1;33m,\u001b[0m \u001b[0mcmd_inputs\u001b[0m\u001b[1;33m,\u001b[0m \u001b[0moutfile_dir\u001b[0m\u001b[1;33m=\u001b[0m\u001b[0mout_dir\u001b[0m\u001b[1;33m,\u001b[0m \u001b[0mextra_str\u001b[0m\u001b[1;33m=\u001b[0m\u001b[0mextra_str\u001b[0m\u001b[1;33m)\u001b[0m\u001b[1;33m\u001b[0m\u001b[0m\n\u001b[0m\u001b[0;32m      5\u001b[0m     \u001b[0m_\u001b[0m \u001b[1;33m=\u001b[0m \u001b[0mnarratio_table\u001b[0m\u001b[1;33m(\u001b[0m\u001b[0mout_dir\u001b[0m\u001b[1;33m)\u001b[0m\u001b[1;33m\u001b[0m\u001b[0m\n\u001b[0;32m      6\u001b[0m \u001b[0mmodel_plots\u001b[0m\u001b[1;33m.\u001b[0m\u001b[0mplot_random_sfhs\u001b[0m\u001b[1;33m(\u001b[0m\u001b[0mtargets\u001b[0m\u001b[1;33m)\u001b[0m\u001b[1;33m\u001b[0m\u001b[0m\n",
        "\u001b[1;32m<ipython-input-22-445ee41802a2>\u001b[0m in \u001b[0;36mchi2_stats\u001b[1;34m(targets, cmd_inputs, outfile_dir, extra_str)\u001b[0m\n\u001b[0;32m      2\u001b[0m     \u001b[0mchi2_files\u001b[0m \u001b[1;33m=\u001b[0m \u001b[0mstats\u001b[0m\u001b[1;33m.\u001b[0m\u001b[0mwrite_chi2_table\u001b[0m\u001b[1;33m(\u001b[0m\u001b[0mtargets\u001b[0m\u001b[1;33m,\u001b[0m \u001b[0mcmd_inputs\u001b[0m\u001b[1;33m,\u001b[0m \u001b[0moutfile_loc\u001b[0m\u001b[1;33m=\u001b[0m\u001b[0moutfile_dir\u001b[0m\u001b[1;33m,\u001b[0m \u001b[0mextra_str\u001b[0m\u001b[1;33m=\u001b[0m\u001b[0mextra_str\u001b[0m\u001b[1;33m)\u001b[0m\u001b[1;33m\u001b[0m\u001b[0m\n\u001b[0;32m      3\u001b[0m     \u001b[0mchi2_dicts\u001b[0m \u001b[1;33m=\u001b[0m \u001b[0mstats\u001b[0m\u001b[1;33m.\u001b[0m\u001b[0mresult2dict\u001b[0m\u001b[1;33m(\u001b[0m\u001b[0mchi2_files\u001b[0m\u001b[1;33m)\u001b[0m\u001b[1;33m\u001b[0m\u001b[0m\n\u001b[1;32m----> 4\u001b[1;33m     \u001b[0maxs\u001b[0m \u001b[1;33m=\u001b[0m \u001b[0mstats\u001b[0m\u001b[1;33m.\u001b[0m\u001b[0mchi2plot\u001b[0m\u001b[1;33m(\u001b[0m\u001b[0mchi2_dicts\u001b[0m\u001b[1;33m,\u001b[0m \u001b[0moutfile_loc\u001b[0m\u001b[1;33m=\u001b[0m\u001b[0moutfile_dir\u001b[0m\u001b[1;33m)\u001b[0m\u001b[1;33m\u001b[0m\u001b[0m\n\u001b[0m\u001b[0;32m      5\u001b[0m     chi2_files = stats.write_chi2_table(targets, cmd_inputs, outfile_loc=outfile_dir, extra_str=extra_str,\n\u001b[0;32m      6\u001b[0m                                         just_gauss=True)\n",
        "\u001b[1;32m/home/rosenfield/research/TP-AGBcalib/code/TPAGB-calib/stats.pyc\u001b[0m in \u001b[0;36mchi2plot\u001b[1;34m(model_dict, outfile_loc)\u001b[0m\n\u001b[0;32m    540\u001b[0m     \u001b[0mfig\u001b[0m\u001b[1;33m.\u001b[0m\u001b[0msubplots_adjust\u001b[0m\u001b[1;33m(\u001b[0m\u001b[0mhspace\u001b[0m\u001b[1;33m=\u001b[0m\u001b[1;36m0.1\u001b[0m\u001b[1;33m)\u001b[0m\u001b[1;33m\u001b[0m\u001b[0m\n\u001b[0;32m    541\u001b[0m     \u001b[0mxlims\u001b[0m \u001b[1;33m=\u001b[0m \u001b[0max\u001b[0m\u001b[1;33m.\u001b[0m\u001b[0mget_xlim\u001b[0m\u001b[1;33m(\u001b[0m\u001b[1;33m)\u001b[0m\u001b[1;33m\u001b[0m\u001b[0m\n\u001b[1;32m--> 542\u001b[1;33m     \u001b[0moff\u001b[0m \u001b[1;33m=\u001b[0m \u001b[0mnp\u001b[0m\u001b[1;33m.\u001b[0m\u001b[0mdiff\u001b[0m\u001b[1;33m(\u001b[0m\u001b[0moffsets\u001b[0m\u001b[1;33m)\u001b[0m\u001b[1;33m[\u001b[0m\u001b[1;36m0\u001b[0m\u001b[1;33m]\u001b[0m\u001b[1;33m\u001b[0m\u001b[0m\n\u001b[0m\u001b[0;32m    543\u001b[0m     \u001b[0max\u001b[0m\u001b[1;33m.\u001b[0m\u001b[0mset_xlim\u001b[0m\u001b[1;33m(\u001b[0m\u001b[0mxlims\u001b[0m\u001b[1;33m[\u001b[0m\u001b[1;36m0\u001b[0m\u001b[1;33m]\u001b[0m\u001b[1;33m-\u001b[0m\u001b[0moff\u001b[0m\u001b[1;33m/\u001b[0m\u001b[1;36m2\u001b[0m\u001b[1;33m,\u001b[0m \u001b[0mxlims\u001b[0m\u001b[1;33m[\u001b[0m\u001b[1;36m1\u001b[0m\u001b[1;33m]\u001b[0m\u001b[1;33m+\u001b[0m\u001b[0moff\u001b[0m\u001b[1;33m/\u001b[0m\u001b[1;36m2\u001b[0m\u001b[1;33m)\u001b[0m\u001b[1;33m\u001b[0m\u001b[0m\n\u001b[0;32m    544\u001b[0m     \u001b[0msym\u001b[0m \u001b[1;33m=\u001b[0m \u001b[1;33m[\u001b[0m\u001b[1;34m'o'\u001b[0m\u001b[1;33m,\u001b[0m \u001b[1;34m'o'\u001b[0m\u001b[1;33m,\u001b[0m \u001b[1;34m'*'\u001b[0m\u001b[1;33m]\u001b[0m\u001b[1;33m\u001b[0m\u001b[0m\n",
        "\u001b[1;31mIndexError\u001b[0m: index out of bounds"
       ]
      },
      {
       "output_type": "stream",
       "stream": "stderr",
       "text": [
        "/home/rosenfield/research/python/ResolvedStellarPops/Galaxies.py:2453: RuntimeWarning: divide by zero encountered in divide\n",
        "  d = 2. * (m + n * np.log(n / m) - n)\n",
        "/home/rosenfield/research/python/ResolvedStellarPops/Galaxies.py:2453: RuntimeWarning: invalid value encountered in divide\n",
        "  d = 2. * (m + n * np.log(n / m) - n)\n",
        "/home/rosenfield/research/python/ResolvedStellarPops/Galaxies.py:2453: RuntimeWarning: divide by zero encountered in log\n",
        "  d = 2. * (m + n * np.log(n / m) - n)\n",
        "/home/rosenfield/research/python/ResolvedStellarPops/Galaxies.py:2453: RuntimeWarning: invalid value encountered in multiply\n",
        "  d = 2. * (m + n * np.log(n / m) - n)\n",
        "/home/rosenfield/research/python/ResolvedStellarPops/Galaxies.py:2462: RuntimeWarning: divide by zero encountered in divide\n",
        "  pct_dif = (m - n) / n\n",
        "/home/rosenfield/research/python/ResolvedStellarPops/Galaxies.py:2462: RuntimeWarning: invalid value encountered in divide\n",
        "  pct_dif = (m - n) / n\n"
       ]
      }
     ],
     "prompt_number": 25
    },
    {
     "cell_type": "code",
     "collapsed": false,
     "input": [
      "## don't need to be done for every run... \n",
      "#model_plots.compare_mass_loss(masses=[1,2], z=0.001)\n",
      "#model_plots.agb_lifetimes(['NOV13'], z='all')"
     ],
     "language": "python",
     "metadata": {},
     "outputs": [
      {
       "metadata": {},
       "output_type": "pyout",
       "prompt_number": 9,
       "text": [
        "<matplotlib.axes.AxesSubplot at 0x18d8e9d0>"
       ]
      }
     ],
     "prompt_number": 9
    },
    {
     "cell_type": "code",
     "collapsed": false,
     "input": [
      "plt.close('all')"
     ],
     "language": "python",
     "metadata": {},
     "outputs": [],
     "prompt_number": 14
    },
    {
     "cell_type": "code",
     "collapsed": false,
     "input": [],
     "language": "python",
     "metadata": {},
     "outputs": []
    }
   ],
   "metadata": {}
  }
 ]
}