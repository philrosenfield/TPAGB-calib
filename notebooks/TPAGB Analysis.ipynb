{
 "metadata": {
  "name": ""
 },
 "nbformat": 3,
 "nbformat_minor": 0,
 "worksheets": [
  {
   "cells": [
    {
     "cell_type": "code",
     "collapsed": false,
     "input": [
      "cd ~/research/TP-AGBcalib/code/TPAGB-calib/"
     ],
     "language": "python",
     "metadata": {},
     "outputs": [
      {
       "output_type": "stream",
       "stream": "stdout",
       "text": [
        "/home/rosenfield/research/TP-AGBcalib/code/TPAGB-calib\n"
       ]
      }
     ],
     "prompt_number": 1
    },
    {
     "cell_type": "code",
     "collapsed": false,
     "input": [
      "import sfh_tests_multi_proc\n",
      "import ResolvedStellarPops as rsp\n",
      "import stats\n",
      "from TPAGBparams import snap_src\n",
      "import model_plots\n",
      "%pylab tk"
     ],
     "language": "python",
     "metadata": {},
     "outputs": [
      {
       "output_type": "stream",
       "stream": "stdout",
       "text": [
        "Populating the interactive namespace from numpy and matplotlib\n"
       ]
      }
     ],
     "prompt_number": 5
    },
    {
     "cell_type": "code",
     "collapsed": false,
     "input": [
      "# nsfhs dont matter at all here but need to be defined for vsfh...\n",
      "def full_run():\n",
      "    targets = ['ddo71', 'hs117', 'kkh37', 'ngc2976-deep', 'scl-de1', 'ddo78']\n",
      "\n",
      "    #cmd_inputs = ['cmd_input_CAF09_S_FEB14.dat', 'cmd_input_CAF09_S_NOV13.dat']    \n",
      "    cmd_inputs = ['cmd_input_CAF09_S_NOV13.dat',\n",
      "                  'cmd_input_CAF09_S_OCT13.dat',\n",
      "                  'cmd_input_CAF09_S_NOV13eta0.dat']\n",
      "    nsfhs = 50\n",
      "    outfile_dirs = ['/home/rosenfield/research/TP-AGBcalib/SNAP/models/varysfh/match-hmc/']\n",
      "    extra_str = ''\n",
      "    return targets, cmd_inputs, nsfhs, outfile_dirs, extra_str\n",
      "    \n",
      "def cstar():\n",
      "    targets = ['ngc2976-deep', 'scl-de1']\n",
      "    cmd_inputs = ['cmd_input_CAF09_S_NOV13.dat',\n",
      "                  'cmd_input_CAF09_S_NOV13eta0.dat',\n",
      "                  'cmd_input_CAF09_S_OCT13.dat']\n",
      "    nsfhs = 50\n",
      "    outfile_dirs = ['/home/rosenfield/research/TP-AGBcalib/SNAP/models/cstar_only']\n",
      "    extra_str = '_cstar'\n",
      "    return targets, cmd_inputs, nsfhs, outfile_dirs, extra_str\n",
      "\n",
      "def mstar():\n",
      "    targets = ['ngc2976-deep', 'scl-de1']\n",
      "    cmd_inputs = ['cmd_input_CAF09_S_NOV13.dat',\n",
      "                  'cmd_input_CAF09_S_NOV13eta0.dat',\n",
      "                  'cmd_input_CAF09_S_OCT13.dat']\n",
      "    nsfhs = 50\n",
      "    outfile_dirs = ['/home/rosenfield/research/TP-AGBcalib/SNAP/models/mstar_only']\n",
      "    extra_str = '_mstar'\n",
      "    return targets, cmd_inputs, nsfhs, outfile_dirs, extra_str"
     ],
     "language": "python",
     "metadata": {},
     "outputs": [],
     "prompt_number": 6
    },
    {
     "cell_type": "code",
     "collapsed": false,
     "input": [
      "reload(sfh_tests_multi_proc)\n",
      "reload(stats)\n",
      "reload(model_plots)\n",
      "import tables"
     ],
     "language": "python",
     "metadata": {},
     "outputs": [],
     "prompt_number": 12
    },
    {
     "cell_type": "code",
     "collapsed": false,
     "input": [
      "def lf_figs(targets, cmd_inputs, nsfhs, outfile_dir='default', extra_str='',\n",
      "            default_kw=None, completeness_correction=False):\n",
      "    vSFHs, vsfh_kws = sfh_tests_multi_proc.prepare_vsfh_run(targets, cmd_inputs, nsfhs,\n",
      "                                                            vsfh_kw={'outfile_loc': outfile_dir,\n",
      "                                                                     'extra_str': extra_str},\n",
      "                                                            default_kw=default_kw)\n",
      "    pl = [sfh_tests_multi_proc.Plotting(v) for v in vSFHs]\n",
      "    if completeness_correction is True:\n",
      "        extra_str += '_comp'\n",
      "    _ = [pl[i].compare_to_gal(extra_str=extra_str,\n",
      "                              completeness_correction=completeness_correction)\n",
      "         for i in range(len(pl))]\n",
      "    #plt.close('all')\n",
      "    return"
     ],
     "language": "python",
     "metadata": {},
     "outputs": [],
     "prompt_number": 7
    },
    {
     "cell_type": "code",
     "collapsed": false,
     "input": [
      "def lf_figs_all_stages(targets, cmd_inputs, nsfhs, outfile_dir='default', extra_str='', default_kw=None,\n",
      "                       completeness_correction=False):\n",
      "    vSFHs, vsfh_kws = sfh_tests_multi_proc.prepare_vsfh_run(targets, cmd_inputs, nsfhs,\n",
      "                                                            vsfh_kw={'outfile_loc': outfile_dir,\n",
      "                                                                     'extra_str': extra_str},\n",
      "                                                            default_kw=default_kw)\n",
      "    pl = [sfh_tests_multi_proc.Plotting(v) for v in vSFHs]\n",
      "    _ = [pl[i].compare_to_gal(extra_str=extra_str,\n",
      "                              completeness_correction=completeness_correction)\n",
      "         for i in range(len(pl))]"
     ],
     "language": "python",
     "metadata": {},
     "outputs": [],
     "prompt_number": 94
    },
    {
     "cell_type": "code",
     "collapsed": false,
     "input": [
      "def chi2_stats(targets, cmd_inputs, outfile_dir='default', extra_str=''):\n",
      "    chi2_files = stats.write_chi2_table(targets, cmd_inputs, outfile_loc=outfile_dir, extra_str=extra_str)\n",
      "    chi2_dicts = stats.result2dict(chi2_files)\n",
      "    axs = stats.chi2plot(chi2_dicts, outfile_loc=outfile_dir)\n",
      "    chi2_files = stats.write_chi2_table(targets, cmd_inputs, outfile_loc=outfile_dir, extra_str=extra_str,\n",
      "                                        just_gauss=True)\n",
      "    plt.close('all')\n",
      "    return"
     ],
     "language": "python",
     "metadata": {},
     "outputs": [],
     "prompt_number": 8
    },
    {
     "cell_type": "code",
     "collapsed": false,
     "input": [
      "def narratio_table(outfile_dir):\n",
      "    narratio_files = rsp.fileIO.get_files(outfile_dir, '*narratio*dat')\n",
      "    stats.narratio_table(narratio_files)\n",
      "    return"
     ],
     "language": "python",
     "metadata": {},
     "outputs": [],
     "prompt_number": 9
    },
    {
     "cell_type": "code",
     "collapsed": false,
     "input": [
      "targets, cmd_inputs, nsfhs, outfile_dirs, extra_str = mstar()\n",
      "default_kw = {'galaxy_input_src': snap_src + '/input/tests/',\n",
      "              'galaxy_input_search_fmt': '*%s' + '%s.dat' % extra_str}\n",
      "\n",
      "targets, cmd_inputs, nsfhs, outfile_dirs, extra_str = full_run()\n",
      "default_kw = None\n",
      "vsfh_kw = {'extra_str' : extra_str}\n",
      "completeness_correction = True"
     ],
     "language": "python",
     "metadata": {},
     "outputs": [],
     "prompt_number": 10
    },
    {
     "cell_type": "code",
     "collapsed": false,
     "input": [
      "for out_dir in outfile_dirs:\n",
      "    _ = lf_figs(targets, cmd_inputs, nsfhs, outfile_dir=out_dir, extra_str=extra_str,\n",
      "                default_kw=default_kw, completeness_correction=completeness_correction)\n",
      "    _ = chi2_stats(targets, cmd_inputs, outfile_dir=out_dir, extra_str=extra_str)\n",
      "    _ = narratio_table(out_dir)\n",
      "model_plots.plot_random_sfhs(targets)"
     ],
     "language": "python",
     "metadata": {},
     "outputs": [
      {
       "output_type": "stream",
       "stream": "stderr",
       "text": [
        "/home/rosenfield/research/python/ResolvedStellarPops/Galaxies.py:2467: RuntimeWarning: divide by zero encountered in divide\n",
        "  d = 2. * (m + n * np.log(n / m) - n)\n",
        "/home/rosenfield/research/python/ResolvedStellarPops/Galaxies.py:2467: RuntimeWarning: invalid value encountered in divide\n",
        "  d = 2. * (m + n * np.log(n / m) - n)\n",
        "/home/rosenfield/research/python/ResolvedStellarPops/Galaxies.py:2467: RuntimeWarning: divide by zero encountered in log\n",
        "  d = 2. * (m + n * np.log(n / m) - n)\n",
        "/home/rosenfield/research/python/ResolvedStellarPops/Galaxies.py:2467: RuntimeWarning: invalid value encountered in multiply\n",
        "  d = 2. * (m + n * np.log(n / m) - n)\n",
        "/home/rosenfield/research/python/ResolvedStellarPops/Galaxies.py:2476: RuntimeWarning: divide by zero encountered in divide\n",
        "  pct_dif = (m - n) / n\n",
        "/home/rosenfield/research/python/ResolvedStellarPops/Galaxies.py:2476: RuntimeWarning: invalid value encountered in divide\n",
        "  pct_dif = (m - n) / n\n",
        "stats.py:172: RuntimeWarning: divide by zero encountered in divide\n",
        "  chiw = (mhist - ohist) ** 2 / ohist\n"
       ]
      },
      {
       "output_type": "stream",
       "stream": "stdout",
       "text": [
        "caf09_s_nov13 0.114754098361\n",
        "caf09_s_nov13 0.141327623126\n",
        "caf09_s_nov13eta0 0.0775151181968\n",
        "caf09_s_nov13eta0 0.0921052631579\n",
        "caf09_s_oct13 0.0825747724317\n",
        "caf09_s_oct13 0.0971659919028\n"
       ]
      },
      {
       "output_type": "stream",
       "stream": "stderr",
       "text": [
        "stats.py:172: RuntimeWarning: invalid value encountered in divide\n",
        "  chiw = (mhist - ohist) ** 2 / ohist\n"
       ]
      }
     ],
     "prompt_number": 13
    },
    {
     "cell_type": "code",
     "collapsed": false,
     "input": [
      "## don't need to be done for every run... \n",
      "#model_plots.compare_mass_loss(masses=[1,2], z=0.001)\n",
      "#model_plots.agb_lifetimes(['NOV13'], z='all')"
     ],
     "language": "python",
     "metadata": {},
     "outputs": [
      {
       "metadata": {},
       "output_type": "pyout",
       "prompt_number": 9,
       "text": [
        "<matplotlib.axes.AxesSubplot at 0x18d8e9d0>"
       ]
      }
     ],
     "prompt_number": 9
    },
    {
     "cell_type": "code",
     "collapsed": false,
     "input": [
      "plt.close('all')"
     ],
     "language": "python",
     "metadata": {},
     "outputs": [],
     "prompt_number": 14
    },
    {
     "cell_type": "code",
     "collapsed": false,
     "input": [],
     "language": "python",
     "metadata": {},
     "outputs": []
    }
   ],
   "metadata": {}
  }
 ]
}