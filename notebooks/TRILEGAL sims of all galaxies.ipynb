{
 "metadata": {
  "name": ""
 },
 "nbformat": 3,
 "nbformat_minor": 0,
 "worksheets": [
  {
   "cells": [
    {
     "cell_type": "code",
     "collapsed": false,
     "input": [
      "cd ~/research/TP-AGBcalib/code/TPAGB-calib/"
     ],
     "language": "python",
     "metadata": {},
     "outputs": [
      {
       "output_type": "stream",
       "stream": "stdout",
       "text": [
        "/home/rosenfield/research/TP-AGBcalib/code/TPAGB-calib\n"
       ]
      }
     ],
     "prompt_number": 3
    },
    {
     "cell_type": "code",
     "collapsed": false,
     "input": [
      "from IPython import parallel\n",
      "from TPAGBparams import snap_src\n",
      "import ResolvedStellarPops as rsp"
     ],
     "language": "python",
     "metadata": {},
     "outputs": [],
     "prompt_number": 26
    },
    {
     "cell_type": "code",
     "collapsed": false,
     "input": [
      "targets = ['ddo71', 'hs117', 'kkh37', 'ngc2976-deep', 'ddo78']\n",
      "cmd_input = 'CAF09_S_NOV13'.lower()"
     ],
     "language": "python",
     "metadata": {},
     "outputs": []
    },
    {
     "cell_type": "code",
     "collapsed": false,
     "input": [
      "galaxy_inputs = [snap_src + '/models/varysfh/%s/%s/mc/input_%s_000.dat' % (t, cmd_input, t.upper())\n",
      "                 for t in targets]\n",
      "tri_kw = {'rmfiles': False}\n",
      "outputs = [snap_src + '/models/test/output_%s_%s_000.dat' % (t, cmd_input) for t in targets]"
     ],
     "language": "python",
     "metadata": {},
     "outputs": [],
     "prompt_number": 27
    },
    {
     "cell_type": "markdown",
     "metadata": {},
     "source": [
      "Set up the cluster to have # engines = len(targets)"
     ]
    },
    {
     "cell_type": "code",
     "collapsed": false,
     "input": [
      "clients = parallel.Client()\n",
      "clients.block = False"
     ],
     "language": "python",
     "metadata": {},
     "outputs": [],
     "prompt_number": 29
    },
    {
     "cell_type": "code",
     "collapsed": false,
     "input": [
      "res = [clients[i].apply(rsp.TrilegalUtils.run_trilegal, 'cmd_input_CAF09_S_NOV13.dat',\n",
      "                        galaxy_inputs[i], outputs[i], tri_kw,) for i in range(len(galaxy_inputs))]"
     ],
     "language": "python",
     "metadata": {},
     "outputs": [],
     "prompt_number": 30
    }
   ],
   "metadata": {}
  }
 ]
}