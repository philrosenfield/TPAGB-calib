{
 "metadata": {
  "name": ""
 },
 "nbformat": 3,
 "nbformat_minor": 0,
 "worksheets": [
  {
   "cells": [
    {
     "cell_type": "code",
     "collapsed": false,
     "input": [
      "cd .."
     ],
     "language": "python",
     "metadata": {},
     "outputs": [
      {
       "output_type": "stream",
       "stream": "stdout",
       "text": [
        "/home/rosenfield/research/TP-AGBcalib/code/TPAGB-calib\n"
       ]
      }
     ],
     "prompt_number": 2
    },
    {
     "cell_type": "code",
     "collapsed": false,
     "input": [
      "import ResolvedStellarPops as rsp\n",
      "import sfh_tests"
     ],
     "language": "python",
     "metadata": {},
     "outputs": [],
     "prompt_number": 3
    },
    {
     "cell_type": "code",
     "collapsed": false,
     "input": [
      "# convert MATCH SFH to Trilegal AMR\n",
      "sfh_loc = '/home/rosenfield/research/TP-AGBcalib/PHAT/sfh'\n",
      "sfh_files = rsp.fileIO.get_files(sfh_loc, '*sfh')\n",
      "\n",
      "sfhs = [sfh_tests.StarFormationHistories(sfh_file, 'match-old') for sfh_file in sfh_files]\n",
      "tri_sfhs = [sfh.make_trilegal_sfh() for sfh in sfhs]"
     ],
     "language": "python",
     "metadata": {},
     "outputs": [],
     "prompt_number": 6
    },
    {
     "cell_type": "code",
     "collapsed": false,
     "input": [
      "trilegal_outputs = []\n",
      "cmd_input_file = 'cmd_input_CAF09_S_NOV13.dat'\n",
      "agb_mod = cmd_input_file.split('_')[-1].replace('.dat', '')\n",
      "# values taken from .sfh file!\n",
      "dmod = 24.47\n",
      "dist = 10 ** (dmod / 5 + 1.)\n",
      "Av = 0.4\n",
      "\n",
      "gal_inp_dict = {'mag_limit_val': 28, 'object_dist': dist, 'object_av': Av,\n",
      "                'file_imf': 'tab_imf/imf_kroupa_orig.dat'}\n",
      "\n",
      "for tri_sfh in tri_sfhs:\n",
      "    for aringer in [True, False]:\n",
      "        # make galaxy input for trilegal\n",
      "        gal_file = tri_sfh.replace('tri.dat', 'gal.inp')\n",
      "        if aringer is True:\n",
      "            gal_file = gal_file.replace('gal.inp', 'aringer.gal.inp')\n",
      "        # initialze the dict\n",
      "        gal_init = {'photsys': 'phat_agb', 'filter1': 'F475W', 'object_sfr_file': tri_sfh,\n",
      "                    'aringer': aringer, 'object_mass': 1e8}\n",
      "        gal_inp = rsp.fileIO.input_parameters(default_dict=rsp.TrilegalUtils.galaxy_input_dict(**gal_init))\n",
      "        gal_inp.add_params(gal_inp_dict)\n",
      "        # write the file\n",
      "        gal_inp.write_params(gal_file, rsp.TrilegalUtils.galaxy_input_fmt())     \n",
      "\n",
      "        # run trilegal\n",
      "        trilegal_output = gal_file.replace('gal.inp', 'tri.out')\n",
      "        rsp.TrilegalUtils.run_trilegal(cmd_input_file, gal_file,\n",
      "                                       trilegal_output, rmfiles=False,\n",
      "                                       dry_run=False)\n",
      "        trilegal_outputs.append(trilegal_output)"
     ],
     "language": "python",
     "metadata": {},
     "outputs": [
      {
       "output_type": "stream",
       "stream": "stdout",
       "text": [
        "code_2.3/main -f cmd_input_CAF09_S_NOV13.dat -a -l /home/rosenfield/research/TP-AGBcalib/PHAT/sfh/M31-B21_3x6-012.aringer.gal.inp /home/rosenfield/research/TP-AGBcalib/PHAT/sfh/M31-B21_3x6-012.aringer.tri.out\n",
        "code_2.3/main -f cmd_input_CAF09_S_NOV13.dat -a -l /home/rosenfield/research/TP-AGBcalib/PHAT/sfh/M31-B21_3x6-015.aringer.gal.inp /home/rosenfield/research/TP-AGBcalib/PHAT/sfh/M31-B21_3x6-015.aringer.tri.out"
       ]
      },
      {
       "output_type": "stream",
       "stream": "stderr",
       "text": [
        "TRILEGAL was terminated successfully\n",
        "TRILEGAL was terminated successfully"
       ]
      },
      {
       "output_type": "stream",
       "stream": "stdout",
       "text": [
        "\n",
        "code_2.3/main -f cmd_input_CAF09_S_NOV13.dat -a -l /home/rosenfield/research/TP-AGBcalib/PHAT/sfh/M31-B21_3x6-006.aringer.gal.inp /home/rosenfield/research/TP-AGBcalib/PHAT/sfh/M31-B21_3x6-006.aringer.tri.out"
       ]
      },
      {
       "output_type": "stream",
       "stream": "stderr",
       "text": [
        "\n",
        "TRILEGAL was terminated successfully"
       ]
      },
      {
       "output_type": "stream",
       "stream": "stdout",
       "text": [
        "\n"
       ]
      },
      {
       "output_type": "stream",
       "stream": "stderr",
       "text": [
        "\n"
       ]
      }
     ],
     "prompt_number": 34
    },
    {
     "cell_type": "code",
     "collapsed": false,
     "input": [
      "vSFH = sfh_tests.VarySFHs(gal_file, sfh_files[0], 'match-old', target='M31-B21_3x6-012')"
     ],
     "language": "python",
     "metadata": {},
     "outputs": [
      {
       "ename": "IndexError",
       "evalue": "index 0 is out of bounds for axis 0 with size 0",
       "output_type": "pyerr",
       "traceback": [
        "\u001b[1;31m---------------------------------------------------------------------------\u001b[0m\n\u001b[1;31mIndexError\u001b[0m                                Traceback (most recent call last)",
        "\u001b[1;32m<ipython-input-31-f26ffb81faa8>\u001b[0m in \u001b[0;36m<module>\u001b[1;34m()\u001b[0m\n\u001b[1;32m----> 1\u001b[1;33m \u001b[0mvSFH\u001b[0m \u001b[1;33m=\u001b[0m \u001b[0msfh_tests\u001b[0m\u001b[1;33m.\u001b[0m\u001b[0mVarySFHs\u001b[0m\u001b[1;33m(\u001b[0m\u001b[0mgal_file\u001b[0m\u001b[1;33m,\u001b[0m \u001b[0msfh_files\u001b[0m\u001b[1;33m[\u001b[0m\u001b[1;36m0\u001b[0m\u001b[1;33m]\u001b[0m\u001b[1;33m,\u001b[0m \u001b[1;34m'match-old'\u001b[0m\u001b[1;33m,\u001b[0m \u001b[0mtarget\u001b[0m\u001b[1;33m=\u001b[0m\u001b[1;34m'M31-B21_3x6-012'\u001b[0m\u001b[1;33m)\u001b[0m\u001b[1;33m\u001b[0m\u001b[0m\n\u001b[0m",
        "\u001b[1;32m/home/rosenfield/research/TP-AGBcalib/code/TPAGB-calib/sfh_tests.pyc\u001b[0m in \u001b[0;36m__init__\u001b[1;34m(self, galaxy_input, sfh_file, file_origin, target, table_file, ast)\u001b[0m\n\u001b[0;32m    679\u001b[0m         \u001b[1;31m# load stars in data RGB and AGB region as well as TRGBs.\u001b[0m\u001b[1;33m\u001b[0m\u001b[1;33m\u001b[0m\u001b[0m\n\u001b[0;32m    680\u001b[0m         \u001b[1;31m# this is just a call to self.ags.data\u001b[0m\u001b[1;33m\u001b[0m\u001b[1;33m\u001b[0m\u001b[0m\n\u001b[1;32m--> 681\u001b[1;33m         \u001b[0mself\u001b[0m\u001b[1;33m.\u001b[0m\u001b[0mload_data_for_normalization\u001b[0m\u001b[1;33m(\u001b[0m\u001b[1;33m)\u001b[0m\u001b[1;33m\u001b[0m\u001b[0m\n\u001b[0m\u001b[0;32m    682\u001b[0m \u001b[1;33m\u001b[0m\u001b[0m\n\u001b[0;32m    683\u001b[0m         \u001b[1;31m# should we use ast corrections?\u001b[0m\u001b[1;33m\u001b[0m\u001b[1;33m\u001b[0m\u001b[0m\n",
        "\u001b[1;32m/home/rosenfield/research/TP-AGBcalib/code/TPAGB-calib/sfh_tests.pyc\u001b[0m in \u001b[0;36mload_data_for_normalization\u001b[1;34m(self)\u001b[0m\n\u001b[0;32m    900\u001b[0m         \u001b[0mrow\u001b[0m\u001b[1;33m,\u001b[0m \u001b[1;33m=\u001b[0m \u001b[0mnp\u001b[0m\u001b[1;33m.\u001b[0m\u001b[0mnonzero\u001b[0m\u001b[1;33m(\u001b[0m\u001b[0mself\u001b[0m\u001b[1;33m.\u001b[0m\u001b[0mags\u001b[0m\u001b[1;33m.\u001b[0m\u001b[0mdata\u001b[0m\u001b[1;33m[\u001b[0m\u001b[1;34m'target'\u001b[0m\u001b[1;33m]\u001b[0m \u001b[1;33m==\u001b[0m \u001b[0mtarget\u001b[0m\u001b[1;33m)\u001b[0m\u001b[1;33m\u001b[0m\u001b[0m\n\u001b[0;32m    901\u001b[0m         [self.__setattr__('%s' % c, self.ags.data[row]['%s' % c][0])\n\u001b[1;32m--> 902\u001b[1;33m          for c in column_names if c != 'target']\n\u001b[0m\u001b[0;32m    903\u001b[0m \u001b[1;33m\u001b[0m\u001b[0m\n\u001b[0;32m    904\u001b[0m         \u001b[1;32mif\u001b[0m \u001b[0mlen\u001b[0m\u001b[1;33m(\u001b[0m\u001b[0mself\u001b[0m\u001b[1;33m.\u001b[0m\u001b[0mags\u001b[0m\u001b[1;33m.\u001b[0m\u001b[0moffsets\u001b[0m\u001b[1;33m)\u001b[0m \u001b[1;33m==\u001b[0m \u001b[1;36m0\u001b[0m\u001b[1;33m:\u001b[0m\u001b[1;33m\u001b[0m\u001b[0m\n",
        "\u001b[1;31mIndexError\u001b[0m: index 0 is out of bounds for axis 0 with size 0"
       ]
      }
     ],
     "prompt_number": 31
    },
    {
     "cell_type": "code",
     "collapsed": false,
     "input": [
      "reload(rsp.TrilegalUtils)"
     ],
     "language": "python",
     "metadata": {},
     "outputs": [
      {
       "metadata": {},
       "output_type": "pyout",
       "prompt_number": 33,
       "text": [
        "<module 'ResolvedStellarPops.TrilegalUtils' from '/home/rosenfield/research/python/ResolvedStellarPops/TrilegalUtils.py'>"
       ]
      }
     ],
     "prompt_number": 33
    },
    {
     "cell_type": "code",
     "collapsed": false,
     "input": [
      "tri_out = trilegal_outputs[0]"
     ],
     "language": "python",
     "metadata": {},
     "outputs": [],
     "prompt_number": 27
    },
    {
     "cell_type": "code",
     "collapsed": false,
     "input": [
      "sgal = rsp.Galaxies.simgalaxy(tri_out, filter1='F475W', filter2='F814W')"
     ],
     "language": "python",
     "metadata": {},
     "outputs": [
      {
       "ename": "IndexError",
       "evalue": "list index out of range",
       "output_type": "pyerr",
       "traceback": [
        "\u001b[1;31m---------------------------------------------------------------------------\u001b[0m\n\u001b[1;31mIndexError\u001b[0m                                Traceback (most recent call last)",
        "\u001b[1;32m<ipython-input-28-ccb882e25c99>\u001b[0m in \u001b[0;36m<module>\u001b[1;34m()\u001b[0m\n\u001b[1;32m----> 1\u001b[1;33m \u001b[0msgal\u001b[0m \u001b[1;33m=\u001b[0m \u001b[0mrsp\u001b[0m\u001b[1;33m.\u001b[0m\u001b[0mGalaxies\u001b[0m\u001b[1;33m.\u001b[0m\u001b[0msimgalaxy\u001b[0m\u001b[1;33m(\u001b[0m\u001b[0mtri_out\u001b[0m\u001b[1;33m,\u001b[0m \u001b[0mfilter1\u001b[0m\u001b[1;33m=\u001b[0m\u001b[1;34m'F475W'\u001b[0m\u001b[1;33m,\u001b[0m \u001b[0mfilter2\u001b[0m\u001b[1;33m=\u001b[0m\u001b[1;34m'F814W'\u001b[0m\u001b[1;33m)\u001b[0m\u001b[1;33m\u001b[0m\u001b[0m\n\u001b[0m",
        "\u001b[1;32m/home/rosenfield/research/python/ResolvedStellarPops/Galaxies.pyc\u001b[0m in \u001b[0;36m__init__\u001b[1;34m(self, trilegal_out, filter1, filter2, photsys, count_offset, table_data)\u001b[0m\n\u001b[0;32m   1126\u001b[0m             \u001b[0mself\u001b[0m\u001b[1;33m.\u001b[0m\u001b[0mname\u001b[0m \u001b[1;33m=\u001b[0m \u001b[0mtrilegal_out\u001b[0m\u001b[1;33m.\u001b[0m\u001b[0mname\u001b[0m\u001b[1;33m\u001b[0m\u001b[0m\n\u001b[0;32m   1127\u001b[0m         \u001b[1;32melse\u001b[0m\u001b[1;33m:\u001b[0m\u001b[1;33m\u001b[0m\u001b[0m\n\u001b[1;32m-> 1128\u001b[1;33m             \u001b[0mself\u001b[0m\u001b[1;33m.\u001b[0m\u001b[0mdata\u001b[0m \u001b[1;33m=\u001b[0m \u001b[0mfileIO\u001b[0m\u001b[1;33m.\u001b[0m\u001b[0mread_table\u001b[0m\u001b[1;33m(\u001b[0m\u001b[0mtrilegal_out\u001b[0m\u001b[1;33m)\u001b[0m\u001b[1;33m\u001b[0m\u001b[0m\n\u001b[0m\u001b[0;32m   1129\u001b[0m             \u001b[0mself\u001b[0m\u001b[1;33m.\u001b[0m\u001b[0mbase\u001b[0m\u001b[1;33m,\u001b[0m \u001b[0mself\u001b[0m\u001b[1;33m.\u001b[0m\u001b[0mname\u001b[0m \u001b[1;33m=\u001b[0m \u001b[0mos\u001b[0m\u001b[1;33m.\u001b[0m\u001b[0mpath\u001b[0m\u001b[1;33m.\u001b[0m\u001b[0msplit\u001b[0m\u001b[1;33m(\u001b[0m\u001b[0mtrilegal_out\u001b[0m\u001b[1;33m)\u001b[0m\u001b[1;33m\u001b[0m\u001b[0m\n\u001b[0;32m   1130\u001b[0m         \u001b[0mself\u001b[0m\u001b[1;33m.\u001b[0m\u001b[0mfilter1\u001b[0m \u001b[1;33m=\u001b[0m \u001b[0mfilter1\u001b[0m\u001b[1;33m\u001b[0m\u001b[0m\n",
        "\u001b[1;32m/home/rosenfield/research/python/ResolvedStellarPops/fileIO.pyc\u001b[0m in \u001b[0;36mread_table\u001b[1;34m(filename, comment_char, loud)\u001b[0m\n\u001b[0;32m    274\u001b[0m         \u001b[1;32mprint\u001b[0m \u001b[1;34m'%.3fs: lines read'\u001b[0m \u001b[1;33m%\u001b[0m \u001b[1;33m(\u001b[0m\u001b[0melapsed\u001b[0m\u001b[1;33m(\u001b[0m\u001b[1;33m)\u001b[0m\u001b[1;33m)\u001b[0m\u001b[1;33m\u001b[0m\u001b[0m\n\u001b[0;32m    275\u001b[0m \u001b[1;33m\u001b[0m\u001b[0m\n\u001b[1;32m--> 276\u001b[1;33m     \u001b[0mcol_keys\u001b[0m \u001b[1;33m=\u001b[0m \u001b[0mlines\u001b[0m\u001b[1;33m[\u001b[0m\u001b[1;36m0\u001b[0m\u001b[1;33m]\u001b[0m\u001b[1;33m.\u001b[0m\u001b[0mstrip\u001b[0m\u001b[1;33m(\u001b[0m\u001b[1;33m)\u001b[0m\u001b[1;33m.\u001b[0m\u001b[0mreplace\u001b[0m\u001b[1;33m(\u001b[0m\u001b[0mcomment_char\u001b[0m\u001b[1;33m,\u001b[0m \u001b[1;34m''\u001b[0m\u001b[1;33m)\u001b[0m\u001b[1;33m.\u001b[0m\u001b[0msplit\u001b[0m\u001b[1;33m(\u001b[0m\u001b[1;33m)\u001b[0m\u001b[1;33m\u001b[0m\u001b[0m\n\u001b[0m\u001b[0;32m    277\u001b[0m \u001b[1;33m\u001b[0m\u001b[0m\n\u001b[0;32m    278\u001b[0m     \u001b[0mNcols\u001b[0m \u001b[1;33m=\u001b[0m \u001b[0mlen\u001b[0m\u001b[1;33m(\u001b[0m\u001b[0mcol_keys\u001b[0m\u001b[1;33m)\u001b[0m\u001b[1;33m\u001b[0m\u001b[0m\n",
        "\u001b[1;31mIndexError\u001b[0m: list index out of range"
       ]
      }
     ],
     "prompt_number": 28
    }
   ],
   "metadata": {}
  }
 ]
}