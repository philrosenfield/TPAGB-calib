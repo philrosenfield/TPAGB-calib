{
 "metadata": {
  "name": ""
 },
 "nbformat": 3,
 "nbformat_minor": 0,
 "worksheets": [
  {
   "cells": [
    {
     "cell_type": "code",
     "collapsed": false,
     "input": [
      "cd ~/research/TP-AGBcalib/code/TPAGB-calib/"
     ],
     "language": "python",
     "metadata": {},
     "outputs": [
      {
       "output_type": "stream",
       "stream": "stdout",
       "text": [
        "/home/rosenfield/research/TP-AGBcalib/code/TPAGB-calib\n"
       ]
      }
     ],
     "prompt_number": 1
    },
    {
     "cell_type": "code",
     "collapsed": false,
     "input": [
      "from IPython import parallel\n",
      "import sfh_tests_multi_proc\n",
      "import itertools\n",
      "import ResolvedStellarPops as rsp\n"
     ],
     "language": "python",
     "metadata": {},
     "outputs": [
      {
       "output_type": "stream",
       "stream": "stdout",
       "text": [
        "Warning. Can not find /home/rosenfield/research/TP-AGBcalib/SNAP/models/ast.\n"
       ]
      }
     ],
     "prompt_number": 2
    },
    {
     "cell_type": "code",
     "collapsed": false,
     "input": [
      "clients = parallel.Client()\n",
      "clients.block = False"
     ],
     "language": "python",
     "metadata": {},
     "outputs": [],
     "prompt_number": 3
    },
    {
     "cell_type": "code",
     "collapsed": false,
     "input": [
      "clients[:].execute('cd ~/research/TP-AGBcalib/code/TPAGB-calib/')\n",
      "clients[:].execute('import sfh_tests_multi_proc')"
     ],
     "language": "python",
     "metadata": {},
     "outputs": [
      {
       "metadata": {},
       "output_type": "pyout",
       "prompt_number": 4,
       "text": [
        "<AsyncResult: execute>"
       ]
      }
     ],
     "prompt_number": 4
    },
    {
     "cell_type": "code",
     "collapsed": false,
     "input": [
      "def caller_list(vSFH_list, vsfh_kws, cmd_input_list):\n",
      "    res = []\n",
      "    for i in range(len(vSFH_list)):\n",
      "        res.append(vSFH_list[i].vary_the_SFH(cmd_input_list[i], **vsfh_kws))\n",
      "    return res\n",
      "\n",
      "def caller(vSFH, vsfh_kws, cmd_input):\n",
      "    return vSFH.vary_the_SFH(cmd_input, **vsfh_kws)\n"
     ],
     "language": "python",
     "metadata": {},
     "outputs": [],
     "prompt_number": 5
    },
    {
     "cell_type": "code",
     "collapsed": false,
     "input": [
      "reload(rsp.fileIO)\n",
      "reload(sfh_tests_multi_proc)\n",
      "clients[:].execute('reload(rsp.fileIO)')\n",
      "clients[:].execute('reload(sfh_tests_multi_proc)')"
     ],
     "language": "python",
     "metadata": {},
     "outputs": [
      {
       "metadata": {},
       "output_type": "pyout",
       "prompt_number": 6,
       "text": [
        "<AsyncResult: execute>"
       ]
      }
     ],
     "prompt_number": 6
    },
    {
     "cell_type": "code",
     "collapsed": false,
     "input": [
      "targets = ['ddo71', 'hs117', 'kkh37', 'ngc2976-deep', 'ngc404', 'ddo78']\n",
      "cmd_inputs = ['cmd_input_CAF09_S_NOV13.dat', 'cmd_input_CAF09_S_NOV13eta0.dat', 'cmd_input_CAF09_S_OCT13.dat']\n",
      "nsfhs = 50"
     ],
     "language": "python",
     "metadata": {},
     "outputs": [],
     "prompt_number": 7
    },
    {
     "cell_type": "code",
     "collapsed": false,
     "input": [
      "vSFHs, vsfh_kws, cmd_input_list = sfh_tests_multi_proc.prepare_vsfh_run(targets, cmd_inputs, nsfhs)"
     ],
     "language": "python",
     "metadata": {},
     "outputs": [
      {
       "output_type": "stream",
       "stream": "stdout",
       "text": [
        "using NGC404-DEEP instead of NGC404\n",
        "using NGC404-DEEP instead of NGC404\n",
        "using NGC404-DEEP instead of NGC404\n",
        "using NGC404-DEEP instead of NGC404\n",
        "using NGC404-DEEP instead of NGC404\n",
        "using NGC404-DEEP instead of NGC404\n"
       ]
      }
     ],
     "prompt_number": 8
    },
    {
     "cell_type": "code",
     "collapsed": false,
     "input": [
      "#res = clients[:].apply(caller_list, vSFHs, vsfh_kws, cmd_input_list,)\n",
      "#[vSFHs[i].write_results(res[i], cmd_input_list[i]) for i in range(len(vSFHs))]"
     ],
     "language": "python",
     "metadata": {},
     "outputs": [],
     "prompt_number": 32
    },
    {
     "cell_type": "code",
     "collapsed": false,
     "input": [],
     "language": "python",
     "metadata": {},
     "outputs": [],
     "prompt_number": 8
    },
    {
     "cell_type": "code",
     "collapsed": false,
     "input": [
      "res = [clients[i].apply(caller, vSFHs[i], vsfh_kws, cmd_input_list[i],) for i in range(len(clients))]"
     ],
     "language": "python",
     "metadata": {},
     "outputs": [],
     "prompt_number": 16
    },
    {
     "cell_type": "code",
     "collapsed": false,
     "input": [
      "res2 = [clients[i].apply(caller, vSFHs[i+10], vsfh_kws, cmd_input_list[i+10],) for i in range(len(vSFHs) - len(clients))]"
     ],
     "language": "python",
     "metadata": {},
     "outputs": [],
     "prompt_number": 30
    },
    {
     "cell_type": "code",
     "collapsed": false,
     "input": [
      "[r.ready() for r in res2]"
     ],
     "language": "python",
     "metadata": {},
     "outputs": [
      {
       "metadata": {},
       "output_type": "pyout",
       "prompt_number": 33,
       "text": [
        "[True, True, True, True, True, True, True, True]"
       ]
      }
     ],
     "prompt_number": 33
    },
    {
     "cell_type": "code",
     "collapsed": false,
     "input": [
      "[vSFHs[i].write_results(res[i].result, cmd_input_list[i]) for i in range(len(clients))]"
     ],
     "language": "python",
     "metadata": {},
     "outputs": [
      {
       "ename": "NameError",
       "evalue": "name 'res' is not defined",
       "output_type": "pyerr",
       "traceback": [
        "\u001b[1;31m---------------------------------------------------------------------------\u001b[0m\n\u001b[1;31mNameError\u001b[0m                                 Traceback (most recent call last)",
        "\u001b[1;32m<ipython-input-25-bd435cb1a735>\u001b[0m in \u001b[0;36m<module>\u001b[1;34m()\u001b[0m\n\u001b[1;32m----> 1\u001b[1;33m \u001b[1;33m[\u001b[0m\u001b[0mvSFHs\u001b[0m\u001b[1;33m[\u001b[0m\u001b[0mi\u001b[0m\u001b[1;33m]\u001b[0m\u001b[1;33m.\u001b[0m\u001b[0mwrite_results\u001b[0m\u001b[1;33m(\u001b[0m\u001b[0mres\u001b[0m\u001b[1;33m[\u001b[0m\u001b[0mi\u001b[0m\u001b[1;33m]\u001b[0m\u001b[1;33m.\u001b[0m\u001b[0mresult\u001b[0m\u001b[1;33m,\u001b[0m \u001b[0mcmd_input_list\u001b[0m\u001b[1;33m[\u001b[0m\u001b[0mi\u001b[0m\u001b[1;33m]\u001b[0m\u001b[1;33m)\u001b[0m \u001b[1;32mfor\u001b[0m \u001b[0mi\u001b[0m \u001b[1;32min\u001b[0m \u001b[0mrange\u001b[0m\u001b[1;33m(\u001b[0m\u001b[0mlen\u001b[0m\u001b[1;33m(\u001b[0m\u001b[0mclients\u001b[0m\u001b[1;33m)\u001b[0m\u001b[1;33m)\u001b[0m\u001b[1;33m]\u001b[0m\u001b[1;33m\u001b[0m\u001b[0m\n\u001b[0m",
        "\u001b[1;31mNameError\u001b[0m: name 'res' is not defined"
       ]
      }
     ],
     "prompt_number": 25
    },
    {
     "cell_type": "code",
     "collapsed": false,
     "input": [
      "[vSFHs[i+10].write_results(res2[i].result, cmd_input_list[i+10]) for i in range(len(vSFHs) - len(clients))]"
     ],
     "language": "python",
     "metadata": {},
     "outputs": [
      {
       "metadata": {},
       "output_type": "pyout",
       "prompt_number": 34,
       "text": [
        "[['opt_lf', 'ir_lf', 'narratio', 'opt_mass_met', 'ir_mass_met'],\n",
        " ['opt_lf', 'ir_lf', 'narratio', 'opt_mass_met', 'ir_mass_met'],\n",
        " ['opt_lf', 'ir_lf', 'narratio', 'opt_mass_met', 'ir_mass_met'],\n",
        " ['opt_lf', 'ir_lf', 'narratio', 'opt_mass_met', 'ir_mass_met'],\n",
        " ['opt_lf', 'ir_lf', 'narratio', 'opt_mass_met', 'ir_mass_met'],\n",
        " ['opt_lf', 'ir_lf', 'narratio', 'opt_mass_met', 'ir_mass_met'],\n",
        " ['opt_lf', 'ir_lf', 'narratio', 'opt_mass_met', 'ir_mass_met'],\n",
        " ['opt_lf', 'ir_lf', 'narratio', 'opt_mass_met', 'ir_mass_met']]"
       ]
      }
     ],
     "prompt_number": 34
    },
    {
     "cell_type": "code",
     "collapsed": false,
     "input": [
      "pl = [sfh_tests_multi_proc.Plotting(v) for v in vSFHs]"
     ],
     "language": "python",
     "metadata": {},
     "outputs": [],
     "prompt_number": 9
    },
    {
     "cell_type": "code",
     "collapsed": false,
     "input": [
      "vSFHs[2].agb_mod"
     ],
     "language": "python",
     "metadata": {},
     "outputs": [
      {
       "metadata": {},
       "output_type": "pyout",
       "prompt_number": 18,
       "text": [
        "'caf09_s_oct13'"
       ]
      }
     ],
     "prompt_number": 18
    },
    {
     "cell_type": "code",
     "collapsed": false,
     "input": [
      "pl[2].compare_to_gal()"
     ],
     "language": "python",
     "metadata": {},
     "outputs": [
      {
       "ename": "ValueError",
       "evalue": "field named nopt_rgb not found",
       "output_type": "pyerr",
       "traceback": [
        "\u001b[1;31m---------------------------------------------------------------------------\u001b[0m\n\u001b[1;31mValueError\u001b[0m                                Traceback (most recent call last)",
        "\u001b[1;32m<ipython-input-15-efb7241ea748>\u001b[0m in \u001b[0;36m<module>\u001b[1;34m()\u001b[0m\n\u001b[1;32m----> 1\u001b[1;33m \u001b[0mpl\u001b[0m\u001b[1;33m[\u001b[0m\u001b[1;36m2\u001b[0m\u001b[1;33m]\u001b[0m\u001b[1;33m.\u001b[0m\u001b[0mcompare_to_gal\u001b[0m\u001b[1;33m(\u001b[0m\u001b[1;33m)\u001b[0m\u001b[1;33m\u001b[0m\u001b[0m\n\u001b[0m",
        "\u001b[1;32m/home/rosenfield/research/TP-AGBcalib/code/TPAGB-calib/sfh_tests_multi_proc.pyc\u001b[0m in \u001b[0;36mcompare_to_gal\u001b[1;34m(self, hist_it_up, narratio, no_agb, add_stage_lfs, extra_str, trilegal_output, plot_data, cols, stage_lf_kw, axs, plt_kw, plot_models)\u001b[0m\n\u001b[0;32m   1725\u001b[0m                 \u001b[1;31m# simulated nrgb and nagb are the mean values\u001b[0m\u001b[1;33m\u001b[0m\u001b[1;33m\u001b[0m\u001b[0m\n\u001b[0;32m   1726\u001b[0m                 \u001b[0msrgb_text\u001b[0m \u001b[1;33m=\u001b[0m \u001b[1;34m'$\\langle N_{\\\\rm RGB}\\\\rangle =%i$'\u001b[0m \u001b[1;33m%\u001b[0m\u001b[0;31m \u001b[0m\u001b[0;31m\\\u001b[0m\u001b[1;33m\u001b[0m\u001b[0m\n\u001b[1;32m-> 1727\u001b[1;33m                             \u001b[0mnp\u001b[0m\u001b[1;33m.\u001b[0m\u001b[0mmean\u001b[0m\u001b[1;33m(\u001b[0m\u001b[0mratio_data\u001b[0m\u001b[1;33m[\u001b[0m\u001b[1;34m'n%s_rgb'\u001b[0m \u001b[1;33m%\u001b[0m \u001b[0mband\u001b[0m\u001b[1;33m]\u001b[0m\u001b[1;33m)\u001b[0m\u001b[1;33m\u001b[0m\u001b[0m\n\u001b[0m\u001b[0;32m   1728\u001b[0m                 \u001b[0msagb_text\u001b[0m \u001b[1;33m=\u001b[0m \u001b[1;34m'$\\langle N_{\\\\rm TP-AGB}\\\\rangle=%i$'\u001b[0m \u001b[1;33m%\u001b[0m\u001b[0;31m \u001b[0m\u001b[0;31m\\\u001b[0m\u001b[1;33m\u001b[0m\u001b[0m\n\u001b[0;32m   1729\u001b[0m                             \u001b[0mnp\u001b[0m\u001b[1;33m.\u001b[0m\u001b[0mmean\u001b[0m\u001b[1;33m(\u001b[0m\u001b[0mratio_data\u001b[0m\u001b[1;33m[\u001b[0m\u001b[1;34m'n%s_agb'\u001b[0m \u001b[1;33m%\u001b[0m \u001b[0mband\u001b[0m\u001b[1;33m]\u001b[0m\u001b[1;33m)\u001b[0m\u001b[1;33m\u001b[0m\u001b[0m\n",
        "\u001b[1;31mValueError\u001b[0m: field named nopt_rgb not found"
       ]
      }
     ],
     "prompt_number": 15
    },
    {
     "cell_type": "code",
     "collapsed": false,
     "input": [
      "targets = ['ddo71', 'ddo78', 'hs117', 'kkh37',  'ngc404', 'ngc2976-deep']\n"
     ],
     "language": "python",
     "metadata": {},
     "outputs": []
    },
    {
     "cell_type": "code",
     "collapsed": false,
     "input": [
      "vSFHs[0].fnames\n"
     ],
     "language": "python",
     "metadata": {},
     "outputs": [
      {
       "metadata": {},
       "output_type": "pyout",
       "prompt_number": 18,
       "text": [
        "['/home/rosenfield/research/TP-AGBcalib/SNAP/models/varysfh/ddo71/caf09_s_nov13/mc/caf09_s_nov13_ddo71_opt_lf.dat',\n",
        " '/home/rosenfield/research/TP-AGBcalib/SNAP/models/varysfh/ddo71/caf09_s_nov13/mc/caf09_s_nov13_ddo71_ir_lf.dat',\n",
        " '/home/rosenfield/research/TP-AGBcalib/SNAP/models/varysfh/ddo71/caf09_s_nov13/mc/caf09_s_nov13_ddo71_narratio.dat',\n",
        " '/home/rosenfield/research/TP-AGBcalib/SNAP/models/varysfh/ddo71/caf09_s_nov13/mc/caf09_s_nov13_ddo71_opt_mass_met.dat',\n",
        " '/home/rosenfield/research/TP-AGBcalib/SNAP/models/varysfh/ddo71/caf09_s_nov13/mc/caf09_s_nov13_ddo71_ir_mass_met.dat']"
       ]
      }
     ],
     "prompt_number": 18
    },
    {
     "cell_type": "code",
     "collapsed": false,
     "input": [
      "\n",
      "nfiles = ['ddo71/caf09_s_nov13/mc/caf09_s_nov13_ddo71_narratio.dat',\n",
      "'ddo78/caf09_s_nov13/mc/caf09_s_nov13_ddo78_narratio.dat',\n",
      "'hs117/caf09_s_nov13/mc/caf09_s_nov13_hs117_narratio.dat',\n",
      "'kkh37/caf09_s_nov13/mc/caf09_s_nov13_kkh37_narratio.dat',\n",
      "'ngc404/caf09_s_nov13/mc/caf09_s_nov13_ngc404_narratio.dat', \n",
      "'ngc2976-deep/caf09_s_nov13/mc/caf09_s_nov13_ngc2976-deep_narratio.dat']\n",
      "\n"
     ],
     "language": "python",
     "metadata": {},
     "outputs": [],
     "prompt_number": 48
    },
    {
     "cell_type": "code",
     "collapsed": false,
     "input": [
      "f = open(vSFHs[0].fnames[1]).readlines()"
     ],
     "language": "python",
     "metadata": {},
     "outputs": [],
     "prompt_number": 99
    },
    {
     "cell_type": "code",
     "collapsed": false,
     "input": [
      "import numpy as np"
     ],
     "language": "python",
     "metadata": {},
     "outputs": [],
     "prompt_number": 20
    },
    {
     "cell_type": "code",
     "collapsed": false,
     "input": [
      "filename = '/home/rosenfield/research/TP-AGBcalib/SNAP/models/varysfh/ddo71/caf09_s_nov13/mc/caf09_s_nov13_ddo71_narratio.dat'"
     ],
     "language": "python",
     "metadata": {},
     "outputs": [],
     "prompt_number": 25
    },
    {
     "cell_type": "code",
     "collapsed": false,
     "input": [
      "\n",
      "with open(filename, 'r') as f:\n",
      "    line = f.readline()\n",
      "col_keys = line.replace(comment_char, '').strip().split()    "
     ],
     "language": "python",
     "metadata": {},
     "outputs": [],
     "prompt_number": 30
    },
    {
     "cell_type": "code",
     "collapsed": false,
     "input": [
      "dtypee = [(c, '<f8') for c in col_keys]"
     ],
     "language": "python",
     "metadata": {},
     "outputs": [],
     "prompt_number": 46
    },
    {
     "cell_type": "code",
     "collapsed": false,
     "input": [
      "dtypee[0] = ('target', '|S12')"
     ],
     "language": "python",
     "metadata": {},
     "outputs": [],
     "prompt_number": 53
    },
    {
     "cell_type": "code",
     "collapsed": false,
     "input": [
      "dtypee"
     ],
     "language": "python",
     "metadata": {},
     "outputs": [
      {
       "metadata": {},
       "output_type": "pyout",
       "prompt_number": 54,
       "text": [
        "[('target', '|S12'),\n",
        " ('nopt_rgb', '<f8'),\n",
        " ('nopt_agb', '<f8'),\n",
        " ('nir_rgb', '<f8'),\n",
        " ('nir_agb', '<f8'),\n",
        " ('opt_ar_ratio', '<f8'),\n",
        " ('ir_ar_ratio', '<f8'),\n",
        " ('opt_ar_ratio_err', '<f8'),\n",
        " ('ir_ar_ratio_err', '<f8')]"
       ]
      }
     ],
     "prompt_number": 54
    },
    {
     "cell_type": "code",
     "collapsed": false,
     "input": [
      "rsp.fileIO.readfile(filename, string_column=0)"
     ],
     "language": "python",
     "metadata": {},
     "outputs": [
      {
       "metadata": {},
       "output_type": "pyout",
       "prompt_number": 64,
       "text": [
        "array([('ddo71', 8296.0, 109.0, 1663.0, 132.0, 0.013, 0.079, 0.001, 0.009),\n",
        "       ('ddo71', 8181.0, 145.0, 1615.0, 150.0, 0.018, 0.093, 0.002, 0.01),\n",
        "       ('ddo71', 8150.0, 140.0, 1608.0, 131.0, 0.017, 0.081, 0.002, 0.009),\n",
        "       ('ddo71', 8221.0, 162.0, 1632.0, 151.0, 0.02, 0.093, 0.002, 0.01),\n",
        "       ('ddo71', 8202.0, 161.0, 1638.0, 140.0, 0.02, 0.085, 0.002, 0.009),\n",
        "       ('ddo71', 8207.0, 164.0, 1694.0, 134.0, 0.02, 0.079, 0.002, 0.009),\n",
        "       ('ddo71', 8138.0, 179.0, 1618.0, 150.0, 0.022, 0.093, 0.002, 0.01),\n",
        "       ('ddo71', 8055.0, 166.0, 1694.0, 140.0, 0.021, 0.083, 0.002, 0.009),\n",
        "       ('ddo71', 8166.0, 156.0, 1608.0, 147.0, 0.019, 0.091, 0.002, 0.01),\n",
        "       ('ddo71', 8208.0, 148.0, 1678.0, 135.0, 0.018, 0.08, 0.002, 0.009),\n",
        "       ('ddo71', 8133.0, 147.0, 1590.0, 123.0, 0.018, 0.077, 0.002, 0.009),\n",
        "       ('ddo71', 8111.0, 140.0, 1620.0, 123.0, 0.017, 0.076, 0.002, 0.009),\n",
        "       ('ddo71', 8300.0, 156.0, 1629.0, 143.0, 0.019, 0.088, 0.002, 0.01),\n",
        "       ('ddo71', 8238.0, 166.0, 1599.0, 131.0, 0.02, 0.082, 0.002, 0.009),\n",
        "       ('ddo71', 8132.0, 162.0, 1656.0, 146.0, 0.02, 0.088, 0.002, 0.009),\n",
        "       ('ddo71', 8141.0, 153.0, 1641.0, 150.0, 0.019, 0.091, 0.002, 0.01),\n",
        "       ('ddo71', 8191.0, 164.0, 1671.0, 155.0, 0.02, 0.093, 0.002, 0.01),\n",
        "       ('ddo71', 8190.0, 173.0, 1636.0, 153.0, 0.021, 0.094, 0.002, 0.01),\n",
        "       ('ddo71', 8213.0, 166.0, 1618.0, 151.0, 0.02, 0.093, 0.002, 0.01),\n",
        "       ('ddo71', 8137.0, 157.0, 1613.0, 124.0, 0.019, 0.077, 0.002, 0.009),\n",
        "       ('ddo71', 8257.0, 170.0, 1648.0, 177.0, 0.021, 0.107, 0.002, 0.011),\n",
        "       ('ddo71', 8243.0, 150.0, 1650.0, 132.0, 0.018, 0.08, 0.002, 0.009),\n",
        "       ('ddo71', 8219.0, 165.0, 1635.0, 157.0, 0.02, 0.096, 0.002, 0.01),\n",
        "       ('ddo71', 8215.0, 153.0, 1652.0, 153.0, 0.019, 0.093, 0.002, 0.01),\n",
        "       ('ddo71', 8184.0, 150.0, 1630.0, 153.0, 0.018, 0.094, 0.002, 0.01),\n",
        "       ('ddo71', 8221.0, 185.0, 1610.0, 172.0, 0.023, 0.107, 0.002, 0.011),\n",
        "       ('ddo71', 8121.0, 146.0, 1680.0, 158.0, 0.018, 0.094, 0.002, 0.01),\n",
        "       ('ddo71', 8278.0, 137.0, 1686.0, 155.0, 0.017, 0.092, 0.002, 0.01),\n",
        "       ('ddo71', 8212.0, 152.0, 1606.0, 138.0, 0.019, 0.086, 0.002, 0.009),\n",
        "       ('ddo71', 8209.0, 149.0, 1611.0, 139.0, 0.018, 0.086, 0.002, 0.009),\n",
        "       ('ddo71', 8173.0, 136.0, 1656.0, 137.0, 0.017, 0.083, 0.002, 0.009),\n",
        "       ('ddo71', 8133.0, 141.0, 1662.0, 150.0, 0.017, 0.09, 0.002, 0.01),\n",
        "       ('ddo71', 8206.0, 163.0, 1620.0, 130.0, 0.02, 0.08, 0.002, 0.009),\n",
        "       ('ddo71', 8171.0, 162.0, 1680.0, 149.0, 0.02, 0.089, 0.002, 0.009),\n",
        "       ('ddo71', 8238.0, 166.0, 1690.0, 156.0, 0.02, 0.092, 0.002, 0.01),\n",
        "       ('ddo71', 8164.0, 142.0, 1608.0, 147.0, 0.017, 0.091, 0.002, 0.01),\n",
        "       ('ddo71', 8164.0, 166.0, 1621.0, 153.0, 0.02, 0.094, 0.002, 0.01),\n",
        "       ('ddo71', 8139.0, 181.0, 1635.0, 165.0, 0.022, 0.101, 0.002, 0.01),\n",
        "       ('ddo71', 8159.0, 151.0, 1608.0, 138.0, 0.019, 0.086, 0.002, 0.009),\n",
        "       ('ddo71', 8201.0, 130.0, 1713.0, 138.0, 0.016, 0.081, 0.002, 0.009),\n",
        "       ('ddo71', 8076.0, 176.0, 1634.0, 146.0, 0.022, 0.089, 0.002, 0.01),\n",
        "       ('ddo71', 8243.0, 144.0, 1674.0, 134.0, 0.017, 0.08, 0.002, 0.009),\n",
        "       ('ddo71', 8135.0, 138.0, 1662.0, 142.0, 0.017, 0.085, 0.002, 0.009),\n",
        "       ('ddo71', 8211.0, 111.0, 1664.0, 126.0, 0.014, 0.076, 0.001, 0.009),\n",
        "       ('ddo71', 8184.0, 133.0, 1632.0, 113.0, 0.016, 0.069, 0.002, 0.008),\n",
        "       ('ddo71', 8186.0, 166.0, 1664.0, 154.0, 0.02, 0.093, 0.002, 0.01),\n",
        "       ('ddo71', 8155.0, 129.0, 1616.0, 135.0, 0.016, 0.084, 0.002, 0.009),\n",
        "       ('ddo71', 8151.0, 159.0, 1642.0, 151.0, 0.02, 0.092, 0.002, 0.01),\n",
        "       ('ddo71', 8090.0, 159.0, 1674.0, 113.0, 0.02, 0.068, 0.002, 0.008),\n",
        "       ('ddo71', 8236.0, 169.0, 1645.0, 156.0, 0.021, 0.095, 0.002, 0.01),\n",
        "       ('ddo71', 8187.0, 153.0, 1583.0, 134.0, 0.019, 0.085, 0.002, 0.009),\n",
        "       ('ddo71', 8179.0, 162.0, 1601.0, 125.0, 0.02, 0.078, 0.002, 0.009),\n",
        "       ('ddo71', 8101.0, 161.0, 1657.0, 155.0, 0.02, 0.094, 0.002, 0.01),\n",
        "       ('ddo71', 8175.0, 150.0, 1646.0, 149.0, 0.018, 0.091, 0.002, 0.01)], \n",
        "      dtype=[('target', 'S16'), ('nopt_rgb', '<f8'), ('nopt_agb', '<f8'), ('nir_rgb', '<f8'), ('nir_agb', '<f8'), ('opt_ar_ratio', '<f8'), ('ir_ar_ratio', '<f8'), ('opt_ar_ratio_err', '<f8'), ('ir_ar_ratio_err', '<f8')])"
       ]
      }
     ],
     "prompt_number": 64
    },
    {
     "cell_type": "code",
     "collapsed": false,
     "input": [],
     "language": "python",
     "metadata": {},
     "outputs": []
    }
   ],
   "metadata": {}
  }
 ]
}