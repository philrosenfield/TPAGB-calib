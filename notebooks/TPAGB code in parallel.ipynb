{
 "metadata": {
  "name": ""
 },
 "nbformat": 3,
 "nbformat_minor": 0,
 "worksheets": [
  {
   "cells": [
    {
     "cell_type": "code",
     "collapsed": false,
     "input": [
      "cd ~/research/TP-AGBcalib/code/TPAGB-calib/"
     ],
     "language": "python",
     "metadata": {},
     "outputs": [
      {
       "output_type": "stream",
       "stream": "stdout",
       "text": [
        "/home/rosenfield/research/TP-AGBcalib/code/TPAGB-calib\n"
       ]
      }
     ],
     "prompt_number": 87
    },
    {
     "cell_type": "code",
     "collapsed": false,
     "input": [
      "from IPython import parallel\n",
      "import sfh_tests_multi_proc\n",
      "import itertools"
     ],
     "language": "python",
     "metadata": {},
     "outputs": [],
     "prompt_number": 88
    },
    {
     "cell_type": "code",
     "collapsed": false,
     "input": [
      "%pylab tk"
     ],
     "language": "python",
     "metadata": {},
     "outputs": [
      {
       "output_type": "stream",
       "stream": "stdout",
       "text": [
        "Populating the interactive namespace from numpy and matplotlib\n"
       ]
      }
     ],
     "prompt_number": 90
    },
    {
     "cell_type": "code",
     "collapsed": false,
     "input": [
      "clients = parallel.Client()\n",
      "clients.block = False"
     ],
     "language": "python",
     "metadata": {},
     "outputs": [],
     "prompt_number": 92
    },
    {
     "cell_type": "code",
     "collapsed": false,
     "input": [
      "clients[:].execute('cd ~/research/TP-AGBcalib/code/TPAGB-calib/')\n",
      "clients[:].execute('import sfh_tests_multi_proc')"
     ],
     "language": "python",
     "metadata": {},
     "outputs": [
      {
       "metadata": {},
       "output_type": "pyout",
       "prompt_number": 93,
       "text": [
        "<AsyncResult: execute>"
       ]
      }
     ],
     "prompt_number": 93
    },
    {
     "cell_type": "code",
     "collapsed": false,
     "input": [
      "def caller_list(vSFH_list, vsfh_kws):\n",
      "    res = []\n",
      "    for i in range(len(vSFH_list)):\n",
      "        res.append(vSFH_list[i].vary_the_SFH(**vsfh_kws))\n",
      "    return res\n",
      "\n",
      "def caller(vSFH, vsfh_kws):\n",
      "    return vSFH.vary_the_SFH(**vsfh_kws)"
     ],
     "language": "python",
     "metadata": {},
     "outputs": [],
     "prompt_number": 117
    },
    {
     "cell_type": "code",
     "collapsed": false,
     "input": [
      "reload(sfh_tests_multi_proc)\n",
      "clients[:].execute('reload(sfh_tests_multi_proc)')"
     ],
     "language": "python",
     "metadata": {},
     "outputs": [
      {
       "metadata": {},
       "output_type": "pyout",
       "prompt_number": 187,
       "text": [
        "<AsyncResult: execute>"
       ]
      }
     ],
     "prompt_number": 187
    },
    {
     "cell_type": "code",
     "collapsed": false,
     "input": [
      "targets = ['ddo71']#, 'hs117', 'kkh37', 'ngc2976-deep', 'ngc404', 'ddo78']\n",
      "cmd_inputs = ['cmd_input_CAF09_S_NOV13.dat']#, 'cmd_input_CAF09_S_NOV13eta0.dat', 'cmd_input_CAF09_S_OCT13.dat']\n",
      "nsfhs = 2"
     ],
     "language": "python",
     "metadata": {},
     "outputs": [],
     "prompt_number": 188
    },
    {
     "cell_type": "code",
     "collapsed": false,
     "input": [
      "vSFHs, vsfh_kws, cmd_input_list = sfh_tests_multi_proc.prepare_vsfh_run(targets, cmd_inputs, nsfhs)"
     ],
     "language": "python",
     "metadata": {},
     "outputs": [],
     "prompt_number": 209
    },
    {
     "cell_type": "code",
     "collapsed": false,
     "input": [
      "vsfh_kws['make_many_kw'] = {'mk_tri_sfh_kw': {'dry_run': True}}"
     ],
     "language": "python",
     "metadata": {},
     "outputs": [],
     "prompt_number": 190
    },
    {
     "cell_type": "code",
     "collapsed": false,
     "input": [
      "nprocs = len(clients)\n",
      "nvsfhs = len(VSFHs)\n",
      "ntimes = np.min([nprocs, nvsfhs])\n",
      "ndiff = np.abs(nvsfhs - nprocs)"
     ],
     "language": "python",
     "metadata": {},
     "outputs": [],
     "prompt_number": 142
    },
    {
     "cell_type": "code",
     "collapsed": false,
     "input": [
      "res = [clients[i].apply(caller, vSFHs[i], vsfh_kws,) for i in range(ntimes)]"
     ],
     "language": "python",
     "metadata": {},
     "outputs": [],
     "prompt_number": 210
    },
    {
     "cell_type": "code",
     "collapsed": false,
     "input": [
      "res[0].ready()"
     ],
     "language": "python",
     "metadata": {},
     "outputs": [
      {
       "metadata": {},
       "output_type": "pyout",
       "prompt_number": 221,
       "text": [
        "False"
       ]
      }
     ],
     "prompt_number": 221
    },
    {
     "cell_type": "code",
     "collapsed": false,
     "input": [
      "res2 = [clients[i].apply(caller, vSFHs[i+ntimes], vsfh_kws, cmd_input_list[i+ntimes],)\n",
      "        for i in range(len(vSFHs) - nprocs)]"
     ],
     "language": "python",
     "metadata": {},
     "outputs": [],
     "prompt_number": 30
    },
    {
     "cell_type": "code",
     "collapsed": false,
     "input": [
      "[vSFHs[i].write_results(res[i].result, cmd_input_list[i]) for i in range(ntimes)]"
     ],
     "language": "python",
     "metadata": {},
     "outputs": [
      {
       "ename": "RemoteError",
       "evalue": "IOError([Errno 2] No such file or directory: '/home/rosenfield/research/TP-AGBcalib/SNAP/models/varysfh/ddo71/caf09_s_nov13/mc/output_ddo71_caf09_s_nov13_001.dat')",
       "output_type": "pyerr",
       "traceback": [
        "\u001b[1;31m---------------------------------------------------------------------------\u001b[0m",
        "\u001b[1;31mIOError\u001b[0m                                   Traceback (most recent call last)\u001b[1;32m<string>\u001b[0m in \u001b[0;36m<module>\u001b[1;34m()\u001b[0m",
        "\u001b[1;32m<ipython-input-117-325eac226f94>\u001b[0m in \u001b[0;36mcaller\u001b[1;34m(vSFH, vsfh_kws)\u001b[0m",
        "\u001b[1;32m/home/rosenfield/research/TP-AGBcalib/code/TPAGB-calib/sfh_tests_multi_proc.pyc\u001b[0m in \u001b[0;36mvary_the_SFH\u001b[1;34m(self, make_many_kw, hist_it_up)\u001b[0m",
        "\u001b[0;32m   1317\u001b[0m             \u001b[1;31m#self.binary_contamination(opt_agb, ir_agb)\u001b[0m\u001b[1;33m\u001b[0m\u001b[1;33m\u001b[0m\u001b[0m",
        "\u001b[0;32m   1318\u001b[0m             \u001b[0mself\u001b[0m\u001b[1;33m.\u001b[0m\u001b[0mcontamination_by_phases\u001b[0m\u001b[1;33m(\u001b[0m\u001b[1;33m*\u001b[0m\u001b[0mnorm_out\u001b[0m\u001b[1;33m)\u001b[0m\u001b[1;33m\u001b[0m\u001b[0m",
        "\u001b[1;32m-> 1319\u001b[1;33m             \u001b[0mos\u001b[0m\u001b[1;33m.\u001b[0m\u001b[0mremove\u001b[0m\u001b[1;33m(\u001b[0m\u001b[0mtrilegal_output\u001b[0m\u001b[1;33m)\u001b[0m\u001b[1;33m\u001b[0m\u001b[0m",
        "\u001b[0m\u001b[0;32m   1320\u001b[0m         \u001b[0mresult\u001b[0m \u001b[1;33m=\u001b[0m \u001b[0mcombine_list_of_dictionaries\u001b[0m\u001b[1;33m(\u001b[0m\u001b[0mresult_dicts\u001b[0m\u001b[1;33m)\u001b[0m\u001b[1;33m\u001b[0m\u001b[0m",
        "\u001b[0;32m   1321\u001b[0m         \u001b[1;32mreturn\u001b[0m \u001b[0mresult\u001b[0m\u001b[1;33m\u001b[0m\u001b[0m",
        "\u001b[1;32m/home/rosenfield/research/TP-AGBcalib/code/TPAGB-calib/sfh_tests_multi_proc.pyc\u001b[0m in \u001b[0;36mdo_normalization\u001b[1;34m(self, filter1, trilegal_output, hist_it_up, dry_run)\u001b[0m",
        "\u001b[0;32m   1207\u001b[0m             \u001b[0mself\u001b[0m\u001b[1;33m.\u001b[0m\u001b[0mread_trilegal_catalog\u001b[0m\u001b[1;33m(\u001b[0m\u001b[0mtrilegal_output\u001b[0m\u001b[1;33m,\u001b[0m \u001b[0mfilter1\u001b[0m\u001b[1;33m=\u001b[0m\u001b[0mfilter1\u001b[0m\u001b[1;33m)\u001b[0m\u001b[1;33m\u001b[0m\u001b[0m",
        "\u001b[0;32m   1208\u001b[0m             \u001b[0mself\u001b[0m\u001b[1;33m.\u001b[0m\u001b[0mload_trilegal_data\u001b[0m\u001b[1;33m(\u001b[0m\u001b[1;33m)\u001b[0m\u001b[1;33m\u001b[0m\u001b[0m",
        "\u001b[1;32m-> 1209\u001b[1;33m \u001b[1;33m\u001b[0m\u001b[0m",
        "\u001b[0m\u001b[0;32m   1210\u001b[0m         \u001b[1;31m# Recovered stars in simulated RGB region.\u001b[0m\u001b[1;33m\u001b[0m\u001b[1;33m\u001b[0m\u001b[0m",
        "\u001b[0;32m   1211\u001b[0m \u001b[1;33m\u001b[0m\u001b[0m",
        "\u001b[1;32m/home/rosenfield/research/TP-AGBcalib/code/TPAGB-calib/sfh_tests_multi_proc.pyc\u001b[0m in \u001b[0;36mread_trilegal_catalog\u001b[1;34m(self, trilegal_output, filter1)\u001b[0m",
        "\u001b[0;32m    807\u001b[0m         \u001b[1;34m'''read the trilegal cat and does ast corrections.'''\u001b[0m\u001b[1;33m\u001b[0m\u001b[0m",
        "\u001b[0;32m    808\u001b[0m         self.sgal = rsp.Galaxies.simgalaxy(trilegal_output, filter1=filter1,",
        "\u001b[1;32m--> 809\u001b[1;33m                                       filter2='F814W')",
        "\u001b[0m\u001b[0;32m    810\u001b[0m         \u001b[1;31m#if self.ast is True and not hasattr(self, 'ast_objs'):\u001b[0m\u001b[1;33m\u001b[0m\u001b[1;33m\u001b[0m\u001b[0m",
        "\u001b[0;32m    811\u001b[0m         \u001b[1;31m#    # should be loaded outside this method if mc is running.\u001b[0m\u001b[1;33m\u001b[0m\u001b[1;33m\u001b[0m\u001b[0m",
        "\u001b[1;32m/home/rosenfield/research/python/ResolvedStellarPops/Galaxies.pyc\u001b[0m in \u001b[0;36m__init__\u001b[1;34m(self, trilegal_out, filter1, filter2, photsys, count_offset, table_data)\u001b[0m",
        "\u001b[0;32m   1149\u001b[0m             \u001b[0mself\u001b[0m\u001b[1;33m.\u001b[0m\u001b[0mname\u001b[0m \u001b[1;33m=\u001b[0m \u001b[0mtrilegal_out\u001b[0m\u001b[1;33m.\u001b[0m\u001b[0mname\u001b[0m\u001b[1;33m\u001b[0m\u001b[0m",
        "\u001b[0;32m   1150\u001b[0m         \u001b[1;32melse\u001b[0m\u001b[1;33m:\u001b[0m\u001b[1;33m\u001b[0m\u001b[0m",
        "\u001b[1;32m-> 1151\u001b[1;33m             \u001b[0mself\u001b[0m\u001b[1;33m.\u001b[0m\u001b[0mdata\u001b[0m \u001b[1;33m=\u001b[0m \u001b[0mfileIO\u001b[0m\u001b[1;33m.\u001b[0m\u001b[0mread_table\u001b[0m\u001b[1;33m(\u001b[0m\u001b[0mtrilegal_out\u001b[0m\u001b[1;33m)\u001b[0m\u001b[1;33m\u001b[0m\u001b[0m",
        "\u001b[0m\u001b[0;32m   1152\u001b[0m             \u001b[0mself\u001b[0m\u001b[1;33m.\u001b[0m\u001b[0mbase\u001b[0m\u001b[1;33m,\u001b[0m \u001b[0mself\u001b[0m\u001b[1;33m.\u001b[0m\u001b[0mname\u001b[0m \u001b[1;33m=\u001b[0m \u001b[0mos\u001b[0m\u001b[1;33m.\u001b[0m\u001b[0mpath\u001b[0m\u001b[1;33m.\u001b[0m\u001b[0msplit\u001b[0m\u001b[1;33m(\u001b[0m\u001b[0mtrilegal_out\u001b[0m\u001b[1;33m)\u001b[0m\u001b[1;33m\u001b[0m\u001b[0m",
        "\u001b[0;32m   1153\u001b[0m         \u001b[0mself\u001b[0m\u001b[1;33m.\u001b[0m\u001b[0mfilter1\u001b[0m \u001b[1;33m=\u001b[0m \u001b[0mfilter1\u001b[0m\u001b[1;33m\u001b[0m\u001b[0m",
        "\u001b[1;32m/home/rosenfield/research/python/ResolvedStellarPops/fileIO.pyc\u001b[0m in \u001b[0;36mread_table\u001b[1;34m(filename, comment_char, loud)\u001b[0m",
        "\u001b[0;32m    271\u001b[0m             \u001b[1;32mreturn\u001b[0m \u001b[0mtime\u001b[0m\u001b[1;33m.\u001b[0m\u001b[0mtime\u001b[0m\u001b[1;33m(\u001b[0m\u001b[1;33m)\u001b[0m \u001b[1;33m-\u001b[0m \u001b[0mstart\u001b[0m\u001b[1;33m\u001b[0m\u001b[0m",
        "\u001b[0;32m    272\u001b[0m \u001b[1;33m\u001b[0m\u001b[0m",
        "\u001b[1;32m--> 273\u001b[1;33m     \u001b[1;32mwith\u001b[0m \u001b[0mopen\u001b[0m\u001b[1;33m(\u001b[0m\u001b[0mfilename\u001b[0m\u001b[1;33m)\u001b[0m \u001b[1;32mas\u001b[0m \u001b[0mf\u001b[0m\u001b[1;33m:\u001b[0m\u001b[1;33m\u001b[0m\u001b[0m",
        "\u001b[0m\u001b[0;32m    274\u001b[0m         \u001b[0mlines\u001b[0m \u001b[1;33m=\u001b[0m \u001b[1;33m[\u001b[0m\u001b[0mline\u001b[0m \u001b[1;32mfor\u001b[0m \u001b[0mline\u001b[0m \u001b[1;32min\u001b[0m \u001b[0mf\u001b[0m\u001b[1;33m]\u001b[0m\u001b[1;33m\u001b[0m\u001b[0m",
        "\u001b[0;32m    275\u001b[0m \u001b[1;33m\u001b[0m\u001b[0m",
        "\u001b[1;31mIOError\u001b[0m: [Errno 2] No such file or directory: '/home/rosenfield/research/TP-AGBcalib/SNAP/models/varysfh/ddo71/caf09_s_nov13/mc/output_ddo71_caf09_s_nov13_001.dat'"
       ]
      },
      {
       "output_type": "stream",
       "stream": "stdout",
       "text": [
        "> \u001b[1;32m/usr/local/lib/python2.7/dist-packages/IPython/parallel/client/asyncresult.py\u001b[0m(126)\u001b[0;36mget\u001b[1;34m()\u001b[0m\n",
        "\u001b[1;32m    125 \u001b[1;33m            \u001b[1;32melse\u001b[0m\u001b[1;33m:\u001b[0m\u001b[1;33m\u001b[0m\u001b[0m\n",
        "\u001b[0m\u001b[1;32m--> 126 \u001b[1;33m                \u001b[1;32mraise\u001b[0m \u001b[0mself\u001b[0m\u001b[1;33m.\u001b[0m\u001b[0m_exception\u001b[0m\u001b[1;33m\u001b[0m\u001b[0m\n",
        "\u001b[0m\u001b[1;32m    127 \u001b[1;33m        \u001b[1;32melse\u001b[0m\u001b[1;33m:\u001b[0m\u001b[1;33m\u001b[0m\u001b[0m\n",
        "\u001b[0m\n"
       ]
      },
      {
       "name": "stdout",
       "output_type": "stream",
       "stream": "stdout",
       "text": [
        "ipdb> q\n"
       ]
      }
     ],
     "prompt_number": 208
    },
    {
     "cell_type": "code",
     "collapsed": false,
     "input": [
      "[vSFHs[i+ntimes].write_results(res2[i].result, cmd_input_list[i+ntimes]) for i in range(ndiff]"
     ],
     "language": "python",
     "metadata": {},
     "outputs": [
      {
       "metadata": {},
       "output_type": "pyout",
       "prompt_number": 34,
       "text": [
        "[['opt_lf', 'ir_lf', 'narratio', 'opt_mass_met', 'ir_mass_met'],\n",
        " ['opt_lf', 'ir_lf', 'narratio', 'opt_mass_met', 'ir_mass_met'],\n",
        " ['opt_lf', 'ir_lf', 'narratio', 'opt_mass_met', 'ir_mass_met'],\n",
        " ['opt_lf', 'ir_lf', 'narratio', 'opt_mass_met', 'ir_mass_met'],\n",
        " ['opt_lf', 'ir_lf', 'narratio', 'opt_mass_met', 'ir_mass_met'],\n",
        " ['opt_lf', 'ir_lf', 'narratio', 'opt_mass_met', 'ir_mass_met'],\n",
        " ['opt_lf', 'ir_lf', 'narratio', 'opt_mass_met', 'ir_mass_met'],\n",
        " ['opt_lf', 'ir_lf', 'narratio', 'opt_mass_met', 'ir_mass_met']]"
       ]
      }
     ],
     "prompt_number": 34
    },
    {
     "cell_type": "code",
     "collapsed": false,
     "input": [
      "pl = [sfh_tests_multi_proc.Plotting(v) for v in vSFHs]"
     ],
     "language": "python",
     "metadata": {},
     "outputs": [],
     "prompt_number": 84
    },
    {
     "cell_type": "code",
     "collapsed": false,
     "input": [
      "[pl[i].compare_to_gal() for i in range(len(pl))]"
     ],
     "language": "python",
     "metadata": {},
     "outputs": [
      {
       "output_type": "stream",
       "stream": "stdout",
       "text": [
        "['/home/rosenfield/research/TP-AGBcalib/SNAP/models/varysfh/ddo71/caf09_s_nov13/mc/caf09_s_nov13_ddo71_opt_lf.dat', '/home/rosenfield/research/TP-AGBcalib/SNAP/models/varysfh/ddo71/caf09_s_nov13/mc/caf09_s_nov13_ddo71_ir_lf.dat', '/home/rosenfield/research/TP-AGBcalib/SNAP/models/varysfh/ddo71/caf09_s_nov13/mc/caf09_s_nov13_ddo71_narratio.dat', '/home/rosenfield/research/TP-AGBcalib/SNAP/models/varysfh/ddo71/caf09_s_nov13/mc/caf09_s_nov13_ddo71_opt_mass_met.dat', '/home/rosenfield/research/TP-AGBcalib/SNAP/models/varysfh/ddo71/caf09_s_nov13/mc/caf09_s_nov13_ddo71_ir_mass_met.dat']\n",
        "['/home/rosenfield/research/TP-AGBcalib/SNAP/models/varysfh/ddo71/caf09_s_nov13eta0/mc/caf09_s_nov13eta0_ddo71_opt_lf.dat', '/home/rosenfield/research/TP-AGBcalib/SNAP/models/varysfh/ddo71/caf09_s_nov13eta0/mc/caf09_s_nov13eta0_ddo71_ir_lf.dat', '/home/rosenfield/research/TP-AGBcalib/SNAP/models/varysfh/ddo71/caf09_s_nov13eta0/mc/caf09_s_nov13eta0_ddo71_narratio.dat', '/home/rosenfield/research/TP-AGBcalib/SNAP/models/varysfh/ddo71/caf09_s_nov13eta0/mc/caf09_s_nov13eta0_ddo71_opt_mass_met.dat', '/home/rosenfield/research/TP-AGBcalib/SNAP/models/varysfh/ddo71/caf09_s_nov13eta0/mc/caf09_s_nov13eta0_ddo71_ir_mass_met.dat']"
       ]
      },
      {
       "output_type": "stream",
       "stream": "stdout",
       "text": [
        "\n",
        "['/home/rosenfield/research/TP-AGBcalib/SNAP/models/varysfh/ddo71/caf09_s_oct13/mc/caf09_s_oct13_ddo71_opt_lf.dat', '/home/rosenfield/research/TP-AGBcalib/SNAP/models/varysfh/ddo71/caf09_s_oct13/mc/caf09_s_oct13_ddo71_ir_lf.dat', '/home/rosenfield/research/TP-AGBcalib/SNAP/models/varysfh/ddo71/caf09_s_oct13/mc/caf09_s_oct13_ddo71_narratio.dat', '/home/rosenfield/research/TP-AGBcalib/SNAP/models/varysfh/ddo71/caf09_s_oct13/mc/caf09_s_oct13_ddo71_opt_mass_met.dat', '/home/rosenfield/research/TP-AGBcalib/SNAP/models/varysfh/ddo71/caf09_s_oct13/mc/caf09_s_oct13_ddo71_ir_mass_met.dat']"
       ]
      },
      {
       "output_type": "stream",
       "stream": "stdout",
       "text": [
        "\n",
        "['/home/rosenfield/research/TP-AGBcalib/SNAP/models/varysfh/hs117/caf09_s_nov13/mc/caf09_s_nov13_hs117_opt_lf.dat', '/home/rosenfield/research/TP-AGBcalib/SNAP/models/varysfh/hs117/caf09_s_nov13/mc/caf09_s_nov13_hs117_ir_lf.dat', '/home/rosenfield/research/TP-AGBcalib/SNAP/models/varysfh/hs117/caf09_s_nov13/mc/caf09_s_nov13_hs117_narratio.dat', '/home/rosenfield/research/TP-AGBcalib/SNAP/models/varysfh/hs117/caf09_s_nov13/mc/caf09_s_nov13_hs117_opt_mass_met.dat', '/home/rosenfield/research/TP-AGBcalib/SNAP/models/varysfh/hs117/caf09_s_nov13/mc/caf09_s_nov13_hs117_ir_mass_met.dat']"
       ]
      },
      {
       "output_type": "stream",
       "stream": "stdout",
       "text": [
        "\n",
        "['/home/rosenfield/research/TP-AGBcalib/SNAP/models/varysfh/hs117/caf09_s_nov13eta0/mc/caf09_s_nov13eta0_hs117_opt_lf.dat', '/home/rosenfield/research/TP-AGBcalib/SNAP/models/varysfh/hs117/caf09_s_nov13eta0/mc/caf09_s_nov13eta0_hs117_ir_lf.dat', '/home/rosenfield/research/TP-AGBcalib/SNAP/models/varysfh/hs117/caf09_s_nov13eta0/mc/caf09_s_nov13eta0_hs117_narratio.dat', '/home/rosenfield/research/TP-AGBcalib/SNAP/models/varysfh/hs117/caf09_s_nov13eta0/mc/caf09_s_nov13eta0_hs117_opt_mass_met.dat', '/home/rosenfield/research/TP-AGBcalib/SNAP/models/varysfh/hs117/caf09_s_nov13eta0/mc/caf09_s_nov13eta0_hs117_ir_mass_met.dat']"
       ]
      },
      {
       "output_type": "stream",
       "stream": "stdout",
       "text": [
        "\n",
        "['/home/rosenfield/research/TP-AGBcalib/SNAP/models/varysfh/hs117/caf09_s_oct13/mc/caf09_s_oct13_hs117_opt_lf.dat', '/home/rosenfield/research/TP-AGBcalib/SNAP/models/varysfh/hs117/caf09_s_oct13/mc/caf09_s_oct13_hs117_ir_lf.dat', '/home/rosenfield/research/TP-AGBcalib/SNAP/models/varysfh/hs117/caf09_s_oct13/mc/caf09_s_oct13_hs117_narratio.dat', '/home/rosenfield/research/TP-AGBcalib/SNAP/models/varysfh/hs117/caf09_s_oct13/mc/caf09_s_oct13_hs117_opt_mass_met.dat', '/home/rosenfield/research/TP-AGBcalib/SNAP/models/varysfh/hs117/caf09_s_oct13/mc/caf09_s_oct13_hs117_ir_mass_met.dat']"
       ]
      },
      {
       "output_type": "stream",
       "stream": "stdout",
       "text": [
        "\n",
        "['/home/rosenfield/research/TP-AGBcalib/SNAP/models/varysfh/kkh37/caf09_s_nov13/mc/caf09_s_nov13_kkh37_opt_lf.dat', '/home/rosenfield/research/TP-AGBcalib/SNAP/models/varysfh/kkh37/caf09_s_nov13/mc/caf09_s_nov13_kkh37_ir_lf.dat', '/home/rosenfield/research/TP-AGBcalib/SNAP/models/varysfh/kkh37/caf09_s_nov13/mc/caf09_s_nov13_kkh37_narratio.dat', '/home/rosenfield/research/TP-AGBcalib/SNAP/models/varysfh/kkh37/caf09_s_nov13/mc/caf09_s_nov13_kkh37_opt_mass_met.dat', '/home/rosenfield/research/TP-AGBcalib/SNAP/models/varysfh/kkh37/caf09_s_nov13/mc/caf09_s_nov13_kkh37_ir_mass_met.dat']"
       ]
      },
      {
       "output_type": "stream",
       "stream": "stdout",
       "text": [
        "\n",
        "['/home/rosenfield/research/TP-AGBcalib/SNAP/models/varysfh/kkh37/caf09_s_nov13eta0/mc/caf09_s_nov13eta0_kkh37_opt_lf.dat', '/home/rosenfield/research/TP-AGBcalib/SNAP/models/varysfh/kkh37/caf09_s_nov13eta0/mc/caf09_s_nov13eta0_kkh37_ir_lf.dat', '/home/rosenfield/research/TP-AGBcalib/SNAP/models/varysfh/kkh37/caf09_s_nov13eta0/mc/caf09_s_nov13eta0_kkh37_narratio.dat', '/home/rosenfield/research/TP-AGBcalib/SNAP/models/varysfh/kkh37/caf09_s_nov13eta0/mc/caf09_s_nov13eta0_kkh37_opt_mass_met.dat', '/home/rosenfield/research/TP-AGBcalib/SNAP/models/varysfh/kkh37/caf09_s_nov13eta0/mc/caf09_s_nov13eta0_kkh37_ir_mass_met.dat']"
       ]
      },
      {
       "output_type": "stream",
       "stream": "stdout",
       "text": [
        "\n",
        "['/home/rosenfield/research/TP-AGBcalib/SNAP/models/varysfh/kkh37/caf09_s_oct13/mc/caf09_s_oct13_kkh37_opt_lf.dat', '/home/rosenfield/research/TP-AGBcalib/SNAP/models/varysfh/kkh37/caf09_s_oct13/mc/caf09_s_oct13_kkh37_ir_lf.dat', '/home/rosenfield/research/TP-AGBcalib/SNAP/models/varysfh/kkh37/caf09_s_oct13/mc/caf09_s_oct13_kkh37_narratio.dat', '/home/rosenfield/research/TP-AGBcalib/SNAP/models/varysfh/kkh37/caf09_s_oct13/mc/caf09_s_oct13_kkh37_opt_mass_met.dat', '/home/rosenfield/research/TP-AGBcalib/SNAP/models/varysfh/kkh37/caf09_s_oct13/mc/caf09_s_oct13_kkh37_ir_mass_met.dat']"
       ]
      },
      {
       "output_type": "stream",
       "stream": "stdout",
       "text": [
        "\n",
        "['/home/rosenfield/research/TP-AGBcalib/SNAP/models/varysfh/ngc2976-deep/caf09_s_nov13/mc/caf09_s_nov13_ngc2976-deep_opt_lf.dat', '/home/rosenfield/research/TP-AGBcalib/SNAP/models/varysfh/ngc2976-deep/caf09_s_nov13/mc/caf09_s_nov13_ngc2976-deep_ir_lf.dat', '/home/rosenfield/research/TP-AGBcalib/SNAP/models/varysfh/ngc2976-deep/caf09_s_nov13/mc/caf09_s_nov13_ngc2976-deep_narratio.dat', '/home/rosenfield/research/TP-AGBcalib/SNAP/models/varysfh/ngc2976-deep/caf09_s_nov13/mc/caf09_s_nov13_ngc2976-deep_opt_mass_met.dat', '/home/rosenfield/research/TP-AGBcalib/SNAP/models/varysfh/ngc2976-deep/caf09_s_nov13/mc/caf09_s_nov13_ngc2976-deep_ir_mass_met.dat']"
       ]
      },
      {
       "output_type": "stream",
       "stream": "stdout",
       "text": [
        "\n",
        "['/home/rosenfield/research/TP-AGBcalib/SNAP/models/varysfh/ngc2976-deep/caf09_s_nov13eta0/mc/caf09_s_nov13eta0_ngc2976-deep_opt_lf.dat', '/home/rosenfield/research/TP-AGBcalib/SNAP/models/varysfh/ngc2976-deep/caf09_s_nov13eta0/mc/caf09_s_nov13eta0_ngc2976-deep_ir_lf.dat', '/home/rosenfield/research/TP-AGBcalib/SNAP/models/varysfh/ngc2976-deep/caf09_s_nov13eta0/mc/caf09_s_nov13eta0_ngc2976-deep_narratio.dat', '/home/rosenfield/research/TP-AGBcalib/SNAP/models/varysfh/ngc2976-deep/caf09_s_nov13eta0/mc/caf09_s_nov13eta0_ngc2976-deep_opt_mass_met.dat', '/home/rosenfield/research/TP-AGBcalib/SNAP/models/varysfh/ngc2976-deep/caf09_s_nov13eta0/mc/caf09_s_nov13eta0_ngc2976-deep_ir_mass_met.dat']"
       ]
      },
      {
       "output_type": "stream",
       "stream": "stdout",
       "text": [
        "\n",
        "['/home/rosenfield/research/TP-AGBcalib/SNAP/models/varysfh/ngc2976-deep/caf09_s_oct13/mc/caf09_s_oct13_ngc2976-deep_opt_lf.dat', '/home/rosenfield/research/TP-AGBcalib/SNAP/models/varysfh/ngc2976-deep/caf09_s_oct13/mc/caf09_s_oct13_ngc2976-deep_ir_lf.dat', '/home/rosenfield/research/TP-AGBcalib/SNAP/models/varysfh/ngc2976-deep/caf09_s_oct13/mc/caf09_s_oct13_ngc2976-deep_narratio.dat', '/home/rosenfield/research/TP-AGBcalib/SNAP/models/varysfh/ngc2976-deep/caf09_s_oct13/mc/caf09_s_oct13_ngc2976-deep_opt_mass_met.dat', '/home/rosenfield/research/TP-AGBcalib/SNAP/models/varysfh/ngc2976-deep/caf09_s_oct13/mc/caf09_s_oct13_ngc2976-deep_ir_mass_met.dat']"
       ]
      },
      {
       "output_type": "stream",
       "stream": "stdout",
       "text": [
        "\n",
        "['/home/rosenfield/research/TP-AGBcalib/SNAP/models/varysfh/ngc404/caf09_s_nov13/mc/caf09_s_nov13_ngc404_opt_lf.dat', '/home/rosenfield/research/TP-AGBcalib/SNAP/models/varysfh/ngc404/caf09_s_nov13/mc/caf09_s_nov13_ngc404_ir_lf.dat', '/home/rosenfield/research/TP-AGBcalib/SNAP/models/varysfh/ngc404/caf09_s_nov13/mc/caf09_s_nov13_ngc404_narratio.dat', '/home/rosenfield/research/TP-AGBcalib/SNAP/models/varysfh/ngc404/caf09_s_nov13/mc/caf09_s_nov13_ngc404_opt_mass_met.dat', '/home/rosenfield/research/TP-AGBcalib/SNAP/models/varysfh/ngc404/caf09_s_nov13/mc/caf09_s_nov13_ngc404_ir_mass_met.dat']"
       ]
      },
      {
       "output_type": "stream",
       "stream": "stdout",
       "text": [
        "\n",
        "using NGC404-DEEP instead of NGC404\n",
        "using NGC404-DEEP instead of NGC404\n",
        "using NGC404-DEEP instead of NGC404"
       ]
      },
      {
       "output_type": "stream",
       "stream": "stdout",
       "text": [
        "\n",
        "using NGC404-DEEP instead of NGC404\n",
        "['/home/rosenfield/research/TP-AGBcalib/SNAP/models/varysfh/ngc404/caf09_s_nov13eta0/mc/caf09_s_nov13eta0_ngc404_opt_lf.dat', '/home/rosenfield/research/TP-AGBcalib/SNAP/models/varysfh/ngc404/caf09_s_nov13eta0/mc/caf09_s_nov13eta0_ngc404_ir_lf.dat', '/home/rosenfield/research/TP-AGBcalib/SNAP/models/varysfh/ngc404/caf09_s_nov13eta0/mc/caf09_s_nov13eta0_ngc404_narratio.dat', '/home/rosenfield/research/TP-AGBcalib/SNAP/models/varysfh/ngc404/caf09_s_nov13eta0/mc/caf09_s_nov13eta0_ngc404_opt_mass_met.dat', '/home/rosenfield/research/TP-AGBcalib/SNAP/models/varysfh/ngc404/caf09_s_nov13eta0/mc/caf09_s_nov13eta0_ngc404_ir_mass_met.dat']"
       ]
      },
      {
       "output_type": "stream",
       "stream": "stdout",
       "text": [
        "\n",
        "using NGC404-DEEP instead of NGC404\n",
        "using NGC404-DEEP instead of NGC404\n",
        "using NGC404-DEEP instead of NGC404"
       ]
      },
      {
       "output_type": "stream",
       "stream": "stdout",
       "text": [
        "\n",
        "using NGC404-DEEP instead of NGC404\n",
        "['/home/rosenfield/research/TP-AGBcalib/SNAP/models/varysfh/ngc404/caf09_s_oct13/mc/caf09_s_oct13_ngc404_opt_lf.dat', '/home/rosenfield/research/TP-AGBcalib/SNAP/models/varysfh/ngc404/caf09_s_oct13/mc/caf09_s_oct13_ngc404_ir_lf.dat', '/home/rosenfield/research/TP-AGBcalib/SNAP/models/varysfh/ngc404/caf09_s_oct13/mc/caf09_s_oct13_ngc404_narratio.dat', '/home/rosenfield/research/TP-AGBcalib/SNAP/models/varysfh/ngc404/caf09_s_oct13/mc/caf09_s_oct13_ngc404_opt_mass_met.dat', '/home/rosenfield/research/TP-AGBcalib/SNAP/models/varysfh/ngc404/caf09_s_oct13/mc/caf09_s_oct13_ngc404_ir_mass_met.dat']"
       ]
      },
      {
       "output_type": "stream",
       "stream": "stdout",
       "text": [
        "\n",
        "using NGC404-DEEP instead of NGC404\n",
        "using NGC404-DEEP instead of NGC404\n",
        "using NGC404-DEEP instead of NGC404"
       ]
      },
      {
       "output_type": "stream",
       "stream": "stdout",
       "text": [
        "\n",
        "using NGC404-DEEP instead of NGC404\n",
        "['/home/rosenfield/research/TP-AGBcalib/SNAP/models/varysfh/ddo78/caf09_s_nov13/mc/caf09_s_nov13_ddo78_opt_lf.dat', '/home/rosenfield/research/TP-AGBcalib/SNAP/models/varysfh/ddo78/caf09_s_nov13/mc/caf09_s_nov13_ddo78_ir_lf.dat', '/home/rosenfield/research/TP-AGBcalib/SNAP/models/varysfh/ddo78/caf09_s_nov13/mc/caf09_s_nov13_ddo78_narratio.dat', '/home/rosenfield/research/TP-AGBcalib/SNAP/models/varysfh/ddo78/caf09_s_nov13/mc/caf09_s_nov13_ddo78_opt_mass_met.dat', '/home/rosenfield/research/TP-AGBcalib/SNAP/models/varysfh/ddo78/caf09_s_nov13/mc/caf09_s_nov13_ddo78_ir_mass_met.dat']"
       ]
      },
      {
       "output_type": "stream",
       "stream": "stdout",
       "text": [
        "\n",
        "['/home/rosenfield/research/TP-AGBcalib/SNAP/models/varysfh/ddo78/caf09_s_nov13eta0/mc/caf09_s_nov13eta0_ddo78_opt_lf.dat', '/home/rosenfield/research/TP-AGBcalib/SNAP/models/varysfh/ddo78/caf09_s_nov13eta0/mc/caf09_s_nov13eta0_ddo78_ir_lf.dat', '/home/rosenfield/research/TP-AGBcalib/SNAP/models/varysfh/ddo78/caf09_s_nov13eta0/mc/caf09_s_nov13eta0_ddo78_narratio.dat', '/home/rosenfield/research/TP-AGBcalib/SNAP/models/varysfh/ddo78/caf09_s_nov13eta0/mc/caf09_s_nov13eta0_ddo78_opt_mass_met.dat', '/home/rosenfield/research/TP-AGBcalib/SNAP/models/varysfh/ddo78/caf09_s_nov13eta0/mc/caf09_s_nov13eta0_ddo78_ir_mass_met.dat']"
       ]
      },
      {
       "output_type": "stream",
       "stream": "stdout",
       "text": [
        "\n",
        "['/home/rosenfield/research/TP-AGBcalib/SNAP/models/varysfh/ddo78/caf09_s_oct13/mc/caf09_s_oct13_ddo78_opt_lf.dat', '/home/rosenfield/research/TP-AGBcalib/SNAP/models/varysfh/ddo78/caf09_s_oct13/mc/caf09_s_oct13_ddo78_ir_lf.dat', '/home/rosenfield/research/TP-AGBcalib/SNAP/models/varysfh/ddo78/caf09_s_oct13/mc/caf09_s_oct13_ddo78_narratio.dat', '/home/rosenfield/research/TP-AGBcalib/SNAP/models/varysfh/ddo78/caf09_s_oct13/mc/caf09_s_oct13_ddo78_opt_mass_met.dat', '/home/rosenfield/research/TP-AGBcalib/SNAP/models/varysfh/ddo78/caf09_s_oct13/mc/caf09_s_oct13_ddo78_ir_mass_met.dat']"
       ]
      },
      {
       "output_type": "stream",
       "stream": "stdout",
       "text": [
        "\n"
       ]
      }
     ],
     "prompt_number": 85
    }
   ],
   "metadata": {}
  }
 ]
}