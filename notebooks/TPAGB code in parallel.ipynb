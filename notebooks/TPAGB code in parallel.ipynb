{
 "metadata": {
  "name": ""
 },
 "nbformat": 3,
 "nbformat_minor": 0,
 "worksheets": [
  {
   "cells": [
    {
     "cell_type": "code",
     "collapsed": false,
     "input": [
      "cd ~/research/TP-AGBcalib/code/TPAGB-calib/"
     ],
     "language": "python",
     "metadata": {},
     "outputs": [
      {
       "output_type": "stream",
       "stream": "stdout",
       "text": [
        "/home/rosenfield/research/TP-AGBcalib/code/TPAGB-calib\n"
       ]
      }
     ],
     "prompt_number": 1
    },
    {
     "cell_type": "code",
     "collapsed": false,
     "input": [
      "from IPython import parallel\n",
      "import sfh_tests_multi_proc\n",
      "import itertools\n",
      "import time"
     ],
     "language": "python",
     "metadata": {},
     "outputs": [
      {
       "output_type": "stream",
       "stream": "stdout",
       "text": [
        "Warning. Can not find /home/rosenfield/research/TP-AGBcalib/SNAP/models/ast.\n"
       ]
      }
     ],
     "prompt_number": 2
    },
    {
     "cell_type": "code",
     "collapsed": false,
     "input": [
      "%pylab tk"
     ],
     "language": "python",
     "metadata": {},
     "outputs": [
      {
       "output_type": "stream",
       "stream": "stdout",
       "text": [
        "Populating the interactive namespace from numpy and matplotlib\n"
       ]
      }
     ],
     "prompt_number": 3
    },
    {
     "cell_type": "code",
     "collapsed": false,
     "input": [
      "def caller(vSFH, vsfh_kws):\n",
      "    return vSFH.vary_the_SFH(**vsfh_kws)"
     ],
     "language": "python",
     "metadata": {},
     "outputs": [],
     "prompt_number": 4
    },
    {
     "cell_type": "code",
     "collapsed": false,
     "input": [
      "clients = parallel.Client()\n",
      "clients.block = False"
     ],
     "language": "python",
     "metadata": {},
     "outputs": [],
     "prompt_number": 5
    },
    {
     "cell_type": "code",
     "collapsed": false,
     "input": [
      "clients[:].execute('cd ~/research/TP-AGBcalib/code/TPAGB-calib/')\n",
      "clients[:].execute('import sfh_tests_multi_proc')"
     ],
     "language": "python",
     "metadata": {},
     "outputs": [
      {
       "metadata": {},
       "output_type": "pyout",
       "prompt_number": 6,
       "text": [
        "<AsyncResult: execute>"
       ]
      }
     ],
     "prompt_number": 6
    },
    {
     "cell_type": "code",
     "collapsed": false,
     "input": [
      "reload(sfh_tests_multi_proc) \n",
      "clients[:].execute('reload(sfh_tests_multi_proc)')"
     ],
     "language": "python",
     "metadata": {},
     "outputs": [
      {
       "metadata": {},
       "output_type": "pyout",
       "prompt_number": 39,
       "text": [
        "<AsyncResult: execute>"
       ]
      }
     ],
     "prompt_number": 39
    },
    {
     "cell_type": "code",
     "collapsed": false,
     "input": [
      "targets = ['scl-de1', 'ddo71', 'hs117', 'kkh37', 'ngc2976-deep', 'ddo78']\n",
      "targets = ['scl-de1']\n",
      "cmd_inputs = ['cmd_input_CAF09_S_NOV13.dat', 'cmd_input_CAF09_S_NOV13eta0.dat', 'cmd_input_CAF09_S_OCT13.dat']\n",
      "nsfhs = 50"
     ],
     "language": "python",
     "metadata": {},
     "outputs": [],
     "prompt_number": 39
    },
    {
     "cell_type": "code",
     "collapsed": false,
     "input": [
      "vSFHs, vsfh_kws = sfh_tests_multi_proc.prepare_vsfh_run(targets, cmd_inputs, nsfhs)"
     ],
     "language": "python",
     "metadata": {},
     "outputs": [
      {
       "output_type": "stream",
       "stream": "stdout",
       "text": [
        "made dirs: /home/rosenfield/research/TP-AGBcalib/SNAP/models/varysfh/scl-de1/caf09_s_nov13/mc\n",
        "made dirs: /home/rosenfield/research/TP-AGBcalib/SNAP/models/varysfh/scl-de1/caf09_s_nov13eta0/mc\n",
        "made dirs: /home/rosenfield/research/TP-AGBcalib/SNAP/models/varysfh/scl-de1/caf09_s_oct13/mc\n",
        "made dirs: /home/rosenfield/research/TP-AGBcalib/SNAP/models/varysfh/ddo71/caf09_s_nov13/mc\n",
        "made dirs: /home/rosenfield/research/TP-AGBcalib/SNAP/models/varysfh/ddo71/caf09_s_nov13eta0/mc\n",
        "made dirs: /home/rosenfield/research/TP-AGBcalib/SNAP/models/varysfh/ddo71/caf09_s_oct13/mc\n",
        "made dirs:"
       ]
      },
      {
       "output_type": "stream",
       "stream": "stdout",
       "text": [
        " /home/rosenfield/research/TP-AGBcalib/SNAP/models/varysfh/hs117/caf09_s_nov13/mc\n",
        "made dirs: /home/rosenfield/research/TP-AGBcalib/SNAP/models/varysfh/hs117/caf09_s_nov13eta0/mc\n",
        "made dirs: /home/rosenfield/research/TP-AGBcalib/SNAP/models/varysfh/hs117/caf09_s_oct13/mc\n",
        "made dirs: /home/rosenfield/research/TP-AGBcalib/SNAP/models/varysfh/kkh37/caf09_s_nov13/mc\n",
        "made dirs: /home/rosenfield/research/TP-AGBcalib/SNAP/models/varysfh/kkh37/caf09_s_nov13eta0/mc\n",
        "made dirs: /home/rosenfield/research/TP-AGBcalib/SNAP/models/varysfh/kkh37/caf09_s_oct13/mc\n",
        "made dirs: /home/rosenfield/research/TP-AGBcalib/SNAP/models/varysfh/ngc2976-deep/caf09_s_nov13/mc\n",
        "made dirs: /home/rosenfield/research/TP-AGBcalib/SNAP/models/varysfh/ngc2976-deep/caf09_s_nov13eta0/mc\n",
        "made dirs: /home/rosenfield/research/TP-AGBcalib/SNAP/models/varysfh/ngc2976-deep/caf09_s_oct13/mc\n",
        "made dirs:"
       ]
      },
      {
       "output_type": "stream",
       "stream": "stdout",
       "text": [
        " /home/rosenfield/research/TP-AGBcalib/SNAP/models/varysfh/ddo78/caf09_s_nov13/mc\n",
        "made dirs: /home/rosenfield/research/TP-AGBcalib/SNAP/models/varysfh/ddo78/caf09_s_nov13eta0/mc\n",
        "made dirs: /home/rosenfield/research/TP-AGBcalib/SNAP/models/varysfh/ddo78/caf09_s_oct13/mc\n"
       ]
      }
     ],
     "prompt_number": 40
    },
    {
     "cell_type": "code",
     "collapsed": false,
     "input": [
      "#vsfh_kws['make_many_kw'] = {'mk_tri_sfh_kw': {'dry_run': False}}"
     ],
     "language": "python",
     "metadata": {},
     "outputs": [],
     "prompt_number": 87
    },
    {
     "cell_type": "code",
     "collapsed": false,
     "input": [
      "# find a better way to run this all at once, rather then need to do to steps when nvsfhs > nprocs.\n",
      "nprocs = len(clients)\n",
      "nvsfhs = len(vSFHs)\n",
      "ntimes = np.min([nprocs, nvsfhs])\n",
      "ndiff = np.abs(nvsfhs - nprocs)"
     ],
     "language": "python",
     "metadata": {},
     "outputs": [],
     "prompt_number": 41
    },
    {
     "cell_type": "code",
     "collapsed": false,
     "input": [
      "nprocs, nvsfhs, ntimes, ndiff"
     ],
     "language": "python",
     "metadata": {},
     "outputs": [
      {
       "metadata": {},
       "output_type": "pyout",
       "prompt_number": 42,
       "text": [
        "(12, 18, 12, 6)"
       ]
      }
     ],
     "prompt_number": 42
    },
    {
     "cell_type": "code",
     "collapsed": false,
     "input": [
      "# debug w/o parallel\n",
      "#res = [caller(vSFHs[i], vsfh_kws) for i in range(ntimes)]"
     ],
     "language": "python",
     "metadata": {},
     "outputs": [],
     "prompt_number": 11
    },
    {
     "cell_type": "code",
     "collapsed": false,
     "input": [
      "res = [clients[i].apply(caller, vSFHs[i], vsfh_kws,) for i in range(ntimes)]\n",
      "while False in [r.ready() for r in res]:\n",
      "    time.sleep(900)\n",
      "[vSFHs[i].write_results(res[i].result) for i in range(ntimes)]\n",
      "res2 = [clients[i].apply(caller, vSFHs[i+ntimes], vsfh_kws,) for i in range(ndiff)] \n",
      "while False in [r.ready() for r in res2]:\n",
      "    time.sleep(900)\n",
      "[vSFHs[i+ntimes].write_results(res2[i].result) for i in range(ndiff)]\n"
     ],
     "language": "python",
     "metadata": {},
     "outputs": [
      {
       "metadata": {},
       "output_type": "pyout",
       "prompt_number": 46,
       "text": [
        "[None, None, None, None, None, None]"
       ]
      }
     ],
     "prompt_number": 46
    },
    {
     "cell_type": "code",
     "collapsed": false,
     "input": [],
     "language": "python",
     "metadata": {},
     "outputs": []
    }
   ],
   "metadata": {}
  }
 ]
}