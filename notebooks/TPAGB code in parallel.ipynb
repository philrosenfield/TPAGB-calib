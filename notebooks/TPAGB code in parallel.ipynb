{
 "metadata": {
  "name": ""
 },
 "nbformat": 3,
 "nbformat_minor": 0,
 "worksheets": [
  {
   "cells": [
    {
     "cell_type": "code",
     "collapsed": false,
     "input": [
      "cd ~/research/TP-AGBcalib/code/TPAGB-calib/"
     ],
     "language": "python",
     "metadata": {},
     "outputs": [
      {
       "output_type": "stream",
       "stream": "stdout",
       "text": [
        "/home/rosenfield/research/TP-AGBcalib/code/TPAGB-calib\n"
       ]
      }
     ],
     "prompt_number": 1
    },
    {
     "cell_type": "code",
     "collapsed": false,
     "input": [
      "from IPython import parallel\n",
      "import sfh_tests_multi_proc\n",
      "import itertools"
     ],
     "language": "python",
     "metadata": {},
     "outputs": [
      {
       "output_type": "stream",
       "stream": "stdout",
       "text": [
        "Warning. Can not find /home/rosenfield/research/TP-AGBcalib/SNAP/models/ast.\n"
       ]
      }
     ],
     "prompt_number": 2
    },
    {
     "cell_type": "code",
     "collapsed": false,
     "input": [
      "pylab tk"
     ],
     "language": "python",
     "metadata": {},
     "outputs": []
    },
    {
     "cell_type": "code",
     "collapsed": false,
     "input": [
      "clients = parallel.Client()\n",
      "clients.block = False"
     ],
     "language": "python",
     "metadata": {},
     "outputs": [],
     "prompt_number": 3
    },
    {
     "cell_type": "code",
     "collapsed": false,
     "input": [
      "clients[:].execute('cd ~/research/TP-AGBcalib/code/TPAGB-calib/')\n",
      "clients[:].execute('import sfh_tests_multi_proc')"
     ],
     "language": "python",
     "metadata": {},
     "outputs": [
      {
       "metadata": {},
       "output_type": "pyout",
       "prompt_number": 4,
       "text": [
        "<AsyncResult: execute>"
       ]
      }
     ],
     "prompt_number": 4
    },
    {
     "cell_type": "code",
     "collapsed": false,
     "input": [
      "def caller_list(vSFH_list, vsfh_kws, cmd_input_list):\n",
      "    res = []\n",
      "    for i in range(len(vSFH_list)):\n",
      "        res.append(vSFH_list[i].vary_the_SFH(cmd_input_list[i], **vsfh_kws))\n",
      "    return res\n",
      "\n",
      "def caller(vSFH, vsfh_kws, cmd_input):\n",
      "    return vSFH.vary_the_SFH(cmd_input, **vsfh_kws)"
     ],
     "language": "python",
     "metadata": {},
     "outputs": [],
     "prompt_number": 5
    },
    {
     "cell_type": "code",
     "collapsed": false,
     "input": [
      "reload(sfh_tests_multi_proc)\n",
      "clients[:].execute('reload(sfh_tests_multi_proc)')"
     ],
     "language": "python",
     "metadata": {},
     "outputs": [
      {
       "metadata": {},
       "output_type": "pyout",
       "prompt_number": 71,
       "text": [
        "<AsyncResult: execute>"
       ]
      }
     ],
     "prompt_number": 71
    },
    {
     "cell_type": "code",
     "collapsed": false,
     "input": [
      "targets = ['ddo71', 'hs117', 'kkh37', 'ngc2976-deep', 'ngc404', 'ddo78']\n",
      "cmd_inputs = ['cmd_input_CAF09_S_NOV13.dat', 'cmd_input_CAF09_S_NOV13eta0.dat', 'cmd_input_CAF09_S_OCT13.dat']\n",
      "nsfhs = 50"
     ],
     "language": "python",
     "metadata": {},
     "outputs": [],
     "prompt_number": 6
    },
    {
     "cell_type": "code",
     "collapsed": false,
     "input": [
      "vSFHs, vsfh_kws, cmd_input_list = sfh_tests_multi_proc.prepare_vsfh_run(targets, cmd_inputs, nsfhs)"
     ],
     "language": "python",
     "metadata": {},
     "outputs": [
      {
       "output_type": "stream",
       "stream": "stdout",
       "text": [
        "using NGC404-DEEP instead of NGC404\n",
        "using NGC404-DEEP instead of NGC404\n",
        "using NGC404-DEEP instead of NGC404\n",
        "using NGC404-DEEP instead of NGC404\n",
        "using NGC404-DEEP instead of NGC404\n",
        "using NGC404-DEEP instead of NGC404\n"
       ]
      }
     ],
     "prompt_number": 7
    },
    {
     "cell_type": "code",
     "collapsed": false,
     "input": [
      "#res = clients[:].apply(caller_list, vSFHs, vsfh_kws, cmd_input_list,)\n",
      "#[vSFHs[i].write_results(res[i], cmd_input_list[i]) for i in range(len(vSFHs))]"
     ],
     "language": "python",
     "metadata": {},
     "outputs": [],
     "prompt_number": 32
    },
    {
     "cell_type": "code",
     "collapsed": false,
     "input": [
      "nprocs = len(clients)"
     ],
     "language": "python",
     "metadata": {},
     "outputs": []
    },
    {
     "cell_type": "code",
     "collapsed": false,
     "input": [
      "res = [clients[i].apply(caller, vSFHs[i], vsfh_kws, cmd_input_list[i],) for i in range(nprocs)]"
     ],
     "language": "python",
     "metadata": {},
     "outputs": [],
     "prompt_number": 16
    },
    {
     "cell_type": "code",
     "collapsed": false,
     "input": [
      "res2 = [clients[i].apply(caller, vSFHs[i+nprocs], vsfh_kws, cmd_input_list[i+nprocs],)\n",
      "        for i in range(len(vSFHs) - nprocs)]"
     ],
     "language": "python",
     "metadata": {},
     "outputs": [],
     "prompt_number": 30
    },
    {
     "cell_type": "code",
     "collapsed": false,
     "input": [
      "[vSFHs[i].write_results(res[i].result, cmd_input_list[i]) for i in range(nprocs)]"
     ],
     "language": "python",
     "metadata": {},
     "outputs": [
      {
       "ename": "NameError",
       "evalue": "name 'res' is not defined",
       "output_type": "pyerr",
       "traceback": [
        "\u001b[1;31m---------------------------------------------------------------------------\u001b[0m\n\u001b[1;31mNameError\u001b[0m                                 Traceback (most recent call last)",
        "\u001b[1;32m<ipython-input-25-bd435cb1a735>\u001b[0m in \u001b[0;36m<module>\u001b[1;34m()\u001b[0m\n\u001b[1;32m----> 1\u001b[1;33m \u001b[1;33m[\u001b[0m\u001b[0mvSFHs\u001b[0m\u001b[1;33m[\u001b[0m\u001b[0mi\u001b[0m\u001b[1;33m]\u001b[0m\u001b[1;33m.\u001b[0m\u001b[0mwrite_results\u001b[0m\u001b[1;33m(\u001b[0m\u001b[0mres\u001b[0m\u001b[1;33m[\u001b[0m\u001b[0mi\u001b[0m\u001b[1;33m]\u001b[0m\u001b[1;33m.\u001b[0m\u001b[0mresult\u001b[0m\u001b[1;33m,\u001b[0m \u001b[0mcmd_input_list\u001b[0m\u001b[1;33m[\u001b[0m\u001b[0mi\u001b[0m\u001b[1;33m]\u001b[0m\u001b[1;33m)\u001b[0m \u001b[1;32mfor\u001b[0m \u001b[0mi\u001b[0m \u001b[1;32min\u001b[0m \u001b[0mrange\u001b[0m\u001b[1;33m(\u001b[0m\u001b[0mlen\u001b[0m\u001b[1;33m(\u001b[0m\u001b[0mclients\u001b[0m\u001b[1;33m)\u001b[0m\u001b[1;33m)\u001b[0m\u001b[1;33m]\u001b[0m\u001b[1;33m\u001b[0m\u001b[0m\n\u001b[0m",
        "\u001b[1;31mNameError\u001b[0m: name 'res' is not defined"
       ]
      }
     ],
     "prompt_number": 25
    },
    {
     "cell_type": "code",
     "collapsed": false,
     "input": [
      "[vSFHs[i+nprocs].write_results(res2[i].result, cmd_input_list[i+nprocs]) for i in range(len(vSFHs) - nprocs)]"
     ],
     "language": "python",
     "metadata": {},
     "outputs": [
      {
       "metadata": {},
       "output_type": "pyout",
       "prompt_number": 34,
       "text": [
        "[['opt_lf', 'ir_lf', 'narratio', 'opt_mass_met', 'ir_mass_met'],\n",
        " ['opt_lf', 'ir_lf', 'narratio', 'opt_mass_met', 'ir_mass_met'],\n",
        " ['opt_lf', 'ir_lf', 'narratio', 'opt_mass_met', 'ir_mass_met'],\n",
        " ['opt_lf', 'ir_lf', 'narratio', 'opt_mass_met', 'ir_mass_met'],\n",
        " ['opt_lf', 'ir_lf', 'narratio', 'opt_mass_met', 'ir_mass_met'],\n",
        " ['opt_lf', 'ir_lf', 'narratio', 'opt_mass_met', 'ir_mass_met'],\n",
        " ['opt_lf', 'ir_lf', 'narratio', 'opt_mass_met', 'ir_mass_met'],\n",
        " ['opt_lf', 'ir_lf', 'narratio', 'opt_mass_met', 'ir_mass_met']]"
       ]
      }
     ],
     "prompt_number": 34
    },
    {
     "cell_type": "code",
     "collapsed": false,
     "input": [
      "pl = [sfh_tests_multi_proc.Plotting(v) for v in vSFHs]"
     ],
     "language": "python",
     "metadata": {},
     "outputs": [],
     "prompt_number": 84
    },
    {
     "cell_type": "code",
     "collapsed": false,
     "input": [
      "[pl[i].compare_to_gal() for i in range(len(pl))]"
     ],
     "language": "python",
     "metadata": {},
     "outputs": [
      {
       "output_type": "stream",
       "stream": "stdout",
       "text": [
        "['/home/rosenfield/research/TP-AGBcalib/SNAP/models/varysfh/ddo71/caf09_s_nov13/mc/caf09_s_nov13_ddo71_opt_lf.dat', '/home/rosenfield/research/TP-AGBcalib/SNAP/models/varysfh/ddo71/caf09_s_nov13/mc/caf09_s_nov13_ddo71_ir_lf.dat', '/home/rosenfield/research/TP-AGBcalib/SNAP/models/varysfh/ddo71/caf09_s_nov13/mc/caf09_s_nov13_ddo71_narratio.dat', '/home/rosenfield/research/TP-AGBcalib/SNAP/models/varysfh/ddo71/caf09_s_nov13/mc/caf09_s_nov13_ddo71_opt_mass_met.dat', '/home/rosenfield/research/TP-AGBcalib/SNAP/models/varysfh/ddo71/caf09_s_nov13/mc/caf09_s_nov13_ddo71_ir_mass_met.dat']\n",
        "['/home/rosenfield/research/TP-AGBcalib/SNAP/models/varysfh/ddo71/caf09_s_nov13eta0/mc/caf09_s_nov13eta0_ddo71_opt_lf.dat', '/home/rosenfield/research/TP-AGBcalib/SNAP/models/varysfh/ddo71/caf09_s_nov13eta0/mc/caf09_s_nov13eta0_ddo71_ir_lf.dat', '/home/rosenfield/research/TP-AGBcalib/SNAP/models/varysfh/ddo71/caf09_s_nov13eta0/mc/caf09_s_nov13eta0_ddo71_narratio.dat', '/home/rosenfield/research/TP-AGBcalib/SNAP/models/varysfh/ddo71/caf09_s_nov13eta0/mc/caf09_s_nov13eta0_ddo71_opt_mass_met.dat', '/home/rosenfield/research/TP-AGBcalib/SNAP/models/varysfh/ddo71/caf09_s_nov13eta0/mc/caf09_s_nov13eta0_ddo71_ir_mass_met.dat']"
       ]
      },
      {
       "output_type": "stream",
       "stream": "stdout",
       "text": [
        "\n",
        "['/home/rosenfield/research/TP-AGBcalib/SNAP/models/varysfh/ddo71/caf09_s_oct13/mc/caf09_s_oct13_ddo71_opt_lf.dat', '/home/rosenfield/research/TP-AGBcalib/SNAP/models/varysfh/ddo71/caf09_s_oct13/mc/caf09_s_oct13_ddo71_ir_lf.dat', '/home/rosenfield/research/TP-AGBcalib/SNAP/models/varysfh/ddo71/caf09_s_oct13/mc/caf09_s_oct13_ddo71_narratio.dat', '/home/rosenfield/research/TP-AGBcalib/SNAP/models/varysfh/ddo71/caf09_s_oct13/mc/caf09_s_oct13_ddo71_opt_mass_met.dat', '/home/rosenfield/research/TP-AGBcalib/SNAP/models/varysfh/ddo71/caf09_s_oct13/mc/caf09_s_oct13_ddo71_ir_mass_met.dat']"
       ]
      },
      {
       "output_type": "stream",
       "stream": "stdout",
       "text": [
        "\n",
        "['/home/rosenfield/research/TP-AGBcalib/SNAP/models/varysfh/hs117/caf09_s_nov13/mc/caf09_s_nov13_hs117_opt_lf.dat', '/home/rosenfield/research/TP-AGBcalib/SNAP/models/varysfh/hs117/caf09_s_nov13/mc/caf09_s_nov13_hs117_ir_lf.dat', '/home/rosenfield/research/TP-AGBcalib/SNAP/models/varysfh/hs117/caf09_s_nov13/mc/caf09_s_nov13_hs117_narratio.dat', '/home/rosenfield/research/TP-AGBcalib/SNAP/models/varysfh/hs117/caf09_s_nov13/mc/caf09_s_nov13_hs117_opt_mass_met.dat', '/home/rosenfield/research/TP-AGBcalib/SNAP/models/varysfh/hs117/caf09_s_nov13/mc/caf09_s_nov13_hs117_ir_mass_met.dat']"
       ]
      },
      {
       "output_type": "stream",
       "stream": "stdout",
       "text": [
        "\n",
        "['/home/rosenfield/research/TP-AGBcalib/SNAP/models/varysfh/hs117/caf09_s_nov13eta0/mc/caf09_s_nov13eta0_hs117_opt_lf.dat', '/home/rosenfield/research/TP-AGBcalib/SNAP/models/varysfh/hs117/caf09_s_nov13eta0/mc/caf09_s_nov13eta0_hs117_ir_lf.dat', '/home/rosenfield/research/TP-AGBcalib/SNAP/models/varysfh/hs117/caf09_s_nov13eta0/mc/caf09_s_nov13eta0_hs117_narratio.dat', '/home/rosenfield/research/TP-AGBcalib/SNAP/models/varysfh/hs117/caf09_s_nov13eta0/mc/caf09_s_nov13eta0_hs117_opt_mass_met.dat', '/home/rosenfield/research/TP-AGBcalib/SNAP/models/varysfh/hs117/caf09_s_nov13eta0/mc/caf09_s_nov13eta0_hs117_ir_mass_met.dat']"
       ]
      },
      {
       "output_type": "stream",
       "stream": "stdout",
       "text": [
        "\n",
        "['/home/rosenfield/research/TP-AGBcalib/SNAP/models/varysfh/hs117/caf09_s_oct13/mc/caf09_s_oct13_hs117_opt_lf.dat', '/home/rosenfield/research/TP-AGBcalib/SNAP/models/varysfh/hs117/caf09_s_oct13/mc/caf09_s_oct13_hs117_ir_lf.dat', '/home/rosenfield/research/TP-AGBcalib/SNAP/models/varysfh/hs117/caf09_s_oct13/mc/caf09_s_oct13_hs117_narratio.dat', '/home/rosenfield/research/TP-AGBcalib/SNAP/models/varysfh/hs117/caf09_s_oct13/mc/caf09_s_oct13_hs117_opt_mass_met.dat', '/home/rosenfield/research/TP-AGBcalib/SNAP/models/varysfh/hs117/caf09_s_oct13/mc/caf09_s_oct13_hs117_ir_mass_met.dat']"
       ]
      },
      {
       "output_type": "stream",
       "stream": "stdout",
       "text": [
        "\n",
        "['/home/rosenfield/research/TP-AGBcalib/SNAP/models/varysfh/kkh37/caf09_s_nov13/mc/caf09_s_nov13_kkh37_opt_lf.dat', '/home/rosenfield/research/TP-AGBcalib/SNAP/models/varysfh/kkh37/caf09_s_nov13/mc/caf09_s_nov13_kkh37_ir_lf.dat', '/home/rosenfield/research/TP-AGBcalib/SNAP/models/varysfh/kkh37/caf09_s_nov13/mc/caf09_s_nov13_kkh37_narratio.dat', '/home/rosenfield/research/TP-AGBcalib/SNAP/models/varysfh/kkh37/caf09_s_nov13/mc/caf09_s_nov13_kkh37_opt_mass_met.dat', '/home/rosenfield/research/TP-AGBcalib/SNAP/models/varysfh/kkh37/caf09_s_nov13/mc/caf09_s_nov13_kkh37_ir_mass_met.dat']"
       ]
      },
      {
       "output_type": "stream",
       "stream": "stdout",
       "text": [
        "\n",
        "['/home/rosenfield/research/TP-AGBcalib/SNAP/models/varysfh/kkh37/caf09_s_nov13eta0/mc/caf09_s_nov13eta0_kkh37_opt_lf.dat', '/home/rosenfield/research/TP-AGBcalib/SNAP/models/varysfh/kkh37/caf09_s_nov13eta0/mc/caf09_s_nov13eta0_kkh37_ir_lf.dat', '/home/rosenfield/research/TP-AGBcalib/SNAP/models/varysfh/kkh37/caf09_s_nov13eta0/mc/caf09_s_nov13eta0_kkh37_narratio.dat', '/home/rosenfield/research/TP-AGBcalib/SNAP/models/varysfh/kkh37/caf09_s_nov13eta0/mc/caf09_s_nov13eta0_kkh37_opt_mass_met.dat', '/home/rosenfield/research/TP-AGBcalib/SNAP/models/varysfh/kkh37/caf09_s_nov13eta0/mc/caf09_s_nov13eta0_kkh37_ir_mass_met.dat']"
       ]
      },
      {
       "output_type": "stream",
       "stream": "stdout",
       "text": [
        "\n",
        "['/home/rosenfield/research/TP-AGBcalib/SNAP/models/varysfh/kkh37/caf09_s_oct13/mc/caf09_s_oct13_kkh37_opt_lf.dat', '/home/rosenfield/research/TP-AGBcalib/SNAP/models/varysfh/kkh37/caf09_s_oct13/mc/caf09_s_oct13_kkh37_ir_lf.dat', '/home/rosenfield/research/TP-AGBcalib/SNAP/models/varysfh/kkh37/caf09_s_oct13/mc/caf09_s_oct13_kkh37_narratio.dat', '/home/rosenfield/research/TP-AGBcalib/SNAP/models/varysfh/kkh37/caf09_s_oct13/mc/caf09_s_oct13_kkh37_opt_mass_met.dat', '/home/rosenfield/research/TP-AGBcalib/SNAP/models/varysfh/kkh37/caf09_s_oct13/mc/caf09_s_oct13_kkh37_ir_mass_met.dat']"
       ]
      },
      {
       "output_type": "stream",
       "stream": "stdout",
       "text": [
        "\n",
        "['/home/rosenfield/research/TP-AGBcalib/SNAP/models/varysfh/ngc2976-deep/caf09_s_nov13/mc/caf09_s_nov13_ngc2976-deep_opt_lf.dat', '/home/rosenfield/research/TP-AGBcalib/SNAP/models/varysfh/ngc2976-deep/caf09_s_nov13/mc/caf09_s_nov13_ngc2976-deep_ir_lf.dat', '/home/rosenfield/research/TP-AGBcalib/SNAP/models/varysfh/ngc2976-deep/caf09_s_nov13/mc/caf09_s_nov13_ngc2976-deep_narratio.dat', '/home/rosenfield/research/TP-AGBcalib/SNAP/models/varysfh/ngc2976-deep/caf09_s_nov13/mc/caf09_s_nov13_ngc2976-deep_opt_mass_met.dat', '/home/rosenfield/research/TP-AGBcalib/SNAP/models/varysfh/ngc2976-deep/caf09_s_nov13/mc/caf09_s_nov13_ngc2976-deep_ir_mass_met.dat']"
       ]
      },
      {
       "output_type": "stream",
       "stream": "stdout",
       "text": [
        "\n",
        "['/home/rosenfield/research/TP-AGBcalib/SNAP/models/varysfh/ngc2976-deep/caf09_s_nov13eta0/mc/caf09_s_nov13eta0_ngc2976-deep_opt_lf.dat', '/home/rosenfield/research/TP-AGBcalib/SNAP/models/varysfh/ngc2976-deep/caf09_s_nov13eta0/mc/caf09_s_nov13eta0_ngc2976-deep_ir_lf.dat', '/home/rosenfield/research/TP-AGBcalib/SNAP/models/varysfh/ngc2976-deep/caf09_s_nov13eta0/mc/caf09_s_nov13eta0_ngc2976-deep_narratio.dat', '/home/rosenfield/research/TP-AGBcalib/SNAP/models/varysfh/ngc2976-deep/caf09_s_nov13eta0/mc/caf09_s_nov13eta0_ngc2976-deep_opt_mass_met.dat', '/home/rosenfield/research/TP-AGBcalib/SNAP/models/varysfh/ngc2976-deep/caf09_s_nov13eta0/mc/caf09_s_nov13eta0_ngc2976-deep_ir_mass_met.dat']"
       ]
      },
      {
       "output_type": "stream",
       "stream": "stdout",
       "text": [
        "\n",
        "['/home/rosenfield/research/TP-AGBcalib/SNAP/models/varysfh/ngc2976-deep/caf09_s_oct13/mc/caf09_s_oct13_ngc2976-deep_opt_lf.dat', '/home/rosenfield/research/TP-AGBcalib/SNAP/models/varysfh/ngc2976-deep/caf09_s_oct13/mc/caf09_s_oct13_ngc2976-deep_ir_lf.dat', '/home/rosenfield/research/TP-AGBcalib/SNAP/models/varysfh/ngc2976-deep/caf09_s_oct13/mc/caf09_s_oct13_ngc2976-deep_narratio.dat', '/home/rosenfield/research/TP-AGBcalib/SNAP/models/varysfh/ngc2976-deep/caf09_s_oct13/mc/caf09_s_oct13_ngc2976-deep_opt_mass_met.dat', '/home/rosenfield/research/TP-AGBcalib/SNAP/models/varysfh/ngc2976-deep/caf09_s_oct13/mc/caf09_s_oct13_ngc2976-deep_ir_mass_met.dat']"
       ]
      },
      {
       "output_type": "stream",
       "stream": "stdout",
       "text": [
        "\n",
        "['/home/rosenfield/research/TP-AGBcalib/SNAP/models/varysfh/ngc404/caf09_s_nov13/mc/caf09_s_nov13_ngc404_opt_lf.dat', '/home/rosenfield/research/TP-AGBcalib/SNAP/models/varysfh/ngc404/caf09_s_nov13/mc/caf09_s_nov13_ngc404_ir_lf.dat', '/home/rosenfield/research/TP-AGBcalib/SNAP/models/varysfh/ngc404/caf09_s_nov13/mc/caf09_s_nov13_ngc404_narratio.dat', '/home/rosenfield/research/TP-AGBcalib/SNAP/models/varysfh/ngc404/caf09_s_nov13/mc/caf09_s_nov13_ngc404_opt_mass_met.dat', '/home/rosenfield/research/TP-AGBcalib/SNAP/models/varysfh/ngc404/caf09_s_nov13/mc/caf09_s_nov13_ngc404_ir_mass_met.dat']"
       ]
      },
      {
       "output_type": "stream",
       "stream": "stdout",
       "text": [
        "\n",
        "using NGC404-DEEP instead of NGC404\n",
        "using NGC404-DEEP instead of NGC404\n",
        "using NGC404-DEEP instead of NGC404"
       ]
      },
      {
       "output_type": "stream",
       "stream": "stdout",
       "text": [
        "\n",
        "using NGC404-DEEP instead of NGC404\n",
        "['/home/rosenfield/research/TP-AGBcalib/SNAP/models/varysfh/ngc404/caf09_s_nov13eta0/mc/caf09_s_nov13eta0_ngc404_opt_lf.dat', '/home/rosenfield/research/TP-AGBcalib/SNAP/models/varysfh/ngc404/caf09_s_nov13eta0/mc/caf09_s_nov13eta0_ngc404_ir_lf.dat', '/home/rosenfield/research/TP-AGBcalib/SNAP/models/varysfh/ngc404/caf09_s_nov13eta0/mc/caf09_s_nov13eta0_ngc404_narratio.dat', '/home/rosenfield/research/TP-AGBcalib/SNAP/models/varysfh/ngc404/caf09_s_nov13eta0/mc/caf09_s_nov13eta0_ngc404_opt_mass_met.dat', '/home/rosenfield/research/TP-AGBcalib/SNAP/models/varysfh/ngc404/caf09_s_nov13eta0/mc/caf09_s_nov13eta0_ngc404_ir_mass_met.dat']"
       ]
      },
      {
       "output_type": "stream",
       "stream": "stdout",
       "text": [
        "\n",
        "using NGC404-DEEP instead of NGC404\n",
        "using NGC404-DEEP instead of NGC404\n",
        "using NGC404-DEEP instead of NGC404"
       ]
      },
      {
       "output_type": "stream",
       "stream": "stdout",
       "text": [
        "\n",
        "using NGC404-DEEP instead of NGC404\n",
        "['/home/rosenfield/research/TP-AGBcalib/SNAP/models/varysfh/ngc404/caf09_s_oct13/mc/caf09_s_oct13_ngc404_opt_lf.dat', '/home/rosenfield/research/TP-AGBcalib/SNAP/models/varysfh/ngc404/caf09_s_oct13/mc/caf09_s_oct13_ngc404_ir_lf.dat', '/home/rosenfield/research/TP-AGBcalib/SNAP/models/varysfh/ngc404/caf09_s_oct13/mc/caf09_s_oct13_ngc404_narratio.dat', '/home/rosenfield/research/TP-AGBcalib/SNAP/models/varysfh/ngc404/caf09_s_oct13/mc/caf09_s_oct13_ngc404_opt_mass_met.dat', '/home/rosenfield/research/TP-AGBcalib/SNAP/models/varysfh/ngc404/caf09_s_oct13/mc/caf09_s_oct13_ngc404_ir_mass_met.dat']"
       ]
      },
      {
       "output_type": "stream",
       "stream": "stdout",
       "text": [
        "\n",
        "using NGC404-DEEP instead of NGC404\n",
        "using NGC404-DEEP instead of NGC404\n",
        "using NGC404-DEEP instead of NGC404"
       ]
      },
      {
       "output_type": "stream",
       "stream": "stdout",
       "text": [
        "\n",
        "using NGC404-DEEP instead of NGC404\n",
        "['/home/rosenfield/research/TP-AGBcalib/SNAP/models/varysfh/ddo78/caf09_s_nov13/mc/caf09_s_nov13_ddo78_opt_lf.dat', '/home/rosenfield/research/TP-AGBcalib/SNAP/models/varysfh/ddo78/caf09_s_nov13/mc/caf09_s_nov13_ddo78_ir_lf.dat', '/home/rosenfield/research/TP-AGBcalib/SNAP/models/varysfh/ddo78/caf09_s_nov13/mc/caf09_s_nov13_ddo78_narratio.dat', '/home/rosenfield/research/TP-AGBcalib/SNAP/models/varysfh/ddo78/caf09_s_nov13/mc/caf09_s_nov13_ddo78_opt_mass_met.dat', '/home/rosenfield/research/TP-AGBcalib/SNAP/models/varysfh/ddo78/caf09_s_nov13/mc/caf09_s_nov13_ddo78_ir_mass_met.dat']"
       ]
      },
      {
       "output_type": "stream",
       "stream": "stdout",
       "text": [
        "\n",
        "['/home/rosenfield/research/TP-AGBcalib/SNAP/models/varysfh/ddo78/caf09_s_nov13eta0/mc/caf09_s_nov13eta0_ddo78_opt_lf.dat', '/home/rosenfield/research/TP-AGBcalib/SNAP/models/varysfh/ddo78/caf09_s_nov13eta0/mc/caf09_s_nov13eta0_ddo78_ir_lf.dat', '/home/rosenfield/research/TP-AGBcalib/SNAP/models/varysfh/ddo78/caf09_s_nov13eta0/mc/caf09_s_nov13eta0_ddo78_narratio.dat', '/home/rosenfield/research/TP-AGBcalib/SNAP/models/varysfh/ddo78/caf09_s_nov13eta0/mc/caf09_s_nov13eta0_ddo78_opt_mass_met.dat', '/home/rosenfield/research/TP-AGBcalib/SNAP/models/varysfh/ddo78/caf09_s_nov13eta0/mc/caf09_s_nov13eta0_ddo78_ir_mass_met.dat']"
       ]
      },
      {
       "output_type": "stream",
       "stream": "stdout",
       "text": [
        "\n",
        "['/home/rosenfield/research/TP-AGBcalib/SNAP/models/varysfh/ddo78/caf09_s_oct13/mc/caf09_s_oct13_ddo78_opt_lf.dat', '/home/rosenfield/research/TP-AGBcalib/SNAP/models/varysfh/ddo78/caf09_s_oct13/mc/caf09_s_oct13_ddo78_ir_lf.dat', '/home/rosenfield/research/TP-AGBcalib/SNAP/models/varysfh/ddo78/caf09_s_oct13/mc/caf09_s_oct13_ddo78_narratio.dat', '/home/rosenfield/research/TP-AGBcalib/SNAP/models/varysfh/ddo78/caf09_s_oct13/mc/caf09_s_oct13_ddo78_opt_mass_met.dat', '/home/rosenfield/research/TP-AGBcalib/SNAP/models/varysfh/ddo78/caf09_s_oct13/mc/caf09_s_oct13_ddo78_ir_mass_met.dat']"
       ]
      },
      {
       "output_type": "stream",
       "stream": "stdout",
       "text": [
        "\n"
       ]
      }
     ],
     "prompt_number": 85
    }
   ],
   "metadata": {}
  }
 ]
}