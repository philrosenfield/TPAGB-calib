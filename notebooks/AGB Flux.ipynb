{
 "metadata": {
  "name": ""
 },
 "nbformat": 3,
 "nbformat_minor": 0,
 "worksheets": [
  {
   "cells": [
    {
     "cell_type": "code",
     "collapsed": false,
     "input": [
      "import ResolvedStellarPops as rsp\n",
      "%pylab\n"
     ],
     "language": "python",
     "metadata": {},
     "outputs": [
      {
       "output_type": "stream",
       "stream": "stdout",
       "text": [
        "Using matplotlib backend: TkAgg\n",
        "Populating the interactive namespace from numpy and matplotlib\n"
       ]
      }
     ],
     "prompt_number": 1
    },
    {
     "cell_type": "code",
     "collapsed": false,
     "input": [
      "agb_table = '/home/rosenfield/research/TP-AGBcalib/tables/melbourne2012_tab.dat'\n",
      "agb_tab = rsp.fileio.readfile(agb_table, string_column=0)"
     ],
     "language": "python",
     "metadata": {},
     "outputs": [],
     "prompt_number": 2
    },
    {
     "cell_type": "code",
     "collapsed": false,
     "input": [],
     "language": "python",
     "metadata": {},
     "outputs": [],
     "prompt_number": 53
    },
    {
     "cell_type": "code",
     "collapsed": false,
     "input": [
      "def make_jasons_plot(agb_table)\n",
      "    fig, axs = plt.subplots(ncols=2, nrows=2, figsize=(8, 8), sharex=True)\n",
      "    plt.subplots_adjust(hspace=0.05)\n",
      "    models = ['08', '10']\n",
      "    syms = ['o', 'd']\n",
      "    mfcs = ['none', 'k']\n",
      "    for i in range(len(models)):\n",
      "        nagb = agb_tab['NAGB%s' % models[i]] #/ agb_tab['NAGB']\n",
      "        n = agb_tab['NAGB%s_err' % models[i]]\n",
      "        d = agb_tab['NAGB_err']\n",
      "        nagb_err = n #(n / d) * (1./np.sqrt(n) + 1./np.sqrt(d))\n",
      "        fagb = agb_tab['fAGB%s_ftot' % models[i]] #/ agb_tab['fAGB_ftot']) / agb_tab['F160W_Flux']\n",
      "        n = agb_tab['fAGB%s_ftot_err' % models[i]]\n",
      "        d = agb_tab['fAGB_ftot_err']\n",
      "        fagb_err = n #(n / d) * (1./np.sqrt(n) + 1./np.sqrt(d))\n",
      "        axs[0][i].errorbar(agb_tab['fmass_y_2gr'], nagb, xerr=agb_tab['fmass_y_2gr_err'],\n",
      "                           yerr=nagb_err, fmt=syms[i], color='k', mfc=mfcs[i], capsize=0., ms=8)\n",
      "        axs[1][i].errorbar(agb_tab['fmass_y_2gr'], fagb, xerr=agb_tab['fmass_y_2gr_err'],\n",
      "                           yerr=nagb_err, fmt=syms[i], color='k', mfc=mfcs[i], capsize=0., ms=8)\n",
      "    \n",
      "    [ax.set_ylim(0, 6) for ax in axs[0]]\n",
      "    [ax.set_ylim(0,9.9) for ax in axs[1]]\n",
      "    [ax.hlines(1., *ax.get_xlim(), color='k', linestyles='--') for ax in axs.flatten()]\n",
      "    ax.set_xlim(0.04, .24)\n",
      "    fig.text(0.5, 0.04, r'$\\rm{Mass\\ Fraction\\ of\\ Young\\ Stars\\ (< 2\\ Gyr)}$', ha='center', va='center', fontsize=20)\n",
      "    axs[0][0].set_ylabel(r'$\\rm{AGB\\ Flux\\ (model) /\\ AGB\\ Flux\\ (data)}$', fontsize=15)\n",
      "    axs[1][0].set_ylabel(r'$\\rm{\\# AGB\\ (model) /\\ \\# AGB (data)}$', fontsize=15)\n",
      "    axs[0][0].set_title(r'$(2008)$', fontsize=15)\n",
      "    axs[0][1].set_title(r'$(2010)$', fontsize=15)"
     ],
     "language": "python",
     "metadata": {},
     "outputs": [
      {
       "metadata": {},
       "output_type": "pyout",
       "prompt_number": 52,
       "text": [
        "<matplotlib.text.Text at 0x10794cd0>"
       ]
      }
     ],
     "prompt_number": 52
    },
    {
     "cell_type": "code",
     "collapsed": false,
     "input": [
      "plt.close('all')"
     ],
     "language": "python",
     "metadata": {},
     "outputs": [],
     "prompt_number": 54
    },
    {
     "cell_type": "code",
     "collapsed": false,
     "input": [
      "ddo71_sim = '/home/rosenfield/research/TP-AGBcalib/SNAP/models/varysfh/comp_corr/ddo71/caf09_s_nov13/mc/output_DDO71_004_opt_best.dat'\n",
      "norms_file = '/home/rosenfield/research/TP-AGBcalib/SNAP/models/varysfh/comp_corr/ddo71/caf09_s_nov13/mc/output_DDO71_004_opt_best_norms.dat'\n"
     ],
     "language": "python",
     "metadata": {},
     "outputs": [],
     "prompt_number": 3
    },
    {
     "cell_type": "code",
     "collapsed": false,
     "input": [
      "sgal = rsp.SimGalaxy(ddo71_sim, filter1='F814W', filter2='F160W')"
     ],
     "language": "python",
     "metadata": {},
     "outputs": [],
     "prompt_number": 4
    },
    {
     "cell_type": "code",
     "collapsed": false,
     "input": [
      "opt_norm, ir_norm = np.genfromtxt(norms_file, unpack=True)"
     ],
     "language": "python",
     "metadata": {},
     "outputs": [],
     "prompt_number": 5
    },
    {
     "cell_type": "code",
     "collapsed": false,
     "input": [
      "#ax = sgal.plot_cmd(sgal.data.F814W-sgal.data.F160W, sgal.data.F160W, threshold=200)\n",
      "fig, ax = plt.subplots()\n",
      "ax.scatter(sgal.data.F814W-sgal.data.F160W, sgal.data.F160W, c=sgal.data.stage)"
     ],
     "language": "python",
     "metadata": {},
     "outputs": [
      {
       "metadata": {},
       "output_type": "pyout",
       "prompt_number": 6,
       "text": [
        "<matplotlib.collections.PathCollection at 0x4440390>"
       ]
      }
     ],
     "prompt_number": 6
    },
    {
     "cell_type": "code",
     "collapsed": false,
     "input": [
      "sgal.data.mM0"
     ],
     "language": "python",
     "metadata": {},
     "outputs": [
      {
       "metadata": {},
       "output_type": "pyout",
       "prompt_number": 7,
       "text": [
        "array([ 27.74,  27.74,  27.74, ...,  27.74,  27.74,  27.74])"
       ]
      }
     ],
     "prompt_number": 7
    },
    {
     "cell_type": "code",
     "collapsed": false,
     "input": [
      "from scipy.io.idl import readsav "
     ],
     "language": "python",
     "metadata": {},
     "outputs": [],
     "prompt_number": 8
    },
    {
     "cell_type": "code",
     "collapsed": false,
     "input": [
      "idldict = readsav('/home/rosenfield/Downloads/vecs_ir.sav')"
     ],
     "language": "python",
     "metadata": {},
     "outputs": [],
     "prompt_number": 9
    },
    {
     "cell_type": "code",
     "collapsed": false,
     "input": [
      "ax.plot(idldict['xpolyvec_agb'], idldict['ypolyvec_agb'])"
     ],
     "language": "python",
     "metadata": {},
     "outputs": [
      {
       "metadata": {},
       "output_type": "pyout",
       "prompt_number": 10,
       "text": [
        "[<matplotlib.lines.Line2D at 0xdfa43b10>]"
       ]
      }
     ],
     "prompt_number": 10
    },
    {
     "cell_type": "code",
     "collapsed": false,
     "input": [
      "plt.draw()"
     ],
     "language": "python",
     "metadata": {},
     "outputs": [],
     "prompt_number": 11
    },
    {
     "cell_type": "code",
     "collapsed": false,
     "input": [
      "trgb, av, dmod = rsp.angst_tables.angst_data.get_snap_trgb_av_dmod('DDO71')"
     ],
     "language": "python",
     "metadata": {},
     "outputs": [],
     "prompt_number": 12
    },
    {
     "cell_type": "code",
     "collapsed": false,
     "input": [
      "trgb = 22.08"
     ],
     "language": "python",
     "metadata": {},
     "outputs": [],
     "prompt_number": 13
    },
    {
     "cell_type": "code",
     "collapsed": false,
     "input": [
      "idldict['ypolyvec_agb'][1:3] = trgb"
     ],
     "language": "python",
     "metadata": {},
     "outputs": [],
     "prompt_number": 14
    },
    {
     "cell_type": "code",
     "collapsed": false,
     "input": [
      "from matplotlib.nxutils import points_inside_poly"
     ],
     "language": "python",
     "metadata": {},
     "outputs": [],
     "prompt_number": 15
    },
    {
     "cell_type": "code",
     "collapsed": false,
     "input": [
      "verts = np.column_stack((idldict['xpolyvec_agb'], idldict['ypolyvec_agb']))\n",
      "points = np.column_stack((sgal.data.F814W-sgal.data.F160W, sgal.data.F160W))"
     ],
     "language": "python",
     "metadata": {},
     "outputs": [],
     "prompt_number": 16
    },
    {
     "cell_type": "code",
     "collapsed": false,
     "input": [
      "itpagb, = np.nonzero(points_inside_poly(points, verts))"
     ],
     "language": "python",
     "metadata": {},
     "outputs": [
      {
       "output_type": "stream",
       "stream": "stderr",
       "text": [
        "nxutils is deprecated.  Use matplotlib.path.Path.contains_points instead.\n"
       ]
      }
     ],
     "prompt_number": 17
    },
    {
     "cell_type": "code",
     "collapsed": false,
     "input": [
      "np.sum(10**(-.4*sgal.data.F160W[itpagb])) * 3.8834941e-07\n",
      "    \n"
     ],
     "language": "python",
     "metadata": {},
     "outputs": [
      {
       "metadata": {},
       "output_type": "pyout",
       "prompt_number": 65,
       "text": [
        "9.6802503093619525e-13"
       ]
      }
     ],
     "prompt_number": 65
    },
    {
     "cell_type": "code",
     "collapsed": false,
     "input": [
      "fagb_data  = agb_tab['fAGB_ftot'] * agb_tab['F160W_Flux']"
     ],
     "language": "python",
     "metadata": {},
     "outputs": [],
     "prompt_number": 127
    },
    {
     "cell_type": "code",
     "collapsed": false,
     "input": [
      "fagb_data"
     ],
     "language": "python",
     "metadata": {},
     "outputs": [
      {
       "metadata": {},
       "output_type": "pyout",
       "prompt_number": 142,
       "text": [
        "array([  6.04000000e-17,   1.06400000e-16,   4.57000000e-16,\n",
        "         2.86300000e-17,   2.38800000e-17,   7.76900000e-16,\n",
        "         2.35300000e-17,   6.83000000e-17,   7.67200000e-17,\n",
        "         9.58500000e-16,   1.39230000e-16,   1.45000000e-16,\n",
        "         1.14300000e-16,   1.65000000e-16,   4.53600000e-16,\n",
        "         1.03800000e-16,   2.10000000e-17,   5.11500000e-16,\n",
        "         5.52500000e-16,   1.62500000e-16,   2.10000000e-16,\n",
        "         2.74400000e-16,   4.19900000e-17])"
       ]
      }
     ],
     "prompt_number": 142
    },
    {
     "cell_type": "code",
     "collapsed": false,
     "input": [
      "import pyfits"
     ],
     "language": "python",
     "metadata": {},
     "outputs": [],
     "prompt_number": 22
    },
    {
     "cell_type": "code",
     "collapsed": false,
     "input": [
      "data = pyfits.getdata('/home/rosenfield/Desktop/alpha_lyr_mod_001.fits')"
     ],
     "language": "python",
     "metadata": {},
     "outputs": [],
     "prompt_number": 53
    },
    {
     "cell_type": "code",
     "collapsed": false,
     "input": [
      "dhdu = pyfits.open('/home/rosenfield/Desktop/alpha_lyr_004.fits')"
     ],
     "language": "python",
     "metadata": {},
     "outputs": [],
     "prompt_number": 47
    },
    {
     "cell_type": "code",
     "collapsed": false,
     "input": [
      "dhdu[1].header"
     ],
     "language": "python",
     "metadata": {},
     "outputs": [
      {
       "metadata": {},
       "output_type": "pyout",
       "prompt_number": 54,
       "text": [
        "XTENSION= 'BINTABLE'           / binary table extension                         \n",
        "BITPIX  =                    8 / 8-bit bytes                                    \n",
        "NAXIS   =                    2 / 2-dimensional binary table                     \n",
        "NAXIS1  =                   20 / width of table in bytes                        \n",
        "NAXIS2  =                 1679                                                  \n",
        "PCOUNT  =                    0 / size of special data area                      \n",
        "GCOUNT  =                    1 / one data group (required keyword)              \n",
        "TFIELDS =                    5                                                  \n",
        "TTYPE1  = 'WAVELENGTH'         / label for field   1                            \n",
        "TFORM1  = '1E      '           / data format of field: 4-byte REAL              \n",
        "TUNIT1  = 'ANGSTROMS'          / physical unit of field                         \n",
        "TTYPE2  = 'FLUX    '           / label for field   2                            \n",
        "TFORM2  = '1E      '           / data format of field: 4-byte REAL              \n",
        "TUNIT2  = 'FLAM    '           / physical unit of field                         \n",
        "TTYPE3  = 'STATERROR'          / label for field   3                            \n",
        "TFORM3  = '1E      '           / data format of field: 4-byte REAL              \n",
        "TUNIT3  = 'FLAM    '           / physical unit of field                         \n",
        "TTYPE4  = 'SYSERROR'           / label for field   4                            \n",
        "TFORM4  = '1E      '           / data format of field: 4-byte REAL              \n",
        "TUNIT4  = 'FLAM    '           / physical unit of field                         \n",
        "TTYPE5  = 'FWHM    '           / label for field   5                            \n",
        "TFORM5  = '1E      '           / data format of field: 4-byte REAL              \n",
        "TUNIT5  = 'ANGSTROMS'          / physical unit of field                         \n",
        "TDISP1  = 'G16.8   '           / display format                                 \n",
        "TDISP2  = 'G16.8   '           / display format                                 \n",
        "TDISP3  = 'G16.8   '           / display format                                 \n",
        "TDISP4  = 'G16.8   '           / display format                                 \n",
        "TDISP5  = 'G16.8   '           / display format                                 "
       ]
      }
     ],
     "prompt_number": 54
    },
    {
     "cell_type": "code",
     "collapsed": false,
     "input": [
      "fig, ax = plt.subplots()\n",
      "ax.plot(data.WAVELENGTH, data.FLUX)\n",
      "import scipy.integrate"
     ],
     "language": "python",
     "metadata": {},
     "outputs": [],
     "prompt_number": 56
    },
    {
     "cell_type": "code",
     "collapsed": false,
     "input": [
      "scipy.integrate.trapz(data.FLUX[2742:2916], x=data.WAVELENGTH[2742:2916])"
     ],
     "language": "python",
     "metadata": {},
     "outputs": [
      {
       "metadata": {},
       "output_type": "pyout",
       "prompt_number": 64,
       "text": [
        "3.8834941e-07"
       ]
      }
     ],
     "prompt_number": 64
    },
    {
     "cell_type": "code",
     "collapsed": false,
     "input": [
      "np.argmin(np.abs(data.WAVELENGTH - (15369+1341.5)))\n"
     ],
     "language": "python",
     "metadata": {},
     "outputs": [
      {
       "metadata": {},
       "output_type": "pyout",
       "prompt_number": 63,
       "text": [
        "2916"
       ]
      }
     ],
     "prompt_number": 63
    },
    {
     "cell_type": "code",
     "collapsed": false,
     "input": [
      "data.WAVELENGTH"
     ],
     "language": "python",
     "metadata": {},
     "outputs": [
      {
       "metadata": {},
       "output_type": "pyout",
       "prompt_number": 55,
       "text": [
        "array([  8.99450989e+02,   9.00353027e+02,   9.01255005e+02, ...,\n",
        "         2.99353200e+06,   2.99653275e+06,   2.99953700e+06], dtype=float32)"
       ]
      }
     ],
     "prompt_number": 55
    },
    {
     "cell_type": "code",
     "collapsed": false,
     "input": [],
     "language": "python",
     "metadata": {},
     "outputs": []
    }
   ],
   "metadata": {}
  }
 ]
}