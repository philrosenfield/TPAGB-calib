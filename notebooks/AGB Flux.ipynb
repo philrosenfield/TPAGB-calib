{
 "metadata": {
  "name": "",
  "signature": "sha256:b0764a2c0a7dd4572f543371074081006d22b21fd9d14b740e593d246c666bf5"
 },
 "nbformat": 3,
 "nbformat_minor": 0,
 "worksheets": [
  {
   "cells": [
    {
     "cell_type": "code",
     "collapsed": false,
     "input": [
      "import ResolvedStellarPops as rsp\n",
      "from matplotlib.nxutils import points_inside_poly\n",
      "import os\n",
      "import pyfits\n",
      "%pylab"
     ],
     "language": "python",
     "metadata": {},
     "outputs": [
      {
       "output_type": "stream",
       "stream": "stdout",
       "text": [
        "Using matplotlib backend: MacOSX\n",
        "Populating the interactive namespace from numpy and matplotlib\n"
       ]
      }
     ],
     "prompt_number": 4
    },
    {
     "cell_type": "code",
     "collapsed": false,
     "input": [
      "# \n"
     ],
     "language": "python",
     "metadata": {},
     "outputs": [],
     "prompt_number": 2
    },
    {
     "cell_type": "code",
     "collapsed": false,
     "input": [],
     "language": "python",
     "metadata": {},
     "outputs": [],
     "prompt_number": 3
    },
    {
     "cell_type": "code",
     "collapsed": false,
     "input": [],
     "language": "python",
     "metadata": {},
     "outputs": [],
     "prompt_number": 6
    },
    {
     "cell_type": "code",
     "collapsed": false,
     "input": [
      "def make_jasons_plot(agb_table)\n",
      "    agb_table = '/home/rosenfield/research/TP-AGBcalib/tables/melbourne2012_tab.dat'\n",
      "    agb_tab = rsp.fileio.readfile(agb_table, string_column=0)\n",
      "    fig, axs = plt.subplots(ncols=2, nrows=2, figsize=(8, 8), sharex=True)\n",
      "    plt.subplots_adjust(hspace=0.05)\n",
      "    models = ['08', '10']\n",
      "    syms = ['o', 'd']\n",
      "    mfcs = ['none', 'k']\n",
      "    for i in range(len(models)):\n",
      "        nagb = agb_tab['NAGB%s' % models[i]] #/ agb_tab['NAGB']\n",
      "        n = agb_tab['NAGB%s_err' % models[i]]\n",
      "        d = agb_tab['NAGB_err']\n",
      "        nagb_err = n #(n / d) * (1./np.sqrt(n) + 1./np.sqrt(d))\n",
      "        fagb = agb_tab['fAGB%s_ftot' % models[i]] #/ agb_tab['fAGB_ftot']) / agb_tab['F160W_Flux']\n",
      "        n = agb_tab['fAGB%s_ftot_err' % models[i]]\n",
      "        d = agb_tab['fAGB_ftot_err']\n",
      "        fagb_err = n #(n / d) * (1./np.sqrt(n) + 1./np.sqrt(d))\n",
      "        axs[0][i].errorbar(agb_tab['fmass_y_2gr'], nagb, xerr=agb_tab['fmass_y_2gr_err'],\n",
      "                           yerr=nagb_err, fmt=syms[i], color='k', mfc=mfcs[i], capsize=0., ms=8)\n",
      "        axs[1][i].errorbar(agb_tab['fmass_y_2gr'], fagb, xerr=agb_tab['fmass_y_2gr_err'],\n",
      "                           yerr=nagb_err, fmt=syms[i], color='k', mfc=mfcs[i], capsize=0., ms=8)\n",
      "    \n",
      "    [ax.set_ylim(0, 6) for ax in axs[0]]\n",
      "    [ax.set_ylim(0,9.9) for ax in axs[1]]\n",
      "    [ax.hlines(1., *ax.get_xlim(), color='k', linestyles='--') for ax in axs.flatten()]\n",
      "    ax.set_xlim(0.04, .24)\n",
      "    fig.text(0.5, 0.04, r'$\\rm{Mass\\ Fraction\\ of\\ Young\\ Stars\\ (< 2\\ Gyr)}$', ha='center', va='center', fontsize=20)\n",
      "    axs[0][0].set_ylabel(r'$\\rm{AGB\\ Flux\\ (model) /\\ AGB\\ Flux\\ (data)}$', fontsize=15)\n",
      "    axs[1][0].set_ylabel(r'$\\rm{\\# AGB\\ (model) /\\ \\# AGB (data)}$', fontsize=15)\n",
      "    axs[0][0].set_title(r'$(2008)$', fontsize=15)\n",
      "    axs[0][1].set_title(r'$(2010)$', fontsize=15)"
     ],
     "language": "python",
     "metadata": {},
     "outputs": [
      {
       "metadata": {},
       "output_type": "pyout",
       "prompt_number": 52,
       "text": [
        "<matplotlib.text.Text at 0x10794cd0>"
       ]
      }
     ],
     "prompt_number": 52
    },
    {
     "cell_type": "code",
     "collapsed": false,
     "input": [
      "def tpagb_stars(starpop, jason=False):\n",
      "        trgb  = rsp.angst_tables.angst_data.get_snap_trgb_av_dmod(starpop.target)[0]\n",
      "    if jason:\n",
      "        from scipy.io.idl import readsav \n",
      "        idldict = readsav('/home/rosenfield/Downloads/vecs_ir.sav')\n",
      "        idldict['ypolyvec_agb'][1:3] = trgb\n",
      "        #ax.plot(idldict['xpolyvec_agb'], idldict['ypolyvec_agb'])\n",
      "        verts = np.column_stack((idldict['xpolyvec_agb'], idldict['ypolyvec_agb']))\n",
      "        points = np.column_stack((starpop.data.F814W - starpop.data.F160W, starpop.data.F160W))\n",
      "        itpagb, = np.nonzero(points_inside_poly(points, verts))\n",
      "    else:\n",
      "        ir_color_limit = 0.3\n",
      "        itpagb, = np.nonzero((starpop.data.F160W < trgb) & (starpop.data.F110W-starpop.data.F160W > 0.3))\n",
      "    return itpagb"
     ],
     "language": "python",
     "metadata": {},
     "outputs": [
      {
       "metadata": {},
       "output_type": "pyout",
       "prompt_number": 8,
       "text": [
        "array([ 13.36499977,  14.62800026,  15.09200001, ...,  25.12800026,\n",
        "        25.13199997,  25.20100021], dtype=float32)"
       ]
      }
     ],
     "prompt_number": 8
    },
    {
     "cell_type": "code",
     "collapsed": false,
     "input": [
      "ddo71_sim = '/home/rosenfield/research/TP-AGBcalib/SNAP/models/varysfh/comp_corr/ddo71/caf09_s_nov13/mc/output_DDO71_004_opt_best.dat'\n",
      "norms_file = '/home/rosenfield/research/TP-AGBcalib/SNAP/models/varysfh/comp_corr/ddo71/caf09_s_nov13/mc/output_DDO71_004_opt_best_norms.dat'\n",
      "sgal = rsp.SimGalaxy(ddo71_sim, filter1='F814W', filter2='F160W')\n",
      "itpagb = tpagb_stars(gal)\n",
      "# do the normalization and get the randos...\n",
      "opt_norm, ir_norm = np.genfromtxt(norms_file, unpack=True)\n",
      "sgal.flux = np.sum(10**(-.4*sgal.data.F160W[itpagb])) # * 3.8834941e-07\n"
     ],
     "language": "python",
     "metadata": {},
     "outputs": [],
     "prompt_number": 3
    },
    {
     "cell_type": "code",
     "collapsed": false,
     "input": [
      "data_folder = '/Users/phil/research/TP-AGBcalib/SNAP/data/galaxies/'\n",
      "data_file = os.path.join(data_folder, '11719_DDO71_IR_F110W_F160W.gst.fits')\n",
      "gal = rsp.StarPop()\n",
      "gal.data = pyfits.getdata(data_file)\n",
      "itpagb = tpagb_stars(gal)\n",
      "gal.flux = np.sum(10**(-.4*gal.data.F160W[itpagb]))"
     ],
     "language": "python",
     "metadata": {},
     "outputs": [],
     "prompt_number": 4
    },
    {
     "cell_type": "code",
     "collapsed": false,
     "input": [
      "print sgal.flux/gal.flux"
     ],
     "language": "python",
     "metadata": {},
     "outputs": [],
     "prompt_number": 5
    },
    {
     "cell_type": "code",
     "collapsed": false,
     "input": [
      "#ax = sgal.plot_cmd(sgal.data.F814W-sgal.data.F160W, sgal.data.F160W, threshold=200)\n",
      "#fig, ax = plt.subplots()\n",
      "#ax.scatter(sgal.data.F814W-sgal.data.F160W, sgal.data.F160W, c=sgal.data.stage)"
     ],
     "language": "python",
     "metadata": {},
     "outputs": [
      {
       "metadata": {},
       "output_type": "pyout",
       "prompt_number": 6,
       "text": [
        "<matplotlib.collections.PathCollection at 0x4440390>"
       ]
      }
     ],
     "prompt_number": 6
    },
    {
     "cell_type": "code",
     "collapsed": false,
     "input": [],
     "language": "python",
     "metadata": {},
     "outputs": [
      {
       "metadata": {},
       "output_type": "pyout",
       "prompt_number": 7,
       "text": [
        "array([ 27.74,  27.74,  27.74, ...,  27.74,  27.74,  27.74])"
       ]
      }
     ],
     "prompt_number": 7
    },
    {
     "cell_type": "code",
     "collapsed": false,
     "input": [],
     "language": "python",
     "metadata": {},
     "outputs": [],
     "prompt_number": 8
    },
    {
     "cell_type": "code",
     "collapsed": false,
     "input": [],
     "language": "python",
     "metadata": {},
     "outputs": [],
     "prompt_number": 9
    },
    {
     "cell_type": "code",
     "collapsed": false,
     "input": [],
     "language": "python",
     "metadata": {},
     "outputs": [
      {
       "metadata": {},
       "output_type": "pyout",
       "prompt_number": 10,
       "text": [
        "[<matplotlib.lines.Line2D at 0xdfa43b10>]"
       ]
      }
     ],
     "prompt_number": 10
    },
    {
     "cell_type": "code",
     "collapsed": false,
     "input": [],
     "language": "python",
     "metadata": {},
     "outputs": [],
     "prompt_number": 11
    },
    {
     "cell_type": "code",
     "collapsed": false,
     "input": [],
     "language": "python",
     "metadata": {},
     "outputs": [],
     "prompt_number": 12
    },
    {
     "cell_type": "code",
     "collapsed": false,
     "input": [],
     "language": "python",
     "metadata": {},
     "outputs": [],
     "prompt_number": 13
    },
    {
     "cell_type": "code",
     "collapsed": false,
     "input": [],
     "language": "python",
     "metadata": {},
     "outputs": [],
     "prompt_number": 14
    },
    {
     "cell_type": "code",
     "collapsed": false,
     "input": [],
     "language": "python",
     "metadata": {},
     "outputs": [],
     "prompt_number": 15
    },
    {
     "cell_type": "code",
     "collapsed": false,
     "input": [],
     "language": "python",
     "metadata": {},
     "outputs": [],
     "prompt_number": 16
    },
    {
     "cell_type": "code",
     "collapsed": false,
     "input": [],
     "language": "python",
     "metadata": {},
     "outputs": [
      {
       "output_type": "stream",
       "stream": "stderr",
       "text": [
        "nxutils is deprecated.  Use matplotlib.path.Path.contains_points instead.\n"
       ]
      }
     ],
     "prompt_number": 17
    },
    {
     "cell_type": "code",
     "collapsed": false,
     "input": [
      "    \n"
     ],
     "language": "python",
     "metadata": {},
     "outputs": [
      {
       "metadata": {},
       "output_type": "pyout",
       "prompt_number": 65,
       "text": [
        "9.6802503093619525e-13"
       ]
      }
     ],
     "prompt_number": 65
    },
    {
     "cell_type": "code",
     "collapsed": false,
     "input": [
      "fagb_data  = agb_tab['fAGB_ftot'] * agb_tab['F160W_Flux']"
     ],
     "language": "python",
     "metadata": {},
     "outputs": [],
     "prompt_number": 127
    },
    {
     "cell_type": "code",
     "collapsed": false,
     "input": [
      "fagb_data"
     ],
     "language": "python",
     "metadata": {},
     "outputs": [
      {
       "metadata": {},
       "output_type": "pyout",
       "prompt_number": 142,
       "text": [
        "array([  6.04000000e-17,   1.06400000e-16,   4.57000000e-16,\n",
        "         2.86300000e-17,   2.38800000e-17,   7.76900000e-16,\n",
        "         2.35300000e-17,   6.83000000e-17,   7.67200000e-17,\n",
        "         9.58500000e-16,   1.39230000e-16,   1.45000000e-16,\n",
        "         1.14300000e-16,   1.65000000e-16,   4.53600000e-16,\n",
        "         1.03800000e-16,   2.10000000e-17,   5.11500000e-16,\n",
        "         5.52500000e-16,   1.62500000e-16,   2.10000000e-16,\n",
        "         2.74400000e-16,   4.19900000e-17])"
       ]
      }
     ],
     "prompt_number": 142
    },
    {
     "cell_type": "code",
     "collapsed": false,
     "input": [
      "def vegaflux():\n",
      "    import scipy.integrate\n",
      "    data = pyfits.getdata('/home/rosenfield/Desktop/alpha_lyr_mod_001.fits')\n",
      "    dhdu = pyfits.open('/home/rosenfield/Desktop/alpha_lyr_004.fits')\n",
      "    scipy.integrate.trapz(data.FLUX[2742:2916], x=data.WAVELENGTH[2742:2916])\n",
      "    #found em by hand...\n",
      "    np.argmin(np.abs(data.WAVELENGTH - (15369+1341.5)))\n",
      "    #fig, ax = plt.subplots()\n",
      "    #ax.plot(data.WAVELENGTH, data.FLUX)"
     ],
     "language": "python",
     "metadata": {},
     "outputs": [],
     "prompt_number": 22
    },
    {
     "cell_type": "code",
     "collapsed": false,
     "input": [],
     "language": "python",
     "metadata": {},
     "outputs": [],
     "prompt_number": 53
    },
    {
     "cell_type": "code",
     "collapsed": false,
     "input": [],
     "language": "python",
     "metadata": {},
     "outputs": [],
     "prompt_number": 47
    },
    {
     "cell_type": "code",
     "collapsed": false,
     "input": [],
     "language": "python",
     "metadata": {},
     "outputs": [],
     "prompt_number": 8
    },
    {
     "cell_type": "code",
     "collapsed": false,
     "input": [],
     "language": "python",
     "metadata": {},
     "outputs": [],
     "prompt_number": 56
    },
    {
     "cell_type": "code",
     "collapsed": false,
     "input": [],
     "language": "python",
     "metadata": {},
     "outputs": [
      {
       "metadata": {},
       "output_type": "pyout",
       "prompt_number": 64,
       "text": [
        "3.8834941e-07"
       ]
      }
     ],
     "prompt_number": 64
    },
    {
     "cell_type": "code",
     "collapsed": false,
     "input": [],
     "language": "python",
     "metadata": {},
     "outputs": [
      {
       "metadata": {},
       "output_type": "pyout",
       "prompt_number": 63,
       "text": [
        "2916"
       ]
      }
     ],
     "prompt_number": 63
    },
    {
     "cell_type": "code",
     "collapsed": false,
     "input": [],
     "language": "python",
     "metadata": {},
     "outputs": [
      {
       "metadata": {},
       "output_type": "pyout",
       "prompt_number": 55,
       "text": [
        "array([  8.99450989e+02,   9.00353027e+02,   9.01255005e+02, ...,\n",
        "         2.99353200e+06,   2.99653275e+06,   2.99953700e+06], dtype=float32)"
       ]
      }
     ],
     "prompt_number": 55
    },
    {
     "cell_type": "code",
     "collapsed": false,
     "input": [],
     "language": "python",
     "metadata": {},
     "outputs": []
    }
   ],
   "metadata": {}
  }
 ]
}