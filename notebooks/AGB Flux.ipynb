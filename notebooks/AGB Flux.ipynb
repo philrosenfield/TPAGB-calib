{
 "metadata": {
  "name": "",
  "signature": "sha256:b0764a2c0a7dd4572f543371074081006d22b21fd9d14b740e593d246c666bf5"
 },
 "nbformat": 3,
 "nbformat_minor": 0,
 "worksheets": [
  {
   "cells": [
    {
     "cell_type": "code",
     "collapsed": false,
     "input": [],
     "language": "python",
     "metadata": {},
     "outputs": [
      {
       "output_type": "stream",
       "stream": "stdout",
       "text": [
        "Using matplotlib backend: TkAgg\n",
        "Populating the interactive namespace from numpy and matplotlib\n"
       ]
      }
     ],
     "prompt_number": 1
    },
    {
     "cell_type": "code",
     "collapsed": false,
     "input": [],
     "language": "python",
     "metadata": {},
     "outputs": [],
     "prompt_number": "*"
    },
    {
     "cell_type": "code",
     "collapsed": false,
     "input": [],
     "language": "python",
     "metadata": {},
     "outputs": [
      {
       "ename": "SyntaxError",
       "evalue": "'return' outside function (<ipython-input-40-c15d66a60c4d>, line 5)",
       "output_type": "pyerr",
       "traceback": [
        "\u001b[1;36m  File \u001b[1;32m\"<ipython-input-40-c15d66a60c4d>\"\u001b[1;36m, line \u001b[1;32m5\u001b[0m\n\u001b[1;33m    return StarPop\u001b[0m\n\u001b[1;31mSyntaxError\u001b[0m\u001b[1;31m:\u001b[0m 'return' outside function\n"
       ]
      }
     ],
     "prompt_number": 40
    },
    {
     "cell_type": "code",
     "collapsed": false,
     "input": [],
     "language": "python",
     "metadata": {},
     "outputs": [],
     "prompt_number": 37
    },
    {
     "cell_type": "code",
     "collapsed": false,
     "input": [
      "def make_jasons_plot(agb_table)\n",
      "    agb_table = '/home/rosenfield/research/TP-AGBcalib/tables/melbourne2012_tab.dat'\n",
      "    agb_tab = rsp.fileio.readfile(agb_table, string_column=0)\n",
      "    fig, axs = plt.subplots(ncols=2, nrows=2, figsize=(8, 8), sharex=True)\n",
      "    plt.subplots_adjust(hspace=0.05)\n",
      "    models = ['08', '10']\n",
      "    syms = ['o', 'd']\n",
      "    mfcs = ['none', 'k']\n",
      "    for i in range(len(models)):\n",
      "        nagb = agb_tab['NAGB%s' % models[i]] #/ agb_tab['NAGB']\n",
      "        n = agb_tab['NAGB%s_err' % models[i]]\n",
      "        d = agb_tab['NAGB_err']\n",
      "        nagb_err = n #(n / d) * (1./np.sqrt(n) + 1./np.sqrt(d))\n",
      "        fagb = agb_tab['fAGB%s_ftot' % models[i]] #/ agb_tab['fAGB_ftot']) / agb_tab['F160W_Flux']\n",
      "        n = agb_tab['fAGB%s_ftot_err' % models[i]]\n",
      "        d = agb_tab['fAGB_ftot_err']\n",
      "        fagb_err = n #(n / d) * (1./np.sqrt(n) + 1./np.sqrt(d))\n",
      "        axs[0][i].errorbar(agb_tab['fmass_y_2gr'], nagb, xerr=agb_tab['fmass_y_2gr_err'],\n",
      "                           yerr=nagb_err, fmt=syms[i], color='k', mfc=mfcs[i], capsize=0., ms=8)\n",
      "        axs[1][i].errorbar(agb_tab['fmass_y_2gr'], fagb, xerr=agb_tab['fmass_y_2gr_err'],\n",
      "                           yerr=nagb_err, fmt=syms[i], color='k', mfc=mfcs[i], capsize=0., ms=8)\n",
      "    \n",
      "    [ax.set_ylim(0, 6) for ax in axs[0]]\n",
      "    [ax.set_ylim(0,9.9) for ax in axs[1]]\n",
      "    [ax.hlines(1., *ax.get_xlim(), color='k', linestyles='--') for ax in axs.flatten()]\n",
      "    ax.set_xlim(0.04, .24)\n",
      "    fig.text(0.5, 0.04, r'$\\rm{Mass\\ Fraction\\ of\\ Young\\ Stars\\ (< 2\\ Gyr)}$', ha='center', va='center', fontsize=20)\n",
      "    axs[0][0].set_ylabel(r'$\\rm{AGB\\ Flux\\ (model) /\\ AGB\\ Flux\\ (data)}$', fontsize=15)\n",
      "    axs[1][0].set_ylabel(r'$\\rm{\\# AGB\\ (model) /\\ \\# AGB (data)}$', fontsize=15)\n",
      "    axs[0][0].set_title(r'$(2008)$', fontsize=15)\n",
      "    axs[0][1].set_title(r'$(2010)$', fontsize=15)"
     ],
     "language": "python",
     "metadata": {},
     "outputs": [
      {
       "metadata": {},
       "output_type": "pyout",
       "prompt_number": 52,
       "text": [
        "<matplotlib.text.Text at 0x10794cd0>"
       ]
      }
     ],
     "prompt_number": 52
    },
    {
     "cell_type": "code",
     "collapsed": false,
     "input": [
      "def select_rgbagb(StarPop, field1, field2, color_lim, offset, trgb_exclude, trgb):\n",
      "    StarPop.color_cut, = np.nonzero(StarPop.data[field1] - StarPop.data[field2] > color_lim)\n",
      "    StarPop.mag = StarPop.data[field2][StarPop.color_cut]\n",
      "    StarPop.rgb, StarPop.agb = rgb_agb_regions(offset, trgb_exclude, trgb, StarPop.mag)\n",
      "    return StarPop\n"
     ],
     "language": "python",
     "metadata": {},
     "outputs": [],
     "prompt_number": 3
    },
    {
     "cell_type": "code",
     "collapsed": false,
     "input": [
      "offset = 1.5\n",
      "trgb_exclude = 0.2\n",
      "color_lim = 0.3\n",
      "\n",
      "data_folder = '/home/rosenfield/research/TP-AGBcalib/SNAP/data/galaxies/'\n",
      "\n",
      "data_files = ['11719_DDO71_IR_F110W_F160W.gst.fits',\n",
      "              '11719_DDO78_IR_F110W_F160W.gst.fits',\n",
      "              '11719_HS117_IR_F110W_F160W.gst.fits',\n",
      "              '11719_KKH37_IR_F110W_F160W.gst.fits',\n",
      "              '11719_NGC2976-DEEP_IR_F110W_F160W.gst.fits',\n",
      "              '11719_SCL-DE1_IR_F110W_F160W.gst.fits']\n",
      "\n",
      "model_folder =  '/home/rosenfield/research/TP-AGBcalib/SNAP/models/varysfh/comp_corr/'\n",
      "model_files = ['ddo71/caf09_s_nov13/mc/output_DDO71_004_opt_best.dat',\n",
      "               'ddo78/caf09_s_nov13/mc/output_DDO78_029_opt_best.dat',\n",
      "               'hs117/caf09_s_nov13/mc/output_HS117_027_opt_best.dat',\n",
      "               'kkh37/caf09_s_nov13/mc/output_KKH37_027_opt_best.dat',\n",
      "               'ngc2976-deep/caf09_s_nov13/mc/output_NGC2976-DEEP_036_opt_best.dat',\n",
      "               'scl-de1/caf09_s_nov13/mc/output_SCL-DE1_015_opt_best.dat']\n",
      "\n",
      "sgals = []\n",
      "gals = []\n",
      "for i in range(len(data_files)):\n",
      "    dfname = os.path.join(data_folder, data_files[i])\n",
      "    mfname =  os.path.join(model_folder, model_files[i])\n",
      "\n",
      "    sgal = load_model(mfname)\n",
      "    sgal.target = os.path.split(dfname)[1].split('_')[1]\n",
      "    trgb  = rsp.angst_tables.angst_data.get_snap_trgb_av_dmod(sgal.target)[0]\n",
      "    sgal = select_rgbagb(sgal, 'F110W', 'F160W', color_lim, offset, trgb_exclude, trgb)\n",
      "\n",
      "    gal = rsp.StarPop()\n",
      "    gal.target = sgal.target\n",
      "    gal.data = pyfits.getdata(dfname)\n",
      "    gal = select_rgbagb(gal, 'MAG1_IR', 'MAG2_IR', color_lim, offset, trgb_exclude, trgb)\n",
      "    gal.agbflux = np.sum(10 ** (-.4 * gal.mag[gal.agb]))\n",
      "\n",
      "    sgal.norm,  sgal.norm_rgb, sgal.norm_agb = normalize_simulation(sgal.mag, float(len(gal.rgb)), sgal.rgb, sgal.agb)\n",
      "    sgal.agbflux = np.sum(10 ** (-.4 * sgal.mag[sgal.norm_agb]))\n",
      "    print '%s %g %i %i %g' % (sgal.target, sgal.agbflux/gal.agbflux, len(gal.agb), len(sgal.agb), float(len(sgal.agb))/float(len(gal.agb)))\n",
      "    sgals.append(sgal)\n",
      "    gals.append(gal)\n",
      "    del sgal"
     ],
     "language": "python",
     "metadata": {},
     "outputs": [
      {
       "output_type": "stream",
       "stream": "stdout",
       "text": [
        "DDO71 0.0786673 148 683 4.61486\n",
        "DDO78 0.592198 212 2136 10.0755"
       ]
      },
      {
       "output_type": "stream",
       "stream": "stdout",
       "text": [
        "\n",
        "HS117 0.16719 67 191 2.85075"
       ]
      },
      {
       "output_type": "stream",
       "stream": "stdout",
       "text": [
        "\n",
        "KKH37 0.288622 123 426 3.46341"
       ]
      }
     ],
     "prompt_number": "*"
    },
    {
     "cell_type": "code",
     "collapsed": false,
     "input": [
      "pdb"
     ],
     "language": "python",
     "metadata": {},
     "outputs": [
      {
       "output_type": "stream",
       "stream": "stdout",
       "text": [
        "Automatic pdb calling has been turned ON\n"
       ]
      }
     ],
     "prompt_number": 44
    },
    {
     "cell_type": "code",
     "collapsed": false,
     "input": [],
     "language": "python",
     "metadata": {},
     "outputs": [
      {
       "output_type": "stream",
       "stream": "stdout",
       "text": [
        "0.233839325959\n"
       ]
      }
     ],
     "prompt_number": 30
    },
    {
     "cell_type": "code",
     "collapsed": false,
     "input": [
      "sgal.flux, gal.flux\n",
      "\n",
      "#ax = sgal.plot_cmd(sgal.data.F814W-sgal.data.F160W, sgal.data.F160W, threshold=200)\n",
      "#fig, ax = plt.subplots()\n",
      "#ax.scatter(sgal.data.F814W-sgal.data.F160W, sgal.data.F160W, c=sgal.data.stage)"
     ],
     "language": "python",
     "metadata": {},
     "outputs": [
      {
       "metadata": {},
       "output_type": "pyout",
       "prompt_number": 32,
       "text": [
        "(2.0237902256518207e-06, 8.6546188e-06)"
       ]
      }
     ],
     "prompt_number": 32
    },
    {
     "cell_type": "code",
     "collapsed": false,
     "input": [
      "\n"
     ],
     "language": "python",
     "metadata": {},
     "outputs": [
      {
       "metadata": {},
       "output_type": "pyout",
       "prompt_number": 33,
       "text": [
        "array([ 13.36499977,  14.62800026,  15.09200001, ...,  25.12800026,\n",
        "        25.13199997,  25.20100021], dtype=float32)"
       ]
      }
     ],
     "prompt_number": 33
    },
    {
     "cell_type": "code",
     "collapsed": false,
     "input": [],
     "language": "python",
     "metadata": {},
     "outputs": [],
     "prompt_number": 8
    },
    {
     "cell_type": "code",
     "collapsed": false,
     "input": [],
     "language": "python",
     "metadata": {},
     "outputs": [],
     "prompt_number": 9
    },
    {
     "cell_type": "code",
     "collapsed": false,
     "input": [],
     "language": "python",
     "metadata": {},
     "outputs": [
      {
       "metadata": {},
       "output_type": "pyout",
       "prompt_number": 10,
       "text": [
        "[<matplotlib.lines.Line2D at 0xdfa43b10>]"
       ]
      }
     ],
     "prompt_number": 10
    },
    {
     "cell_type": "code",
     "collapsed": false,
     "input": [],
     "language": "python",
     "metadata": {},
     "outputs": [],
     "prompt_number": 11
    },
    {
     "cell_type": "code",
     "collapsed": false,
     "input": [],
     "language": "python",
     "metadata": {},
     "outputs": [],
     "prompt_number": 12
    },
    {
     "cell_type": "code",
     "collapsed": false,
     "input": [],
     "language": "python",
     "metadata": {},
     "outputs": [],
     "prompt_number": 13
    },
    {
     "cell_type": "code",
     "collapsed": false,
     "input": [],
     "language": "python",
     "metadata": {},
     "outputs": [],
     "prompt_number": 14
    },
    {
     "cell_type": "code",
     "collapsed": false,
     "input": [],
     "language": "python",
     "metadata": {},
     "outputs": [],
     "prompt_number": 15
    },
    {
     "cell_type": "code",
     "collapsed": false,
     "input": [],
     "language": "python",
     "metadata": {},
     "outputs": [],
     "prompt_number": 16
    },
    {
     "cell_type": "code",
     "collapsed": false,
     "input": [],
     "language": "python",
     "metadata": {},
     "outputs": [
      {
       "output_type": "stream",
       "stream": "stderr",
       "text": [
        "nxutils is deprecated.  Use matplotlib.path.Path.contains_points instead.\n"
       ]
      }
     ],
     "prompt_number": 17
    },
    {
     "cell_type": "code",
     "collapsed": false,
     "input": [
      "    \n"
     ],
     "language": "python",
     "metadata": {},
     "outputs": [
      {
       "metadata": {},
       "output_type": "pyout",
       "prompt_number": 65,
       "text": [
        "9.6802503093619525e-13"
       ]
      }
     ],
     "prompt_number": 65
    },
    {
     "cell_type": "code",
     "collapsed": false,
     "input": [
      "fagb_data  = agb_tab['fAGB_ftot'] * agb_tab['F160W_Flux']"
     ],
     "language": "python",
     "metadata": {},
     "outputs": [],
     "prompt_number": 127
    },
    {
     "cell_type": "code",
     "collapsed": false,
     "input": [
      "fagb_data"
     ],
     "language": "python",
     "metadata": {},
     "outputs": [
      {
       "metadata": {},
       "output_type": "pyout",
       "prompt_number": 142,
       "text": [
        "array([  6.04000000e-17,   1.06400000e-16,   4.57000000e-16,\n",
        "         2.86300000e-17,   2.38800000e-17,   7.76900000e-16,\n",
        "         2.35300000e-17,   6.83000000e-17,   7.67200000e-17,\n",
        "         9.58500000e-16,   1.39230000e-16,   1.45000000e-16,\n",
        "         1.14300000e-16,   1.65000000e-16,   4.53600000e-16,\n",
        "         1.03800000e-16,   2.10000000e-17,   5.11500000e-16,\n",
        "         5.52500000e-16,   1.62500000e-16,   2.10000000e-16,\n",
        "         2.74400000e-16,   4.19900000e-17])"
       ]
      }
     ],
     "prompt_number": 142
    },
    {
     "cell_type": "code",
     "collapsed": false,
     "input": [],
     "language": "python",
     "metadata": {},
     "outputs": [],
     "prompt_number": 22
    },
    {
     "cell_type": "code",
     "collapsed": false,
     "input": [],
     "language": "python",
     "metadata": {},
     "outputs": [],
     "prompt_number": 53
    },
    {
     "cell_type": "code",
     "collapsed": false,
     "input": [],
     "language": "python",
     "metadata": {},
     "outputs": [],
     "prompt_number": 47
    },
    {
     "cell_type": "code",
     "collapsed": false,
     "input": [],
     "language": "python",
     "metadata": {},
     "outputs": [],
     "prompt_number": 8
    },
    {
     "cell_type": "code",
     "collapsed": false,
     "input": [],
     "language": "python",
     "metadata": {},
     "outputs": [],
     "prompt_number": 56
    },
    {
     "cell_type": "code",
     "collapsed": false,
     "input": [],
     "language": "python",
     "metadata": {},
     "outputs": [
      {
       "metadata": {},
       "output_type": "pyout",
       "prompt_number": 64,
       "text": [
        "3.8834941e-07"
       ]
      }
     ],
     "prompt_number": 64
    },
    {
     "cell_type": "code",
     "collapsed": false,
     "input": [],
     "language": "python",
     "metadata": {},
     "outputs": [
      {
       "metadata": {},
       "output_type": "pyout",
       "prompt_number": 63,
       "text": [
        "2916"
       ]
      }
     ],
     "prompt_number": 63
    },
    {
     "cell_type": "code",
     "collapsed": false,
     "input": [],
     "language": "python",
     "metadata": {},
     "outputs": [
      {
       "metadata": {},
       "output_type": "pyout",
       "prompt_number": 55,
       "text": [
        "array([  8.99450989e+02,   9.00353027e+02,   9.01255005e+02, ...,\n",
        "         2.99353200e+06,   2.99653275e+06,   2.99953700e+06], dtype=float32)"
       ]
      }
     ],
     "prompt_number": 55
    },
    {
     "cell_type": "code",
     "collapsed": false,
     "input": [
      "'''\n",
      "def tpagb_stars(starpop, jason=False):\n",
      "    if jason:\n",
      "        from scipy.io.idl import readsav \n",
      "        idldict = readsav('/home/rosenfield/Downloads/vecs_ir.sav')\n",
      "        idldict['ypolyvec_agb'][1:3] = trgb\n",
      "        #ax.plot(idldict['xpolyvec_agb'], idldict['ypolyvec_agb'])\n",
      "        verts = np.column_stack((idldict['xpolyvec_agb'], idldict['ypolyvec_agb']))\n",
      "        points = np.column_stack((starpop.data.F814W - starpop.data.F160W, starpop.data.F160W))\n",
      "        itpagb, = np.nonzero(points_inside_poly(points, verts))\n",
      "    else:\n",
      "        ir_color_limit = 0.3\n",
      "        itpagb, = np.nonzero((starpop.data.MAG2_IR < trgb) & (starpop.data.MAG1_IR-starpop.data.MAG2_IR > 0.3))\n",
      "    return itpagb\n",
      "    \n",
      "def vegaflux():\n",
      "    import scipy.integrate\n",
      "    data = pyfits.getdata('/home/rosenfield/Desktop/alpha_lyr_mod_001.fits')\n",
      "    dhdu = pyfits.open('/home/rosenfield/Desktop/alpha_lyr_004.fits')\n",
      "    scipy.integrate.trapz(data.FLUX[2742:2916], x=data.WAVELENGTH[2742:2916])\n",
      "    #found em by hand...\n",
      "    np.argmin(np.abs(data.WAVELENGTH - (15369+1341.5)))\n",
      "    #fig, ax = plt.subplots()\n",
      "    #ax.plot(data.WAVELENGTH, data.FLUX)\n",
      "'''"
     ],
     "language": "python",
     "metadata": {},
     "outputs": []
    }
   ],
   "metadata": {}
  }
 ]
}