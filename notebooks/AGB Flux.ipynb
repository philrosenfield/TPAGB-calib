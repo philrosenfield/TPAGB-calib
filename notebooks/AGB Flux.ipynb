{
 "metadata": {
  "name": ""
 },
 "nbformat": 3,
 "nbformat_minor": 0,
 "worksheets": [
  {
   "cells": [
    {
     "cell_type": "code",
     "collapsed": false,
     "input": [
      "import ResolvedStellarPops as rsp\n",
      "%pylab\n"
     ],
     "language": "python",
     "metadata": {},
     "outputs": [
      {
       "output_type": "stream",
       "stream": "stdout",
       "text": [
        "Using matplotlib backend: TkAgg\n",
        "Populating the interactive namespace from numpy and matplotlib\n"
       ]
      }
     ],
     "prompt_number": 1
    },
    {
     "cell_type": "code",
     "collapsed": false,
     "input": [
      "agb_table = '/home/rosenfield/research/TP-AGBcalib/tables/melbourne2012_tab.dat'\n",
      "agb_tab = rsp.fileio.readfile(agb_table, string_column=0)"
     ],
     "language": "python",
     "metadata": {},
     "outputs": [],
     "prompt_number": 6
    },
    {
     "cell_type": "code",
     "collapsed": false,
     "input": [],
     "language": "python",
     "metadata": {},
     "outputs": [],
     "prompt_number": 53
    },
    {
     "cell_type": "code",
     "collapsed": false,
     "input": [
      "def make_jasons_plot(agb_table)\n",
      "    fig, axs = plt.subplots(ncols=2, nrows=2, figsize=(8, 8), sharex=True)\n",
      "    plt.subplots_adjust(hspace=0.05)\n",
      "    models = ['08', '10']\n",
      "    syms = ['o', 'd']\n",
      "    mfcs = ['none', 'k']\n",
      "    for i in range(len(models)):\n",
      "        nagb = agb_tab['NAGB%s' % models[i]] #/ agb_tab['NAGB']\n",
      "        n = agb_tab['NAGB%s_err' % models[i]]\n",
      "        d = agb_tab['NAGB_err']\n",
      "        nagb_err = n #(n / d) * (1./np.sqrt(n) + 1./np.sqrt(d))\n",
      "        fagb = agb_tab['fAGB%s_ftot' % models[i]] #/ agb_tab['fAGB_ftot']) / agb_tab['F160W_Flux']\n",
      "        n = agb_tab['fAGB%s_ftot_err' % models[i]]\n",
      "        d = agb_tab['fAGB_ftot_err']\n",
      "        fagb_err = n #(n / d) * (1./np.sqrt(n) + 1./np.sqrt(d))\n",
      "        axs[0][i].errorbar(agb_tab['fmass_y_2gr'], nagb, xerr=agb_tab['fmass_y_2gr_err'],\n",
      "                           yerr=nagb_err, fmt=syms[i], color='k', mfc=mfcs[i], capsize=0., ms=8)\n",
      "        axs[1][i].errorbar(agb_tab['fmass_y_2gr'], fagb, xerr=agb_tab['fmass_y_2gr_err'],\n",
      "                           yerr=nagb_err, fmt=syms[i], color='k', mfc=mfcs[i], capsize=0., ms=8)\n",
      "    \n",
      "    [ax.set_ylim(0, 6) for ax in axs[0]]\n",
      "    [ax.set_ylim(0,9.9) for ax in axs[1]]\n",
      "    [ax.hlines(1., *ax.get_xlim(), color='k', linestyles='--') for ax in axs.flatten()]\n",
      "    ax.set_xlim(0.04, .24)\n",
      "    fig.text(0.5, 0.04, r'$\\rm{Mass\\ Fraction\\ of\\ Young\\ Stars\\ (< 2\\ Gyr)}$', ha='center', va='center', fontsize=20)\n",
      "    axs[0][0].set_ylabel(r'$\\rm{AGB\\ Flux\\ (model) /\\ AGB\\ Flux\\ (data)}$', fontsize=15)\n",
      "    axs[1][0].set_ylabel(r'$\\rm{\\# AGB\\ (model) /\\ \\# AGB (data)}$', fontsize=15)\n",
      "    axs[0][0].set_title(r'$(2008)$', fontsize=15)\n",
      "    axs[0][1].set_title(r'$(2010)$', fontsize=15)"
     ],
     "language": "python",
     "metadata": {},
     "outputs": [
      {
       "metadata": {},
       "output_type": "pyout",
       "prompt_number": 52,
       "text": [
        "<matplotlib.text.Text at 0x10794cd0>"
       ]
      }
     ],
     "prompt_number": 52
    },
    {
     "cell_type": "code",
     "collapsed": false,
     "input": [
      "plt.close('all')"
     ],
     "language": "python",
     "metadata": {},
     "outputs": [],
     "prompt_number": 54
    },
    {
     "cell_type": "code",
     "collapsed": false,
     "input": [
      "ddo71_sim = '/home/rosenfield/research/TP-AGBcalib/SNAP/models/varysfh/comp_corr/ddo71/caf09_s_nov13/mc/output_DDO71_004_opt_best.dat'\n",
      "norms_file = '/home/rosenfield/research/TP-AGBcalib/SNAP/models/varysfh/comp_corr/ddo71/caf09_s_nov13/mc/output_DDO71_004_opt_best_norms.dat'\n"
     ],
     "language": "python",
     "metadata": {},
     "outputs": [],
     "prompt_number": 59
    },
    {
     "cell_type": "code",
     "collapsed": false,
     "input": [
      "sgal = rsp.SimGalaxy(ddo71_sim, filter1='F814W', filter2='F160W')"
     ],
     "language": "python",
     "metadata": {},
     "outputs": [],
     "prompt_number": 60
    },
    {
     "cell_type": "code",
     "collapsed": false,
     "input": [
      "opt_norm, ir_norm = np.genfromtxt(norms_file, unpack=True)"
     ],
     "language": "python",
     "metadata": {},
     "outputs": [],
     "prompt_number": 62
    },
    {
     "cell_type": "code",
     "collapsed": false,
     "input": [
      "#ax = sgal.plot_cmd(sgal.data.F814W-sgal.data.F160W, sgal.data.F160W, threshold=200)\n",
      "fig, ax = plt.subplots()\n",
      "ax.scatter(sgal.data.F814W-sgal.data.F160W, sgal.data.F160W, c=sgal.data.stage)"
     ],
     "language": "python",
     "metadata": {},
     "outputs": [
      {
       "metadata": {},
       "output_type": "pyout",
       "prompt_number": 112,
       "text": [
        "<matplotlib.collections.PathCollection at 0x87ff9d0>"
       ]
      }
     ],
     "prompt_number": 112
    },
    {
     "cell_type": "code",
     "collapsed": false,
     "input": [
      "sgal.data.mM0"
     ],
     "language": "python",
     "metadata": {},
     "outputs": [
      {
       "metadata": {},
       "output_type": "pyout",
       "prompt_number": 91,
       "text": [
        "array([ 27.74,  27.74,  27.74, ...,  27.74,  27.74,  27.74])"
       ]
      }
     ],
     "prompt_number": 91
    },
    {
     "cell_type": "code",
     "collapsed": false,
     "input": [
      "from scipy.io.idl import readsav "
     ],
     "language": "python",
     "metadata": {},
     "outputs": [],
     "prompt_number": 65
    },
    {
     "cell_type": "code",
     "collapsed": false,
     "input": [
      "idldict = readsav('/home/rosenfield/Downloads/vecs_ir.sav')"
     ],
     "language": "python",
     "metadata": {},
     "outputs": [],
     "prompt_number": 113
    },
    {
     "cell_type": "code",
     "collapsed": false,
     "input": [
      "ax.plot(idldict['xpolyvec_agb'], idldict['ypolyvec_agb'])"
     ],
     "language": "python",
     "metadata": {},
     "outputs": [
      {
       "metadata": {},
       "output_type": "pyout",
       "prompt_number": 114,
       "text": [
        "[<matplotlib.lines.Line2D at 0xb0021d0>]"
       ]
      }
     ],
     "prompt_number": 114
    },
    {
     "cell_type": "code",
     "collapsed": false,
     "input": [
      "plt.draw()"
     ],
     "language": "python",
     "metadata": {},
     "outputs": [],
     "prompt_number": 115
    },
    {
     "cell_type": "code",
     "collapsed": false,
     "input": [
      "trgb, av, dmod = rsp.angst_tables.angst_data.get_snap_trgb_av_dmod('DDO71')"
     ],
     "language": "python",
     "metadata": {},
     "outputs": [],
     "prompt_number": 110
    },
    {
     "cell_type": "code",
     "collapsed": false,
     "input": [
      "trgb = 22.08"
     ],
     "language": "python",
     "metadata": {},
     "outputs": [],
     "prompt_number": 108
    },
    {
     "cell_type": "code",
     "collapsed": false,
     "input": [
      "idldict['ypolyvec_agb'][1:3] = trgb"
     ],
     "language": "python",
     "metadata": {},
     "outputs": [],
     "prompt_number": 105
    },
    {
     "cell_type": "code",
     "collapsed": false,
     "input": [
      "from matplotlib.nxutils import points_inside_poly"
     ],
     "language": "python",
     "metadata": {},
     "outputs": [],
     "prompt_number": 116
    },
    {
     "cell_type": "code",
     "collapsed": false,
     "input": [
      "verts = np.column_stack((idldict['xpolyvec_agb'], idldict['ypolyvec_agb']))\n",
      "points = np.column_stack((sgal.data.F814W-sgal.data.F160W, sgal.data.F160W))"
     ],
     "language": "python",
     "metadata": {},
     "outputs": [],
     "prompt_number": 117
    },
    {
     "cell_type": "code",
     "collapsed": false,
     "input": [
      "itpagb, = np.nonzero(points_inside_poly(points, verts))"
     ],
     "language": "python",
     "metadata": {},
     "outputs": [
      {
       "output_type": "stream",
       "stream": "stderr",
       "text": [
        "nxutils is deprecated.  Use matplotlib.path.Path.contains_points instead.\n"
       ]
      }
     ],
     "prompt_number": 118
    },
    {
     "cell_type": "code",
     "collapsed": false,
     "input": [
      "np.sum(10**(-.4*sgal.data.F160W[itpagb])*1.24e-10)/6.04e-17\n"
     ],
     "language": "python",
     "metadata": {},
     "outputs": [
      {
       "metadata": {},
       "output_type": "pyout",
       "prompt_number": 145,
       "text": [
        "2.4195912527491754"
       ]
      }
     ],
     "prompt_number": 145
    },
    {
     "cell_type": "code",
     "collapsed": false,
     "input": [
      "fagb_data  = agb_tab['fAGB_ftot'] * agb_tab['F160W_Flux']"
     ],
     "language": "python",
     "metadata": {},
     "outputs": [],
     "prompt_number": 127
    },
    {
     "cell_type": "code",
     "collapsed": false,
     "input": [
      "fagb_data"
     ],
     "language": "python",
     "metadata": {},
     "outputs": [
      {
       "metadata": {},
       "output_type": "pyout",
       "prompt_number": 142,
       "text": [
        "array([  6.04000000e-17,   1.06400000e-16,   4.57000000e-16,\n",
        "         2.86300000e-17,   2.38800000e-17,   7.76900000e-16,\n",
        "         2.35300000e-17,   6.83000000e-17,   7.67200000e-17,\n",
        "         9.58500000e-16,   1.39230000e-16,   1.45000000e-16,\n",
        "         1.14300000e-16,   1.65000000e-16,   4.53600000e-16,\n",
        "         1.03800000e-16,   2.10000000e-17,   5.11500000e-16,\n",
        "         5.52500000e-16,   1.62500000e-16,   2.10000000e-16,\n",
        "         2.74400000e-16,   4.19900000e-17])"
       ]
      }
     ],
     "prompt_number": 142
    },
    {
     "cell_type": "code",
     "collapsed": false,
     "input": [
      "sgal.data.mbol[itpagb] - sgal.data.F160W[itpagb]"
     ],
     "language": "python",
     "metadata": {},
     "outputs": [
      {
       "metadata": {},
       "output_type": "pyout",
       "prompt_number": 139,
       "text": [
        "array([ 2.284,  2.249,  2.288,  2.276,  2.288,  2.269,  2.292,  2.28 ,\n",
        "        2.246,  2.283,  2.272,  2.265,  2.291,  2.272,  2.275,  2.275,\n",
        "        2.255,  2.275,  2.247,  2.269,  2.255,  2.262,  2.255,  2.248,\n",
        "        2.277,  2.309,  2.34 ,  2.303,  2.328,  2.347,  2.324,  2.342,\n",
        "        2.324,  2.326,  2.267,  2.281,  2.301,  2.325,  2.336,  2.378,\n",
        "        2.378,  2.377,  2.303,  2.341,  2.285,  2.302,  2.324,  2.327,\n",
        "        2.376,  2.279,  2.283,  2.352,  2.304,  2.417,  2.355,  2.356,\n",
        "        2.292,  2.359,  2.298,  2.359,  2.419,  2.379,  2.359,  2.297,\n",
        "        2.3  ,  2.314,  2.43 ,  2.345,  2.357,  2.307,  2.327,  2.344,\n",
        "        2.37 ,  2.397,  2.344,  2.422,  2.449,  2.463,  2.3  ,  2.451,\n",
        "        2.339,  2.413,  2.418,  2.435,  2.307,  2.453,  2.37 ,  2.338,\n",
        "        2.382,  2.309,  2.404,  2.337,  2.463,  2.436,  2.366,  2.34 ,\n",
        "        2.393,  2.426,  2.285,  2.315,  2.305,  2.34 ,  2.386,  2.418,\n",
        "        2.32 ,  2.358,  2.456,  2.306,  2.294,  2.39 ,  2.352,  2.336,\n",
        "        2.362,  2.223,  2.412,  2.284,  2.283,  2.306,  2.415,  2.49 ,\n",
        "        2.267,  2.325,  2.304,  2.276,  2.299,  2.487,  2.312,  2.397,\n",
        "        2.294,  2.411,  2.242,  2.368,  2.485,  2.443,  2.424,  2.459,\n",
        "        2.428,  2.397,  2.328,  2.407,  2.365,  2.428,  2.311,  2.298,\n",
        "        2.465,  2.191,  2.267,  2.163,  2.428,  2.357,  2.324,  2.447,\n",
        "        2.468,  2.384,  2.381,  2.25 ,  2.397,  2.422,  2.332,  2.465,\n",
        "        2.456,  2.35 ,  2.468,  2.459,  2.303,  2.381,  2.308,  2.446,\n",
        "        2.423,  2.36 ,  2.298,  2.458,  2.264,  2.276,  2.33 ,  2.297,\n",
        "        2.241,  2.31 ,  2.299,  2.302,  2.319,  2.477,  2.358,  2.388,\n",
        "        2.436,  2.307,  2.262,  2.303,  2.254,  2.201,  2.337,  2.255,\n",
        "        2.224,  2.323,  2.263,  2.244,  2.267,  2.15 ,  2.218,  2.307,\n",
        "        2.172,  2.352,  2.223,  2.219,  2.244,  2.307,  2.246,  2.25 ,\n",
        "        2.255,  2.231,  2.31 ,  2.265,  2.262,  2.27 ,  2.224,  2.388,\n",
        "        2.228,  2.253,  2.212,  2.264,  2.195,  2.289,  2.211,  2.362,\n",
        "        2.237,  2.272,  2.233,  2.36 ,  2.258,  2.273,  2.231,  2.368,\n",
        "        2.288,  2.265,  2.291,  2.251,  2.336,  2.237,  2.217,  2.285,\n",
        "        2.331,  2.283,  2.199,  2.257,  2.294,  2.287,  2.224,  2.33 ,\n",
        "        2.235,  2.262,  2.236,  2.261,  2.391,  2.243,  2.225,  2.221,\n",
        "        2.325,  2.295,  2.263,  2.227,  2.39 ,  2.247,  2.205,  2.241,\n",
        "        2.337,  2.302,  2.218,  2.272,  2.429,  2.4  ,  2.218,  2.275,\n",
        "        2.282,  2.242,  2.19 ,  2.266,  2.403,  2.189,  2.31 ,  2.232,\n",
        "        2.402,  2.295,  2.265,  2.303,  2.333,  2.238,  2.264,  2.328,\n",
        "        2.219,  2.282,  2.266,  2.426,  2.29 ,  2.232,  2.228,  2.322,\n",
        "        2.439,  2.309,  2.332,  2.273,  2.426,  2.252,  2.159,  2.261,\n",
        "        2.36 ,  2.249,  2.331,  2.195,  2.431,  2.372,  2.258,  2.178,\n",
        "        2.363,  2.237,  2.197,  2.252,  2.22 ,  2.221,  2.229,  2.184,\n",
        "        2.182,  2.225,  2.358,  2.226,  2.165,  2.255,  2.238,  2.22 ,\n",
        "        2.211,  2.295,  2.27 ,  2.227,  2.208,  2.265,  2.305,  2.259,\n",
        "        2.165,  2.207,  2.26 ,  2.382,  2.322,  2.245,  2.19 ,  2.265,\n",
        "        2.172,  2.252,  2.206,  2.281,  2.206,  2.263,  2.141,  2.347,\n",
        "        2.247,  2.271,  2.362,  2.289,  2.257,  2.245,  2.285,  2.197,\n",
        "        2.214,  2.193,  2.215,  2.246,  2.224,  2.196,  2.359,  2.302,\n",
        "        2.216,  2.244,  2.28 ,  2.194,  2.181,  2.183,  2.307,  2.183,\n",
        "        2.206,  2.248,  2.255,  2.243,  2.333,  2.237,  2.208,  2.252,\n",
        "        2.327,  2.203,  2.218,  2.208,  2.237,  2.308,  2.239,  2.195,\n",
        "        2.212,  2.235,  2.307,  2.366,  2.242,  2.291,  2.117,  2.31 ,\n",
        "        2.578,  2.612,  2.291,  2.6  ,  2.404,  2.589,  2.493,  2.611,\n",
        "        2.611,  2.308,  2.531,  2.556,  2.612,  2.316,  2.466,  2.613,\n",
        "        2.503,  2.545,  2.611,  2.502,  2.601,  2.598,  2.612,  2.612,\n",
        "        2.556,  2.599,  2.457,  2.599,  2.54 ,  2.531,  2.568,  2.615,\n",
        "        2.53 ,  2.517,  2.572,  2.579,  2.549,  2.543,  2.598,  2.539,\n",
        "        2.568,  2.56 ,  2.565,  2.598,  2.536,  2.591,  2.595,  2.549,\n",
        "        2.566,  2.537,  2.612,  2.566,  2.549,  2.525,  2.605,  2.547,\n",
        "        2.603,  2.546,  2.601,  2.562,  2.564,  2.554,  2.575,  2.571,\n",
        "        2.573,  2.613,  2.535,  2.592,  2.528,  2.565,  2.546,  2.595,\n",
        "        2.569,  2.537,  2.593,  2.553,  2.602,  2.567,  2.561,  2.602,\n",
        "        2.553,  2.554,  2.577,  2.545,  2.589,  2.55 ,  2.602,  2.611,\n",
        "        2.535,  2.582,  2.613,  2.584,  2.612,  2.613,  2.562,  2.552,\n",
        "        2.565,  2.603,  2.556,  2.538,  2.374,  2.572,  2.557,  2.566,\n",
        "        2.569,  2.595,  2.606,  2.55 ,  2.582,  2.598,  2.573,  2.547,\n",
        "        2.543,  2.586,  2.613,  2.574,  2.581,  2.586,  2.612,  2.554,\n",
        "        2.588,  2.613,  2.612,  2.573,  2.612,  2.542,  2.589,  2.614,\n",
        "        2.525,  2.576,  2.587,  2.56 ,  2.558,  2.588,  2.614,  2.612,\n",
        "        2.558,  2.541,  2.595,  2.551,  2.587,  2.557,  2.55 ,  2.582,\n",
        "        2.558,  2.551,  2.604,  2.551,  2.442,  2.535,  2.553,  2.541,\n",
        "        2.555,  2.608,  2.604,  2.592,  2.605,  2.585,  2.573,  2.554,\n",
        "        2.598,  2.612,  2.596,  2.607,  2.583,  2.596,  2.573,  2.611,\n",
        "        2.552,  2.602,  2.544,  2.598,  2.604,  2.579,  2.579,  2.612,\n",
        "        2.588,  2.59 ,  2.613,  2.56 ,  2.614,  2.569,  2.613,  2.613,\n",
        "        2.544,  2.589,  2.555,  2.599,  2.61 ,  2.569,  2.606,  2.556,\n",
        "        2.548,  2.565,  2.614,  2.57 ,  2.584,  2.612,  2.574,  2.613,\n",
        "        2.613,  2.612,  2.613,  2.613])"
       ]
      }
     ],
     "prompt_number": 139
    },
    {
     "cell_type": "code",
     "collapsed": false,
     "input": [],
     "language": "python",
     "metadata": {},
     "outputs": []
    }
   ],
   "metadata": {}
  }
 ]
}