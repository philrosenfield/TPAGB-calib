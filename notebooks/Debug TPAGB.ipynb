{
 "metadata": {
  "name": ""
 },
 "nbformat": 3,
 "nbformat_minor": 0,
 "worksheets": [
  {
   "cells": [
    {
     "cell_type": "code",
     "collapsed": false,
     "input": [
      "cd ~/research/TP-AGBcalib/code/TPAGB-calib/"
     ],
     "language": "python",
     "metadata": {},
     "outputs": [
      {
       "output_type": "stream",
       "stream": "stdout",
       "text": [
        "/home/rosenfield/research/TP-AGBcalib/code/TPAGB-calib\n"
       ]
      },
      {
       "output_type": "stream",
       "stream": "stdout",
       "text": [
        "/home/rosenfield/research/TP-AGBcalib/code/TPAGB-calib\n"
       ]
      }
     ],
     "prompt_number": 272
    },
    {
     "cell_type": "code",
     "collapsed": false,
     "input": [
      "import sfh_tests_multi_proc\n",
      "from TPAGBparams import snap_src\n",
      "import ResolvedStellarPops as rsp"
     ],
     "language": "python",
     "metadata": {},
     "outputs": [],
     "prompt_number": 274
    },
    {
     "cell_type": "code",
     "collapsed": false,
     "input": [
      "pdb"
     ],
     "language": "python",
     "metadata": {},
     "outputs": []
    },
    {
     "cell_type": "code",
     "collapsed": false,
     "input": [
      "reload(sfh_tests_multi_proc)"
     ],
     "language": "python",
     "metadata": {},
     "outputs": [
      {
       "metadata": {},
       "output_type": "pyout",
       "prompt_number": 295,
       "text": [
        "<module 'sfh_tests_multi_proc' from 'sfh_tests_multi_proc.py'>"
       ]
      }
     ],
     "prompt_number": 295
    },
    {
     "cell_type": "code",
     "collapsed": false,
     "input": [
      "cmd_input_file = 'caf09_s_nov13.dat'\n",
      "cmd_input = 'caf09_s_nov13'"
     ],
     "language": "python",
     "metadata": {},
     "outputs": [],
     "prompt_number": 296
    },
    {
     "cell_type": "code",
     "collapsed": false,
     "input": [
      "targets = ['ddo71', 'hs117', 'kkh37', 'ngc2976-deep', 'ddo78']\n",
      "galaxy_inputs = [snap_src + '/models/varysfh/%s/%s/mc/input_%s_000.dat' % (t, cmd_input,\n",
      "                                                                                      t.upper())\n",
      "                 for t in targets]\n",
      "trilegal_outputs = [snap_src + '/models/test/output_%s_%s_000.dat' % (t, cmd_input) for t in targets]\n",
      "sfh_files = [rsp.fileIO.get_files(snap_src + '/data/sfh_parsec/',\n",
      "                                  '*%s*.sfh' % t.replace('-deep', ''))[0] for t in targets]\n"
     ],
     "language": "python",
     "metadata": {},
     "outputs": [],
     "prompt_number": 297
    },
    {
     "cell_type": "code",
     "collapsed": false,
     "input": [
      "import os\n",
      "if False in [os.path.isfile(s) for s in np.concatenate([galaxy_inputs, trilegal_outputs, sfh_files])]:\n",
      "    print 'bad file names!!'"
     ],
     "language": "python",
     "metadata": {},
     "outputs": [],
     "prompt_number": 298
    },
    {
     "cell_type": "code",
     "collapsed": false,
     "input": [
      "file_origin = 'match-grid'\n",
      "cmd_input_file = 'caf09_s_nov13.dat'\n",
      "nsfhs = 2\n",
      "outfile_loc = '/home/rosenfield/research/TP-AGBcalib/SNAP/models/test/'"
     ],
     "language": "python",
     "metadata": {},
     "outputs": [],
     "prompt_number": 299
    },
    {
     "cell_type": "code",
     "collapsed": false,
     "input": [
      "vSFHs = [sfh_tests_multi_proc.VarySFHs(galaxy_inputs[i], sfh_files[i], file_origin, cmd_input_file,\n",
      "                                       nsfhs, outfile_loc=outfile_loc) for i in range(len(targets))]\n"
     ],
     "language": "python",
     "metadata": {},
     "outputs": [],
     "prompt_number": 300
    },
    {
     "cell_type": "code",
     "collapsed": false,
     "input": [
      "import galaxy_tests\n"
     ],
     "language": "python",
     "metadata": {},
     "outputs": [],
     "prompt_number": 348
    },
    {
     "cell_type": "code",
     "collapsed": false,
     "input": [
      "for band in ['ir', 'opt']:\n",
      "    \n",
      "    fits_src = snap_src + '/data/angst_no_trim'\n",
      "    filter2 = 'F814W'\n",
      "    trbg_off = 0.1\n",
      "    if band == 'ir':\n",
      "        fits_src = 'default'\n",
      "        filter2 = 'F160W'\n",
      "        trgb_off = 0.2\n",
      "    for i, vSFH in enumerate(vSFHs):\n",
      "        #narratio_dict, sdata, result_dict = \\\n",
      "        #    vSFH.do_normalization(filter1=vSFH.filter1, trilegal_output=trilegal_outputs[i], debug=True)\n",
      "        gal = galaxy_tests.load_galaxy(vSFH.target, band=band, fits_src=fits_src)\n",
      "        rgb_thresh = 5\n",
      "        trgb = vSFH.__getattribute__('%s_trgb' % band)\n",
      "        mag = vSFH.sgal.data.get_col(filter2)\n",
      "       \n",
      "        vSFH.sgal.all_stages()\n",
      "        rgb_inds = vSFH.sgal.irgb\n",
      "        rgb_bins = np.arange(10, 30, 0.01)\n",
      "        rgb_hist, _ = np.histogram(mag[rgb_inds], bins=rgb_bins)\n",
      "        \n",
      "        rgb_bin_edge = np.nonzero(rgb_hist > rgb_thresh)[0][0] - 1\n",
      "        offset = rgb_bins[rgb_bin_edge] - trgb\n",
      "        print '%s offset %s: %.3f' % (band, vSFH.target, offset)\n",
      "        fig, ax = plt.subplots()\n",
      "        hist_kw = {'bins': rgb_bins, 'histtype': 'step'}\n",
      "        #ax.hist(mag, color='gray', **hist_kw)\n",
      "        ax.hist(mag[rgb_inds], color='red', **hist_kw)\n",
      "        #ax.hist(mag - offset, color='blue', **hist_kw)\n",
      "        ax.hist(mag[rgb_inds] - offset, color='darkgreen', **hist_kw)\n",
      "        ax.hist(gal.mag2, color='black', **hist_kw)\n",
      "        ax.set_yscale('log')\n",
      "        ax.vlines(trgb + trgb_off, *ax.get_ylim(), linestyle='--')\n",
      "        ax.vlines(trgb, *ax.get_ylim())\n",
      "        ax.vlines(trgb - trgb_off, *ax.get_ylim(), linestyle='--')\n",
      "        ax.vlines(rgb_bins[rgb_bin_edge], *ax.get_ylim(), linestyle='--', color='blue')\n",
      "        ax.set_title('$%s$' % vSFH.target, fontsize=20)\n",
      "        ax.set_xlim(trgb-2, trgb+2)\n",
      "        ax.set_xlabel('$%s$' % filter2, fontsize=20)"
     ],
     "language": "python",
     "metadata": {},
     "outputs": [
      {
       "output_type": "stream",
       "stream": "stdout",
       "text": [
        "ir offset ddo71: -0.260\n",
        "ir offset hs117: 0.030"
       ]
      },
      {
       "output_type": "stream",
       "stream": "stdout",
       "text": [
        "\n",
        "ir offset kkh37: -0.170"
       ]
      },
      {
       "output_type": "stream",
       "stream": "stdout",
       "text": [
        "\n",
        "ir offset ngc2976-deep: -0.120"
       ]
      },
      {
       "output_type": "stream",
       "stream": "stdout",
       "text": [
        "\n",
        "ir offset ddo78: -0.260"
       ]
      },
      {
       "output_type": "stream",
       "stream": "stdout",
       "text": [
        "\n",
        "opt offset ddo71: 0.110"
       ]
      },
      {
       "output_type": "stream",
       "stream": "stdout",
       "text": [
        "\n",
        "opt offset hs117: 0.280"
       ]
      },
      {
       "output_type": "stream",
       "stream": "stdout",
       "text": [
        "\n",
        "opt offset kkh37: 0.050"
       ]
      },
      {
       "output_type": "stream",
       "stream": "stdout",
       "text": [
        "\n",
        "opt offset ngc2976-deep: 0.140"
       ]
      },
      {
       "output_type": "stream",
       "stream": "stdout",
       "text": [
        "\n",
        "opt offset ddo78: -0.020"
       ]
      },
      {
       "output_type": "stream",
       "stream": "stdout",
       "text": [
        "\n"
       ]
      }
     ],
     "prompt_number": 361
    },
    {
     "cell_type": "code",
     "collapsed": false,
     "input": [
      "plt.close('all')"
     ],
     "language": "python",
     "metadata": {},
     "outputs": [],
     "prompt_number": 360
    }
   ],
   "metadata": {}
  }
 ]
}