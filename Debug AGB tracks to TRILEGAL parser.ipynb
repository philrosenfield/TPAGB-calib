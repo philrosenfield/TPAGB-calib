{
 "metadata": {
  "name": ""
 },
 "nbformat": 3,
 "nbformat_minor": 0,
 "worksheets": [
  {
   "cells": [
    {
     "cell_type": "code",
     "collapsed": false,
     "input": [
      "import AGBTracksUtils\n",
      "import ResolvedStellarPops as rsp\n",
      "import fileIO\n",
      "import os"
     ],
     "language": "python",
     "metadata": {},
     "outputs": [],
     "prompt_number": 18
    },
    {
     "cell_type": "code",
     "collapsed": false,
     "input": [
      "input_file = '../../input_agb_caf09_s_mar13.dat'\n",
      "infile = rsp.fileIO.input_file(input_file, default_dict=fileIO.agb_input_defaults())\n",
      "AGBTracksUtils.AGB_file_setup(infile)"
     ],
     "language": "python",
     "metadata": {},
     "outputs": [
      {
       "output_type": "stream",
       "stream": "stdout",
       "text": [
        "found 16 metallicities\n"
       ]
      }
     ],
     "prompt_number": 15
    },
    {
     "cell_type": "code",
     "collapsed": false,
     "input": [
      "cd ~/research/TP-AGBcalib/code/TPAGB-calib/"
     ],
     "language": "python",
     "metadata": {},
     "outputs": [
      {
       "output_type": "stream",
       "stream": "stdout",
       "text": [
        "/home/rosenfield/research/TP-AGBcalib/code/TPAGB-calib\n"
       ]
      }
     ],
     "prompt_number": 16
    },
    {
     "cell_type": "code",
     "collapsed": false,
     "input": [
      "metal_dir = infile.metal_dirs[0]"
     ],
     "language": "python",
     "metadata": {},
     "outputs": [],
     "prompt_number": 20
    },
    {
     "cell_type": "code",
     "collapsed": false,
     "input": [
      "agb_tracks = rsp.fileIO.get_files(os.path.join(infile.working_dir,\n",
      "                                                   metal_dir),\n",
      "                                                   infile.track_identifier)\n",
      "agb_tracks.sort()"
     ],
     "language": "python",
     "metadata": {},
     "outputs": [],
     "prompt_number": 22
    },
    {
     "cell_type": "code",
     "collapsed": false,
     "input": [
      "track = fileIO.get_numeric_data(agb_tracks[0])"
     ],
     "language": "python",
     "metadata": {},
     "outputs": [],
     "prompt_number": 28
    },
    {
     "cell_type": "code",
     "collapsed": false,
     "input": [
      "track.Qs\n",
      "rows = [q for q in track.Qs]"
     ],
     "language": "python",
     "metadata": {},
     "outputs": [],
     "prompt_number": 30
    },
    {
     "cell_type": "code",
     "collapsed": false,
     "input": [],
     "language": "python",
     "metadata": {},
     "outputs": [
      {
       "metadata": {},
       "output_type": "pyout",
       "prompt_number": 32,
       "text": [
        "(1.0, 7.0, 1.0, 0.0, 0.53, -7.705, 3.0914, 3.0456, 3.6651, 0.50702, 0.243754, 0.0001, -1.0, 0.5467, 5.609, 1.0, 20.244, 35.696, 0.0, 0.0, -7.705, -11.674, 0.7561, 0.001154, 0.2426, 5.647e-12, 5.666e-40, 1.677e-05, 6.272e-07, 4.711e-06, 1.311e-08, 4.222e-05, 1.61e-08, 8.651e-08, 3.171e-09, 8.687e-06, 2.899e-08, 9.925e-07, 2.259e-07, 3.119e-06, 5.379e-07, 5.923e-07, 3.661e-07, 4.58e-06, 0.0, 0.507024, 0.0, 0.0, 0.0, 0.0, 0.0, 0.0, 0.0, 0.0, 3.0914, 5.60901, -7.6879, 3.806, -2.4428, 1.2333)"
       ]
      }
     ],
     "prompt_number": 32
    }
   ],
   "metadata": {}
  }
 ]
}