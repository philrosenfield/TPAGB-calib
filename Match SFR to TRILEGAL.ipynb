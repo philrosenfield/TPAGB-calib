{
 "metadata": {
  "name": ""
 },
 "nbformat": 3,
 "nbformat_minor": 0,
 "worksheets": [
  {
   "cells": [
    {
     "cell_type": "code",
     "collapsed": false,
     "input": [
      "%pylab inline"
     ],
     "language": "python",
     "metadata": {},
     "outputs": [
      {
       "output_type": "stream",
       "stream": "stdout",
       "text": [
        "Populating the interactive namespace from numpy and matplotlib\n"
       ]
      }
     ],
     "prompt_number": 2
    },
    {
     "cell_type": "code",
     "collapsed": false,
     "input": [
      "def read_binned_sfh(filename):\n",
      "    '''\n",
      "    reads the *.zc.sfh file from match, the one created using HMC from\n",
      "    Dolphin 2013. Not sure what one of the cols is, so I have it a lixo.\n",
      "    '''\n",
      "    dtype = [('lagei', '<f8'),\n",
      "            ('lagef', '<f8'),\n",
      "            ('dmod', '<f8'),\n",
      "            ('sfr', '<f8'),\n",
      "            ('sfr_errm', '<f8'),\n",
      "            ('sfr_errp', '<f8'),\n",
      "            ('mh', '<f8'),\n",
      "            ('mh_errm', '<f8'),\n",
      "            ('mh_errp', '<f8'),\n",
      "            ('mh_disp', '<f8'),\n",
      "            ('mh_disp_errm', '<f8'),\n",
      "            ('mh_disp_errp', '<f8'),\n",
      "            ('csfr', '<f8'),\n",
      "            ('csfr_errm', '<f8'),\n",
      "            ('csfr_errp', '<f8')]\n",
      "    data = np.genfromtxt(filename, dtype=dtype)\n",
      "    return data.view(np.recarray)"
     ],
     "language": "python",
     "metadata": {},
     "outputs": [],
     "prompt_number": 13
    },
    {
     "cell_type": "code",
     "collapsed": false,
     "input": [
      "match_zc_sfh = '/home/rosenfield/research/TP-AGBcalib/SNAP/data/sfh_parsec/templates/ddo71/ddo71.zc.sfh'\n",
      "match_sfh = read_binned_sfh(match_zc_sfh)"
     ],
     "language": "python",
     "metadata": {},
     "outputs": [],
     "prompt_number": 14
    },
    {
     "cell_type": "code",
     "collapsed": false,
     "input": [
      "    def make_trilegal_sfh(match_sfh_file, random_sfr=False, random_z=False,\n",
      "                          zdisp=True, outfile='default'):\n",
      "        '''\n",
      "        turn binned sfh in to trilegal sfh\n",
      "        '''\n",
      "        zsun = 0.01524\n",
      "        if outfile == 'default':\n",
      "            outfile = match_sfh_file.replace('.zc.sfh', '.tri.dat')\n",
      "\n",
      "        msfh = read_binned_sfh(match_sfh_file)\n",
      "\n",
      "        age1a = 10 ** (msfh.lagei)\n",
      "        age1p = 1.0 * 10 ** (msfh.lagei + 0.0001)\n",
      "        age2a = 1.0 * 10 ** msfh.lagef\n",
      "        age2p = 1.0 * 10 ** (msfh.lagef + 0.0001)\n",
      "\n",
      "        raw_sfr = msfh.sfr\n",
      "        if random_sfr is False:\n",
      "            sfr = raw_sfr\n",
      "\n",
      "        raw_z = zsun * 10 ** msfh.mh\n",
      "        if random_z is False:\n",
      "            metalicity = raw_z\n",
      "\n",
      "        if zdisp is True:\n",
      "            zdisp = msfh.mh_disp\n",
      "        fmt = '%.4e %.3e %.4f %.4f \\n'\n",
      "        with open(outfile, 'w') as out:\n",
      "            for i in range(len(sfr)):\n",
      "                if sfr[i] == 0:\n",
      "                    continue\n",
      "                out.write(fmt % (age1a[i], 0.0, metalicity[i], zdisp[i]))\n",
      "                out.write(fmt % (age1p[i], sfr[i], metalicity[i], zdisp[i]))\n",
      "                out.write(fmt % (age2a[i], sfr[i], metalicity[i], zdisp[i]))\n",
      "                out.write(fmt % (age2p[i], 0.0, metalicity[i], zdisp[i]))\n",
      "        return\n"
     ],
     "language": "python",
     "metadata": {},
     "outputs": [],
     "prompt_number": 36
    },
    {
     "cell_type": "code",
     "collapsed": false,
     "input": [
      "make_trilegal_sfh(match_zc_sfh)"
     ],
     "language": "python",
     "metadata": {},
     "outputs": [],
     "prompt_number": 37
    },
    {
     "cell_type": "code",
     "collapsed": false,
     "input": [
      "match_zc_sfh"
     ],
     "language": "python",
     "metadata": {},
     "outputs": [
      {
       "metadata": {},
       "output_type": "pyout",
       "prompt_number": 30,
       "text": [
        "'/home/rosenfield/research/TP-AGBcalib/SNAP/data/sfh_parsec/templates/ddo71/ddo71.zc.sfh'"
       ]
      }
     ],
     "prompt_number": 30
    }
   ],
   "metadata": {}
  }
 ]
}