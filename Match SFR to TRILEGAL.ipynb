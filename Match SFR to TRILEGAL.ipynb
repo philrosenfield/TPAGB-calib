{
 "metadata": {
  "name": ""
 },
 "nbformat": 3,
 "nbformat_minor": 0,
 "worksheets": [
  {
   "cells": [
    {
     "cell_type": "code",
     "collapsed": false,
     "input": [
      "import ResolvedStellarPops as rsp\n",
      "%pylab inline"
     ],
     "language": "python",
     "metadata": {},
     "outputs": [
      {
       "output_type": "stream",
       "stream": "stdout",
       "text": [
        "Populating the interactive namespace from numpy and matplotlib\n"
       ]
      },
      {
       "output_type": "stream",
       "stream": "stderr",
       "text": [
        "WARNING: pylab import has clobbered these variables: ['random', 'hist', 'test']\n",
        "`%pylab --no-import-all` prevents importing * from pylab and numpy\n"
       ]
      }
     ],
     "prompt_number": 293
    },
    {
     "cell_type": "code",
     "collapsed": false,
     "input": [
      "reload(rsp.match_utils)"
     ],
     "language": "python",
     "metadata": {},
     "outputs": [
      {
       "metadata": {},
       "output_type": "pyout",
       "prompt_number": 340,
       "text": [
        "<module 'ResolvedStellarPops.match_utils' from '/home/rosenfield/research/python/ResolvedStellarPops/match_utils.py'>"
       ]
      }
     ],
     "prompt_number": 340
    },
    {
     "cell_type": "code",
     "collapsed": false,
     "input": [
      "pdb"
     ],
     "language": "python",
     "metadata": {},
     "outputs": [
      {
       "output_type": "stream",
       "stream": "stdout",
       "text": [
        "Automatic pdb calling has been turned OFF\n"
       ]
      }
     ],
     "prompt_number": 318
    },
    {
     "cell_type": "code",
     "collapsed": false,
     "input": [
      "msfh = rsp.match_utils.StarFormationHistories(match_zc_sfh)"
     ],
     "language": "python",
     "metadata": {},
     "outputs": [],
     "prompt_number": 341
    },
    {
     "cell_type": "code",
     "collapsed": false,
     "input": [
      "sfr = [msfh.random_draw_within_uncertainty('sfr') for i in range(100)]\n",
      "mh = [msfh.random_draw_within_uncertainty('mh') for i in range(100)]"
     ],
     "language": "python",
     "metadata": {},
     "outputs": [
      {
       "output_type": "stream",
       "stream": "stdout",
       "text": [
        "Warning: no uncertainties\n",
        "Warning: no uncertainties\n",
        "Warning: no uncertainties\n",
        "Warning: no uncertainties\n",
        "Warning: no uncertainties\n",
        "Warning: no uncertainties"
       ]
      },
      {
       "output_type": "stream",
       "stream": "stdout",
       "text": [
        "\n",
        "Warning: no uncertainties\n",
        "Warning: no uncertainties\n",
        "Warning: no uncertainties\n",
        "Warning: no uncertainties\n",
        "Warning: no uncertainties\n",
        "Warning: no uncertainties\n",
        "Warning: no uncertainties\n",
        "Warning: no uncertainties\n",
        "Warning: no uncertainties\n",
        "Warning: no uncertainties\n",
        "Warning: no uncertainties\n",
        "Warning: no uncertainties\n",
        "Warning: no uncertainties\n",
        "Warning: no uncertainties\n",
        "Warning: no uncertainties\n",
        "Warning: no uncertainties"
       ]
      },
      {
       "output_type": "stream",
       "stream": "stdout",
       "text": [
        "\n",
        "Warning: no uncertainties\n",
        "Warning: no uncertainties\n",
        "Warning: no uncertainties\n",
        "Warning: no uncertainties\n",
        "Warning: no uncertainties"
       ]
      },
      {
       "output_type": "stream",
       "stream": "stdout",
       "text": [
        "\n",
        "Warning: no uncertainties\n",
        "Warning: no uncertainties\n",
        "Warning: no uncertainties\n",
        "Warning: no uncertainties\n",
        "Warning: no uncertainties\n",
        "Warning: no uncertainties\n",
        "Warning: no uncertainties\n",
        "Warning: no uncertainties\n",
        "Warning: no uncertainties\n",
        "Warning: no uncertainties\n",
        "Warning: no uncertainties\n",
        "Warning: no uncertainties\n",
        "Warning: no uncertainties\n",
        "Warning: no uncertainties\n",
        "Warning: no uncertainties\n",
        "Warning: no uncertainties"
       ]
      },
      {
       "output_type": "stream",
       "stream": "stdout",
       "text": [
        "\n",
        "Warning: no uncertainties\n",
        "Warning: no uncertainties\n",
        "Warning: no uncertainties\n",
        "Warning: no uncertainties\n",
        "Warning: no uncertainties"
       ]
      },
      {
       "output_type": "stream",
       "stream": "stdout",
       "text": [
        "\n",
        "Warning: no uncertainties\n",
        "Warning: no uncertainties\n",
        "Warning: no uncertainties\n",
        "Warning: no uncertainties\n",
        "Warning: no uncertainties\n",
        "Warning: no uncertainties\n",
        "Warning: no uncertainties\n",
        "Warning: no uncertainties\n",
        "Warning: no uncertainties\n",
        "Warning: no uncertainties\n",
        "Warning: no uncertainties\n",
        "Warning: no uncertainties\n",
        "Warning: no uncertainties\n",
        "Warning: no uncertainties\n",
        "Warning: no uncertainties\n",
        "Warning: no uncertainties"
       ]
      },
      {
       "output_type": "stream",
       "stream": "stdout",
       "text": [
        "\n",
        "Warning: no uncertainties\n",
        "Warning: no uncertainties\n",
        "Warning: no uncertainties\n",
        "Warning: no uncertainties\n",
        "Warning: no uncertainties"
       ]
      },
      {
       "output_type": "stream",
       "stream": "stdout",
       "text": [
        "\n",
        "Warning: no uncertainties\n",
        "Warning: no uncertainties\n",
        "Warning: no uncertainties\n",
        "Warning: no uncertainties\n",
        "Warning: no uncertainties\n",
        "Warning: no uncertainties\n",
        "Warning: no uncertainties\n",
        "Warning: no uncertainties\n",
        "Warning: no uncertainties\n",
        "Warning: no uncertainties\n",
        "Warning: no uncertainties\n",
        "Warning: no uncertainties\n",
        "Warning: no uncertainties\n",
        "Warning: no uncertainties\n",
        "Warning: no uncertainties\n",
        "Warning: no uncertainties"
       ]
      },
      {
       "output_type": "stream",
       "stream": "stdout",
       "text": [
        "\n",
        "Warning: no uncertainties\n",
        "Warning: no uncertainties\n",
        "Warning: no uncertainties\n",
        "Warning: no uncertainties\n",
        "Warning: no uncertainties"
       ]
      },
      {
       "output_type": "stream",
       "stream": "stdout",
       "text": [
        "\n",
        "Warning: no uncertainties\n",
        "Warning: no uncertainties\n",
        "Warning: no uncertainties\n",
        "Warning: no uncertainties\n",
        "Warning: no uncertainties\n",
        "Warning: no uncertainties\n",
        "Warning: no uncertainties\n",
        "Warning: no uncertainties\n",
        "Warning: no uncertainties\n",
        "Warning: no uncertainties\n",
        "Warning: no uncertainties\n",
        "Warning: no uncertainties\n",
        "Warning: no uncertainties\n",
        "Warning: no uncertainties\n",
        "Warning: no uncertainties\n",
        "Warning: no uncertainties"
       ]
      },
      {
       "output_type": "stream",
       "stream": "stdout",
       "text": [
        "\n",
        "Warning: no uncertainties\n",
        "Warning: no uncertainties\n",
        "Warning: no uncertainties\n",
        "Warning: no uncertainties\n",
        "Warning: no uncertainties"
       ]
      },
      {
       "output_type": "stream",
       "stream": "stdout",
       "text": [
        "\n",
        "Warning: no uncertainties\n",
        "Warning: no uncertainties\n",
        "Warning: no uncertainties\n",
        "Warning: no uncertainties\n",
        "Warning: no uncertainties\n",
        "Warning: no uncertainties\n",
        "Warning: no uncertainties\n",
        "Warning: no uncertainties\n",
        "Warning: no uncertainties\n",
        "Warning: no uncertainties\n",
        "Warning: no uncertainties\n",
        "Warning: no uncertainties\n",
        "Warning: no uncertainties\n",
        "Warning: no uncertainties\n",
        "Warning: no uncertainties\n",
        "Warning: no uncertainties"
       ]
      },
      {
       "output_type": "stream",
       "stream": "stdout",
       "text": [
        "\n",
        "Warning: no uncertainties\n",
        "Warning: no uncertainties\n",
        "Warning: no uncertainties\n",
        "Warning: no uncertainties\n",
        "Warning: no uncertainties"
       ]
      },
      {
       "output_type": "stream",
       "stream": "stdout",
       "text": [
        "\n",
        "Warning: no uncertainties\n",
        "Warning: no uncertainties\n",
        "Warning: no uncertainties\n",
        "Warning: no uncertainties\n",
        "Warning: no uncertainties\n",
        "Warning: no uncertainties\n",
        "Warning: no uncertainties\n",
        "Warning: no uncertainties\n",
        "Warning: no uncertainties\n",
        "Warning: no uncertainties\n",
        "Warning: no uncertainties\n",
        "Warning: no uncertainties\n",
        "Warning: no uncertainties\n",
        "Warning: no uncertainties\n",
        "Warning: no uncertainties\n",
        "Warning: no uncertainties"
       ]
      },
      {
       "output_type": "stream",
       "stream": "stdout",
       "text": [
        "\n",
        "Warning: no uncertainties\n",
        "Warning: no uncertainties\n",
        "Warning: no uncertainties\n",
        "Warning: no uncertainties\n",
        "Warning: no uncertainties"
       ]
      },
      {
       "output_type": "stream",
       "stream": "stdout",
       "text": [
        "\n",
        "Warning: no uncertainties\n",
        "Warning: no uncertainties\n",
        "Warning: no uncertainties\n",
        "Warning: no uncertainties\n",
        "Warning: no uncertainties\n",
        "Warning: no uncertainties\n",
        "Warning: no uncertainties\n",
        "Warning: no uncertainties\n",
        "Warning: no uncertainties\n",
        "Warning: no uncertainties\n",
        "Warning: no uncertainties\n",
        "Warning: no uncertainties\n",
        "Warning: no uncertainties\n",
        "Warning: no uncertainties\n",
        "Warning: no uncertainties\n",
        "Warning: no uncertainties"
       ]
      },
      {
       "output_type": "stream",
       "stream": "stdout",
       "text": [
        "\n",
        "Warning: no uncertainties\n",
        "Warning: no uncertainties\n",
        "Warning: no uncertainties\n",
        "Warning: no uncertainties\n",
        "Warning: no uncertainties"
       ]
      },
      {
       "output_type": "stream",
       "stream": "stdout",
       "text": [
        "\n",
        "Warning: no uncertainties\n",
        "Warning: no uncertainties\n",
        "Warning: no uncertainties\n",
        "Warning: no uncertainties\n",
        "Warning: no uncertainties\n",
        "Warning: no uncertainties\n",
        "Warning: no uncertainties\n",
        "Warning: no uncertainties\n",
        "Warning: no uncertainties\n",
        "Warning: no uncertainties\n",
        "Warning: no uncertainties\n",
        "Warning: no uncertainties\n",
        "Warning: no uncertainties\n",
        "Warning: no uncertainties\n",
        "Warning: no uncertainties\n",
        "Warning: no uncertainties"
       ]
      },
      {
       "output_type": "stream",
       "stream": "stdout",
       "text": [
        "\n",
        "Warning: no uncertainties\n",
        "Warning: no uncertainties\n",
        "Warning: no uncertainties\n",
        "Warning: no uncertainties\n",
        "Warning: no uncertainties"
       ]
      },
      {
       "output_type": "stream",
       "stream": "stdout",
       "text": [
        "\n",
        "Warning: no uncertainties\n",
        "Warning: no uncertainties\n",
        "Warning: no uncertainties\n",
        "Warning: no uncertainties\n",
        "Warning: no uncertainties\n",
        "Warning: no uncertainties\n",
        "Warning: no uncertainties\n",
        "Warning: no uncertainties\n",
        "Warning: no uncertainties\n",
        "Warning: no uncertainties\n",
        "Warning: no uncertainties\n",
        "Warning: no uncertainties\n",
        "Warning: no uncertainties\n",
        "Warning: no uncertainties\n",
        "Warning: no uncertainties\n",
        "Warning: no uncertainties"
       ]
      },
      {
       "output_type": "stream",
       "stream": "stdout",
       "text": [
        "\n",
        "Warning: no uncertainties\n",
        "Warning: no uncertainties\n",
        "Warning: no uncertainties\n",
        "Warning: no uncertainties\n",
        "Warning: no uncertainties"
       ]
      },
      {
       "output_type": "stream",
       "stream": "stdout",
       "text": [
        "\n",
        "Warning: no uncertainties\n",
        "Warning: no uncertainties\n",
        "Warning: no uncertainties\n",
        "Warning: no uncertainties\n",
        "Warning: no uncertainties\n",
        "Warning: no uncertainties\n",
        "Warning: no uncertainties\n",
        "Warning: no uncertainties\n",
        "Warning: no uncertainties\n",
        "Warning: no uncertainties\n",
        "Warning: no uncertainties\n",
        "Warning: no uncertainties\n",
        "Warning: no uncertainties\n",
        "Warning: no uncertainties\n",
        "Warning: no uncertainties\n",
        "Warning: no uncertainties"
       ]
      },
      {
       "output_type": "stream",
       "stream": "stdout",
       "text": [
        "\n",
        "Warning: no uncertainties\n",
        "Warning: no uncertainties\n",
        "Warning: no uncertainties\n",
        "Warning: no uncertainties\n",
        "Warning: no uncertainties"
       ]
      },
      {
       "output_type": "stream",
       "stream": "stdout",
       "text": [
        "\n",
        "Warning: no uncertainties\n",
        "Warning: no uncertainties\n",
        "Warning: no uncertainties\n",
        "Warning: no uncertainties\n",
        "Warning: no uncertainties\n",
        "Warning: no uncertainties\n",
        "Warning: no uncertainties\n",
        "Warning: no uncertainties\n",
        "Warning: no uncertainties\n",
        "Warning: no uncertainties\n",
        "Warning: no uncertainties\n",
        "Warning: no uncertainties\n",
        "Warning: no uncertainties\n",
        "Warning: no uncertainties\n",
        "Warning: no uncertainties\n",
        "Warning: no uncertainties"
       ]
      },
      {
       "output_type": "stream",
       "stream": "stdout",
       "text": [
        "\n",
        "Warning: no uncertainties\n",
        "Warning: no uncertainties\n",
        "Warning: no uncertainties\n",
        "Warning: no uncertainties\n",
        "Warning: no uncertainties"
       ]
      },
      {
       "output_type": "stream",
       "stream": "stdout",
       "text": [
        "\n",
        "Warning: no uncertainties\n",
        "Warning: no uncertainties\n",
        "Warning: no uncertainties\n",
        "Warning: no uncertainties\n",
        "Warning: no uncertainties\n",
        "Warning: no uncertainties\n",
        "Warning: no uncertainties\n",
        "Warning: no uncertainties\n",
        "Warning: no uncertainties\n",
        "Warning: no uncertainties\n",
        "Warning: no uncertainties\n",
        "Warning: no uncertainties\n",
        "Warning: no uncertainties\n",
        "Warning: no uncertainties\n",
        "Warning: no uncertainties\n",
        "Warning: no uncertainties"
       ]
      },
      {
       "output_type": "stream",
       "stream": "stdout",
       "text": [
        "\n",
        "Warning: no uncertainties\n",
        "Warning: no uncertainties\n",
        "Warning: no uncertainties\n",
        "Warning: no uncertainties\n",
        "Warning: no uncertainties"
       ]
      },
      {
       "output_type": "stream",
       "stream": "stdout",
       "text": [
        "\n",
        "Warning: no uncertainties\n",
        "Warning: no uncertainties\n",
        "Warning: no uncertainties\n",
        "Warning: no uncertainties\n",
        "Warning: no uncertainties\n",
        "Warning: no uncertainties\n",
        "Warning: no uncertainties\n",
        "Warning: no uncertainties\n",
        "Warning: no uncertainties\n",
        "Warning: no uncertainties\n",
        "Warning: no uncertainties\n",
        "Warning: no uncertainties\n",
        "Warning: no uncertainties\n",
        "Warning: no uncertainties\n",
        "Warning: no uncertainties\n",
        "Warning: no uncertainties"
       ]
      },
      {
       "output_type": "stream",
       "stream": "stdout",
       "text": [
        "\n",
        "Warning: no uncertainties\n",
        "Warning: no uncertainties\n",
        "Warning: no uncertainties\n",
        "Warning: no uncertainties\n",
        "Warning: no uncertainties"
       ]
      },
      {
       "output_type": "stream",
       "stream": "stdout",
       "text": [
        "\n",
        "Warning: no uncertainties\n",
        "Warning: no uncertainties\n",
        "Warning: no uncertainties\n",
        "Warning: no uncertainties\n",
        "Warning: no uncertainties\n",
        "Warning: no uncertainties\n",
        "Warning: no uncertainties\n",
        "Warning: no uncertainties\n",
        "Warning: no uncertainties\n",
        "Warning: no uncertainties\n",
        "Warning: no uncertainties\n",
        "Warning: no uncertainties\n",
        "Warning: no uncertainties\n",
        "Warning: no uncertainties\n",
        "Warning: no uncertainties\n",
        "Warning: no uncertainties"
       ]
      },
      {
       "output_type": "stream",
       "stream": "stdout",
       "text": [
        "\n",
        "Warning: no uncertainties\n",
        "Warning: no uncertainties\n",
        "Warning: no uncertainties\n",
        "Warning: no uncertainties\n",
        "Warning: no uncertainties"
       ]
      },
      {
       "output_type": "stream",
       "stream": "stdout",
       "text": [
        "\n",
        "Warning: no uncertainties\n",
        "Warning: no uncertainties\n",
        "Warning: no uncertainties\n",
        "Warning: no uncertainties\n",
        "Warning: no uncertainties\n",
        "Warning: no uncertainties\n",
        "Warning: no uncertainties\n",
        "Warning: no uncertainties\n",
        "Warning: no uncertainties\n",
        "Warning: no uncertainties\n",
        "Warning: no uncertainties\n",
        "Warning: no uncertainties\n",
        "Warning: no uncertainties\n",
        "Warning: no uncertainties\n",
        "Warning: no uncertainties\n",
        "Warning: no uncertainties"
       ]
      },
      {
       "output_type": "stream",
       "stream": "stdout",
       "text": [
        "\n",
        "Warning: no uncertainties\n",
        "Warning: no uncertainties\n",
        "Warning: no uncertainties\n",
        "Warning: no uncertainties\n",
        "Warning: no uncertainties"
       ]
      },
      {
       "output_type": "stream",
       "stream": "stdout",
       "text": [
        "\n",
        "Warning: no uncertainties\n",
        "Warning: no uncertainties\n",
        "Warning: no uncertainties\n",
        "Warning: no uncertainties\n",
        "Warning: no uncertainties\n",
        "Warning: no uncertainties\n",
        "Warning: no uncertainties\n",
        "Warning: no uncertainties\n",
        "Warning: no uncertainties\n",
        "Warning: no uncertainties\n",
        "Warning: no uncertainties\n",
        "Warning: no uncertainties\n",
        "Warning: no uncertainties\n",
        "Warning: no uncertainties\n",
        "Warning: no uncertainties\n",
        "Warning: no uncertainties"
       ]
      },
      {
       "output_type": "stream",
       "stream": "stdout",
       "text": [
        "\n",
        "Warning: no uncertainties\n",
        "Warning: no uncertainties\n",
        "Warning: no uncertainties\n",
        "Warning: no uncertainties\n",
        "Warning: no uncertainties"
       ]
      },
      {
       "output_type": "stream",
       "stream": "stdout",
       "text": [
        "\n",
        "Warning: no uncertainties\n",
        "Warning: no uncertainties\n",
        "Warning: no uncertainties\n",
        "Warning: no uncertainties\n",
        "Warning: no uncertainties\n",
        "Warning: no uncertainties\n",
        "Warning: no uncertainties\n",
        "Warning: no uncertainties\n",
        "Warning: no uncertainties\n",
        "Warning: no uncertainties\n",
        "Warning: no uncertainties\n",
        "Warning: no uncertainties\n",
        "Warning: no uncertainties\n",
        "Warning: no uncertainties\n",
        "Warning: no uncertainties\n",
        "Warning: no uncertainties"
       ]
      },
      {
       "output_type": "stream",
       "stream": "stdout",
       "text": [
        "\n",
        "Warning: no uncertainties\n",
        "Warning: no uncertainties\n",
        "Warning: no uncertainties\n",
        "Warning: no uncertainties\n",
        "Warning: no uncertainties"
       ]
      },
      {
       "output_type": "stream",
       "stream": "stdout",
       "text": [
        "\n",
        "Warning: no uncertainties\n",
        "Warning: no uncertainties\n",
        "Warning: no uncertainties\n",
        "Warning: no uncertainties\n",
        "Warning: no uncertainties\n",
        "Warning: no uncertainties\n",
        "Warning: no uncertainties\n",
        "Warning: no uncertainties\n",
        "Warning: no uncertainties\n",
        "Warning: no uncertainties\n",
        "Warning: no uncertainties\n",
        "Warning: no uncertainties\n",
        "Warning: no uncertainties\n",
        "Warning: no uncertainties\n",
        "Warning: no uncertainties\n",
        "Warning: no uncertainties"
       ]
      },
      {
       "output_type": "stream",
       "stream": "stdout",
       "text": [
        "\n",
        "Warning: no uncertainties\n",
        "Warning: no uncertainties\n",
        "Warning: no uncertainties\n",
        "Warning: no uncertainties\n",
        "Warning: no uncertainties"
       ]
      },
      {
       "output_type": "stream",
       "stream": "stdout",
       "text": [
        "\n",
        "Warning: no uncertainties\n",
        "Warning: no uncertainties\n",
        "Warning: no uncertainties\n",
        "Warning: no uncertainties\n",
        "Warning: no uncertainties\n",
        "Warning: no uncertainties\n",
        "Warning: no uncertainties\n",
        "Warning: no uncertainties\n",
        "Warning: no uncertainties\n",
        "Warning: no uncertainties\n",
        "Warning: no uncertainties\n",
        "Warning: no uncertainties\n",
        "Warning: no uncertainties\n",
        "Warning: no uncertainties\n",
        "Warning: no uncertainties\n",
        "Warning: no uncertainties"
       ]
      },
      {
       "output_type": "stream",
       "stream": "stdout",
       "text": [
        "\n",
        "Warning: no uncertainties\n",
        "Warning: no uncertainties\n",
        "Warning: no uncertainties\n",
        "Warning: no uncertainties\n",
        "Warning: no uncertainties"
       ]
      },
      {
       "output_type": "stream",
       "stream": "stdout",
       "text": [
        "\n",
        "Warning: no uncertainties\n",
        "Warning: no uncertainties\n",
        "Warning: no uncertainties\n",
        "Warning: no uncertainties\n",
        "Warning: no uncertainties\n",
        "Warning: no uncertainties\n",
        "Warning: no uncertainties\n",
        "Warning: no uncertainties\n",
        "Warning: no uncertainties\n",
        "Warning: no uncertainties\n",
        "Warning: no uncertainties\n",
        "Warning: no uncertainties\n",
        "Warning: no uncertainties\n",
        "Warning: no uncertainties\n",
        "Warning: no uncertainties\n",
        "Warning: no uncertainties"
       ]
      },
      {
       "output_type": "stream",
       "stream": "stdout",
       "text": [
        "\n",
        "Warning: no uncertainties\n",
        "Warning: no uncertainties\n",
        "Warning: no uncertainties\n",
        "Warning: no uncertainties\n",
        "Warning: no uncertainties"
       ]
      },
      {
       "output_type": "stream",
       "stream": "stdout",
       "text": [
        "\n",
        "Warning: no uncertainties\n",
        "Warning: no uncertainties\n",
        "Warning: no uncertainties\n",
        "Warning: no uncertainties\n",
        "Warning: no uncertainties\n",
        "Warning: no uncertainties\n",
        "Warning: no uncertainties\n",
        "Warning: no uncertainties\n",
        "Warning: no uncertainties\n",
        "Warning: no uncertainties\n",
        "Warning: no uncertainties\n",
        "Warning: no uncertainties\n",
        "Warning: no uncertainties\n",
        "Warning: no uncertainties\n",
        "Warning: no uncertainties\n",
        "Warning: no uncertainties"
       ]
      },
      {
       "output_type": "stream",
       "stream": "stdout",
       "text": [
        "\n",
        "Warning: no uncertainties\n",
        "Warning: no uncertainties\n",
        "Warning: no uncertainties\n",
        "Warning: no uncertainties\n",
        "Warning: no uncertainties"
       ]
      },
      {
       "output_type": "stream",
       "stream": "stdout",
       "text": [
        "\n",
        "Warning: no uncertainties\n",
        "Warning: no uncertainties\n",
        "Warning: no uncertainties\n",
        "Warning: no uncertainties\n",
        "Warning: no uncertainties\n",
        "Warning: no uncertainties\n",
        "Warning: no uncertainties\n",
        "Warning: no uncertainties\n",
        "Warning: no uncertainties\n",
        "Warning: no uncertainties\n",
        "Warning: no uncertainties\n",
        "Warning: no uncertainties\n",
        "Warning: no uncertainties\n",
        "Warning: no uncertainties\n",
        "Warning: no uncertainties\n",
        "Warning: no uncertainties"
       ]
      },
      {
       "output_type": "stream",
       "stream": "stdout",
       "text": [
        "\n",
        "Warning: no uncertainties\n",
        "Warning: no uncertainties\n",
        "Warning: no uncertainties\n",
        "Warning: no uncertainties\n",
        "Warning: no uncertainties"
       ]
      },
      {
       "output_type": "stream",
       "stream": "stdout",
       "text": [
        "\n",
        "Warning: no uncertainties\n",
        "Warning: no uncertainties\n",
        "Warning: no uncertainties\n",
        "Warning: no uncertainties\n",
        "Warning: no uncertainties\n",
        "Warning: no uncertainties\n",
        "Warning: no uncertainties\n",
        "Warning: no uncertainties\n",
        "Warning: no uncertainties\n",
        "Warning: no uncertainties\n",
        "Warning: no uncertainties\n",
        "Warning: no uncertainties\n",
        "Warning: no uncertainties\n",
        "Warning: no uncertainties\n",
        "Warning: no uncertainties\n",
        "Warning: no uncertainties"
       ]
      },
      {
       "output_type": "stream",
       "stream": "stdout",
       "text": [
        "\n",
        "Warning: no uncertainties\n",
        "Warning: no uncertainties\n",
        "Warning: no uncertainties\n",
        "Warning: no uncertainties\n",
        "Warning: no uncertainties"
       ]
      },
      {
       "output_type": "stream",
       "stream": "stdout",
       "text": [
        "\n",
        "Warning: no uncertainties\n",
        "Warning: no uncertainties\n",
        "Warning: no uncertainties\n",
        "Warning: no uncertainties\n",
        "Warning: no uncertainties\n",
        "Warning: no uncertainties\n",
        "Warning: no uncertainties\n",
        "Warning: no uncertainties\n",
        "Warning: no uncertainties\n",
        "Warning: no uncertainties\n",
        "Warning: no uncertainties\n",
        "Warning: no uncertainties\n",
        "Warning: no uncertainties\n",
        "Warning: no uncertainties\n",
        "Warning: no uncertainties\n",
        "Warning: no uncertainties"
       ]
      },
      {
       "output_type": "stream",
       "stream": "stdout",
       "text": [
        "\n",
        "Warning: no uncertainties\n",
        "Warning: no uncertainties\n",
        "Warning: no uncertainties\n",
        "Warning: no uncertainties\n",
        "Warning: no uncertainties"
       ]
      },
      {
       "output_type": "stream",
       "stream": "stdout",
       "text": [
        "\n",
        "Warning: no uncertainties\n",
        "Warning: no uncertainties\n",
        "Warning: no uncertainties\n",
        "Warning: no uncertainties\n",
        "Warning: no uncertainties\n",
        "Warning: no uncertainties\n",
        "Warning: no uncertainties\n",
        "Warning: no uncertainties\n",
        "Warning: no uncertainties\n",
        "Warning: no uncertainties\n",
        "Warning: no uncertainties\n",
        "Warning: no uncertainties\n",
        "Warning: no uncertainties\n",
        "Warning: no uncertainties\n",
        "Warning: no uncertainties\n",
        "Warning: no uncertainties"
       ]
      },
      {
       "output_type": "stream",
       "stream": "stdout",
       "text": [
        "\n",
        "Warning: no uncertainties\n",
        "Warning: no uncertainties\n",
        "Warning: no uncertainties\n",
        "Warning: no uncertainties\n",
        "Warning: no uncertainties"
       ]
      },
      {
       "output_type": "stream",
       "stream": "stdout",
       "text": [
        "\n",
        "Warning: no uncertainties\n",
        "Warning: no uncertainties\n",
        "Warning: no uncertainties\n",
        "Warning: no uncertainties\n",
        "Warning: no uncertainties\n",
        "Warning: no uncertainties\n",
        "Warning: no uncertainties\n",
        "Warning: no uncertainties\n",
        "Warning: no uncertainties\n",
        "Warning: no uncertainties\n",
        "Warning: no uncertainties\n",
        "Warning: no uncertainties\n",
        "Warning: no uncertainties\n",
        "Warning: no uncertainties\n",
        "Warning: no uncertainties\n",
        "Warning: no uncertainties"
       ]
      },
      {
       "output_type": "stream",
       "stream": "stdout",
       "text": [
        "\n",
        "Warning: no uncertainties\n",
        "Warning: no uncertainties\n",
        "Warning: no uncertainties\n",
        "Warning: no uncertainties\n",
        "Warning: no uncertainties"
       ]
      },
      {
       "output_type": "stream",
       "stream": "stdout",
       "text": [
        "\n",
        "Warning: no uncertainties\n",
        "Warning: no uncertainties\n",
        "Warning: no uncertainties\n",
        "Warning: no uncertainties\n",
        "Warning: no uncertainties\n",
        "Warning: no uncertainties\n",
        "Warning: no uncertainties\n",
        "Warning: no uncertainties\n",
        "Warning: no uncertainties\n",
        "Warning: no uncertainties\n",
        "Warning: no uncertainties\n",
        "Warning: no uncertainties\n",
        "Warning: no uncertainties\n",
        "Warning: no uncertainties\n",
        "Warning: no uncertainties\n",
        "Warning: no uncertainties"
       ]
      },
      {
       "output_type": "stream",
       "stream": "stdout",
       "text": [
        "\n",
        "Warning: no uncertainties\n",
        "Warning: no uncertainties\n",
        "Warning: no uncertainties\n",
        "Warning: no uncertainties\n",
        "Warning: no uncertainties"
       ]
      },
      {
       "output_type": "stream",
       "stream": "stdout",
       "text": [
        "\n",
        "Warning: no uncertainties\n",
        "Warning: no uncertainties\n",
        "Warning: no uncertainties\n",
        "Warning: no uncertainties\n",
        "Warning: no uncertainties\n",
        "Warning: no uncertainties\n",
        "Warning: no uncertainties\n",
        "Warning: no uncertainties\n",
        "Warning: no uncertainties\n",
        "Warning: no uncertainties\n",
        "Warning: no uncertainties\n",
        "Warning: no uncertainties\n",
        "Warning: no uncertainties\n",
        "Warning: no uncertainties\n",
        "Warning: no uncertainties\n",
        "Warning: no uncertainties"
       ]
      },
      {
       "output_type": "stream",
       "stream": "stdout",
       "text": [
        "\n",
        "Warning: no uncertainties\n",
        "Warning: no uncertainties\n",
        "Warning: no uncertainties\n",
        "Warning: no uncertainties\n",
        "Warning: no uncertainties"
       ]
      },
      {
       "output_type": "stream",
       "stream": "stdout",
       "text": [
        "\n",
        "Warning: no uncertainties\n",
        "Warning: no uncertainties\n",
        "Warning: no uncertainties\n",
        "Warning: no uncertainties\n",
        "Warning: no uncertainties\n",
        "Warning: no uncertainties\n",
        "Warning: no uncertainties\n",
        "Warning: no uncertainties\n",
        "Warning: no uncertainties\n",
        "Warning: no uncertainties\n",
        "Warning: no uncertainties\n",
        "Warning: no uncertainties\n",
        "Warning: no uncertainties\n",
        "Warning: no uncertainties\n",
        "Warning: no uncertainties\n",
        "Warning: no uncertainties"
       ]
      },
      {
       "output_type": "stream",
       "stream": "stdout",
       "text": [
        "\n",
        "Warning: no uncertainties\n",
        "Warning: no uncertainties\n",
        "Warning: no uncertainties\n",
        "Warning: no uncertainties\n",
        "Warning: no uncertainties"
       ]
      },
      {
       "output_type": "stream",
       "stream": "stdout",
       "text": [
        "\n",
        "Warning: no uncertainties\n",
        "Warning: no uncertainties\n",
        "Warning: no uncertainties\n",
        "Warning: no uncertainties\n",
        "Warning: no uncertainties\n",
        "Warning: no uncertainties\n",
        "Warning: no uncertainties\n",
        "Warning: no uncertainties\n",
        "Warning: no uncertainties\n",
        "Warning: no uncertainties\n",
        "Warning: no uncertainties\n",
        "Warning: no uncertainties\n",
        "Warning: no uncertainties\n",
        "Warning: no uncertainties\n",
        "Warning: no uncertainties\n",
        "Warning: no uncertainties"
       ]
      },
      {
       "output_type": "stream",
       "stream": "stdout",
       "text": [
        "\n",
        "Warning: no uncertainties\n",
        "Warning: no uncertainties\n",
        "Warning: no uncertainties\n",
        "Warning: no uncertainties\n",
        "Warning: no uncertainties"
       ]
      },
      {
       "output_type": "stream",
       "stream": "stdout",
       "text": [
        "\n",
        "Warning: no uncertainties\n",
        "Warning: no uncertainties\n",
        "Warning: no uncertainties\n",
        "Warning: no uncertainties\n",
        "Warning: no uncertainties\n",
        "Warning: no uncertainties\n",
        "Warning: no uncertainties\n",
        "Warning: no uncertainties\n",
        "Warning: no uncertainties\n",
        "Warning: no uncertainties\n",
        "Warning: no uncertainties\n",
        "Warning: no uncertainties\n",
        "Warning: no uncertainties\n",
        "Warning: no uncertainties\n",
        "Warning: no uncertainties\n",
        "Warning: no uncertainties"
       ]
      },
      {
       "output_type": "stream",
       "stream": "stdout",
       "text": [
        "\n",
        "Warning: no uncertainties\n",
        "Warning: no uncertainties\n",
        "Warning: no uncertainties\n",
        "Warning: no uncertainties\n",
        "Warning: no uncertainties"
       ]
      },
      {
       "output_type": "stream",
       "stream": "stdout",
       "text": [
        "\n",
        "Warning: no uncertainties\n",
        "Warning: no uncertainties\n",
        "Warning: no uncertainties\n",
        "Warning: no uncertainties\n",
        "Warning: no uncertainties\n",
        "Warning: no uncertainties\n",
        "Warning: no uncertainties\n",
        "Warning: no uncertainties\n",
        "Warning: no uncertainties\n",
        "Warning: no uncertainties\n",
        "Warning: no uncertainties\n",
        "Warning: no uncertainties\n",
        "Warning: no uncertainties\n",
        "Warning: no uncertainties\n",
        "Warning: no uncertainties\n",
        "Warning: no uncertainties"
       ]
      },
      {
       "output_type": "stream",
       "stream": "stdout",
       "text": [
        "\n",
        "Warning: no uncertainties\n",
        "Warning: no uncertainties\n",
        "Warning: no uncertainties\n",
        "Warning: no uncertainties\n",
        "Warning: no uncertainties"
       ]
      },
      {
       "output_type": "stream",
       "stream": "stdout",
       "text": [
        "\n",
        "Warning: no uncertainties\n",
        "Warning: no uncertainties\n",
        "Warning: no uncertainties\n",
        "Warning: no uncertainties\n",
        "Warning: no uncertainties\n",
        "Warning: no uncertainties\n",
        "Warning: no uncertainties\n",
        "Warning: no uncertainties\n",
        "Warning: no uncertainties\n",
        "Warning: no uncertainties\n",
        "Warning: no uncertainties\n",
        "Warning: no uncertainties\n",
        "Warning: no uncertainties\n",
        "Warning: no uncertainties\n",
        "Warning: no uncertainties\n",
        "Warning: no uncertainties"
       ]
      },
      {
       "output_type": "stream",
       "stream": "stdout",
       "text": [
        "\n",
        "Warning: no uncertainties\n",
        "Warning: no uncertainties\n",
        "Warning: no uncertainties\n",
        "Warning: no uncertainties\n",
        "Warning: no uncertainties"
       ]
      },
      {
       "output_type": "stream",
       "stream": "stdout",
       "text": [
        "\n",
        "Warning: no uncertainties\n",
        "Warning: no uncertainties\n",
        "Warning: no uncertainties\n",
        "Warning: no uncertainties\n",
        "Warning: no uncertainties\n",
        "Warning: no uncertainties\n",
        "Warning: no uncertainties\n",
        "Warning: no uncertainties\n",
        "Warning: no uncertainties\n",
        "Warning: no uncertainties\n",
        "Warning: no uncertainties\n",
        "Warning: no uncertainties\n",
        "Warning: no uncertainties\n",
        "Warning: no uncertainties\n",
        "Warning: no uncertainties\n",
        "Warning: no uncertainties"
       ]
      },
      {
       "output_type": "stream",
       "stream": "stdout",
       "text": [
        "\n",
        "Warning: no uncertainties\n",
        "Warning: no uncertainties\n",
        "Warning: no uncertainties\n",
        "Warning: no uncertainties\n",
        "Warning: no uncertainties"
       ]
      },
      {
       "output_type": "stream",
       "stream": "stdout",
       "text": [
        "\n",
        "Warning: no uncertainties\n",
        "Warning: no uncertainties\n",
        "Warning: no uncertainties\n",
        "Warning: no uncertainties\n",
        "Warning: no uncertainties\n",
        "Warning: no uncertainties\n",
        "Warning: no uncertainties\n",
        "Warning: no uncertainties\n",
        "Warning: no uncertainties\n",
        "Warning: no uncertainties\n",
        "Warning: no uncertainties\n",
        "Warning: no uncertainties\n",
        "Warning: no uncertainties\n",
        "Warning: no uncertainties\n",
        "Warning: no uncertainties\n",
        "Warning: no uncertainties"
       ]
      },
      {
       "output_type": "stream",
       "stream": "stdout",
       "text": [
        "\n",
        "Warning: no uncertainties\n",
        "Warning: no uncertainties\n",
        "Warning: no uncertainties\n",
        "Warning: no uncertainties\n",
        "Warning: no uncertainties"
       ]
      },
      {
       "output_type": "stream",
       "stream": "stdout",
       "text": [
        "\n",
        "Warning: no uncertainties\n",
        "Warning: no uncertainties\n",
        "Warning: no uncertainties\n",
        "Warning: no uncertainties\n",
        "Warning: no uncertainties\n",
        "Warning: no uncertainties\n",
        "Warning: no uncertainties\n",
        "Warning: no uncertainties\n",
        "Warning: no uncertainties\n",
        "Warning: no uncertainties\n",
        "Warning: no uncertainties\n",
        "Warning: no uncertainties\n",
        "Warning: no uncertainties\n",
        "Warning: no uncertainties\n",
        "Warning: no uncertainties\n",
        "Warning: no uncertainties"
       ]
      },
      {
       "output_type": "stream",
       "stream": "stdout",
       "text": [
        "\n",
        "Warning: no uncertainties\n",
        "Warning: no uncertainties\n",
        "Warning: no uncertainties\n",
        "Warning: no uncertainties\n",
        "Warning: no uncertainties"
       ]
      },
      {
       "output_type": "stream",
       "stream": "stdout",
       "text": [
        "\n",
        "Warning: no uncertainties\n",
        "Warning: no uncertainties\n",
        "Warning: no uncertainties\n",
        "Warning: no uncertainties\n",
        "Warning: no uncertainties\n",
        "Warning: no uncertainties\n",
        "Warning: no uncertainties\n",
        "Warning: no uncertainties\n",
        "Warning: no uncertainties\n",
        "Warning: no uncertainties\n",
        "Warning: no uncertainties\n",
        "Warning: no uncertainties\n",
        "Warning: no uncertainties\n",
        "Warning: no uncertainties\n",
        "Warning: no uncertainties\n",
        "Warning: no uncertainties"
       ]
      },
      {
       "output_type": "stream",
       "stream": "stdout",
       "text": [
        "\n",
        "Warning: no uncertainties\n",
        "Warning: no uncertainties\n",
        "Warning: no uncertainties\n",
        "Warning: no uncertainties\n",
        "Warning: no uncertainties"
       ]
      },
      {
       "output_type": "stream",
       "stream": "stdout",
       "text": [
        "\n",
        "Warning: no uncertainties\n",
        "Warning: no uncertainties\n",
        "Warning: no uncertainties\n",
        "Warning: no uncertainties\n",
        "Warning: no uncertainties\n",
        "Warning: no uncertainties\n",
        "Warning: no uncertainties\n",
        "Warning: no uncertainties\n",
        "Warning: no uncertainties\n",
        "Warning: no uncertainties\n",
        "Warning: no uncertainties\n",
        "Warning: no uncertainties\n",
        "Warning: no uncertainties\n",
        "Warning: no uncertainties\n",
        "Warning: no uncertainties\n",
        "Warning: no uncertainties"
       ]
      },
      {
       "output_type": "stream",
       "stream": "stdout",
       "text": [
        "\n",
        "Warning: no uncertainties\n",
        "Warning: no uncertainties\n",
        "Warning: no uncertainties\n",
        "Warning: no uncertainties\n",
        "Warning: no uncertainties"
       ]
      },
      {
       "output_type": "stream",
       "stream": "stdout",
       "text": [
        "\n",
        "Warning: no uncertainties\n",
        "Warning: no uncertainties\n",
        "Warning: no uncertainties\n",
        "Warning: no uncertainties\n",
        "Warning: no uncertainties\n",
        "Warning: no uncertainties\n",
        "Warning: no uncertainties\n",
        "Warning: no uncertainties\n",
        "Warning: no uncertainties\n",
        "Warning: no uncertainties\n",
        "Warning: no uncertainties\n",
        "Warning: no uncertainties\n",
        "Warning: no uncertainties\n",
        "Warning: no uncertainties\n",
        "Warning: no uncertainties\n",
        "Warning: no uncertainties"
       ]
      },
      {
       "output_type": "stream",
       "stream": "stdout",
       "text": [
        "\n",
        "Warning: no uncertainties\n",
        "Warning: no uncertainties\n",
        "Warning: no uncertainties\n",
        "Warning: no uncertainties\n",
        "Warning: no uncertainties"
       ]
      },
      {
       "output_type": "stream",
       "stream": "stdout",
       "text": [
        "\n",
        "Warning: no uncertainties\n",
        "Warning: no uncertainties\n",
        "Warning: no uncertainties\n",
        "Warning: no uncertainties\n",
        "Warning: no uncertainties\n",
        "Warning: no uncertainties\n",
        "Warning: no uncertainties\n",
        "Warning: no uncertainties\n",
        "Warning: no uncertainties\n",
        "Warning: no uncertainties\n",
        "Warning: no uncertainties\n",
        "Warning: no uncertainties\n",
        "Warning: no uncertainties\n",
        "Warning: no uncertainties\n",
        "Warning: no uncertainties\n",
        "Warning: no uncertainties"
       ]
      },
      {
       "output_type": "stream",
       "stream": "stdout",
       "text": [
        "\n",
        "Warning: no uncertainties\n",
        "Warning: no uncertainties\n",
        "Warning: no uncertainties\n",
        "Warning: no uncertainties\n",
        "Warning: no uncertainties"
       ]
      },
      {
       "output_type": "stream",
       "stream": "stdout",
       "text": [
        "\n",
        "Warning: no uncertainties\n",
        "Warning: no uncertainties\n",
        "Warning: no uncertainties\n",
        "Warning: no uncertainties\n",
        "Warning: no uncertainties\n",
        "Warning: no uncertainties\n",
        "Warning: no uncertainties\n",
        "Warning: no uncertainties\n",
        "Warning: no uncertainties\n",
        "Warning: no uncertainties\n",
        "Warning: no uncertainties\n",
        "Warning: no uncertainties\n",
        "Warning: no uncertainties\n",
        "Warning: no uncertainties\n",
        "Warning: no uncertainties\n",
        "Warning: no uncertainties"
       ]
      },
      {
       "output_type": "stream",
       "stream": "stdout",
       "text": [
        "\n",
        "Warning: no uncertainties\n",
        "Warning: no uncertainties\n",
        "Warning: no uncertainties\n",
        "Warning: no uncertainties\n",
        "Warning: no uncertainties"
       ]
      },
      {
       "output_type": "stream",
       "stream": "stdout",
       "text": [
        "\n",
        "Warning: no uncertainties\n",
        "Warning: no uncertainties\n",
        "Warning: no uncertainties\n",
        "Warning: no uncertainties\n",
        "Warning: no uncertainties\n",
        "Warning: no uncertainties\n",
        "Warning: no uncertainties\n",
        "Warning: no uncertainties\n",
        "Warning: no uncertainties\n",
        "Warning: no uncertainties\n",
        "Warning: no uncertainties\n",
        "Warning: no uncertainties\n",
        "Warning: no uncertainties\n",
        "Warning: no uncertainties\n",
        "Warning: no uncertainties\n",
        "Warning: no uncertainties"
       ]
      },
      {
       "output_type": "stream",
       "stream": "stdout",
       "text": [
        "\n",
        "Warning: no uncertainties\n",
        "Warning: no uncertainties\n",
        "Warning: no uncertainties\n",
        "Warning: no uncertainties\n",
        "Warning: no uncertainties"
       ]
      },
      {
       "output_type": "stream",
       "stream": "stdout",
       "text": [
        "\n",
        "Warning: no uncertainties\n",
        "Warning: no uncertainties\n",
        "Warning: no uncertainties\n",
        "Warning: no uncertainties\n",
        "Warning: no uncertainties\n",
        "Warning: no uncertainties\n",
        "Warning: no uncertainties\n",
        "Warning: no uncertainties\n",
        "Warning: no uncertainties\n",
        "Warning: no uncertainties\n",
        "Warning: no uncertainties\n",
        "Warning: no uncertainties\n",
        "Warning: no uncertainties\n",
        "Warning: no uncertainties\n",
        "Warning: no uncertainties\n",
        "Warning: no uncertainties"
       ]
      },
      {
       "output_type": "stream",
       "stream": "stdout",
       "text": [
        "\n",
        "Warning: no uncertainties\n",
        "Warning: no uncertainties\n",
        "Warning: no uncertainties\n",
        "Warning: no uncertainties\n",
        "Warning: no uncertainties"
       ]
      },
      {
       "output_type": "stream",
       "stream": "stdout",
       "text": [
        "\n",
        "Warning: no uncertainties\n",
        "Warning: no uncertainties\n",
        "Warning: no uncertainties\n",
        "Warning: no uncertainties\n",
        "Warning: no uncertainties\n",
        "Warning: no uncertainties\n",
        "Warning: no uncertainties\n",
        "Warning: no uncertainties\n",
        "Warning: no uncertainties\n",
        "Warning: no uncertainties\n",
        "Warning: no uncertainties\n",
        "Warning: no uncertainties\n",
        "Warning: no uncertainties\n",
        "Warning: no uncertainties\n",
        "Warning: no uncertainties\n",
        "Warning: no uncertainties"
       ]
      },
      {
       "output_type": "stream",
       "stream": "stdout",
       "text": [
        "\n",
        "Warning: no uncertainties\n",
        "Warning: no uncertainties\n",
        "Warning: no uncertainties\n",
        "Warning: no uncertainties\n",
        "Warning: no uncertainties"
       ]
      },
      {
       "output_type": "stream",
       "stream": "stdout",
       "text": [
        "\n",
        "Warning: no uncertainties\n",
        "Warning: no uncertainties\n",
        "Warning: no uncertainties\n",
        "Warning: no uncertainties\n",
        "Warning: no uncertainties\n",
        "Warning: no uncertainties\n",
        "Warning: no uncertainties\n",
        "Warning: no uncertainties\n",
        "Warning: no uncertainties\n",
        "Warning: no uncertainties\n",
        "Warning: no uncertainties\n",
        "Warning: no uncertainties\n",
        "Warning: no uncertainties\n",
        "Warning: no uncertainties\n",
        "Warning: no uncertainties\n",
        "Warning: no uncertainties"
       ]
      },
      {
       "output_type": "stream",
       "stream": "stdout",
       "text": [
        "\n",
        "Warning: no uncertainties\n",
        "Warning: no uncertainties\n",
        "Warning: no uncertainties\n",
        "Warning: no uncertainties\n",
        "Warning: no uncertainties"
       ]
      },
      {
       "output_type": "stream",
       "stream": "stdout",
       "text": [
        "\n",
        "Warning: no uncertainties\n",
        "Warning: no uncertainties\n",
        "Warning: no uncertainties\n",
        "Warning: no uncertainties\n",
        "Warning: no uncertainties\n",
        "Warning: no uncertainties\n",
        "Warning: no uncertainties\n",
        "Warning: no uncertainties\n",
        "Warning: no uncertainties\n",
        "Warning: no uncertainties\n",
        "Warning: no uncertainties\n",
        "Warning: no uncertainties\n",
        "Warning: no uncertainties\n",
        "Warning: no uncertainties\n",
        "Warning: no uncertainties\n",
        "Warning: no uncertainties"
       ]
      },
      {
       "output_type": "stream",
       "stream": "stdout",
       "text": [
        "\n",
        "Warning: no uncertainties\n",
        "Warning: no uncertainties\n",
        "Warning: no uncertainties\n",
        "Warning: no uncertainties\n",
        "Warning: no uncertainties"
       ]
      },
      {
       "output_type": "stream",
       "stream": "stdout",
       "text": [
        "\n",
        "Warning: no uncertainties\n",
        "Warning: no uncertainties\n",
        "Warning: no uncertainties\n",
        "Warning: no uncertainties\n",
        "Warning: no uncertainties\n",
        "Warning: no uncertainties\n",
        "Warning: no uncertainties\n",
        "Warning: no uncertainties\n",
        "Warning: no uncertainties\n",
        "Warning: no uncertainties\n",
        "Warning: no uncertainties\n",
        "Warning: no uncertainties\n",
        "Warning: no uncertainties\n",
        "Warning: no uncertainties\n",
        "Warning: no uncertainties\n",
        "Warning: no uncertainties"
       ]
      },
      {
       "output_type": "stream",
       "stream": "stdout",
       "text": [
        "\n",
        "Warning: no uncertainties\n",
        "Warning: no uncertainties\n",
        "Warning: no uncertainties\n",
        "Warning: no uncertainties\n",
        "Warning: no uncertainties"
       ]
      },
      {
       "output_type": "stream",
       "stream": "stdout",
       "text": [
        "\n",
        "Warning: no uncertainties\n",
        "Warning: no uncertainties\n",
        "Warning: no uncertainties\n",
        "Warning: no uncertainties\n",
        "Warning: no uncertainties\n",
        "Warning: no uncertainties\n",
        "Warning: no uncertainties\n",
        "Warning: no uncertainties\n",
        "Warning: no uncertainties\n",
        "Warning: no uncertainties\n",
        "Warning: no uncertainties\n",
        "Warning: no uncertainties\n",
        "Warning: no uncertainties\n",
        "Warning: no uncertainties\n",
        "Warning: no uncertainties\n",
        "Warning: no uncertainties"
       ]
      },
      {
       "output_type": "stream",
       "stream": "stdout",
       "text": [
        "\n",
        "Warning: no uncertainties\n",
        "Warning: no uncertainties\n",
        "Warning: no uncertainties\n",
        "Warning: no uncertainties\n",
        "Warning: no uncertainties"
       ]
      },
      {
       "output_type": "stream",
       "stream": "stdout",
       "text": [
        "\n",
        "Warning: no uncertainties\n",
        "Warning: no uncertainties\n",
        "Warning: no uncertainties\n",
        "Warning: no uncertainties\n",
        "Warning: no uncertainties\n",
        "Warning: no uncertainties\n",
        "Warning: no uncertainties\n",
        "Warning: no uncertainties\n",
        "Warning: no uncertainties\n",
        "Warning: no uncertainties\n",
        "Warning: no uncertainties\n",
        "Warning: no uncertainties\n",
        "Warning: no uncertainties\n",
        "Warning: no uncertainties\n",
        "Warning: no uncertainties\n",
        "Warning: no uncertainties"
       ]
      },
      {
       "output_type": "stream",
       "stream": "stdout",
       "text": [
        "\n",
        "Warning: no uncertainties\n",
        "Warning: no uncertainties\n",
        "Warning: no uncertainties\n",
        "Warning: no uncertainties\n",
        "Warning: no uncertainties"
       ]
      },
      {
       "output_type": "stream",
       "stream": "stdout",
       "text": [
        "\n",
        "Warning: no uncertainties\n",
        "Warning: no uncertainties\n",
        "Warning: no uncertainties\n",
        "Warning: no uncertainties\n",
        "Warning: no uncertainties\n",
        "Warning: no uncertainties\n",
        "Warning: no uncertainties\n",
        "Warning: no uncertainties\n",
        "Warning: no uncertainties\n",
        "Warning: no uncertainties\n",
        "Warning: no uncertainties\n",
        "Warning: no uncertainties\n",
        "Warning: no uncertainties\n",
        "Warning: no uncertainties\n",
        "Warning: no uncertainties\n",
        "Warning: no uncertainties"
       ]
      },
      {
       "output_type": "stream",
       "stream": "stdout",
       "text": [
        "\n",
        "Warning: no uncertainties\n",
        "Warning: no uncertainties\n",
        "Warning: no uncertainties\n",
        "Warning: no uncertainties\n",
        "Warning: no uncertainties"
       ]
      },
      {
       "output_type": "stream",
       "stream": "stdout",
       "text": [
        "\n",
        "Warning: no uncertainties\n",
        "Warning: no uncertainties\n",
        "Warning: no uncertainties\n",
        "Warning: no uncertainties\n",
        "Warning: no uncertainties\n",
        "Warning: no uncertainties\n",
        "Warning: no uncertainties\n",
        "Warning: no uncertainties\n",
        "Warning: no uncertainties\n",
        "Warning: no uncertainties\n",
        "Warning: no uncertainties\n",
        "Warning: no uncertainties\n",
        "Warning: no uncertainties\n",
        "Warning: no uncertainties\n",
        "Warning: no uncertainties\n",
        "Warning: no uncertainties"
       ]
      },
      {
       "output_type": "stream",
       "stream": "stdout",
       "text": [
        "\n",
        "Warning: no uncertainties\n",
        "Warning: no uncertainties\n",
        "Warning: no uncertainties\n",
        "Warning: no uncertainties\n",
        "Warning: no uncertainties"
       ]
      },
      {
       "output_type": "stream",
       "stream": "stdout",
       "text": [
        "\n",
        "Warning: no uncertainties\n",
        "Warning: no uncertainties\n",
        "Warning: no uncertainties\n",
        "Warning: no uncertainties\n",
        "Warning: no uncertainties\n",
        "Warning: no uncertainties\n",
        "Warning: no uncertainties\n",
        "Warning: no uncertainties\n",
        "Warning: no uncertainties\n",
        "Warning: no uncertainties\n",
        "Warning: no uncertainties\n",
        "Warning: no uncertainties\n",
        "Warning: no uncertainties\n",
        "Warning: no uncertainties\n",
        "Warning: no uncertainties\n",
        "Warning: no uncertainties"
       ]
      },
      {
       "output_type": "stream",
       "stream": "stdout",
       "text": [
        "\n",
        "Warning: no uncertainties\n",
        "Warning: no uncertainties\n",
        "Warning: no uncertainties\n",
        "Warning: no uncertainties\n",
        "Warning: no uncertainties"
       ]
      },
      {
       "output_type": "stream",
       "stream": "stdout",
       "text": [
        "\n",
        "Warning: no uncertainties\n",
        "Warning: no uncertainties\n",
        "Warning: no uncertainties\n",
        "Warning: no uncertainties\n",
        "Warning: no uncertainties\n",
        "Warning: no uncertainties\n",
        "Warning: no uncertainties\n",
        "Warning: no uncertainties\n",
        "Warning: no uncertainties\n",
        "Warning: no uncertainties\n",
        "Warning: no uncertainties\n",
        "Warning: no uncertainties\n",
        "Warning: no uncertainties\n",
        "Warning: no uncertainties\n",
        "Warning: no uncertainties\n",
        "Warning: no uncertainties"
       ]
      },
      {
       "output_type": "stream",
       "stream": "stdout",
       "text": [
        "\n",
        "Warning: no uncertainties\n",
        "Warning: no uncertainties\n",
        "Warning: no uncertainties\n",
        "Warning: no uncertainties\n",
        "Warning: no uncertainties"
       ]
      },
      {
       "output_type": "stream",
       "stream": "stdout",
       "text": [
        "\n",
        "Warning: no uncertainties\n",
        "Warning: no uncertainties\n",
        "Warning: no uncertainties\n",
        "Warning: no uncertainties\n",
        "Warning: no uncertainties\n",
        "Warning: no uncertainties\n",
        "Warning: no uncertainties\n",
        "Warning: no uncertainties\n",
        "Warning: no uncertainties\n",
        "Warning: no uncertainties\n",
        "Warning: no uncertainties\n",
        "Warning: no uncertainties\n",
        "Warning: no uncertainties\n",
        "Warning: no uncertainties\n",
        "Warning: no uncertainties\n",
        "Warning: no uncertainties"
       ]
      },
      {
       "output_type": "stream",
       "stream": "stdout",
       "text": [
        "\n",
        "Warning: no uncertainties\n",
        "Warning: no uncertainties\n",
        "Warning: no uncertainties\n",
        "Warning: no uncertainties\n",
        "Warning: no uncertainties"
       ]
      },
      {
       "output_type": "stream",
       "stream": "stdout",
       "text": [
        "\n",
        "Warning: no uncertainties\n",
        "Warning: no uncertainties\n",
        "Warning: no uncertainties\n",
        "Warning: no uncertainties\n",
        "Warning: no uncertainties\n",
        "Warning: no uncertainties\n",
        "Warning: no uncertainties\n",
        "Warning: no uncertainties\n",
        "Warning: no uncertainties\n",
        "Warning: no uncertainties\n",
        "Warning: no uncertainties\n",
        "Warning: no uncertainties\n",
        "Warning: no uncertainties\n",
        "Warning: no uncertainties\n",
        "Warning: no uncertainties\n",
        "Warning: no uncertainties"
       ]
      },
      {
       "output_type": "stream",
       "stream": "stdout",
       "text": [
        "\n",
        "Warning: no uncertainties\n",
        "Warning: no uncertainties\n",
        "Warning: no uncertainties\n",
        "Warning: no uncertainties\n",
        "Warning: no uncertainties"
       ]
      },
      {
       "output_type": "stream",
       "stream": "stdout",
       "text": [
        "\n",
        "Warning: no uncertainties\n",
        "Warning: no uncertainties\n",
        "Warning: no uncertainties\n",
        "Warning: no uncertainties\n",
        "Warning: no uncertainties\n",
        "Warning: no uncertainties\n",
        "Warning: no uncertainties\n",
        "Warning: no uncertainties\n",
        "Warning: no uncertainties\n",
        "Warning: no uncertainties\n",
        "Warning: no uncertainties\n",
        "Warning: no uncertainties\n",
        "Warning: no uncertainties\n",
        "Warning: no uncertainties\n",
        "Warning: no uncertainties\n",
        "Warning: no uncertainties"
       ]
      },
      {
       "output_type": "stream",
       "stream": "stdout",
       "text": [
        "\n",
        "Warning: no uncertainties\n",
        "Warning: no uncertainties\n",
        "Warning: no uncertainties\n",
        "Warning: no uncertainties\n",
        "Warning: no uncertainties"
       ]
      },
      {
       "output_type": "stream",
       "stream": "stdout",
       "text": [
        "\n",
        "Warning: no uncertainties\n",
        "Warning: no uncertainties\n",
        "Warning: no uncertainties\n",
        "Warning: no uncertainties\n",
        "Warning: no uncertainties\n",
        "Warning: no uncertainties\n",
        "Warning: no uncertainties\n",
        "Warning: no uncertainties\n",
        "Warning: no uncertainties\n",
        "Warning: no uncertainties\n",
        "Warning: no uncertainties\n",
        "Warning: no uncertainties\n",
        "Warning: no uncertainties\n",
        "Warning: no uncertainties\n",
        "Warning: no uncertainties\n",
        "Warning: no uncertainties"
       ]
      },
      {
       "output_type": "stream",
       "stream": "stdout",
       "text": [
        "\n",
        "Warning: no uncertainties\n",
        "Warning: no uncertainties\n",
        "Warning: no uncertainties\n",
        "Warning: no uncertainties\n",
        "Warning: no uncertainties"
       ]
      },
      {
       "output_type": "stream",
       "stream": "stdout",
       "text": [
        "\n",
        "Warning: no uncertainties\n",
        "Warning: no uncertainties\n",
        "Warning: no uncertainties\n",
        "Warning: no uncertainties\n",
        "Warning: no uncertainties\n",
        "Warning: no uncertainties\n",
        "Warning: no uncertainties\n",
        "Warning: no uncertainties\n",
        "Warning: no uncertainties\n",
        "Warning: no uncertainties\n",
        "Warning: no uncertainties\n",
        "Warning: no uncertainties\n",
        "Warning: no uncertainties\n",
        "Warning: no uncertainties\n",
        "Warning: no uncertainties\n",
        "Warning: no uncertainties"
       ]
      },
      {
       "output_type": "stream",
       "stream": "stdout",
       "text": [
        "\n",
        "Warning: no uncertainties\n",
        "Warning: no uncertainties\n",
        "Warning: no uncertainties\n",
        "Warning: no uncertainties\n",
        "Warning: no uncertainties"
       ]
      },
      {
       "output_type": "stream",
       "stream": "stdout",
       "text": [
        "\n",
        "Warning: no uncertainties\n",
        "Warning: no uncertainties\n",
        "Warning: no uncertainties\n",
        "Warning: no uncertainties\n",
        "Warning: no uncertainties\n",
        "Warning: no uncertainties\n",
        "Warning: no uncertainties\n",
        "Warning: no uncertainties\n",
        "Warning: no uncertainties\n",
        "Warning: no uncertainties\n",
        "Warning: no uncertainties\n",
        "Warning: no uncertainties\n",
        "Warning: no uncertainties\n",
        "Warning: no uncertainties\n",
        "Warning: no uncertainties\n",
        "Warning: no uncertainties"
       ]
      },
      {
       "output_type": "stream",
       "stream": "stdout",
       "text": [
        "\n",
        "Warning: no uncertainties\n",
        "Warning: no uncertainties\n",
        "Warning: no uncertainties\n",
        "Warning: no uncertainties\n",
        "Warning: no uncertainties"
       ]
      },
      {
       "output_type": "stream",
       "stream": "stdout",
       "text": [
        "\n",
        "Warning: no uncertainties\n",
        "Warning: no uncertainties\n",
        "Warning: no uncertainties\n",
        "Warning: no uncertainties\n",
        "Warning: no uncertainties\n",
        "Warning: no uncertainties\n",
        "Warning: no uncertainties\n",
        "Warning: no uncertainties\n",
        "Warning: no uncertainties\n",
        "Warning: no uncertainties\n",
        "Warning: no uncertainties\n",
        "Warning: no uncertainties\n",
        "Warning: no uncertainties\n",
        "Warning: no uncertainties\n",
        "Warning: no uncertainties\n",
        "Warning: no uncertainties"
       ]
      },
      {
       "output_type": "stream",
       "stream": "stdout",
       "text": [
        "\n",
        "Warning: no uncertainties\n",
        "Warning: no uncertainties\n",
        "Warning: no uncertainties\n",
        "Warning: no uncertainties\n",
        "Warning: no uncertainties"
       ]
      },
      {
       "output_type": "stream",
       "stream": "stdout",
       "text": [
        "\n",
        "Warning: no uncertainties\n",
        "Warning: no uncertainties\n",
        "Warning: no uncertainties\n",
        "Warning: no uncertainties\n",
        "Warning: no uncertainties\n",
        "Warning: no uncertainties\n",
        "Warning: no uncertainties\n",
        "Warning: no uncertainties\n",
        "Warning: no uncertainties\n",
        "Warning: no uncertainties\n",
        "Warning: no uncertainties\n",
        "Warning: no uncertainties\n",
        "Warning: no uncertainties\n",
        "Warning: no uncertainties\n",
        "Warning: no uncertainties\n",
        "Warning: no uncertainties"
       ]
      },
      {
       "output_type": "stream",
       "stream": "stdout",
       "text": [
        "\n",
        "Warning: no uncertainties\n",
        "Warning: no uncertainties\n",
        "Warning: no uncertainties\n",
        "Warning: no uncertainties\n",
        "Warning: no uncertainties"
       ]
      },
      {
       "output_type": "stream",
       "stream": "stdout",
       "text": [
        "\n",
        "Warning: no uncertainties\n",
        "Warning: no uncertainties\n",
        "Warning: no uncertainties\n",
        "Warning: no uncertainties\n",
        "Warning: no uncertainties\n",
        "Warning: no uncertainties\n",
        "Warning: no uncertainties\n",
        "Warning: no uncertainties\n",
        "Warning: no uncertainties\n",
        "Warning: no uncertainties\n",
        "Warning: no uncertainties\n",
        "Warning: no uncertainties\n",
        "Warning: no uncertainties\n",
        "Warning: no uncertainties\n",
        "Warning: no uncertainties\n",
        "Warning: no uncertainties"
       ]
      },
      {
       "output_type": "stream",
       "stream": "stdout",
       "text": [
        "\n",
        "Warning: no uncertainties\n",
        "Warning: no uncertainties\n",
        "Warning: no uncertainties\n",
        "Warning: no uncertainties\n",
        "Warning: no uncertainties"
       ]
      },
      {
       "output_type": "stream",
       "stream": "stdout",
       "text": [
        "\n",
        "Warning: no uncertainties\n",
        "Warning: no uncertainties\n",
        "Warning: no uncertainties\n",
        "Warning: no uncertainties\n",
        "Warning: no uncertainties\n",
        "Warning: no uncertainties\n",
        "Warning: no uncertainties\n",
        "Warning: no uncertainties\n",
        "Warning: no uncertainties\n",
        "Warning: no uncertainties\n",
        "Warning: no uncertainties\n",
        "Warning: no uncertainties\n",
        "Warning: no uncertainties\n",
        "Warning: no uncertainties\n",
        "Warning: no uncertainties\n",
        "Warning: no uncertainties"
       ]
      },
      {
       "output_type": "stream",
       "stream": "stdout",
       "text": [
        "\n",
        "Warning: no uncertainties\n",
        "Warning: no uncertainties\n",
        "Warning: no uncertainties\n",
        "Warning: no uncertainties\n",
        "Warning: no uncertainties"
       ]
      },
      {
       "output_type": "stream",
       "stream": "stdout",
       "text": [
        "\n",
        "Warning: no uncertainties\n",
        "Warning: no uncertainties\n",
        "Warning: no uncertainties\n",
        "Warning: no uncertainties\n",
        "Warning: no uncertainties\n",
        "Warning: no uncertainties\n",
        "Warning: no uncertainties\n",
        "Warning: no uncertainties\n",
        "Warning: no uncertainties\n",
        "Warning: no uncertainties\n",
        "Warning: no uncertainties\n",
        "Warning: no uncertainties\n",
        "Warning: no uncertainties\n",
        "Warning: no uncertainties\n",
        "Warning: no uncertainties\n",
        "Warning: no uncertainties"
       ]
      },
      {
       "output_type": "stream",
       "stream": "stdout",
       "text": [
        "\n",
        "Warning: no uncertainties\n",
        "Warning: no uncertainties\n",
        "Warning: no uncertainties\n",
        "Warning: no uncertainties\n",
        "Warning: no uncertainties"
       ]
      },
      {
       "output_type": "stream",
       "stream": "stdout",
       "text": [
        "\n",
        "Warning: no uncertainties\n",
        "Warning: no uncertainties\n",
        "Warning: no uncertainties\n",
        "Warning: no uncertainties\n",
        "Warning: no uncertainties\n",
        "Warning: no uncertainties\n",
        "Warning: no uncertainties\n",
        "Warning: no uncertainties\n",
        "Warning: no uncertainties\n",
        "Warning: no uncertainties\n",
        "Warning: no uncertainties\n",
        "Warning: no uncertainties\n",
        "Warning: no uncertainties\n",
        "Warning: no uncertainties\n",
        "Warning: no uncertainties\n",
        "Warning: no uncertainties"
       ]
      },
      {
       "output_type": "stream",
       "stream": "stdout",
       "text": [
        "\n",
        "Warning: no uncertainties\n",
        "Warning: no uncertainties\n",
        "Warning: no uncertainties\n",
        "Warning: no uncertainties\n",
        "Warning: no uncertainties"
       ]
      },
      {
       "output_type": "stream",
       "stream": "stdout",
       "text": [
        "\n",
        "Warning: no uncertainties\n",
        "Warning: no uncertainties\n",
        "Warning: no uncertainties\n",
        "Warning: no uncertainties\n",
        "Warning: no uncertainties\n",
        "Warning: no uncertainties\n",
        "Warning: no uncertainties\n",
        "Warning: no uncertainties\n",
        "Warning: no uncertainties\n",
        "Warning: no uncertainties\n",
        "Warning: no uncertainties\n",
        "Warning: no uncertainties\n",
        "Warning: no uncertainties\n",
        "Warning: no uncertainties\n",
        "Warning: no uncertainties\n",
        "Warning: no uncertainties"
       ]
      },
      {
       "output_type": "stream",
       "stream": "stdout",
       "text": [
        "\n",
        "Warning: no uncertainties\n",
        "Warning: no uncertainties\n",
        "Warning: no uncertainties\n",
        "Warning: no uncertainties\n",
        "Warning: no uncertainties"
       ]
      },
      {
       "output_type": "stream",
       "stream": "stdout",
       "text": [
        "\n",
        "Warning: no uncertainties\n",
        "Warning: no uncertainties\n",
        "Warning: no uncertainties\n",
        "Warning: no uncertainties\n",
        "Warning: no uncertainties\n",
        "Warning: no uncertainties\n",
        "Warning: no uncertainties\n",
        "Warning: no uncertainties\n",
        "Warning: no uncertainties\n",
        "Warning: no uncertainties\n",
        "Warning: no uncertainties\n",
        "Warning: no uncertainties\n",
        "Warning: no uncertainties\n",
        "Warning: no uncertainties\n",
        "Warning: no uncertainties\n",
        "Warning: no uncertainties"
       ]
      },
      {
       "output_type": "stream",
       "stream": "stdout",
       "text": [
        "\n",
        "Warning: no uncertainties\n",
        "Warning: no uncertainties\n",
        "Warning: no uncertainties\n",
        "Warning: no uncertainties\n",
        "Warning: no uncertainties"
       ]
      },
      {
       "output_type": "stream",
       "stream": "stdout",
       "text": [
        "\n",
        "Warning: no uncertainties\n",
        "Warning: no uncertainties\n",
        "Warning: no uncertainties\n",
        "Warning: no uncertainties\n",
        "Warning: no uncertainties\n",
        "Warning: no uncertainties\n",
        "Warning: no uncertainties\n",
        "Warning: no uncertainties\n",
        "Warning: no uncertainties\n",
        "Warning: no uncertainties\n",
        "Warning: no uncertainties\n",
        "Warning: no uncertainties\n",
        "Warning: no uncertainties\n",
        "Warning: no uncertainties\n",
        "Warning: no uncertainties\n",
        "Warning: no uncertainties"
       ]
      },
      {
       "output_type": "stream",
       "stream": "stdout",
       "text": [
        "\n",
        "Warning: no uncertainties\n",
        "Warning: no uncertainties\n",
        "Warning: no uncertainties\n",
        "Warning: no uncertainties\n",
        "Warning: no uncertainties"
       ]
      },
      {
       "output_type": "stream",
       "stream": "stdout",
       "text": [
        "\n",
        "Warning: no uncertainties\n",
        "Warning: no uncertainties\n",
        "Warning: no uncertainties\n",
        "Warning: no uncertainties\n",
        "Warning: no uncertainties\n",
        "Warning: no uncertainties\n",
        "Warning: no uncertainties\n",
        "Warning: no uncertainties\n",
        "Warning: no uncertainties\n",
        "Warning: no uncertainties\n",
        "Warning: no uncertainties\n",
        "Warning: no uncertainties\n",
        "Warning: no uncertainties\n",
        "Warning: no uncertainties\n",
        "Warning: no uncertainties\n",
        "Warning: no uncertainties"
       ]
      },
      {
       "output_type": "stream",
       "stream": "stdout",
       "text": [
        "\n",
        "Warning: no uncertainties\n",
        "Warning: no uncertainties\n",
        "Warning: no uncertainties\n",
        "Warning: no uncertainties\n",
        "Warning: no uncertainties"
       ]
      },
      {
       "output_type": "stream",
       "stream": "stdout",
       "text": [
        "\n",
        "Warning: no uncertainties\n",
        "Warning: no uncertainties\n",
        "Warning: no uncertainties\n",
        "Warning: no uncertainties\n",
        "Warning: no uncertainties\n",
        "Warning: no uncertainties\n",
        "Warning: no uncertainties\n",
        "Warning: no uncertainties\n",
        "Warning: no uncertainties\n",
        "Warning: no uncertainties\n",
        "Warning: no uncertainties\n",
        "Warning: no uncertainties\n",
        "Warning: no uncertainties\n",
        "Warning: no uncertainties\n",
        "Warning: no uncertainties\n",
        "Warning: no uncertainties"
       ]
      },
      {
       "output_type": "stream",
       "stream": "stdout",
       "text": [
        "\n",
        "Warning: no uncertainties\n",
        "Warning: no uncertainties\n",
        "Warning: no uncertainties\n",
        "Warning: no uncertainties\n",
        "Warning: no uncertainties"
       ]
      },
      {
       "output_type": "stream",
       "stream": "stdout",
       "text": [
        "\n",
        "Warning: no uncertainties\n",
        "Warning: no uncertainties\n",
        "Warning: no uncertainties\n",
        "Warning: no uncertainties\n",
        "Warning: no uncertainties\n",
        "Warning: no uncertainties\n",
        "Warning: no uncertainties\n",
        "Warning: no uncertainties\n",
        "Warning: no uncertainties\n",
        "Warning: no uncertainties\n",
        "Warning: no uncertainties\n",
        "Warning: no uncertainties\n",
        "Warning: no uncertainties\n",
        "Warning: no uncertainties\n",
        "Warning: no uncertainties\n",
        "Warning: no uncertainties"
       ]
      },
      {
       "output_type": "stream",
       "stream": "stdout",
       "text": [
        "\n",
        "Warning: no uncertainties\n",
        "Warning: no uncertainties\n",
        "Warning: no uncertainties\n",
        "Warning: no uncertainties\n",
        "Warning: no uncertainties"
       ]
      },
      {
       "output_type": "stream",
       "stream": "stdout",
       "text": [
        "\n",
        "Warning: no uncertainties\n",
        "Warning: no uncertainties\n",
        "Warning: no uncertainties\n",
        "Warning: no uncertainties\n",
        "Warning: no uncertainties\n",
        "Warning: no uncertainties\n",
        "Warning: no uncertainties\n",
        "Warning: no uncertainties\n",
        "Warning: no uncertainties\n",
        "Warning: no uncertainties\n",
        "Warning: no uncertainties\n",
        "Warning: no uncertainties\n",
        "Warning: no uncertainties\n",
        "Warning: no uncertainties\n",
        "Warning: no uncertainties\n",
        "Warning: no uncertainties"
       ]
      },
      {
       "output_type": "stream",
       "stream": "stdout",
       "text": [
        "\n",
        "Warning: no uncertainties\n",
        "Warning: no uncertainties\n",
        "Warning: no uncertainties\n",
        "Warning: no uncertainties\n",
        "Warning: no uncertainties"
       ]
      },
      {
       "output_type": "stream",
       "stream": "stdout",
       "text": [
        "\n",
        "Warning: no uncertainties\n",
        "Warning: no uncertainties\n",
        "Warning: no uncertainties\n",
        "Warning: no uncertainties\n",
        "Warning: no uncertainties\n",
        "Warning: no uncertainties\n",
        "Warning: no uncertainties\n",
        "Warning: no uncertainties\n",
        "Warning: no uncertainties\n",
        "Warning: no uncertainties\n",
        "Warning: no uncertainties\n",
        "Warning: no uncertainties\n",
        "Warning: no uncertainties\n",
        "Warning: no uncertainties\n",
        "Warning: no uncertainties\n",
        "Warning: no uncertainties"
       ]
      },
      {
       "output_type": "stream",
       "stream": "stdout",
       "text": [
        "\n",
        "Warning: no uncertainties\n",
        "Warning: no uncertainties\n",
        "Warning: no uncertainties\n",
        "Warning: no uncertainties\n",
        "Warning: no uncertainties"
       ]
      },
      {
       "output_type": "stream",
       "stream": "stdout",
       "text": [
        "\n",
        "Warning: no uncertainties\n",
        "Warning: no uncertainties\n",
        "Warning: no uncertainties\n",
        "Warning: no uncertainties\n",
        "Warning: no uncertainties\n",
        "Warning: no uncertainties\n",
        "Warning: no uncertainties\n",
        "Warning: no uncertainties\n",
        "Warning: no uncertainties\n",
        "Warning: no uncertainties\n",
        "Warning: no uncertainties\n",
        "Warning: no uncertainties\n",
        "Warning: no uncertainties\n",
        "Warning: no uncertainties\n",
        "Warning: no uncertainties\n",
        "Warning: no uncertainties"
       ]
      },
      {
       "output_type": "stream",
       "stream": "stdout",
       "text": [
        "\n",
        "Warning: no uncertainties\n",
        "Warning: no uncertainties\n",
        "Warning: no uncertainties\n",
        "Warning: no uncertainties\n",
        "Warning: no uncertainties"
       ]
      },
      {
       "output_type": "stream",
       "stream": "stdout",
       "text": [
        "\n",
        "Warning: no uncertainties\n",
        "Warning: no uncertainties\n",
        "Warning: no uncertainties\n",
        "Warning: no uncertainties\n",
        "Warning: no uncertainties\n",
        "Warning: no uncertainties\n",
        "Warning: no uncertainties\n",
        "Warning: no uncertainties\n",
        "Warning: no uncertainties\n",
        "Warning: no uncertainties\n",
        "Warning: no uncertainties\n",
        "Warning: no uncertainties\n",
        "Warning: no uncertainties\n",
        "Warning: no uncertainties\n",
        "Warning: no uncertainties\n",
        "Warning: no uncertainties"
       ]
      },
      {
       "output_type": "stream",
       "stream": "stdout",
       "text": [
        "\n",
        "Warning: no uncertainties\n",
        "Warning: no uncertainties\n",
        "Warning: no uncertainties\n",
        "Warning: no uncertainties\n",
        "Warning: no uncertainties"
       ]
      },
      {
       "output_type": "stream",
       "stream": "stdout",
       "text": [
        "\n",
        "Warning: no uncertainties\n",
        "Warning: no uncertainties\n",
        "Warning: no uncertainties\n",
        "Warning: no uncertainties\n",
        "Warning: no uncertainties\n",
        "Warning: no uncertainties\n",
        "Warning: no uncertainties\n",
        "Warning: no uncertainties\n",
        "Warning: no uncertainties\n",
        "Warning: no uncertainties\n",
        "Warning: no uncertainties\n",
        "Warning: no uncertainties\n",
        "Warning: no uncertainties\n",
        "Warning: no uncertainties\n",
        "Warning: no uncertainties\n",
        "Warning: no uncertainties"
       ]
      },
      {
       "output_type": "stream",
       "stream": "stdout",
       "text": [
        "\n",
        "Warning: no uncertainties\n",
        "Warning: no uncertainties\n",
        "Warning: no uncertainties\n",
        "Warning: no uncertainties\n",
        "Warning: no uncertainties"
       ]
      },
      {
       "output_type": "stream",
       "stream": "stdout",
       "text": [
        "\n",
        "Warning: no uncertainties\n",
        "Warning: no uncertainties\n",
        "Warning: no uncertainties\n",
        "Warning: no uncertainties\n",
        "Warning: no uncertainties\n",
        "Warning: no uncertainties\n",
        "Warning: no uncertainties\n",
        "Warning: no uncertainties\n",
        "Warning: no uncertainties\n",
        "Warning: no uncertainties\n",
        "Warning: no uncertainties\n",
        "Warning: no uncertainties\n",
        "Warning: no uncertainties\n",
        "Warning: no uncertainties\n",
        "Warning: no uncertainties\n",
        "Warning: no uncertainties"
       ]
      },
      {
       "output_type": "stream",
       "stream": "stdout",
       "text": [
        "\n",
        "Warning: no uncertainties\n",
        "Warning: no uncertainties\n",
        "Warning: no uncertainties\n",
        "Warning: no uncertainties\n",
        "Warning: no uncertainties"
       ]
      },
      {
       "output_type": "stream",
       "stream": "stdout",
       "text": [
        "\n",
        "Warning: no uncertainties\n",
        "Warning: no uncertainties\n",
        "Warning: no uncertainties\n",
        "Warning: no uncertainties\n",
        "Warning: no uncertainties\n",
        "Warning: no uncertainties\n",
        "Warning: no uncertainties\n",
        "Warning: no uncertainties\n",
        "Warning: no uncertainties\n",
        "Warning: no uncertainties\n",
        "Warning: no uncertainties\n",
        "Warning: no uncertainties\n",
        "Warning: no uncertainties\n",
        "Warning: no uncertainties\n",
        "Warning: no uncertainties\n",
        "Warning: no uncertainties"
       ]
      },
      {
       "output_type": "stream",
       "stream": "stdout",
       "text": [
        "\n",
        "Warning: no uncertainties\n",
        "Warning: no uncertainties\n",
        "Warning: no uncertainties\n",
        "Warning: no uncertainties\n",
        "Warning: no uncertainties"
       ]
      },
      {
       "output_type": "stream",
       "stream": "stdout",
       "text": [
        "\n",
        "Warning: no uncertainties\n",
        "Warning: no uncertainties\n",
        "Warning: no uncertainties\n",
        "Warning: no uncertainties\n",
        "Warning: no uncertainties\n",
        "Warning: no uncertainties\n",
        "Warning: no uncertainties\n",
        "Warning: no uncertainties\n",
        "Warning: no uncertainties\n",
        "Warning: no uncertainties\n",
        "Warning: no uncertainties\n",
        "Warning: no uncertainties\n",
        "Warning: no uncertainties\n",
        "Warning: no uncertainties\n",
        "Warning: no uncertainties\n",
        "Warning: no uncertainties"
       ]
      },
      {
       "output_type": "stream",
       "stream": "stdout",
       "text": [
        "\n",
        "Warning: no uncertainties\n",
        "Warning: no uncertainties\n",
        "Warning: no uncertainties\n",
        "Warning: no uncertainties\n",
        "Warning: no uncertainties"
       ]
      },
      {
       "output_type": "stream",
       "stream": "stdout",
       "text": [
        "\n",
        "Warning: no uncertainties\n",
        "Warning: no uncertainties\n",
        "Warning: no uncertainties\n",
        "Warning: no uncertainties\n",
        "Warning: no uncertainties\n",
        "Warning: no uncertainties\n",
        "Warning: no uncertainties\n",
        "Warning: no uncertainties\n",
        "Warning: no uncertainties\n",
        "Warning: no uncertainties\n",
        "Warning: no uncertainties\n",
        "Warning: no uncertainties\n",
        "Warning: no uncertainties\n",
        "Warning: no uncertainties\n",
        "Warning: no uncertainties\n",
        "Warning: no uncertainties"
       ]
      },
      {
       "output_type": "stream",
       "stream": "stdout",
       "text": [
        "\n",
        "Warning: no uncertainties\n",
        "Warning: no uncertainties\n",
        "Warning: no uncertainties\n",
        "Warning: no uncertainties\n",
        "Warning: no uncertainties"
       ]
      },
      {
       "output_type": "stream",
       "stream": "stdout",
       "text": [
        "\n",
        "Warning: no uncertainties\n",
        "Warning: no uncertainties\n",
        "Warning: no uncertainties\n",
        "Warning: no uncertainties\n",
        "Warning: no uncertainties\n",
        "Warning: no uncertainties\n",
        "Warning: no uncertainties\n",
        "Warning: no uncertainties\n",
        "Warning: no uncertainties\n",
        "Warning: no uncertainties\n",
        "Warning: no uncertainties\n",
        "Warning: no uncertainties\n",
        "Warning: no uncertainties\n",
        "Warning: no uncertainties\n",
        "Warning: no uncertainties\n",
        "Warning: no uncertainties"
       ]
      },
      {
       "output_type": "stream",
       "stream": "stdout",
       "text": [
        "\n",
        "Warning: no uncertainties\n",
        "Warning: no uncertainties\n",
        "Warning: no uncertainties\n",
        "Warning: no uncertainties\n",
        "Warning: no uncertainties"
       ]
      },
      {
       "output_type": "stream",
       "stream": "stdout",
       "text": [
        "\n",
        "Warning: no uncertainties\n",
        "Warning: no uncertainties\n",
        "Warning: no uncertainties\n",
        "Warning: no uncertainties\n",
        "Warning: no uncertainties\n",
        "Warning: no uncertainties\n",
        "Warning: no uncertainties\n",
        "Warning: no uncertainties\n",
        "Warning: no uncertainties\n",
        "Warning: no uncertainties\n",
        "Warning: no uncertainties\n",
        "Warning: no uncertainties\n",
        "Warning: no uncertainties\n",
        "Warning: no uncertainties\n",
        "Warning: no uncertainties\n",
        "Warning: no uncertainties"
       ]
      },
      {
       "output_type": "stream",
       "stream": "stdout",
       "text": [
        "\n",
        "Warning: no uncertainties\n",
        "Warning: no uncertainties\n",
        "Warning: no uncertainties\n",
        "Warning: no uncertainties\n",
        "Warning: no uncertainties"
       ]
      },
      {
       "output_type": "stream",
       "stream": "stdout",
       "text": [
        "\n",
        "Warning: no uncertainties\n",
        "Warning: no uncertainties\n",
        "Warning: no uncertainties\n",
        "Warning: no uncertainties\n",
        "Warning: no uncertainties\n",
        "Warning: no uncertainties\n",
        "Warning: no uncertainties\n",
        "Warning: no uncertainties\n",
        "Warning: no uncertainties\n",
        "Warning: no uncertainties\n",
        "Warning: no uncertainties\n",
        "Warning: no uncertainties\n",
        "Warning: no uncertainties\n",
        "Warning: no uncertainties\n",
        "Warning: no uncertainties\n",
        "Warning: no uncertainties"
       ]
      },
      {
       "output_type": "stream",
       "stream": "stdout",
       "text": [
        "\n",
        "Warning: no uncertainties\n",
        "Warning: no uncertainties\n",
        "Warning: no uncertainties\n",
        "Warning: no uncertainties\n",
        "Warning: no uncertainties"
       ]
      },
      {
       "output_type": "stream",
       "stream": "stdout",
       "text": [
        "\n",
        "Warning: no uncertainties\n",
        "Warning: no uncertainties\n",
        "Warning: no uncertainties\n",
        "Warning: no uncertainties\n",
        "Warning: no uncertainties\n",
        "Warning: no uncertainties\n",
        "Warning: no uncertainties\n",
        "Warning: no uncertainties\n",
        "Warning: no uncertainties\n",
        "Warning: no uncertainties\n",
        "Warning: no uncertainties\n",
        "Warning: no uncertainties\n",
        "Warning: no uncertainties\n",
        "Warning: no uncertainties\n",
        "Warning: no uncertainties\n",
        "Warning: no uncertainties"
       ]
      },
      {
       "output_type": "stream",
       "stream": "stdout",
       "text": [
        "\n",
        "Warning: no uncertainties\n",
        "Warning: no uncertainties\n",
        "Warning: no uncertainties\n",
        "Warning: no uncertainties\n",
        "Warning: no uncertainties"
       ]
      },
      {
       "output_type": "stream",
       "stream": "stdout",
       "text": [
        "\n",
        "Warning: no uncertainties\n",
        "Warning: no uncertainties\n",
        "Warning: no uncertainties\n",
        "Warning: no uncertainties\n",
        "Warning: no uncertainties\n",
        "Warning: no uncertainties\n",
        "Warning: no uncertainties\n",
        "Warning: no uncertainties\n",
        "Warning: no uncertainties\n",
        "Warning: no uncertainties\n",
        "Warning: no uncertainties\n",
        "Warning: no uncertainties\n",
        "Warning: no uncertainties\n",
        "Warning: no uncertainties\n",
        "Warning: no uncertainties\n",
        "Warning: no uncertainties"
       ]
      },
      {
       "output_type": "stream",
       "stream": "stdout",
       "text": [
        "\n",
        "Warning: no uncertainties\n",
        "Warning: no uncertainties\n",
        "Warning: no uncertainties\n",
        "Warning: no uncertainties\n",
        "Warning: no uncertainties"
       ]
      },
      {
       "output_type": "stream",
       "stream": "stdout",
       "text": [
        "\n",
        "Warning: no uncertainties\n",
        "Warning: no uncertainties\n",
        "Warning: no uncertainties\n",
        "Warning: no uncertainties\n",
        "Warning: no uncertainties\n",
        "Warning: no uncertainties\n",
        "Warning: no uncertainties\n",
        "Warning: no uncertainties\n",
        "Warning: no uncertainties\n",
        "Warning: no uncertainties\n",
        "Warning: no uncertainties\n",
        "Warning: no uncertainties\n",
        "Warning: no uncertainties\n",
        "Warning: no uncertainties\n",
        "Warning: no uncertainties\n",
        "Warning: no uncertainties"
       ]
      },
      {
       "output_type": "stream",
       "stream": "stdout",
       "text": [
        "\n",
        "Warning: no uncertainties\n",
        "Warning: no uncertainties\n",
        "Warning: no uncertainties\n",
        "Warning: no uncertainties\n",
        "Warning: no uncertainties"
       ]
      },
      {
       "output_type": "stream",
       "stream": "stdout",
       "text": [
        "\n",
        "Warning: no uncertainties\n",
        "Warning: no uncertainties\n",
        "Warning: no uncertainties\n",
        "Warning: no uncertainties\n",
        "Warning: no uncertainties\n",
        "Warning: no uncertainties\n",
        "Warning: no uncertainties\n",
        "Warning: no uncertainties\n",
        "Warning: no uncertainties\n",
        "Warning: no uncertainties\n",
        "Warning: no uncertainties\n",
        "Warning: no uncertainties\n",
        "Warning: no uncertainties\n",
        "Warning: no uncertainties\n",
        "Warning: no uncertainties\n",
        "Warning: no uncertainties"
       ]
      },
      {
       "output_type": "stream",
       "stream": "stdout",
       "text": [
        "\n",
        "Warning: no uncertainties\n",
        "Warning: no uncertainties\n",
        "Warning: no uncertainties\n",
        "Warning: no uncertainties\n",
        "Warning: no uncertainties"
       ]
      },
      {
       "output_type": "stream",
       "stream": "stdout",
       "text": [
        "\n",
        "Warning: no uncertainties\n",
        "Warning: no uncertainties\n",
        "Warning: no uncertainties\n",
        "Warning: no uncertainties\n",
        "Warning: no uncertainties\n",
        "Warning: no uncertainties\n",
        "Warning: no uncertainties\n",
        "Warning: no uncertainties\n",
        "Warning: no uncertainties\n",
        "Warning: no uncertainties\n",
        "Warning: no uncertainties\n",
        "Warning: no uncertainties\n",
        "Warning: no uncertainties\n",
        "Warning: no uncertainties\n",
        "Warning: no uncertainties\n",
        "Warning: no uncertainties"
       ]
      },
      {
       "output_type": "stream",
       "stream": "stdout",
       "text": [
        "\n",
        "Warning: no uncertainties\n",
        "Warning: no uncertainties\n",
        "Warning: no uncertainties\n",
        "Warning: no uncertainties\n",
        "Warning: no uncertainties"
       ]
      },
      {
       "output_type": "stream",
       "stream": "stdout",
       "text": [
        "\n",
        "Warning: no uncertainties\n",
        "Warning: no uncertainties\n",
        "Warning: no uncertainties\n",
        "Warning: no uncertainties\n",
        "Warning: no uncertainties\n",
        "Warning: no uncertainties\n",
        "Warning: no uncertainties\n",
        "Warning: no uncertainties\n",
        "Warning: no uncertainties\n",
        "Warning: no uncertainties\n",
        "Warning: no uncertainties\n",
        "Warning: no uncertainties\n",
        "Warning: no uncertainties\n",
        "Warning: no uncertainties\n",
        "Warning: no uncertainties\n",
        "Warning: no uncertainties"
       ]
      },
      {
       "output_type": "stream",
       "stream": "stdout",
       "text": [
        "\n",
        "Warning: no uncertainties\n",
        "Warning: no uncertainties\n",
        "Warning: no uncertainties\n",
        "Warning: no uncertainties\n",
        "Warning: no uncertainties"
       ]
      },
      {
       "output_type": "stream",
       "stream": "stdout",
       "text": [
        "\n",
        "Warning: no uncertainties\n",
        "Warning: no uncertainties\n",
        "Warning: no uncertainties\n",
        "Warning: no uncertainties\n",
        "Warning: no uncertainties\n",
        "Warning: no uncertainties\n",
        "Warning: no uncertainties\n",
        "Warning: no uncertainties\n",
        "Warning: no uncertainties\n",
        "Warning: no uncertainties\n",
        "Warning: no uncertainties\n",
        "Warning: no uncertainties\n",
        "Warning: no uncertainties\n",
        "Warning: no uncertainties\n",
        "Warning: no uncertainties\n",
        "Warning: no uncertainties"
       ]
      },
      {
       "output_type": "stream",
       "stream": "stdout",
       "text": [
        "\n",
        "Warning: no uncertainties\n",
        "Warning: no uncertainties\n",
        "Warning: no uncertainties\n",
        "Warning: no uncertainties\n",
        "Warning: no uncertainties"
       ]
      },
      {
       "output_type": "stream",
       "stream": "stdout",
       "text": [
        "\n",
        "Warning: no uncertainties\n",
        "Warning: no uncertainties\n",
        "Warning: no uncertainties\n",
        "Warning: no uncertainties\n",
        "Warning: no uncertainties\n",
        "Warning: no uncertainties\n",
        "Warning: no uncertainties\n",
        "Warning: no uncertainties\n",
        "Warning: no uncertainties\n",
        "Warning: no uncertainties\n",
        "Warning: no uncertainties\n",
        "Warning: no uncertainties\n",
        "Warning: no uncertainties\n",
        "Warning: no uncertainties\n",
        "Warning: no uncertainties\n",
        "Warning: no uncertainties"
       ]
      },
      {
       "output_type": "stream",
       "stream": "stdout",
       "text": [
        "\n",
        "Warning: no uncertainties\n",
        "Warning: no uncertainties\n",
        "Warning: no uncertainties\n",
        "Warning: no uncertainties\n",
        "Warning: no uncertainties"
       ]
      },
      {
       "output_type": "stream",
       "stream": "stdout",
       "text": [
        "\n",
        "Warning: no uncertainties\n",
        "Warning: no uncertainties\n",
        "Warning: no uncertainties\n",
        "Warning: no uncertainties\n",
        "Warning: no uncertainties\n",
        "Warning: no uncertainties\n",
        "Warning: no uncertainties\n",
        "Warning: no uncertainties\n",
        "Warning: no uncertainties\n",
        "Warning: no uncertainties\n",
        "Warning: no uncertainties\n",
        "Warning: no uncertainties\n",
        "Warning: no uncertainties\n",
        "Warning: no uncertainties\n",
        "Warning: no uncertainties\n",
        "Warning: no uncertainties"
       ]
      },
      {
       "output_type": "stream",
       "stream": "stdout",
       "text": [
        "\n",
        "Warning: no uncertainties\n",
        "Warning: no uncertainties\n",
        "Warning: no uncertainties\n",
        "Warning: no uncertainties\n",
        "Warning: no uncertainties"
       ]
      },
      {
       "output_type": "stream",
       "stream": "stdout",
       "text": [
        "\n",
        "Warning: no uncertainties\n",
        "Warning: no uncertainties\n",
        "Warning: no uncertainties\n",
        "Warning: no uncertainties\n",
        "Warning: no uncertainties\n",
        "Warning: no uncertainties\n",
        "Warning: no uncertainties\n",
        "Warning: no uncertainties\n",
        "Warning: no uncertainties\n",
        "Warning: no uncertainties\n",
        "Warning: no uncertainties\n",
        "Warning: no uncertainties\n",
        "Warning: no uncertainties\n",
        "Warning: no uncertainties\n",
        "Warning: no uncertainties\n",
        "Warning: no uncertainties"
       ]
      },
      {
       "output_type": "stream",
       "stream": "stdout",
       "text": [
        "\n",
        "Warning: no uncertainties\n",
        "Warning: no uncertainties\n",
        "Warning: no uncertainties"
       ]
      },
      {
       "output_type": "stream",
       "stream": "stdout",
       "text": [
        "\n",
        "Warning: no uncertainties\n",
        "Warning: no uncertainties\n",
        "Warning: no uncertainties\n",
        "Warning: no uncertainties\n",
        "Warning: no uncertainties"
       ]
      },
      {
       "output_type": "stream",
       "stream": "stdout",
       "text": [
        "\n",
        "Warning: no uncertainties\n",
        "Warning: no uncertainties\n",
        "Warning: no uncertainties\n",
        "Warning: no uncertainties\n",
        "Warning: no uncertainties\n",
        "Warning: no uncertainties\n",
        "Warning: no uncertainties\n",
        "Warning: no uncertainties\n",
        "Warning: no uncertainties\n",
        "Warning: no uncertainties\n",
        "Warning: no uncertainties\n",
        "Warning: no uncertainties\n",
        "Warning: no uncertainties"
       ]
      },
      {
       "output_type": "stream",
       "stream": "stdout",
       "text": [
        "\n",
        "Warning: no uncertainties\n",
        "Warning: no uncertainties\n",
        "Warning: no uncertainties\n",
        "Warning: no uncertainties\n",
        "Warning: no uncertainties"
       ]
      },
      {
       "output_type": "stream",
       "stream": "stdout",
       "text": [
        "\n",
        "Warning: no uncertainties\n",
        "Warning: no uncertainties\n",
        "Warning: no uncertainties\n",
        "Warning: no uncertainties\n",
        "Warning: no uncertainties\n",
        "Warning: no uncertainties\n",
        "Warning: no uncertainties\n",
        "Warning: no uncertainties\n",
        "Warning: no uncertainties\n",
        "Warning: no uncertainties\n",
        "Warning: no uncertainties\n",
        "Warning: no uncertainties\n",
        "Warning: no uncertainties\n",
        "Warning: no uncertainties\n",
        "Warning: no uncertainties\n",
        "Warning: no uncertainties"
       ]
      },
      {
       "output_type": "stream",
       "stream": "stdout",
       "text": [
        "\n",
        "Warning: no uncertainties\n",
        "Warning: no uncertainties\n",
        "Warning: no uncertainties\n",
        "Warning: no uncertainties\n",
        "Warning: no uncertainties"
       ]
      },
      {
       "output_type": "stream",
       "stream": "stdout",
       "text": [
        "\n",
        "Warning: no uncertainties\n",
        "Warning: no uncertainties\n",
        "Warning: no uncertainties\n",
        "Warning: no uncertainties\n",
        "Warning: no uncertainties\n",
        "Warning: no uncertainties\n",
        "Warning: no uncertainties\n",
        "Warning: no uncertainties\n",
        "Warning: no uncertainties\n",
        "Warning: no uncertainties\n",
        "Warning: no uncertainties\n",
        "Warning: no uncertainties\n",
        "Warning: no uncertainties\n",
        "Warning: no uncertainties\n",
        "Warning: no uncertainties\n",
        "Warning: no uncertainties"
       ]
      },
      {
       "output_type": "stream",
       "stream": "stdout",
       "text": [
        "\n",
        "Warning: no uncertainties\n",
        "Warning: no uncertainties\n",
        "Warning: no uncertainties\n",
        "Warning: no uncertainties\n",
        "Warning: no uncertainties"
       ]
      },
      {
       "output_type": "stream",
       "stream": "stdout",
       "text": [
        "\n",
        "Warning: no uncertainties\n",
        "Warning: no uncertainties\n",
        "Warning: no uncertainties\n",
        "Warning: no uncertainties\n",
        "Warning: no uncertainties\n",
        "Warning: no uncertainties\n",
        "Warning: no uncertainties\n",
        "Warning: no uncertainties\n",
        "Warning: no uncertainties\n",
        "Warning: no uncertainties\n",
        "Warning: no uncertainties\n",
        "Warning: no uncertainties\n",
        "Warning: no uncertainties\n",
        "Warning: no uncertainties\n",
        "Warning: no uncertainties\n",
        "Warning: no uncertainties"
       ]
      },
      {
       "output_type": "stream",
       "stream": "stdout",
       "text": [
        "\n",
        "Warning: no uncertainties\n",
        "Warning: no uncertainties\n",
        "Warning: no uncertainties\n",
        "Warning: no uncertainties\n",
        "Warning: no uncertainties"
       ]
      },
      {
       "output_type": "stream",
       "stream": "stdout",
       "text": [
        "\n",
        "Warning: no uncertainties\n",
        "Warning: no uncertainties\n",
        "Warning: no uncertainties\n",
        "Warning: no uncertainties\n",
        "Warning: no uncertainties\n",
        "Warning: no uncertainties\n",
        "Warning: no uncertainties\n",
        "Warning: no uncertainties\n",
        "Warning: no uncertainties\n",
        "Warning: no uncertainties\n",
        "Warning: no uncertainties\n",
        "Warning: no uncertainties\n",
        "Warning: no uncertainties\n",
        "Warning: no uncertainties\n",
        "Warning: no uncertainties\n",
        "Warning: no uncertainties"
       ]
      },
      {
       "output_type": "stream",
       "stream": "stdout",
       "text": [
        "\n",
        "Warning: no uncertainties\n",
        "Warning: no uncertainties\n",
        "Warning: no uncertainties\n",
        "Warning: no uncertainties\n",
        "Warning: no uncertainties"
       ]
      },
      {
       "output_type": "stream",
       "stream": "stdout",
       "text": [
        "\n",
        "Warning: no uncertainties\n",
        "Warning: no uncertainties\n",
        "Warning: no uncertainties\n",
        "Warning: no uncertainties\n",
        "Warning: no uncertainties\n",
        "Warning: no uncertainties\n",
        "Warning: no uncertainties\n",
        "Warning: no uncertainties\n",
        "Warning: no uncertainties\n",
        "Warning: no uncertainties\n",
        "Warning: no uncertainties\n",
        "Warning: no uncertainties\n",
        "Warning: no uncertainties\n",
        "Warning: no uncertainties\n",
        "Warning: no uncertainties\n"
       ]
      }
     ],
     "prompt_number": 349
    },
    {
     "cell_type": "code",
     "collapsed": false,
     "input": [
      "fig, ax = plt.subplots(figsize=(12,12))\n",
      "\n",
      "[ax.errorbar(msfh.data.lagei, sfr[i], linestyle='steps-mid', color='k', alpha=0.3) for i in range(len(sfr))]\n",
      "ax.errorbar(msfh.data.lagei, msfh.data.sfr, [msfh.data.sfr_errm, msfh.data.sfr_errp],\n",
      "            linestyle='steps-mid', lw=2, color='r')\n",
      "ax.set_ylabel('${\\\\rm SFR}$', fontsize=20)\n",
      "ax.set_xlabel('$\\log {\\\\rm Age (yr)}$', fontsize=20)\n",
      "ax.set_xlim(8, 10.5)\n"
     ],
     "language": "python",
     "metadata": {},
     "outputs": [
      {
       "metadata": {},
       "output_type": "pyout",
       "prompt_number": 350,
       "text": [
        "(8, 10.5)"
       ]
      },
      {
       "metadata": {},
       "output_type": "display_data",
       "png": "[encoded data removed]",
       "text": [
        "<matplotlib.figure.Figure at 0x2afe9b50>"
       ]
      }
     ],
     "prompt_number": 350
    },
    {
     "cell_type": "code",
     "collapsed": false,
     "input": [
      "fig, ax = plt.subplots(figsize=(12,12))\n",
      "\n",
      "[ax.errorbar(msfh.data.lagei, mh[i], linestyle='steps-mid', color='k', alpha=0.3) for i in range(len(mh))]\n",
      "ax.errorbar(msfh.data.lagei, msfh.data.mh, [msfh.data.mh_errm, msfh.data.mh_errp],\n",
      "            linestyle='steps-mid', lw=2, color='r')\n",
      "ax.set_ylabel('${\\\\rm [M/H]}$', fontsize=20)\n",
      "ax.set_xlabel('$\\log {\\\\rm Age (yr)}$', fontsize=20)\n",
      "ax.set_xlim(8, 10.5)"
     ],
     "language": "python",
     "metadata": {},
     "outputs": [
      {
       "metadata": {},
       "output_type": "pyout",
       "prompt_number": 351,
       "text": [
        "(8, 10.5)"
       ]
      },
      {
       "metadata": {},
       "output_type": "display_data",
       "png": "[encoded data removed]",
       "text": [
        "<matplotlib.figure.Figure at 0x2cb18c50>"
       ]
      }
     ],
     "prompt_number": 351
    },
    {
     "cell_type": "code",
     "collapsed": false,
     "input": [],
     "language": "python",
     "metadata": {},
     "outputs": [
      {
       "metadata": {},
       "output_type": "pyout",
       "prompt_number": 49,
       "text": [
        "'1.61716e+08'"
       ]
      }
     ],
     "prompt_number": 49
    },
    {
     "cell_type": "code",
     "collapsed": false,
     "input": [],
     "language": "python",
     "metadata": {},
     "outputs": [],
     "prompt_number": 50
    },
    {
     "cell_type": "code",
     "collapsed": false,
     "input": [],
     "language": "python",
     "metadata": {},
     "outputs": [],
     "prompt_number": 52
    },
    {
     "cell_type": "code",
     "collapsed": false,
     "input": [],
     "language": "python",
     "metadata": {},
     "outputs": [
      {
       "output_type": "stream",
       "stream": "stdout",
       "text": [
        "Populating the interactive namespace from numpy and matplotlib\n"
       ]
      },
      {
       "output_type": "stream",
       "stream": "stderr",
       "text": [
        "WARNING: pylab import has clobbered these variables: ['random']\n",
        "`%pylab --no-import-all` prevents importing * from pylab and numpy\n"
       ]
      }
     ],
     "prompt_number": 54
    },
    {
     "cell_type": "code",
     "collapsed": false,
     "input": [],
     "language": "python",
     "metadata": {},
     "outputs": [],
     "prompt_number": 160
    },
    {
     "cell_type": "code",
     "collapsed": false,
     "input": [],
     "language": "python",
     "metadata": {},
     "outputs": [
      {
       "metadata": {},
       "output_type": "pyout",
       "prompt_number": 163,
       "text": [
        "array([ 0.00025205,  0.00025205,  0.00025205, ...,  0.00393982,\n",
        "        0.00393982,  0.00393982])"
       ]
      }
     ],
     "prompt_number": 163
    },
    {
     "cell_type": "code",
     "collapsed": false,
     "input": [],
     "language": "python",
     "metadata": {},
     "outputs": [],
     "prompt_number": 175
    },
    {
     "cell_type": "code",
     "collapsed": false,
     "input": [],
     "language": "python",
     "metadata": {},
     "outputs": [],
     "prompt_number": 176
    },
    {
     "cell_type": "code",
     "collapsed": false,
     "input": [],
     "language": "python",
     "metadata": {},
     "outputs": [
      {
       "metadata": {},
       "output_type": "pyout",
       "prompt_number": 185,
       "text": [
        "(8, 10.5)"
       ]
      },
      {
       "metadata": {},
       "output_type": "display_data",
       "png": "[encoded data removed]",
       "text": [
        "<matplotlib.figure.Figure at 0x20c9a190>"
       ]
      }
     ],
     "prompt_number": 185
    },
    {
     "cell_type": "code",
     "collapsed": false,
     "input": [],
     "language": "python",
     "metadata": {},
     "outputs": [],
     "prompt_number": 190
    },
    {
     "cell_type": "code",
     "collapsed": false,
     "input": [],
     "language": "python",
     "metadata": {},
     "outputs": [
      {
       "metadata": {},
       "output_type": "pyout",
       "prompt_number": 198,
       "text": [
        "(8, 10.5)"
       ]
      },
      {
       "metadata": {},
       "output_type": "display_data",
       "png": "[encoded data removed]",
       "text": [
        "<matplotlib.figure.Figure at 0x25c74410>"
       ]
      }
     ],
     "prompt_number": 198
    },
    {
     "cell_type": "code",
     "collapsed": false,
     "input": [],
     "language": "python",
     "metadata": {},
     "outputs": [],
     "prompt_number": 201
    },
    {
     "cell_type": "code",
     "collapsed": false,
     "input": [],
     "language": "python",
     "metadata": {},
     "outputs": [
      {
       "output_type": "stream",
       "stream": "stdout",
       "text": [
        "Object `random.gauss` not found.\n"
       ]
      }
     ],
     "prompt_number": 204
    },
    {
     "cell_type": "code",
     "collapsed": false,
     "input": [],
     "language": "python",
     "metadata": {},
     "outputs": [
      {
       "output_type": "stream",
       "stream": "stdout",
       "text": [
        "7.3 0.0 7.64886878442e-06\n",
        "7.4 0.0 4.07196739444e-05\n",
        "7.5 0.0 8.00128672049e-06\n",
        "7.6 0.0 3.07784680386e-05\n",
        "7.7 0.0 3.08804026372e-06\n",
        "7.8"
       ]
      },
      {
       "output_type": "stream",
       "stream": "stdout",
       "text": [
        " 0.0 7.33525432309e-06\n",
        "7.9 0.0 4.6810438078e-06\n",
        "8.0 0.0 1.24799286401e-05\n",
        "8.1 0.0 1.63951629876e-05\n",
        "8.2 0.0 6.45401206932e-09\n",
        "8.3"
       ]
      },
      {
       "ename": "ValueError",
       "evalue": "need at least one array to concatenate",
       "output_type": "pyerr",
       "traceback": [
        "\u001b[1;31m---------------------------------------------------------------------------\u001b[0m\n\u001b[1;31mValueError\u001b[0m                                Traceback (most recent call last)",
        "\u001b[1;32m<ipython-input-291-c27e5771342a>\u001b[0m in \u001b[0;36m<module>\u001b[1;34m()\u001b[0m\n\u001b[0;32m      9\u001b[0m         \u001b[0mneg_gauss\u001b[0m \u001b[1;33m=\u001b[0m \u001b[0mnp\u001b[0m\u001b[1;33m.\u001b[0m\u001b[0mrandom\u001b[0m\u001b[1;33m.\u001b[0m\u001b[0mnormal\u001b[0m\u001b[1;33m(\u001b[0m\u001b[0mmatch_sfh\u001b[0m\u001b[1;33m.\u001b[0m\u001b[0msfr\u001b[0m\u001b[1;33m[\u001b[0m\u001b[0mi\u001b[0m\u001b[1;33m]\u001b[0m\u001b[1;33m,\u001b[0m \u001b[0mmatch_sfh\u001b[0m\u001b[1;33m.\u001b[0m\u001b[0msfr_errm\u001b[0m\u001b[1;33m[\u001b[0m\u001b[0mi\u001b[0m\u001b[1;33m]\u001b[0m\u001b[1;33m,\u001b[0m \u001b[1;36m200000\u001b[0m\u001b[1;33m)\u001b[0m\u001b[1;33m\u001b[0m\u001b[0m\n\u001b[0;32m     10\u001b[0m         stitch_gauss = np.concatenate(np.squeeze(pos_gauss[pos_gauss >= match_sfh.sfr[i]],\n\u001b[1;32m---> 11\u001b[1;33m                                                  neg_gauss[neg_gauss <= match_sfh.sfr[i]]))\n\u001b[0m\u001b[0;32m     12\u001b[0m     \u001b[1;32mprint\u001b[0m \u001b[0mmatch_sfh\u001b[0m\u001b[1;33m.\u001b[0m\u001b[0mlagei\u001b[0m\u001b[1;33m[\u001b[0m\u001b[0mi\u001b[0m\u001b[1;33m]\u001b[0m\u001b[1;33m,\u001b[0m \u001b[0mmatch_sfh\u001b[0m\u001b[1;33m.\u001b[0m\u001b[0msfr\u001b[0m\u001b[1;33m[\u001b[0m\u001b[0mi\u001b[0m\u001b[1;33m]\u001b[0m\u001b[1;33m,\u001b[0m \u001b[0mrandom\u001b[0m\u001b[1;33m.\u001b[0m\u001b[0mchoice\u001b[0m\u001b[1;33m(\u001b[0m\u001b[0mstitch_gauss\u001b[0m\u001b[1;33m)\u001b[0m\u001b[1;33m\u001b[0m\u001b[0m\n\u001b[0;32m     13\u001b[0m \u001b[1;31m#match_sfh.sfr[i]\u001b[0m\u001b[1;33m\u001b[0m\u001b[1;33m\u001b[0m\u001b[0m\n",
        "\u001b[1;31mValueError\u001b[0m: need at least one array to concatenate"
       ]
      },
      {
       "output_type": "stream",
       "stream": "stdout",
       "text": [
        " 0.0 1.98306607477e-05\n"
       ]
      }
     ],
     "prompt_number": 291
    },
    {
     "cell_type": "code",
     "collapsed": false,
     "input": [],
     "language": "python",
     "metadata": {},
     "outputs": [
      {
       "ename": "ValueError",
       "evalue": "scale <= 0",
       "output_type": "pyerr",
       "traceback": [
        "\u001b[1;31m---------------------------------------------------------------------------\u001b[0m\n\u001b[1;31mValueError\u001b[0m                                Traceback (most recent call last)",
        "\u001b[1;32m<ipython-input-292-89c602837343>\u001b[0m in \u001b[0;36m<module>\u001b[1;34m()\u001b[0m\n\u001b[1;32m----> 1\u001b[1;33m \u001b[0mnp\u001b[0m\u001b[1;33m.\u001b[0m\u001b[0mrandom\u001b[0m\u001b[1;33m.\u001b[0m\u001b[0mnormal\u001b[0m\u001b[1;33m(\u001b[0m\u001b[1;36m0\u001b[0m\u001b[1;33m,\u001b[0m \u001b[1;36m0\u001b[0m\u001b[1;33m,\u001b[0m \u001b[1;36m20000\u001b[0m\u001b[1;33m)\u001b[0m\u001b[1;33m\u001b[0m\u001b[0m\n\u001b[0m",
        "\u001b[1;32m/usr/lib/python2.7/dist-packages/numpy/random/mtrand.so\u001b[0m in \u001b[0;36mmtrand.RandomState.normal (numpy/random/mtrand/mtrand.c:9158)\u001b[1;34m()\u001b[0m\n",
        "\u001b[1;31mValueError\u001b[0m: scale <= 0"
       ]
      }
     ],
     "prompt_number": 292
    },
    {
     "cell_type": "code",
     "collapsed": false,
     "input": [],
     "language": "python",
     "metadata": {},
     "outputs": [
      {
       "metadata": {},
       "output_type": "pyout",
       "prompt_number": 274,
       "text": [
        "3.7431999999999997e-05"
       ]
      }
     ],
     "prompt_number": 274
    },
    {
     "cell_type": "code",
     "collapsed": false,
     "input": [],
     "language": "python",
     "metadata": {},
     "outputs": [
      {
       "output_type": "stream",
       "stream": "stdout",
       "text": [
        "1.7914e-05\n"
       ]
      },
      {
       "metadata": {},
       "output_type": "pyout",
       "prompt_number": 255,
       "text": [
        "<matplotlib.collections.LineCollection at 0x2cb09dd0>"
       ]
      },
      {
       "metadata": {},
       "output_type": "display_data",
       "png": "[encoded data removed]",
       "text": [
        "<matplotlib.figure.Figure at 0x2caeb0d0>"
       ]
      }
     ],
     "prompt_number": 255
    }
   ],
   "metadata": {}
  }
 ]
}